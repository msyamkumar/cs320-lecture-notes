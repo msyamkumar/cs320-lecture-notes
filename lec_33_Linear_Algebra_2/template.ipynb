{
 "cells": [
  {
   "cell_type": "markdown",
   "id": "52c33899-bb95-468d-a57e-1cebd4daee66",
   "metadata": {},
   "source": [
    "# Lab Review -- Any Questions?"
   ]
  },
  {
   "cell_type": "code",
   "execution_count": null,
   "id": "0b7039b4",
   "metadata": {},
   "outputs": [],
   "source": [
    "import pandas as pd\n",
    "import matplotlib.pyplot as plt\n",
    "\n",
    "# new import statements\n"
   ]
  },
  {
   "cell_type": "markdown",
   "id": "f76d29e8",
   "metadata": {},
   "source": [
    "# Linear Algebra 2"
   ]
  },
  {
   "cell_type": "markdown",
   "id": "0b27254c-05f7-4aa3-acbb-ec5cb7995e20",
   "metadata": {},
   "source": [
    "### Vector Multiplication: Overview\n",
    "\n",
    "#### Elementwise Multiplication\n",
    "\n",
    "$\\begin{bmatrix}\n",
    "1 \\\\ 2 \\\\ 3\n",
    "\\end{bmatrix}\n",
    "*\n",
    "\\begin{bmatrix}\n",
    "4 \\\\ 5 \\\\ 6\n",
    "\\end{bmatrix}$\n",
    "\n",
    "$\\begin{bmatrix}\n",
    "1 \\\\ 2 \\\\ 3\n",
    "\\end{bmatrix}\n",
    "*\n",
    "\\begin{bmatrix}\n",
    "4 & 5 & 6\n",
    "\\end{bmatrix}$"
   ]
  },
  {
   "cell_type": "code",
   "execution_count": null,
   "id": "29f5a517-d740-48be-b5c2-ec6e898d51b0",
   "metadata": {},
   "outputs": [],
   "source": [
    "# How can we convert np.array([1, 2, 3]) into a vertical array, \n",
    "# that is a 3 x 1 using .reshape?\n",
    "v1 = \n",
    "v1"
   ]
  },
  {
   "cell_type": "code",
   "execution_count": null,
   "id": "753bd032-5e46-423d-b4dc-067479ac3424",
   "metadata": {},
   "outputs": [],
   "source": [
    "v2 = np.array([4, 5, 6]).reshape(-1, 1)\n",
    "v2"
   ]
  },
  {
   "cell_type": "markdown",
   "id": "c05b1534",
   "metadata": {},
   "source": [
    "#### Elementwise Multiplication\n",
    "\n",
    "$\\begin{bmatrix}\n",
    "1 \\\\ 2 \\\\ 3\n",
    "\\end{bmatrix}\n",
    "*\n",
    "\\begin{bmatrix}\n",
    "4 \\\\ 5 \\\\ 6\n",
    "\\end{bmatrix}$\n",
    "\\=\n",
    "$\\begin{bmatrix}\n",
    "4 \\\\ 10 \\\\ 18\n",
    "\\end{bmatrix}$"
   ]
  },
  {
   "cell_type": "code",
   "execution_count": null,
   "id": "2ab8a848-91ab-473c-9e26-e3467b09274f",
   "metadata": {},
   "outputs": [],
   "source": [
    "v1 * v2 # 1*4, 2*5, 3*6"
   ]
  },
  {
   "cell_type": "code",
   "execution_count": null,
   "id": "1e94885d",
   "metadata": {},
   "outputs": [],
   "source": [
    "v2.T"
   ]
  },
  {
   "cell_type": "markdown",
   "id": "f20903b9",
   "metadata": {},
   "source": [
    "#### Elementwise Multiplication\n",
    "\n",
    "$\\begin{bmatrix}\n",
    "1 \\\\ 2 \\\\ 3\n",
    "\\end{bmatrix}\n",
    "*\n",
    "\\begin{bmatrix}\n",
    "4 & 5 & 6\n",
    "\\end{bmatrix}$\n",
    "\\=\n",
    "?"
   ]
  },
  {
   "cell_type": "code",
   "execution_count": null,
   "id": "fe008c88-42ea-4398-bfba-d1bb43021fab",
   "metadata": {},
   "outputs": [],
   "source": [
    "v1 * v2.T # how is this working?"
   ]
  },
  {
   "cell_type": "markdown",
   "id": "b5d2fcb1",
   "metadata": {},
   "source": [
    "### Broadcast\n",
    "\n",
    "Two use cases:\n",
    "1. \"stretch\" 1 => N along any dimension to make shapes compatible\n",
    "2. add dimensions of size 1 to the beginning of a shape"
   ]
  },
  {
   "cell_type": "markdown",
   "id": "554d4a47",
   "metadata": {},
   "source": [
    "Element-wise operation between `v1 * v2.T` will automatically \"Broadcast\" v1 to 3 x 3 (stretching the second dimension) and \"Broadcast\" v2.T to 3 x 3 (stretching the first dimension)."
   ]
  },
  {
   "cell_type": "code",
   "execution_count": null,
   "id": "b10c6892-c137-4da3-8c35-efb48423de30",
   "metadata": {},
   "outputs": [],
   "source": [
    "v1.shape"
   ]
  },
  {
   "cell_type": "code",
   "execution_count": null,
   "id": "6f6efd7a",
   "metadata": {},
   "outputs": [],
   "source": [
    "v2.T.shape"
   ]
  },
  {
   "cell_type": "markdown",
   "id": "dab3a15c",
   "metadata": {},
   "source": [
    "How can we manually replicate that? \n",
    "\n",
    "#### `np.concatenate([a1, a2, ...], axis=0)`.\n",
    "- `a1, a2, …`: sequence of arrays\n",
    "- `axis`: the dimension along with we want to join the arrays\n",
    "    - default value is 0, which is for row dimension (down)\n",
    "    - value of 1 is for column dimension (across)"
   ]
  },
  {
   "cell_type": "code",
   "execution_count": null,
   "id": "207743bf",
   "metadata": {},
   "outputs": [],
   "source": [
    "v1"
   ]
  },
  {
   "cell_type": "code",
   "execution_count": null,
   "id": "ff28b2da",
   "metadata": {},
   "outputs": [],
   "source": [
    "v1.shape"
   ]
  },
  {
   "cell_type": "code",
   "execution_count": null,
   "id": "dbf5fd5b",
   "metadata": {},
   "outputs": [],
   "source": [
    "# Broadcast v1 to 3 x 3 (stretching the second dimension)\n",
    "v1_broadcast = \n",
    "v1_broadcast"
   ]
  },
  {
   "cell_type": "code",
   "execution_count": null,
   "id": "191a76c8-28da-4a1c-9977-6849265806d7",
   "metadata": {},
   "outputs": [],
   "source": [
    "v2.T"
   ]
  },
  {
   "cell_type": "code",
   "execution_count": null,
   "id": "76abd5ef",
   "metadata": {},
   "outputs": [],
   "source": [
    "v2.T.shape"
   ]
  },
  {
   "cell_type": "code",
   "execution_count": null,
   "id": "59b34100-8b82-4824-b2ff-503b9b3bf9b0",
   "metadata": {},
   "outputs": [],
   "source": [
    "# Broadcast v2.T to 3 x 3 (stretching the second dimension)\n",
    "v2t_broadcast = \n",
    "v2t_broadcast"
   ]
  },
  {
   "cell_type": "code",
   "execution_count": null,
   "id": "5224fdce-fcf8-443a-8df7-8667ffc45a00",
   "metadata": {},
   "outputs": [],
   "source": [
    "v1_broadcast * v2t_broadcast # same as v1 * v2.T"
   ]
  },
  {
   "cell_type": "code",
   "execution_count": null,
   "id": "4d6c9576",
   "metadata": {},
   "outputs": [],
   "source": [
    "v1 * v2.T"
   ]
  },
  {
   "cell_type": "markdown",
   "id": "5c1f0cfa",
   "metadata": {},
   "source": [
    "#### Generate a multiplication table from 1 to 10"
   ]
  },
  {
   "cell_type": "code",
   "execution_count": null,
   "id": "cfc7a24f-e941-4cce-88aa-9852501f60f4",
   "metadata": {},
   "outputs": [],
   "source": [
    "# 1. generate a range of numbers from 1 to 10\n",
    "# 2. reshape that to a vertical numpy array\n",
    "digits = \n",
    "digits"
   ]
  },
  {
   "cell_type": "code",
   "execution_count": null,
   "id": "3c7a7ceb-67c0-49f8-878b-cc9f6973f12c",
   "metadata": {},
   "outputs": [],
   "source": [
    "digits * digits.T"
   ]
  },
  {
   "cell_type": "code",
   "execution_count": null,
   "id": "2321a199-ed03-41cd-87c5-f9c35388656f",
   "metadata": {},
   "outputs": [],
   "source": [
    "# Convert the multiplication table into a DataFrame\n"
   ]
  },
  {
   "cell_type": "markdown",
   "id": "22567284",
   "metadata": {},
   "source": [
    "#### Back to bug example\n",
    "\n",
    "Let's do more complex broadcasting example"
   ]
  },
  {
   "cell_type": "code",
   "execution_count": null,
   "id": "20f8a664-2543-4ca3-be40-1a5286a43738",
   "metadata": {},
   "outputs": [],
   "source": [
    "# Read \"bug.jpg\" into a numpy array\n",
    "a = \n",
    "a.shape"
   ]
  },
  {
   "cell_type": "code",
   "execution_count": null,
   "id": "27b1c44b-a2e4-4f51-b72a-5df3bf7a70e8",
   "metadata": {},
   "outputs": [],
   "source": [
    "# Display \"bug.jpg\"\n",
    "plt.imshow(a)"
   ]
  },
  {
   "cell_type": "markdown",
   "id": "e45ddf1e",
   "metadata": {},
   "source": [
    "#### GOAL: create a fade effect (full color on the left, to black on the right)\n",
    "\n",
    "- To achieve this, we need to:\n",
    "    1. multiply the left most columns with numbers close to 1's (retains the original color)\n",
    "    2. the rightmost columns with numbers close to 0's (0 will give us black color)\n",
    "    3. the middle columns with numbers close to 0.5's"
   ]
  },
  {
   "cell_type": "code",
   "execution_count": null,
   "id": "7cccf713-9928-4f66-9d82-c207a176a9d3",
   "metadata": {},
   "outputs": [],
   "source": [
    "a.shape"
   ]
  },
  {
   "cell_type": "code",
   "execution_count": null,
   "id": "83e9f081-7e0a-457e-a277-6ee7f6dea17b",
   "metadata": {},
   "outputs": [],
   "source": [
    "# Create an array called fade with 2521 numbers\n",
    "fade = \n",
    "print(fade.shape)\n",
    "fade\n",
    "# How many dimensions does fade have? 1"
   ]
  },
  {
   "cell_type": "code",
   "execution_count": null,
   "id": "a6ac0c79-c033-4389-a786-fc14262b6b8a",
   "metadata": {},
   "outputs": [],
   "source": [
    "a.shape"
   ]
  },
  {
   "cell_type": "markdown",
   "id": "b17923bf",
   "metadata": {},
   "source": [
    "How can we multiply `a` and `fade`? That is how do we `reshape` `fade`?"
   ]
  },
  {
   "cell_type": "markdown",
   "id": "2b3b660c",
   "metadata": {},
   "source": [
    "Can we reshape fade to 1688 x 2521 x 3?"
   ]
  },
  {
   "cell_type": "code",
   "execution_count": null,
   "id": "7887605d",
   "metadata": {},
   "outputs": [],
   "source": []
  },
  {
   "cell_type": "markdown",
   "id": "b40861c8",
   "metadata": {},
   "source": [
    "The answer is no - because `reshape` can never add new values / delete values. Meaning after `reshape`, we need to exactly have 2521 values."
   ]
  },
  {
   "cell_type": "code",
   "execution_count": null,
   "id": "9cf2253c",
   "metadata": {},
   "outputs": [],
   "source": [
    "# Keep in mind that we need to multiple each column by a number, so which dimension should\n",
    "# be 2521?\n"
   ]
  },
  {
   "cell_type": "code",
   "execution_count": null,
   "id": "d36d2f6c",
   "metadata": {},
   "outputs": [],
   "source": [
    "# Let's multiple a by reshaped fade\n",
    "plt.imshow(???)"
   ]
  },
  {
   "cell_type": "markdown",
   "id": "0c736415",
   "metadata": {},
   "source": [
    "Why doesn't this work? Remember pixels can be either represented using the values 0 to 255 or 0 to 1. `a` has the scale 0 to 255 and `fade.reshape(...)` has the scale 0 to 1."
   ]
  },
  {
   "cell_type": "code",
   "execution_count": null,
   "id": "44c7752b-3c66-4877-abc4-29bff101ca61",
   "metadata": {},
   "outputs": [],
   "source": [
    "plt.imshow(a * fade.reshape(1, 2521, 1))"
   ]
  },
  {
   "cell_type": "markdown",
   "id": "273ee42b",
   "metadata": {},
   "source": [
    "### Broadcast\n",
    "\n",
    "Two use cases:\n",
    "1. \"stretch\" 1 => N along any dimension to make shapes compatible\n",
    "2. add dimensions of size 1 to the beginning of a shape"
   ]
  },
  {
   "cell_type": "code",
   "execution_count": null,
   "id": "5491fc36-8edc-4977-9dcf-2bf4d9b98ae9",
   "metadata": {},
   "outputs": [],
   "source": [
    "a.shape"
   ]
  },
  {
   "cell_type": "code",
   "execution_count": null,
   "id": "50e81bde-73f5-4548-8180-2ad70981a321",
   "metadata": {},
   "outputs": [],
   "source": [
    "plt.imshow(a / 255.0 * fade.reshape(2521, 1))\n",
    "# BROADCAST: (2521, 1) => (1, 2521, 1) => (1688, 2521, 3)"
   ]
  },
  {
   "cell_type": "markdown",
   "id": "ec0ac0bc-b04d-42d8-a369-147e2ca01eb8",
   "metadata": {},
   "source": [
    "### Dot Product\n",
    "\n",
    "$\\begin{bmatrix}\n",
    "1 & 2 & 3\n",
    "\\end{bmatrix}\n",
    "\\cdot\n",
    "\\begin{bmatrix}\n",
    "4 \\\\ 5 \\\\ 6\n",
    "\\end{bmatrix}$"
   ]
  },
  {
   "cell_type": "code",
   "execution_count": null,
   "id": "ba5e4f8b-0c99-480d-9b3d-0218f4a53a5e",
   "metadata": {},
   "outputs": [],
   "source": [
    "v1"
   ]
  },
  {
   "cell_type": "code",
   "execution_count": null,
   "id": "bd146509-83e7-45b3-a97d-683bbb33fdcc",
   "metadata": {},
   "outputs": [],
   "source": [
    "v2"
   ]
  },
  {
   "cell_type": "code",
   "execution_count": null,
   "id": "f8ed4c97-7a80-4853-b302-f8c9e5e92de1",
   "metadata": {},
   "outputs": [],
   "source": [
    "v1 * v2   # 1*4, 2*5, 3*6"
   ]
  },
  {
   "cell_type": "code",
   "execution_count": null,
   "id": "cf080626-b2fa-4ded-8722-6787041214a4",
   "metadata": {},
   "outputs": [],
   "source": [
    "v1.T"
   ]
  },
  {
   "cell_type": "code",
   "execution_count": null,
   "id": "9a94a149-9015-49d5-94b7-3b4e383d0935",
   "metadata": {},
   "outputs": [],
   "source": [
    "v2"
   ]
  },
  {
   "cell_type": "markdown",
   "id": "d386ed2b",
   "metadata": {},
   "source": [
    "#### `np.dot(a1, a2)` or `a1 @ a2`"
   ]
  },
  {
   "cell_type": "code",
   "execution_count": null,
   "id": "89d094ec-1587-4864-8bb8-a781405190ad",
   "metadata": {},
   "outputs": [],
   "source": [
    "   # 1*4 + 2*5 + 3*6"
   ]
  },
  {
   "cell_type": "code",
   "execution_count": null,
   "id": "31d10567-d64c-4f6d-9b62-23ea993043ad",
   "metadata": {},
   "outputs": [],
   "source": []
  },
  {
   "cell_type": "markdown",
   "id": "c1d5f7e8",
   "metadata": {},
   "source": [
    "#### `.item()` gives you just the values"
   ]
  },
  {
   "cell_type": "code",
   "execution_count": null,
   "id": "64405aa7-7373-4308-bba2-a49b6fa19d36",
   "metadata": {},
   "outputs": [],
   "source": [
    "(v1.T @ v2)???   # pulls out the only number in the results"
   ]
  },
  {
   "cell_type": "code",
   "execution_count": null,
   "id": "b4b3cdc0",
   "metadata": {},
   "outputs": [],
   "source": [
    "np.dot(v1.T, v2)???"
   ]
  },
  {
   "attachments": {},
   "cell_type": "markdown",
   "id": "dc8a126e",
   "metadata": {},
   "source": [
    "# Predicting with dot product\n",
    "\n",
    "1. use case for dot product:\n",
    "    - `y = Xc + b`\n",
    "2. one's column\n",
    "3. matrix dot vector\n",
    "\n",
    "$\\begin{bmatrix}\n",
    "1 & 2 \\\\ 3 & 4\\\\\n",
    "\\end{bmatrix}\n",
    "\\cdot\n",
    "\\begin{bmatrix}\n",
    "10 \\\\ 1 \\\\\n",
    "\\end{bmatrix}$"
   ]
  },
  {
   "cell_type": "code",
   "execution_count": null,
   "id": "a488e5b8",
   "metadata": {},
   "outputs": [],
   "source": [
    "houses = pd.DataFrame([[2, 1, 1985],\n",
    "                       [3, 1, 1998],\n",
    "                       [4, 3, 2005],\n",
    "                       [4, 2, 2020]],\n",
    "                      columns=[\"beds\", \"baths\", \"year\"])\n",
    "houses"
   ]
  },
  {
   "cell_type": "code",
   "execution_count": null,
   "id": "089baeee",
   "metadata": {},
   "outputs": [],
   "source": [
    "def predict_price(house):\n",
    "    \"\"\"\n",
    "    Takes row (as Series) as argument,\n",
    "    returns estimated price (in thousands)\n",
    "    \"\"\"\n",
    "    return ((house[\"beds\"]*42.3) + (house[\"baths\"]*10) + \n",
    "            (house[\"year\"]*1.67) - 3213)\n",
    "\n",
    "predict_price(houses.iloc[0])"
   ]
  },
  {
   "cell_type": "code",
   "execution_count": null,
   "id": "a9a0c5ba-97a8-4028-a209-4573ebc42e74",
   "metadata": {},
   "outputs": [],
   "source": [
    "# How do we convert a DataFrame into a numpy array?\n",
    "X = \n",
    "X"
   ]
  },
  {
   "cell_type": "code",
   "execution_count": null,
   "id": "05752290-9a79-4f98-99c4-930a4290ed19",
   "metadata": {},
   "outputs": [],
   "source": [
    "# Extract just first row of data\n",
    "house0 = \n",
    "house0"
   ]
  },
  {
   "cell_type": "code",
   "execution_count": null,
   "id": "943dfcf1-d792-42c6-822f-82c4b3b534cf",
   "metadata": {},
   "outputs": [],
   "source": [
    "# Create a vertical array (3 x 1) with the co-efficients\n",
    "c = np.array([42.3, 10, 1.67])???\n",
    "c"
   ]
  },
  {
   "cell_type": "code",
   "execution_count": null,
   "id": "c18c6979-73b4-4d8a-b142-09324c70096b",
   "metadata": {},
   "outputs": [],
   "source": [
    "# horizontal @ vertical\n"
   ]
  },
  {
   "cell_type": "markdown",
   "id": "cfe568f4",
   "metadata": {},
   "source": [
    "`y = Xc + b`"
   ]
  },
  {
   "cell_type": "code",
   "execution_count": null,
   "id": "50ca4979",
   "metadata": {},
   "outputs": [],
   "source": []
  },
  {
   "cell_type": "markdown",
   "id": "7b201edb",
   "metadata": {},
   "source": [
    "Let's add the intercept to the c vector for ease."
   ]
  },
  {
   "cell_type": "code",
   "execution_count": null,
   "id": "f4c23f8d-83e9-440f-962f-9e060de2e502",
   "metadata": {},
   "outputs": [],
   "source": [
    "c = np.array([42.3, 10, 1.67, ???]).reshape(-1, 1)\n",
    "c"
   ]
  },
  {
   "cell_type": "markdown",
   "id": "9f453e50",
   "metadata": {},
   "source": [
    "If we directly try dot product now, it won't work because of difference in dimensions."
   ]
  },
  {
   "cell_type": "code",
   "execution_count": null,
   "id": "204dd6cd",
   "metadata": {},
   "outputs": [],
   "source": [
    "house0 @ c"
   ]
  },
  {
   "cell_type": "code",
   "execution_count": null,
   "id": "2cfb27b6",
   "metadata": {},
   "outputs": [],
   "source": [
    "house0.shape"
   ]
  },
  {
   "cell_type": "code",
   "execution_count": null,
   "id": "d4e19a84",
   "metadata": {},
   "outputs": [],
   "source": [
    "c.shape"
   ]
  },
  {
   "cell_type": "markdown",
   "id": "0ed1432b",
   "metadata": {},
   "source": [
    "#### One's column\n",
    "\n",
    "- Solution, add a 1's column to `X` using `np.concatenate`"
   ]
  },
  {
   "cell_type": "code",
   "execution_count": null,
   "id": "39161092",
   "metadata": {},
   "outputs": [],
   "source": [
    "# How can we generate an array of 1's using numpy?\n",
    "ones_column = \n",
    "ones_column"
   ]
  },
  {
   "cell_type": "code",
   "execution_count": null,
   "id": "22757cf5-bc8a-4902-8f6f-ac0173f7b1bb",
   "metadata": {},
   "outputs": [],
   "source": [
    "X = \n",
    "X"
   ]
  },
  {
   "cell_type": "code",
   "execution_count": null,
   "id": "7e8e861f-aacb-4006-b1ea-096e7b7a4fe6",
   "metadata": {},
   "outputs": [],
   "source": [
    "# Let's extract house0 again\n",
    "house0 = X[0:1, :]\n",
    "house0"
   ]
  },
  {
   "cell_type": "code",
   "execution_count": null,
   "id": "be99ce19-2dfd-4e69-b423-f4fd55b51e50",
   "metadata": {},
   "outputs": [],
   "source": [
    "# Let's try house0 @ c now\n",
    "house0 @ c"
   ]
  },
  {
   "cell_type": "code",
   "execution_count": null,
   "id": "1ec6ffe0-0c12-4f52-96cb-85747996ee0c",
   "metadata": {},
   "outputs": [],
   "source": [
    "# Extracting each house and doing the prediction with dot product\n",
    "# Cumbersome\n",
    "house0 = X[0:1, :]\n",
    "print(house0 @ c)\n",
    "house1 = X[1:2, :]\n",
    "print(house1 @ c)\n",
    "house2 = X[2:3, :]\n",
    "print(house2 @ c)\n",
    "house3 = X[3:4, :]\n",
    "print(house3 @ c)"
   ]
  },
  {
   "cell_type": "markdown",
   "id": "a55809da",
   "metadata": {},
   "source": [
    "### `@` use cases\n",
    "\n",
    "loops over each row and computes dot product, which is ROW @ COEFs"
   ]
  },
  {
   "cell_type": "code",
   "execution_count": null,
   "id": "0478a826-a1b1-44ca-8ee8-8c91ec65ffcb",
   "metadata": {},
   "outputs": [],
   "source": [
    "X @ c"
   ]
  },
  {
   "cell_type": "markdown",
   "id": "9d37347d",
   "metadata": {},
   "source": [
    "### Fitting with `np.linalg.solve`"
   ]
  },
  {
   "cell_type": "markdown",
   "id": "fe3174f5",
   "metadata": {},
   "source": [
    "**Above:** we estimated house prices using a linear model based on the dot product as follows:\n",
    "\n",
    "$Xc = y$\n",
    "\n",
    "* $X$ (known) is a matrix with house features (from DataFrame)\n",
    "* $c$ (known) is a vector of coefficients (our model parameters)\n",
    "* $y$ (computed) are the prices\n",
    "\n",
    "**Below:** what if X and y are know, and we want to find c?"
   ]
  },
  {
   "cell_type": "code",
   "execution_count": null,
   "id": "4572020d",
   "metadata": {},
   "outputs": [],
   "source": [
    "houses = pd.DataFrame([[2, 1, 1985, 196.55],\n",
    "                       [3, 1, 1998, 260.56],\n",
    "                       [4, 3, 2005, 334.55],\n",
    "                       [4, 2, 2020, 349.60]],\n",
    "                      columns=[\"beds\", \"baths\", \"year\", \"price\"])\n",
    "houses"
   ]
  },
  {
   "cell_type": "markdown",
   "id": "c3f5e71a",
   "metadata": {},
   "source": [
    "If we assume price is linearly based on the features, with this equation:\n",
    "\n",
    "* $beds*c_0 + baths*c_1 + year*c_2 + 1*c_3 = price$\n",
    "\n",
    "Then we get four equations:\n",
    "\n",
    "* $2*c_0 + 1*c_1 + 1985*c_2 + 1*c_3 = 196.55$\n",
    "* $3*c_0 + 1*c_1 + 1998*c_2 + 1*c_3 = 260.56$\n",
    "* $4*c_0 + 3*c_1 + 2005*c_2 + 1*c_3 = 334.55$\n",
    "* $4*c_0 + 2*c_1 + 2020*c_2 + 1*c_3 = 349.60$\n"
   ]
  },
  {
   "cell_type": "markdown",
   "id": "38b747eb",
   "metadata": {},
   "source": [
    "#### `c = np.linalg.solve(X, y)`\n",
    "\n",
    "- documentation: https://numpy.org/doc/stable/reference/generated/numpy.linalg.solve.html"
   ]
  },
  {
   "cell_type": "code",
   "execution_count": null,
   "id": "ba119868-f8d3-4ff7-851e-9d2c431eafa3",
   "metadata": {},
   "outputs": [],
   "source": [
    "# Add a column of 1s to this DataFrame\n"
   ]
  },
  {
   "cell_type": "code",
   "execution_count": null,
   "id": "459a4245-4d29-4ad6-9baa-31c3979ed32c",
   "metadata": {},
   "outputs": [],
   "source": [
    "# Extract X\n",
    "X = \n",
    "X"
   ]
  },
  {
   "cell_type": "code",
   "execution_count": null,
   "id": "86df8279-6d9f-434b-b7ef-8c654fc93c80",
   "metadata": {},
   "outputs": [],
   "source": [
    "# Extract y\n",
    "y = \n",
    "y"
   ]
  },
  {
   "cell_type": "code",
   "execution_count": null,
   "id": "c79b28fd",
   "metadata": {},
   "outputs": [],
   "source": [
    "# Let's take a look at the co-efficients which we were using for our prediction\n",
    "c"
   ]
  },
  {
   "cell_type": "code",
   "execution_count": null,
   "id": "76506e39-7d24-462b-a73f-1e7f4c748b38",
   "metadata": {},
   "outputs": [],
   "source": [
    "c = ???\n",
    "c"
   ]
  },
  {
   "cell_type": "code",
   "execution_count": null,
   "id": "34353088-f51d-45a6-90c0-940b6429d3f8",
   "metadata": {},
   "outputs": [],
   "source": [
    "X @ c"
   ]
  },
  {
   "cell_type": "code",
   "execution_count": null,
   "id": "b734ec2f-ec9c-4a44-b92f-7efc78c92e6d",
   "metadata": {},
   "outputs": [],
   "source": [
    "dream_house = np.array([[???, ???, ???, 1]])\n",
    "dream_house"
   ]
  },
  {
   "cell_type": "code",
   "execution_count": null,
   "id": "5f5add54-1a60-484c-b7d0-ba9d1335072d",
   "metadata": {},
   "outputs": [],
   "source": [
    "dream_house @ c"
   ]
  },
  {
   "cell_type": "markdown",
   "id": "f71e2cfb",
   "metadata": {},
   "source": [
    "#### Lab Preview"
   ]
  },
  {
   "cell_type": "code",
   "execution_count": null,
   "id": "d6f5db63",
   "metadata": {},
   "outputs": [],
   "source": [
    "# As an exception, I am providing all the relevant import statements in this cell\n",
    "import numpy as np\n",
    "import rasterio\n",
    "from rasterio.mask import mask\n",
    "from shapely.geometry import box\n",
    "import geopandas as gpd\n",
    "\n",
    "land = rasterio.open(\"zip://land.zip!wi.tif\")\n",
    "# a = land.read()\n",
    "window = gpd.GeoSeries([box(-89.5, 43, -89.2, 43.2)]).set_crs(\"epsg:4326\").to_crs(land.crs)\n",
    "plt.imshow(mask(land, window, crop=True)[0][0])"
   ]
  }
 ],
 "metadata": {
  "kernelspec": {
   "display_name": "Python 3 (ipykernel)",
   "language": "python",
   "name": "python3"
  },
  "language_info": {
   "codemirror_mode": {
    "name": "ipython",
    "version": 3
   },
   "file_extension": ".py",
   "mimetype": "text/x-python",
   "name": "python",
   "nbconvert_exporter": "python",
   "pygments_lexer": "ipython3",
   "version": "3.9.13"
  }
 },
 "nbformat": 4,
 "nbformat_minor": 5
}
