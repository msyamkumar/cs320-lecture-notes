{
 "cells": [
  {
   "cell_type": "markdown",
   "id": "d684d88e-e96d-4392-b4d6-92d3f1669b32",
   "metadata": {},
   "source": [
    "# Binary Search Trees\n",
    "\n",
    "- Recursive `add()` method\n",
    "- Recursive `height()` method"
   ]
  },
  {
   "cell_type": "code",
   "execution_count": 1,
   "id": "66ba808a",
   "metadata": {},
   "outputs": [],
   "source": [
    "from graphviz import Graph, Digraph\n",
    "import random\n",
    "import math"
   ]
  },
  {
   "cell_type": "markdown",
   "id": "3c372194",
   "metadata": {},
   "source": [
    "## Binary Search Tree\n",
    "\n",
    "- special case of *Binary trees*\n",
    "- **BST rule**: any node's value is bigger than every value in its left subtree, and and smaller than every value in its right subtree\n",
    "- TODO: write an efficient search for a BST (better complexity than O(N)\n",
    "- TODO: write a method to add values to a BST, while preserving the BST rule"
   ]
  },
  {
   "cell_type": "code",
   "execution_count": 2,
   "id": "894a39d2-5e3b-4178-bc1b-dedf0b5a86c0",
   "metadata": {},
   "outputs": [],
   "source": [
    "class BSTNode:\n",
    "    def __init__(self, label):\n",
    "        self.label = label\n",
    "        self.left = None\n",
    "        self.right = None\n",
    "    \n",
    "    # Category 2: functions that do some action\n",
    "    def dump(self, prefix=\"\", suffix=\"\"):\n",
    "        \"\"\"\n",
    "        prints out name of every node in the tree with some basic formatting\n",
    "        \"\"\"\n",
    "        print(prefix, self.label, suffix)\n",
    "        if self.left != None:\n",
    "            self.left.dump(prefix+\"\\t\", \"(LEFT)\")\n",
    "        if self.right != None:\n",
    "            self.right.dump(prefix+\"\\t\", \"(RIGHT)\")\n",
    "            \n",
    "    # Category 1: functions that return some computation\n",
    "    def search(self, target):\n",
    "        \"\"\"\n",
    "        returns True/False, if target is somewhere in the tree\n",
    "        \"\"\"\n",
    "        if target == self.label:\n",
    "            return True\n",
    "        elif target < self.label:\n",
    "            if self.left != None:\n",
    "                if self.left.search(target):\n",
    "                    return True\n",
    "        elif target > self.label:\n",
    "            if self.right != None:\n",
    "                if self.right.search(target):\n",
    "                    return True\n",
    "        \n",
    "        return False\n",
    "    \n",
    "    def add(self, label):\n",
    "        \"\"\"\n",
    "        Finds the correct spot for label and adds a new node with it.\n",
    "        Assumes that tree already contains at least one node -> TODO: discuss why?\n",
    "        Raises ValueError if label is already on the tree.\n",
    "        \"\"\"\n",
    "        if label < self.label:\n",
    "            # go left\n",
    "            if self.left == None:\n",
    "                self.left = BSTNode(label)\n",
    "            else:\n",
    "                # recurse left\n",
    "                self.left.add(label)\n",
    "        elif label > self.label:\n",
    "            # go right\n",
    "            if self.right == None:\n",
    "                self.right = BSTNode(label)\n",
    "            else:\n",
    "                # recurse right\n",
    "                self.right.add(label)\n",
    "        else:\n",
    "            raise ValueError(f\"{label} is already a node on the tree!\")\n",
    "            \n",
    "\n",
    "    def height(self):\n",
    "        \"\"\"\n",
    "        Calculates height of the BST.\n",
    "        Height: the number of nodes on the longest root-to-leaf path (including the root)\n",
    "        \"\"\"\n",
    "        if self.left == None:\n",
    "            l = 0\n",
    "        else:\n",
    "            # recurse left\n",
    "            l = self.left.height()\n",
    "            \n",
    "        if self.right == None:\n",
    "            r = 0\n",
    "        else:\n",
    "            # recurse right\n",
    "            r = self.right.height()\n",
    "            \n",
    "        return max(l, r)+1"
   ]
  },
  {
   "cell_type": "markdown",
   "id": "1d6935d8",
   "metadata": {},
   "source": [
    "### Recursive `add` method\n",
    "- Manually creating a tree is cumbersome and subject to mistakes (violations of BST rule)"
   ]
  },
  {
   "cell_type": "code",
   "execution_count": 3,
   "id": "7047d184",
   "metadata": {},
   "outputs": [
    {
     "name": "stdout",
     "output_type": "stream",
     "text": [
      " 10 (ROOT)\n",
      "\t 2 (LEFT)\n",
      "\t\t 1 (LEFT)\n",
      "\t\t 4 (RIGHT)\n",
      "\t\t\t 3 (LEFT)\n",
      "\t\t\t 8 (RIGHT)\n",
      "\t 15 (RIGHT)\n",
      "\t\t 12 (LEFT)\n",
      "\t\t 19 (RIGHT)\n"
     ]
    }
   ],
   "source": [
    "root = BSTNode(10)\n",
    "root.left = BSTNode(2)\n",
    "root.left.left = BSTNode(1)\n",
    "root.left.right = BSTNode(4)\n",
    "root.left.right.right = BSTNode(8)\n",
    "root.left.right.left = BSTNode(3)\n",
    "root.right = BSTNode(15)\n",
    "root.right.left = BSTNode(12)\n",
    "root.right.right = BSTNode(19)\n",
    "root.dump(\"\", \"(ROOT)\")"
   ]
  },
  {
   "cell_type": "code",
   "execution_count": 4,
   "id": "0cd51cf2",
   "metadata": {},
   "outputs": [
    {
     "name": "stdout",
     "output_type": "stream",
     "text": [
      " 10 (ROOT)\n",
      "\t 2 (LEFT)\n",
      "\t\t 1 (LEFT)\n",
      "\t\t 4 (RIGHT)\n",
      "\t\t\t 3 (LEFT)\n",
      "\t\t\t 8 (RIGHT)\n",
      "\t 15 (RIGHT)\n",
      "\t\t 12 (LEFT)\n",
      "\t\t 19 (RIGHT)\n"
     ]
    }
   ],
   "source": [
    "values = [10, 2, 1, 4, 8, 3, 15, 12, 19]\n",
    "\n",
    "root = BSTNode(values[0])\n",
    "for val in values[1:]:\n",
    "    root.add(val)\n",
    "    \n",
    "root.dump(\"\", \"(ROOT)\")"
   ]
  },
  {
   "cell_type": "markdown",
   "id": "f9324526",
   "metadata": {},
   "source": [
    "### Recursive `height` method\n",
    "\n",
    "- **Height**: the number of nodes on the longest root-to-leaf path (including the root)\n",
    "- left subtree has height 4, right subtree has height 6, my height = 7\n",
    "- left subtree has height 4, right subtree has height 4, my height = 5\n",
    "- left subtree has height 10, right subtree has height 0, my height = 11\n",
    "- left subtree has height of l, right subtree has height of r, my height = max(l, r)+1\n",
    "- What is the simplest case for height calculation?\n",
    "    - What are the values of l and r in that case?"
   ]
  },
  {
   "cell_type": "code",
   "execution_count": 5,
   "id": "18d8de1d",
   "metadata": {},
   "outputs": [
    {
     "data": {
      "text/plain": [
       "4"
      ]
     },
     "execution_count": 5,
     "metadata": {},
     "output_type": "execute_result"
    }
   ],
   "source": [
    "# TODO: Let's implement and invoke the height method\n",
    "root.height()"
   ]
  },
  {
   "cell_type": "markdown",
   "id": "bb2057f2",
   "metadata": {},
   "source": [
    "### Tree containing 100 values\n",
    "- let's use range(...) to produce a sequence of 100 integers\n",
    "- recall that range(...) returns a sequence in increasing order\n",
    "- what will be the height of this tree? **100**"
   ]
  },
  {
   "cell_type": "code",
   "execution_count": 6,
   "id": "820f3596",
   "metadata": {},
   "outputs": [
    {
     "name": "stdout",
     "output_type": "stream",
     "text": [
      "100\n"
     ]
    }
   ],
   "source": [
    "values = list(range(100))\n",
    "# Q: Is this tree balanced?\n",
    "# A: No, it is the worst possible BST for these numbers, that is\n",
    "#    it is a linked list!\n",
    "\n",
    "root = BSTNode(values[0])\n",
    "for val in values[1:]:\n",
    "    root.add(val)\n",
    "    \n",
    "print(root.height())\n",
    "# root.dump(\"\", \"(ROOT)\")"
   ]
  },
  {
   "cell_type": "markdown",
   "id": "af9dd1b3",
   "metadata": {},
   "source": [
    "#### Let's use `random` module `shuffle` function to randomly order the sequence of 100 numbers.\n",
    "- in-place re-ordering of numbers (just like `sort` method)"
   ]
  },
  {
   "cell_type": "code",
   "execution_count": 9,
   "id": "c07664be",
   "metadata": {},
   "outputs": [
    {
     "name": "stdout",
     "output_type": "stream",
     "text": [
      "13\n",
      " 77 (ROOT)\n",
      "\t 56 (LEFT)\n",
      "\t\t 22 (LEFT)\n",
      "\t\t\t 21 (LEFT)\n",
      "\t\t\t\t 12 (LEFT)\n",
      "\t\t\t\t\t 0 (LEFT)\n",
      "\t\t\t\t\t\t 6 (RIGHT)\n",
      "\t\t\t\t\t\t\t 1 (LEFT)\n",
      "\t\t\t\t\t\t\t\t 3 (RIGHT)\n",
      "\t\t\t\t\t\t\t\t\t 2 (LEFT)\n",
      "\t\t\t\t\t\t\t\t\t 4 (RIGHT)\n",
      "\t\t\t\t\t\t\t\t\t\t 5 (RIGHT)\n",
      "\t\t\t\t\t\t\t 7 (RIGHT)\n",
      "\t\t\t\t\t\t\t\t 11 (RIGHT)\n",
      "\t\t\t\t\t\t\t\t\t 8 (LEFT)\n",
      "\t\t\t\t\t\t\t\t\t\t 9 (RIGHT)\n",
      "\t\t\t\t\t\t\t\t\t\t\t 10 (RIGHT)\n",
      "\t\t\t\t\t 19 (RIGHT)\n",
      "\t\t\t\t\t\t 17 (LEFT)\n",
      "\t\t\t\t\t\t\t 13 (LEFT)\n",
      "\t\t\t\t\t\t\t\t 14 (RIGHT)\n",
      "\t\t\t\t\t\t\t\t\t 16 (RIGHT)\n",
      "\t\t\t\t\t\t\t\t\t\t 15 (LEFT)\n",
      "\t\t\t\t\t\t\t 18 (RIGHT)\n",
      "\t\t\t\t\t\t 20 (RIGHT)\n",
      "\t\t\t 41 (RIGHT)\n",
      "\t\t\t\t 40 (LEFT)\n",
      "\t\t\t\t\t 36 (LEFT)\n",
      "\t\t\t\t\t\t 24 (LEFT)\n",
      "\t\t\t\t\t\t\t 23 (LEFT)\n",
      "\t\t\t\t\t\t\t 32 (RIGHT)\n",
      "\t\t\t\t\t\t\t\t 25 (LEFT)\n",
      "\t\t\t\t\t\t\t\t\t 30 (RIGHT)\n",
      "\t\t\t\t\t\t\t\t\t\t 27 (LEFT)\n",
      "\t\t\t\t\t\t\t\t\t\t\t 26 (LEFT)\n",
      "\t\t\t\t\t\t\t\t\t\t\t 28 (RIGHT)\n",
      "\t\t\t\t\t\t\t\t\t\t\t\t 29 (RIGHT)\n",
      "\t\t\t\t\t\t\t\t\t\t 31 (RIGHT)\n",
      "\t\t\t\t\t\t\t\t 34 (RIGHT)\n",
      "\t\t\t\t\t\t\t\t\t 33 (LEFT)\n",
      "\t\t\t\t\t\t\t\t\t 35 (RIGHT)\n",
      "\t\t\t\t\t\t 39 (RIGHT)\n",
      "\t\t\t\t\t\t\t 38 (LEFT)\n",
      "\t\t\t\t\t\t\t\t 37 (LEFT)\n",
      "\t\t\t\t 46 (RIGHT)\n",
      "\t\t\t\t\t 42 (LEFT)\n",
      "\t\t\t\t\t\t 43 (RIGHT)\n",
      "\t\t\t\t\t\t\t 44 (RIGHT)\n",
      "\t\t\t\t\t\t\t\t 45 (RIGHT)\n",
      "\t\t\t\t\t 54 (RIGHT)\n",
      "\t\t\t\t\t\t 52 (LEFT)\n",
      "\t\t\t\t\t\t\t 48 (LEFT)\n",
      "\t\t\t\t\t\t\t\t 47 (LEFT)\n",
      "\t\t\t\t\t\t\t\t 51 (RIGHT)\n",
      "\t\t\t\t\t\t\t\t\t 49 (LEFT)\n",
      "\t\t\t\t\t\t\t\t\t\t 50 (RIGHT)\n",
      "\t\t\t\t\t\t\t 53 (RIGHT)\n",
      "\t\t\t\t\t\t 55 (RIGHT)\n",
      "\t\t 58 (RIGHT)\n",
      "\t\t\t 57 (LEFT)\n",
      "\t\t\t 61 (RIGHT)\n",
      "\t\t\t\t 59 (LEFT)\n",
      "\t\t\t\t\t 60 (RIGHT)\n",
      "\t\t\t\t 62 (RIGHT)\n",
      "\t\t\t\t\t 71 (RIGHT)\n",
      "\t\t\t\t\t\t 63 (LEFT)\n",
      "\t\t\t\t\t\t\t 66 (RIGHT)\n",
      "\t\t\t\t\t\t\t\t 64 (LEFT)\n",
      "\t\t\t\t\t\t\t\t\t 65 (RIGHT)\n",
      "\t\t\t\t\t\t\t\t 68 (RIGHT)\n",
      "\t\t\t\t\t\t\t\t\t 67 (LEFT)\n",
      "\t\t\t\t\t\t\t\t\t 69 (RIGHT)\n",
      "\t\t\t\t\t\t\t\t\t\t 70 (RIGHT)\n",
      "\t\t\t\t\t\t 73 (RIGHT)\n",
      "\t\t\t\t\t\t\t 72 (LEFT)\n",
      "\t\t\t\t\t\t\t 75 (RIGHT)\n",
      "\t\t\t\t\t\t\t\t 74 (LEFT)\n",
      "\t\t\t\t\t\t\t\t 76 (RIGHT)\n",
      "\t 93 (RIGHT)\n",
      "\t\t 82 (LEFT)\n",
      "\t\t\t 78 (LEFT)\n",
      "\t\t\t\t 80 (RIGHT)\n",
      "\t\t\t\t\t 79 (LEFT)\n",
      "\t\t\t\t\t 81 (RIGHT)\n",
      "\t\t\t 85 (RIGHT)\n",
      "\t\t\t\t 84 (LEFT)\n",
      "\t\t\t\t\t 83 (LEFT)\n",
      "\t\t\t\t 88 (RIGHT)\n",
      "\t\t\t\t\t 87 (LEFT)\n",
      "\t\t\t\t\t\t 86 (LEFT)\n",
      "\t\t\t\t\t 89 (RIGHT)\n",
      "\t\t\t\t\t\t 90 (RIGHT)\n",
      "\t\t\t\t\t\t\t 91 (RIGHT)\n",
      "\t\t\t\t\t\t\t\t 92 (RIGHT)\n",
      "\t\t 99 (RIGHT)\n",
      "\t\t\t 94 (LEFT)\n",
      "\t\t\t\t 98 (RIGHT)\n",
      "\t\t\t\t\t 95 (LEFT)\n",
      "\t\t\t\t\t\t 97 (RIGHT)\n",
      "\t\t\t\t\t\t\t 96 (LEFT)\n"
     ]
    }
   ],
   "source": [
    "values = list(range(100))\n",
    "random.shuffle(values)\n",
    "# Q: Is this tree balanced?\n",
    "# A: depends on the shuffling, you can check using math.log2(N)\n",
    "\n",
    "root = BSTNode(values[0])\n",
    "for val in values[1:]:\n",
    "    root.add(val)\n",
    "    \n",
    "print(root.height())\n",
    "root.dump(\"\", \"(ROOT)\")"
   ]
  },
  {
   "cell_type": "code",
   "execution_count": 8,
   "id": "4d87a7e7",
   "metadata": {},
   "outputs": [
    {
     "data": {
      "text/plain": [
       "6.643856189774724"
      ]
     },
     "execution_count": 8,
     "metadata": {},
     "output_type": "execute_result"
    }
   ],
   "source": [
    "math.log2(100)"
   ]
  },
  {
   "cell_type": "markdown",
   "id": "cf919d84",
   "metadata": {},
   "source": [
    "### Balanced BSTs / Self-balancing BSTs\n",
    "- not a covered topic for the purpose of this course\n",
    "- you can explore the below recursive function definition if you are interested\n",
    "- you are **not required** to know how to do this"
   ]
  },
  {
   "cell_type": "code",
   "execution_count": 85,
   "id": "bd5aa50f",
   "metadata": {},
   "outputs": [],
   "source": [
    "# Recrusive function that\n",
    "def sorted_array_to_bst(nums, bst_nums):\n",
    "    \"\"\"\n",
    "    Produces best ordering nums (a list of sorted numbers),\n",
    "    for the purpose of creating a balanced BST.\n",
    "    Writes new ordering of numbers into bst_nums.\n",
    "    \"\"\"\n",
    "    if len(nums) == 0:\n",
    "        return None\n",
    "    elif len(nums) == 1:\n",
    "        bst_nums.append(nums[0])\n",
    "    else:\n",
    "        mid_index = len(nums)//2\n",
    "        bst_nums.append(nums[mid_index])\n",
    "        \n",
    "        # recurse left\n",
    "        left_val = sorted_array_to_bst(nums[:mid_index], bst_nums)\n",
    "        if left_val != None:\n",
    "            bst_nums.append(left_val)\n",
    "\n",
    "        # recurse right\n",
    "        right_val = sorted_array_to_bst(nums[mid_index+1:], bst_nums)\n",
    "        if right_val != None:\n",
    "            bst_nums.append(right_val)"
   ]
  },
  {
   "cell_type": "code",
   "execution_count": 87,
   "id": "98b9148d",
   "metadata": {},
   "outputs": [
    {
     "data": {
      "text/plain": [
       "[2, 1, 0, 4, 3]"
      ]
     },
     "execution_count": 87,
     "metadata": {},
     "output_type": "execute_result"
    }
   ],
   "source": [
    "bst_nums = []\n",
    "sorted_array_to_bst(list(range(5)), bst_nums)\n",
    "bst_nums"
   ]
  },
  {
   "cell_type": "code",
   "execution_count": 88,
   "id": "f1288713",
   "metadata": {},
   "outputs": [
    {
     "name": "stdout",
     "output_type": "stream",
     "text": [
      "7\n"
     ]
    }
   ],
   "source": [
    "bst_nums = []\n",
    "sorted_array_to_bst(list(range(100)), bst_nums)\n",
    "\n",
    "root = BSTNode(bst_nums[0])\n",
    "for val in bst_nums[1:]:\n",
    "    root.add(val)\n",
    "\n",
    "print(root.height())"
   ]
  },
  {
   "cell_type": "code",
   "execution_count": 89,
   "id": "399fe31a",
   "metadata": {},
   "outputs": [
    {
     "name": "stdout",
     "output_type": "stream",
     "text": [
      "3\n",
      " 2 (ROOT)\n",
      "\t 1 (LEFT)\n",
      "\t\t 0 (LEFT)\n",
      "\t 4 (RIGHT)\n",
      "\t\t 3 (LEFT)\n"
     ]
    }
   ],
   "source": [
    "bst_nums = []\n",
    "sorted_array_to_bst(list(range(5)), bst_nums)\n",
    "\n",
    "root = BSTNode(bst_nums[0])\n",
    "for val in bst_nums[1:]:\n",
    "    root.add(val)\n",
    "\n",
    "print(root.height())\n",
    "root.dump(\"\", \"(ROOT)\")"
   ]
  },
  {
   "cell_type": "markdown",
   "id": "e042962c",
   "metadata": {},
   "source": [
    "### Depth First Search (DFS) \n",
    "- Last lecture: BST search with complexity **O(logN)**\n",
    "- Finds a path from one node to another -- works on any directed graph"
   ]
  },
  {
   "cell_type": "code",
   "execution_count": 90,
   "id": "c00e99eb",
   "metadata": {},
   "outputs": [],
   "source": [
    "def example(num):\n",
    "    g = Graph()\n",
    "    if num == 1:\n",
    "        g.node(\"A\")\n",
    "        g.edge(\"B\", \"C\")\n",
    "        g.edge(\"C\", \"D\")\n",
    "        g.edge(\"D\", \"B\")\n",
    "    elif num == 2:\n",
    "        g.edge(\"A\", \"B\")\n",
    "        g.edge(\"B\", \"C\")\n",
    "        g.edge(\"C\", \"D\")\n",
    "        g.edge(\"D\", \"E\")\n",
    "        g.edge(\"A\", \"E\")\n",
    "    elif num == 3:\n",
    "        g.edge(\"A\", \"B\")\n",
    "        g.edge(\"A\", \"C\")\n",
    "        g.edge(\"B\", \"D\")\n",
    "        g.edge(\"B\", \"E\")\n",
    "        g.edge(\"C\", \"F\")\n",
    "        g.edge(\"C\", \"G\")\n",
    "    elif num == 4:\n",
    "        g.edge(\"A\", \"B\")\n",
    "        g.edge(\"A\", \"C\")\n",
    "        g.edge(\"B\", \"D\")\n",
    "        g.edge(\"B\", \"E\")\n",
    "        g.edge(\"C\", \"F\")\n",
    "        g.edge(\"C\", \"G\")\n",
    "        g.edge(\"E\", \"Z\")\n",
    "        g.edge(\"C\", \"Z\")\n",
    "        g.edge(\"B\", \"A\")\n",
    "    elif num == 5:\n",
    "        width = 8\n",
    "        height = 4\n",
    "        for L1 in range(height-1):\n",
    "            L2 = L1 + 1\n",
    "            for i in range(width-(height-L1-1)):\n",
    "                for j in range(width-(height-L2-1)):\n",
    "                    node1 = str(L1)+\"-\"+str(i)\n",
    "                    node2 = str(L2)+\"-\"+str(j)\n",
    "                    g.edge(node1, node2)\n",
    "    else:\n",
    "        raise Exception(\"no such example\")\n",
    "    return g"
   ]
  },
  {
   "cell_type": "markdown",
   "id": "6690b3be",
   "metadata": {},
   "source": [
    "### For a regular graph, you need a new class `Graph` to keep track of the whole graph.\n",
    "- Why? Remember graphs need not have a \"root\" node, which means there is no one origin point"
   ]
  },
  {
   "cell_type": "code",
   "execution_count": null,
   "id": "8f5e8b06",
   "metadata": {},
   "outputs": [],
   "source": [
    "class Graph:\n",
    "    def __init__(self):\n",
    "        # name => Node\n",
    "        self.nodes = {}\n",
    "        # to keep track which nodes have already been visited\n",
    "        self.visited = set()\n",
    "\n",
    "    def node(self, name):\n",
    "        node = Node(name)\n",
    "        self.nodes[name] = node\n",
    "        node.graph = self\n",
    "    \n",
    "    def edge(self, src, dst):\n",
    "        \"\"\"\n",
    "        Automatically adds missing nodes.\n",
    "        \"\"\"\n",
    "        for name in [src, dst]:\n",
    "            if not name in self.nodes:\n",
    "                self.node(name)\n",
    "        self.nodes[src].children.append(self.nodes[dst])\n",
    "\n",
    "    def _repr_svg_(self):\n",
    "        \"\"\"\n",
    "        Draws the graph nodes and edges iteratively.\n",
    "        \"\"\"\n",
    "        g = Digraph()\n",
    "        for n in self.nodes:\n",
    "            g.node(n)\n",
    "            for child in self.nodes[n].children:\n",
    "                g.edge(n, child.name)\n",
    "        return g._repr_image_svg_xml()\n",
    "    \n",
    "    def dfs_search(self, source, destination):\n",
    "        \"\"\"\n",
    "        Clears the visited set and invokes dfs_search\n",
    "        for the root node.\n",
    "        \"\"\"\n",
    "        self.visited.clear()\n",
    "        return self.nodes[source].dfs_search(self.nodes[destination])\n",
    "\n",
    "class Node:\n",
    "    def __init__(self, name):\n",
    "        self.name = name\n",
    "        self.children = []\n",
    "        self.graph = None # back reference\n",
    "        \n",
    "    def __repr__(self):\n",
    "        return self.name\n",
    "    \n",
    "    def dfs_search(self, dst):\n",
    "        if self in self.graph.visited:\n",
    "            return False\n",
    "        self.graph.visited.add(self)\n",
    "\n",
    "        if self == dst:\n",
    "            return True\n",
    "        for child in self.children:\n",
    "            if child.dfs_search(dst):\n",
    "                return True\n",
    "        return False\n",
    "    \n",
    "        # TODO: give the actual path, not just True/False\n",
    "        # TODO: use a different algorithm to find the shortest path\n",
    "\n",
    "g = example(1)\n",
    "print(g.dfs_search(\"B\", \"A\"))\n",
    "print(g.dfs_search(\"B\", \"D\"))\n",
    "g"
   ]
  },
  {
   "cell_type": "code",
   "execution_count": null,
   "id": "15edd0d2",
   "metadata": {},
   "outputs": [],
   "source": []
  }
 ],
 "metadata": {
  "kernelspec": {
   "display_name": "Python 3 (ipykernel)",
   "language": "python",
   "name": "python3"
  },
  "language_info": {
   "codemirror_mode": {
    "name": "ipython",
    "version": 3
   },
   "file_extension": ".py",
   "mimetype": "text/x-python",
   "name": "python",
   "nbconvert_exporter": "python",
   "pygments_lexer": "ipython3",
   "version": "3.9.13"
  }
 },
 "nbformat": 4,
 "nbformat_minor": 5
}
