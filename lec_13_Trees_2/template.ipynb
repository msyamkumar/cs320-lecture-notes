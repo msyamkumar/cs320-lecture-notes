{
 "cells": [
  {
   "cell_type": "markdown",
   "id": "d684d88e-e96d-4392-b4d6-92d3f1669b32",
   "metadata": {},
   "source": [
    "# Binary Search Trees\n",
    "\n",
    "- Recursive `add()` method\n",
    "- Recursive `height()` method"
   ]
  },
  {
   "cell_type": "code",
   "execution_count": null,
   "id": "66ba808a",
   "metadata": {},
   "outputs": [],
   "source": [
    "from graphviz import Graph, Digraph"
   ]
  },
  {
   "cell_type": "markdown",
   "id": "3c372194",
   "metadata": {},
   "source": [
    "## Binary Search Tree\n",
    "\n",
    "- special case of *Binary trees*\n",
    "- **BST rule**: any node's value is bigger than every value in its left subtree, and and smaller than every value in its right subtree\n",
    "- TODO: write an efficient search for a BST (better complexity than O(N)\n",
    "- TODO: write a method to add values to a BST, while preserving the BST rule"
   ]
  },
  {
   "cell_type": "code",
   "execution_count": null,
   "id": "894a39d2-5e3b-4178-bc1b-dedf0b5a86c0",
   "metadata": {},
   "outputs": [],
   "source": [
    "class BSTNode:\n",
    "    def __init__(self, label):\n",
    "        self.label = label\n",
    "        self.left = None\n",
    "        self.right = None\n",
    "    \n",
    "    # Category 2: functions that do some action\n",
    "    def dump(self, prefix=\"\", suffix=\"\"):\n",
    "        \"\"\"\n",
    "        prints out name of every node in the tree with some basic formatting\n",
    "        \"\"\"\n",
    "        print(prefix, self.label, suffix)\n",
    "        if self.left != None:\n",
    "            self.left.dump(prefix+\"\\t\", \"(LEFT)\")\n",
    "        if self.right != None:\n",
    "            self.right.dump(prefix+\"\\t\", \"(RIGHT)\")\n",
    "            \n",
    "    # Category 1: functions that return some computation\n",
    "    def search(self, target):\n",
    "        \"\"\"\n",
    "        returns True/False, if target is somewhere in the tree\n",
    "        \"\"\"\n",
    "        if target == self.label:\n",
    "            return True\n",
    "        elif target < self.label:\n",
    "            if self.left != None:\n",
    "                if self.left.search(target):\n",
    "                    return True\n",
    "        elif target > self.label:\n",
    "            if self.right != None:\n",
    "                if self.right.search(target):\n",
    "                    return True\n",
    "        \n",
    "        return False\n",
    "    \n",
    "    def add(self, label):\n",
    "        \"\"\"\n",
    "        Finds the correct spot for label and adds a new node with it.\n",
    "        Assumes that tree already contains at least one node -> TODO: discuss why?\n",
    "        Raises ValueError if label is already on the tree.\n",
    "        \"\"\"\n",
    "        pass\n",
    "            \n",
    "\n",
    "    def height(self):\n",
    "        \"\"\"\n",
    "        Calculates height of the BST.\n",
    "        Height: the number of nodes on the longest root-to-leaf path (including the root)\n",
    "        \"\"\"\n",
    "        pass"
   ]
  },
  {
   "cell_type": "markdown",
   "id": "1d6935d8",
   "metadata": {},
   "source": [
    "### Recursive `add` method\n",
    "- Manually creating a tree is cumbersome and subject to mistakes (violations of BST rule)"
   ]
  },
  {
   "cell_type": "code",
   "execution_count": null,
   "id": "7047d184",
   "metadata": {},
   "outputs": [],
   "source": [
    "root = BSTNode(10)\n",
    "root.left = BSTNode(2)\n",
    "root.left.left = BSTNode(1)\n",
    "root.left.right = BSTNode(4)\n",
    "root.left.right.right = BSTNode(8)\n",
    "root.left.right.left = BSTNode(3)\n",
    "root.right = BSTNode(15)\n",
    "root.right.left = BSTNode(12)\n",
    "root.right.right = BSTNode(19)\n",
    "root.dump(\"\", \"(ROOT)\")"
   ]
  },
  {
   "cell_type": "code",
   "execution_count": null,
   "id": "0cd51cf2",
   "metadata": {},
   "outputs": [],
   "source": [
    "values = [10, 2, 1, 4, 8, 3, 15, 12, 19]\n",
    "\n",
    "root = BSTNode(values[0])\n",
    "for val in values[1:]:\n",
    "    root.add(val)\n",
    "    \n",
    "root.dump(\"\", \"(ROOT)\")"
   ]
  },
  {
   "cell_type": "markdown",
   "id": "f9324526",
   "metadata": {},
   "source": [
    "### Recursive `height` method\n",
    "\n",
    "- **Height**: the number of nodes on the longest root-to-leaf path (including the root)\n",
    "- left subtree has height 4, right subtree has height 6, my height = ?\n",
    "- left subtree has height 4, right subtree has height 4, my height = ?\n",
    "- left subtree has height 10, right subtree has height 0, my height = ?\n",
    "- left subtree has height of l, right subtree has height of r, my height = ?\n",
    "- What is the simplest case for height calculation?\n",
    "    - What are the values of l and r in that case?"
   ]
  },
  {
   "cell_type": "code",
   "execution_count": null,
   "id": "18d8de1d",
   "metadata": {},
   "outputs": [],
   "source": [
    "# TODO: Let's implement and invoke the height method\n"
   ]
  },
  {
   "cell_type": "markdown",
   "id": "bb2057f2",
   "metadata": {},
   "source": [
    "### Tree containing 100 values\n",
    "- let's use range(...) to produce a sequence of 100 integers\n",
    "- recall that range(...) returns a sequence in increasing order\n",
    "- what will be the height of this tree? **100**"
   ]
  },
  {
   "cell_type": "code",
   "execution_count": null,
   "id": "820f3596",
   "metadata": {},
   "outputs": [],
   "source": [
    "values = list(range(100))\n",
    "# Q: Is this tree balanced?\n",
    "# A: \n",
    "\n"
   ]
  },
  {
   "cell_type": "markdown",
   "id": "af9dd1b3",
   "metadata": {},
   "source": [
    "#### Let's use `random` module `shuffle` function to randomly order the sequence of 100 numbers.\n",
    "- in-place re-ordering of numbers (just like `sort` method)"
   ]
  },
  {
   "cell_type": "code",
   "execution_count": null,
   "id": "c07664be",
   "metadata": {},
   "outputs": [],
   "source": [
    "values = list(range(100))\n",
    "random.shuffle(values)\n",
    "# Q: Is this tree balanced?\n",
    "# A: depends on the shuffling, you can check using math.log2(N)\n",
    "\n",
    "root = BSTNode(values[0])\n",
    "for val in values[1:]:\n",
    "    root.add(val)\n",
    "    \n",
    "print(root.height())\n",
    "root.dump(\"\", \"(ROOT)\")"
   ]
  },
  {
   "cell_type": "code",
   "execution_count": null,
   "id": "4d87a7e7",
   "metadata": {},
   "outputs": [],
   "source": [
    "math.log2(100)"
   ]
  },
  {
   "cell_type": "markdown",
   "id": "cf919d84",
   "metadata": {},
   "source": [
    "### Balanced BSTs / Self-balancing BSTs\n",
    "- not a covered topic for the purpose of this course\n",
    "- you can explore the below recursive function definition if you are interested\n",
    "- you are **not required** to know how to do this"
   ]
  },
  {
   "cell_type": "code",
   "execution_count": null,
   "id": "bd5aa50f",
   "metadata": {},
   "outputs": [],
   "source": [
    "# Recrusive function that\n",
    "def sorted_array_to_bst(nums, bst_nums):\n",
    "    \"\"\"\n",
    "    Produces best ordering nums (a list of sorted numbers),\n",
    "    for the purpose of creating a balanced BST.\n",
    "    Writes new ordering of numbers into bst_nums.\n",
    "    \"\"\"\n",
    "    if len(nums) == 0:\n",
    "        return None\n",
    "    elif len(nums) == 1:\n",
    "        bst_nums.append(nums[0])\n",
    "    else:\n",
    "        mid_index = len(nums)//2\n",
    "        bst_nums.append(nums[mid_index])\n",
    "        \n",
    "        # recurse left\n",
    "        left_val = sorted_array_to_bst(nums[:mid_index], bst_nums)\n",
    "        if left_val != None:\n",
    "            bst_nums.append(left_val)\n",
    "\n",
    "        # recurse right\n",
    "        right_val = sorted_array_to_bst(nums[mid_index+1:], bst_nums)\n",
    "        if right_val != None:\n",
    "            bst_nums.append(right_val)"
   ]
  },
  {
   "cell_type": "code",
   "execution_count": null,
   "id": "98b9148d",
   "metadata": {},
   "outputs": [],
   "source": [
    "bst_nums = []\n",
    "sorted_array_to_bst(list(range(5)), bst_nums)\n",
    "bst_nums"
   ]
  },
  {
   "cell_type": "code",
   "execution_count": null,
   "id": "f1288713",
   "metadata": {},
   "outputs": [],
   "source": [
    "bst_nums = []\n",
    "sorted_array_to_bst(list(range(100)), bst_nums)\n",
    "\n",
    "root = BSTNode(bst_nums[0])\n",
    "for val in bst_nums[1:]:\n",
    "    root.add(val)\n",
    "\n",
    "print(root.height())"
   ]
  },
  {
   "cell_type": "code",
   "execution_count": null,
   "id": "399fe31a",
   "metadata": {},
   "outputs": [],
   "source": [
    "bst_nums = []\n",
    "sorted_array_to_bst(list(range(5)), bst_nums)\n",
    "\n",
    "root = BSTNode(bst_nums[0])\n",
    "for val in bst_nums[1:]:\n",
    "    root.add(val)\n",
    "\n",
    "print(root.height())\n",
    "root.dump(\"\", \"(ROOT)\")"
   ]
  },
  {
   "cell_type": "markdown",
   "id": "e042962c",
   "metadata": {},
   "source": [
    "### Depth First Search (DFS) \n",
    "- Last lecture: BST search with complexity **O(logN)**\n",
    "- Finds a path from one node to another -- works on any directed graph"
   ]
  },
  {
   "cell_type": "code",
   "execution_count": null,
   "id": "c00e99eb",
   "metadata": {},
   "outputs": [],
   "source": [
    "def example(num):\n",
    "    g = Graph()\n",
    "    if num == 1:\n",
    "        g.node(\"A\")\n",
    "        g.edge(\"B\", \"C\")\n",
    "        g.edge(\"C\", \"D\")\n",
    "        g.edge(\"D\", \"B\")\n",
    "    elif num == 2:\n",
    "        g.edge(\"A\", \"B\")\n",
    "        g.edge(\"B\", \"C\")\n",
    "        g.edge(\"C\", \"D\")\n",
    "        g.edge(\"D\", \"E\")\n",
    "        g.edge(\"A\", \"E\")\n",
    "    elif num == 3:\n",
    "        g.edge(\"A\", \"B\")\n",
    "        g.edge(\"A\", \"C\")\n",
    "        g.edge(\"B\", \"D\")\n",
    "        g.edge(\"B\", \"E\")\n",
    "        g.edge(\"C\", \"F\")\n",
    "        g.edge(\"C\", \"G\")\n",
    "    elif num == 4:\n",
    "        g.edge(\"A\", \"B\")\n",
    "        g.edge(\"A\", \"C\")\n",
    "        g.edge(\"B\", \"D\")\n",
    "        g.edge(\"B\", \"E\")\n",
    "        g.edge(\"C\", \"F\")\n",
    "        g.edge(\"C\", \"G\")\n",
    "        g.edge(\"E\", \"Z\")\n",
    "        g.edge(\"C\", \"Z\")\n",
    "        g.edge(\"B\", \"A\")\n",
    "    elif num == 5:\n",
    "        width = 8\n",
    "        height = 4\n",
    "        for L1 in range(height-1):\n",
    "            L2 = L1 + 1\n",
    "            for i in range(width-(height-L1-1)):\n",
    "                for j in range(width-(height-L2-1)):\n",
    "                    node1 = str(L1)+\"-\"+str(i)\n",
    "                    node2 = str(L2)+\"-\"+str(j)\n",
    "                    g.edge(node1, node2)\n",
    "    else:\n",
    "        raise Exception(\"no such example\")\n",
    "    return g"
   ]
  },
  {
   "cell_type": "markdown",
   "id": "6690b3be",
   "metadata": {},
   "source": [
    "### For a regular graph, you need a new class `Graph` to keep track of the whole graph.\n",
    "- Why? Remember graphs need not have a \"root\" node, which means there is no one origin point"
   ]
  },
  {
   "cell_type": "code",
   "execution_count": null,
   "id": "8f5e8b06",
   "metadata": {},
   "outputs": [],
   "source": [
    "class Graph:\n",
    "    def __init__(self):\n",
    "        # name => Node\n",
    "        self.nodes = {}\n",
    "\n",
    "    def node(self, name):\n",
    "        node = Node(name)\n",
    "        self.nodes[name] = node\n",
    "        node.graph = self\n",
    "    \n",
    "    def edge(self, src, dst):\n",
    "        \"\"\"\n",
    "        Automatically adds missing nodes.\n",
    "        \"\"\"\n",
    "        for name in [src, dst]:\n",
    "            if not name in self.nodes:\n",
    "                self.node(name)\n",
    "        self.nodes[src].children.append(self.nodes[dst])\n",
    "\n",
    "    def _repr_svg_(self):\n",
    "        \"\"\"\n",
    "        Draws the graph nodes and edges iteratively.\n",
    "        \"\"\"\n",
    "        g = Digraph()\n",
    "        for n in self.nodes:\n",
    "            g.node(n)\n",
    "            for child in self.nodes[n].children:\n",
    "                g.edge(n, child.name)\n",
    "        return g._repr_image_svg_xml()\n",
    "\n",
    "class Node:\n",
    "    def __init__(self, name):\n",
    "        self.name = name\n",
    "        self.children = []\n",
    "        self.graph = None # back reference\n",
    "        \n",
    "    def __repr__(self):\n",
    "        return self.name\n",
    "\n",
    "    \n",
    "        \n",
    "\n",
    "g = example(1)\n",
    "g"
   ]
  },
  {
   "cell_type": "markdown",
   "id": "c83e9993-765c-42a0-97f6-6277627acf95",
   "metadata": {},
   "source": [
    "### Testcases for DFS"
   ]
  },
  {
   "cell_type": "code",
   "execution_count": null,
   "id": "15edd0d2",
   "metadata": {},
   "outputs": [],
   "source": [
    "print(g.dfs_search(\"B\", \"A\")) # should return False\n",
    "print(g.dfs_search(\"B\", \"D\")) # should return True"
   ]
  },
  {
   "cell_type": "code",
   "execution_count": null,
   "id": "bbc7eba9",
   "metadata": {},
   "outputs": [],
   "source": [
    "# DFS search\n",
    "# TODO: give the actual path, not just True/False\n",
    "# TODO: use a different algorithm to find the shortest path"
   ]
  }
 ],
 "metadata": {
  "kernelspec": {
   "display_name": "Python 3 (ipykernel)",
   "language": "python",
   "name": "python3"
  },
  "language_info": {
   "codemirror_mode": {
    "name": "ipython",
    "version": 3
   },
   "file_extension": ".py",
   "mimetype": "text/x-python",
   "name": "python",
   "nbconvert_exporter": "python",
   "pygments_lexer": "ipython3",
   "version": "3.9.13"
  }
 },
 "nbformat": 4,
 "nbformat_minor": 5
}
