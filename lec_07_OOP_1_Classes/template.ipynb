{
 "cells": [
  {
   "cell_type": "markdown",
   "id": "1a6cc54c",
   "metadata": {},
   "source": [
    "# Performance 3"
   ]
  },
  {
   "cell_type": "code",
   "execution_count": null,
   "id": "783117c5-146f-454a-963e-ed2873b8a6d3",
   "metadata": {},
   "outputs": [],
   "source": [
    "# known import statements\n",
    "import pandas as pd\n",
    "import csv\n",
    "from subprocess import check_output\n",
    "\n",
    "# new import statements\n",
    "import zipfile\n",
    "from io import TextIOWrapper"
   ]
  },
  {
   "cell_type": "markdown",
   "id": "66db2ad0",
   "metadata": {},
   "source": [
    "### Let's take a look at the files inside the current working directory."
   ]
  },
  {
   "cell_type": "code",
   "execution_count": null,
   "id": "6cef713e",
   "metadata": {},
   "outputs": [],
   "source": [
    "str(check_output([\"ls\", \"-lh\"]), encoding=\"utf-8\").split(\"\\n\")"
   ]
  },
  {
   "cell_type": "markdown",
   "id": "c76f819d",
   "metadata": {},
   "source": [
    "### Let's `unzip` \"wi.zip\"."
   ]
  },
  {
   "cell_type": "code",
   "execution_count": null,
   "id": "0e87ec01",
   "metadata": {},
   "outputs": [],
   "source": [
    "check_output([\"unzip\", \"wi.zip\"])"
   ]
  },
  {
   "cell_type": "markdown",
   "id": "274fa49a",
   "metadata": {},
   "source": [
    "### Let's take a look at the files inside the current working directory."
   ]
  },
  {
   "cell_type": "code",
   "execution_count": null,
   "id": "a2da3cd0",
   "metadata": {},
   "outputs": [],
   "source": [
    "str(check_output([\"ls\", \"-lh\"]), encoding=\"utf-8\").split(\"\\n\")"
   ]
  },
  {
   "cell_type": "markdown",
   "id": "90b11343",
   "metadata": {},
   "source": [
    "### Traditional way of reading data using pandas"
   ]
  },
  {
   "cell_type": "code",
   "execution_count": null,
   "id": "a3175526",
   "metadata": {},
   "outputs": [],
   "source": [
    "df = pd.read_csv(\"wi.csv\")"
   ]
  },
  {
   "cell_type": "code",
   "execution_count": null,
   "id": "13e6e034",
   "metadata": {},
   "outputs": [],
   "source": [
    "df.head(5) # Top 5 rows within the DataFrame"
   ]
  },
  {
   "cell_type": "markdown",
   "id": "5c79984c",
   "metadata": {},
   "source": [
    "### How can we see all the column names?"
   ]
  },
  {
   "cell_type": "code",
   "execution_count": null,
   "id": "08d9501d",
   "metadata": {},
   "outputs": [],
   "source": [
    "df.columns"
   ]
  },
  {
   "cell_type": "markdown",
   "id": "a519f383",
   "metadata": {},
   "source": [
    "### How to extract `interest_rate`?"
   ]
  },
  {
   "cell_type": "code",
   "execution_count": null,
   "id": "400b885c",
   "metadata": {},
   "outputs": [],
   "source": [
    "df # observe that there are missing values"
   ]
  },
  {
   "cell_type": "markdown",
   "id": "890c6d2c",
   "metadata": {},
   "source": [
    "### How to count unique values in a column `Series`?"
   ]
  },
  {
   "cell_type": "code",
   "execution_count": null,
   "id": "ca108069",
   "metadata": {},
   "outputs": [],
   "source": [
    "df[\"interest_rate\"]"
   ]
  },
  {
   "cell_type": "markdown",
   "id": "715853ee",
   "metadata": {},
   "source": [
    "### Let's eliminiate the strings (Exempt) and missing values (NaN).\n",
    "Let's try `pd.to_numeric(...)`. We need a way to specify that strings need to be converted into NaN values."
   ]
  },
  {
   "cell_type": "code",
   "execution_count": null,
   "id": "69b00b57",
   "metadata": {},
   "outputs": [],
   "source": [
    "\n",
    "# TODO: open the documentation and figure out what parameter will help us\n",
    "# Recall that we can press shift + tab after a function name to open the documentation"
   ]
  },
  {
   "cell_type": "code",
   "execution_count": null,
   "id": "c51c8952",
   "metadata": {},
   "outputs": [],
   "source": [
    "pd.to_numeric(df[\"interest_rate\"], errors=\"coerce\")"
   ]
  },
  {
   "cell_type": "markdown",
   "id": "60344f67",
   "metadata": {},
   "source": [
    "### Let's drop the NaN values and compute average interest rate."
   ]
  },
  {
   "cell_type": "code",
   "execution_count": null,
   "id": "0de2786f",
   "metadata": {},
   "outputs": [],
   "source": [
    "pd.to_numeric(df[\"interest_rate\"], errors=\"coerce\")"
   ]
  },
  {
   "cell_type": "code",
   "execution_count": null,
   "id": "ba74550a",
   "metadata": {},
   "outputs": [],
   "source": [
    "pd.to_numeric(df[\"interest_rate\"], errors=\"coerce\").dropna()"
   ]
  },
  {
   "cell_type": "markdown",
   "id": "ed860a64-6d5f-4169-9217-073e54979028",
   "metadata": {},
   "source": [
    "### Clearing memory using re-assignment.\n",
    "In python, you can clear memory used up for an object simply by getting rid of all the active references. But we cannot do that for the current notebook because we used \"df\" to perform other operations, so there are more than one active references. In fact, we don't even have access to some of the active references. In that case, you can only free up the memory after you \"shutdown\" the current notebook."
   ]
  },
  {
   "cell_type": "code",
   "execution_count": null,
   "id": "f28cb0b7-beb5-44e0-a4ad-9d10dbd427bd",
   "metadata": {},
   "outputs": [],
   "source": [
    "df = \"some string\""
   ]
  },
  {
   "cell_type": "markdown",
   "id": "d0d56c80",
   "metadata": {},
   "source": [
    "### How can we read the data without creating an uncompressed version called \"wi.csv\"?\n",
    "\n",
    "- Why would we want to do something like that?\n",
    "    1. lower memory usage (we can try to load information on one loan at a time, instead of all the loans): that will still work for average interest rate computation\n",
    "    2. lower storage usage (you can directly work with compressed data)\n",
    "    \n",
    "**IMPORTANT**: do not run this cell code unless you shutdown the notebook - your kernel will crash (you will run out of memory space)"
   ]
  },
  {
   "cell_type": "code",
   "execution_count": null,
   "id": "b24c0723",
   "metadata": {},
   "outputs": [],
   "source": [
    "# IMPORTANT: do not run this cell code unless you shutdown the notebook - your kernel will crash (you will run out of memory space)\n",
    "f = open(\"wi.csv\")\n",
    "# instead of passing relative path of file name, we can pass a file object instance reference\n",
    "df = pd.read_csv(f) \n",
    "f.close()"
   ]
  },
  {
   "cell_type": "markdown",
   "id": "f8a9da46-53a5-4a7a-9d0e-6102aed9ea13",
   "metadata": {},
   "source": [
    "### Let's free up memory and delete \"wi.csv\"."
   ]
  },
  {
   "cell_type": "code",
   "execution_count": null,
   "id": "457ac313-eb56-445b-b899-65a060ac8b07",
   "metadata": {},
   "outputs": [],
   "source": [
    "df = \"some string\""
   ]
  },
  {
   "cell_type": "code",
   "execution_count": null,
   "id": "f26e069f-d5c5-46e0-bc91-8a8e55aae427",
   "metadata": {},
   "outputs": [],
   "source": [
    "check_output([\"rm\", \"wi.csv\"])\n",
    "str(check_output([\"ls\", \"-lh\"]), encoding=\"utf-8\").split(\"\\n\")"
   ]
  },
  {
   "cell_type": "markdown",
   "id": "16a150df",
   "metadata": {},
   "source": [
    "### How can we read data directly from a zip file?\n",
    "`zipfile.ZipFile(...)`"
   ]
  },
  {
   "cell_type": "markdown",
   "id": "0eff57fa",
   "metadata": {},
   "source": [
    "### Goals:\n",
    "1. directly access the data without decompressing: `zipfile.ZipFile(...)` - saves storage space by directly opening a zip file\n",
    "2. only look at one row at a time: `csv.DictReader(...)` - saves memory space by enabling us to read one row at a time (as `dict`)"
   ]
  },
  {
   "cell_type": "code",
   "execution_count": null,
   "id": "a85ca8a2",
   "metadata": {},
   "outputs": [],
   "source": [
    "# code for goal 1\n",
    "\n",
    "f = open(\"wi.csv\")\n",
    "df = pd.read_csv(f) \n",
    "f.close()"
   ]
  },
  {
   "cell_type": "code",
   "execution_count": null,
   "id": "4eee3add-cb92-4654-ab29-2b5ae68c10d5",
   "metadata": {},
   "outputs": [],
   "source": [
    "# Free up the memory again\n",
    "df = \"some string\""
   ]
  },
  {
   "cell_type": "code",
   "execution_count": null,
   "id": "6a194b9b",
   "metadata": {},
   "outputs": [],
   "source": [
    "# code for goal 2 & goal 1\n",
    "zf = zipfile.ZipFile(\"wi.zip\")\n",
    "f = zf.open(\"wi.csv\")\n",
    "\n",
    "df = pd.read_csv(f) \n",
    "\n",
    "f.close()\n",
    "zf.close()"
   ]
  },
  {
   "cell_type": "markdown",
   "id": "ca72997f",
   "metadata": {},
   "source": [
    "### Let's learn more modes for `open` built-in function\n",
    "- `open(..., mode=\"r\")`   => text (default)\n",
    "- `open(..., mode=\"rb\")`  => bytes\n",
    "- `zf.open(...)`          => always bytes\n",
    "\n",
    "With `zipfile` module there isn't a way for us to specify that we need text.\n",
    "\n",
    "### `TextIOWrapper` inside `io` module enables us to convert `bytes` into `str`"
   ]
  },
  {
   "cell_type": "code",
   "execution_count": null,
   "id": "ccc4954f",
   "metadata": {},
   "outputs": [],
   "source": [
    "# code for goal 2 & goal 1\n",
    "zf = zipfile.ZipFile(\"wi.zip\")\n",
    "f = zf.open(\"wi.csv\")\n",
    "\n",
    "reader = csv.DictReader(f)\n",
    "\n",
    "for row in reader:\n",
    "    print(row)\n",
    "    break\n",
    "\n",
    "f.close()\n",
    "zf.close()"
   ]
  },
  {
   "cell_type": "markdown",
   "id": "8af3971c",
   "metadata": {},
   "source": [
    "### Let's go back to calculating average interest rate.\n",
    "- Algorithm / Pseudocode steps:\n",
    "    1. print \"interest rate\" and type of \"interest rate\"\n",
    "    2. convert \"interest rate\" into `float` - how can we handle errors? `try` ... `except` ... (*IMPORTANT*: always have your `except` block catch specific exceptions)\n",
    "    3. calculate running total, count for each row of data\n",
    "    4. calculate average"
   ]
  },
  {
   "cell_type": "code",
   "execution_count": null,
   "id": "8ad2b730",
   "metadata": {},
   "outputs": [],
   "source": [
    "zf = zipfile.ZipFile(\"wi.zip\")\n",
    "f = zf.open(\"wi.csv\")\n",
    "\n",
    "reader = csv.DictReader(TextIOWrapper(f))\n",
    "\n",
    "for row in reader:\n",
    "    print(row)\n",
    "    break\n",
    "\n",
    "f.close()\n",
    "zf.close()\n",
    "\n",
    "total / count"
   ]
  },
  {
   "cell_type": "markdown",
   "id": "51e7081b",
   "metadata": {},
   "source": [
    "### Let's generalize the code to read \"interest rate\" into a function.\n",
    "\n",
    "- This does make things worse because we are going back to reading all the data before doing the computation.\n",
    "- But this sets us up to learn about generators."
   ]
  },
  {
   "cell_type": "code",
   "execution_count": null,
   "id": "79334762",
   "metadata": {},
   "outputs": [],
   "source": [
    "def get_rates_v1():\n",
    "    pass"
   ]
  },
  {
   "cell_type": "markdown",
   "id": "41f4bfe4",
   "metadata": {},
   "source": [
    "### Using a generator\n",
    "- `yield` each value\n",
    "- use `next` to get the next value => internally `for` loop invokes `next` for each iteration"
   ]
  },
  {
   "cell_type": "code",
   "execution_count": null,
   "id": "22c8a41b-1356-4aad-8f92-c3db19ce4c03",
   "metadata": {},
   "outputs": [],
   "source": [
    "def get_rates_v2():\n",
    "    pass"
   ]
  },
  {
   "cell_type": "code",
   "execution_count": null,
   "id": "fe2f060b",
   "metadata": {},
   "outputs": [],
   "source": [
    "next(rates) # gives us the next value"
   ]
  },
  {
   "cell_type": "code",
   "execution_count": null,
   "id": "ea5c188d",
   "metadata": {},
   "outputs": [],
   "source": [
    "next(rates) # gives us the next value"
   ]
  },
  {
   "cell_type": "code",
   "execution_count": null,
   "id": "3101b71c",
   "metadata": {},
   "outputs": [],
   "source": [
    "next(rates) # gives us the next value"
   ]
  },
  {
   "cell_type": "markdown",
   "id": "b47aab60",
   "metadata": {},
   "source": [
    "### Let's use `for` loop to keep getting all the rates.\n",
    "\n",
    "- `len` function doesn't work with generators\n",
    "- indexing doesn't work with generators"
   ]
  },
  {
   "cell_type": "code",
   "execution_count": null,
   "id": "5a074669",
   "metadata": {},
   "outputs": [],
   "source": [
    "len(rates)"
   ]
  },
  {
   "cell_type": "code",
   "execution_count": null,
   "id": "d536ef4d",
   "metadata": {},
   "outputs": [],
   "source": [
    "rates[4]"
   ]
  },
  {
   "cell_type": "code",
   "execution_count": null,
   "id": "0f5dbd13",
   "metadata": {},
   "outputs": [],
   "source": [
    "rates = get_rates_v2()\n",
    "\n",
    "total = 0\n",
    "count = 0\n",
    "\n",
    " # keeps calling next(rates) to get values from yield\n",
    "\n",
    "    \n",
    "total / count"
   ]
  },
  {
   "cell_type": "markdown",
   "id": "ff9e77e5",
   "metadata": {},
   "source": [
    "This approach doesn't work for median calculation. Why? Remember we have to sort, so we need all values in memory."
   ]
  },
  {
   "cell_type": "code",
   "execution_count": null,
   "id": "ace73646-1b9c-45d6-881f-832a5e170766",
   "metadata": {},
   "outputs": [],
   "source": [
    "rates = list(get_rates_v2())\n",
    "rates.sort()"
   ]
  },
  {
   "cell_type": "markdown",
   "id": "f6ff9655",
   "metadata": {},
   "source": [
    "# OOP 1: Classes\n",
    "\n",
    "Classes enable to create custom types. Attributes within the class will be used to store information about each object instance."
   ]
  },
  {
   "cell_type": "markdown",
   "id": "6427a25c",
   "metadata": {},
   "source": [
    "### Let's create a `Dog` class."
   ]
  },
  {
   "cell_type": "code",
   "execution_count": null,
   "id": "5154fd9e",
   "metadata": {},
   "outputs": [],
   "source": [
    "# eventually we will learn how to write code inside a class"
   ]
  },
  {
   "cell_type": "markdown",
   "id": "7d3a0c2a",
   "metadata": {},
   "source": [
    "### Let's create `Dog` object instances and add attributes."
   ]
  },
  {
   "cell_type": "code",
   "execution_count": null,
   "id": "db5558da",
   "metadata": {},
   "outputs": [],
   "source": []
  },
  {
   "cell_type": "code",
   "execution_count": null,
   "id": "0600c5b8",
   "metadata": {},
   "outputs": [],
   "source": []
  },
  {
   "cell_type": "markdown",
   "id": "93b2e3a9",
   "metadata": {},
   "source": [
    "### Let's define a `speak` function that will make the `Dog` bark.\n",
    "- Algorithm / pseudocode steps:\n",
    "    1. puppies bark thrice (age < 2)\n",
    "    2. dogs bark once"
   ]
  },
  {
   "cell_type": "code",
   "execution_count": null,
   "id": "1592767d",
   "metadata": {},
   "outputs": [],
   "source": [
    "def speak(dog):\n",
    "    if dog.age < 2:\n",
    "        pass\n",
    "    else:\n",
    "        pass"
   ]
  },
  {
   "cell_type": "markdown",
   "id": "b3cbd57e",
   "metadata": {},
   "source": [
    "### Let's invoke `speak` for dog1 and dog2."
   ]
  },
  {
   "cell_type": "code",
   "execution_count": null,
   "id": "0f9fa462",
   "metadata": {},
   "outputs": [],
   "source": [
    "speak(dog1)"
   ]
  },
  {
   "cell_type": "code",
   "execution_count": null,
   "id": "61b30ab8",
   "metadata": {},
   "outputs": [],
   "source": [
    "speak(dog2)"
   ]
  },
  {
   "cell_type": "markdown",
   "id": "38c31465",
   "metadata": {},
   "source": [
    "### How can we standardize the attribute initialization to avoid bugs?\n",
    "\n",
    "- Eventually we will learn about how to define methods inside the class, which will include `__init__` method.\n",
    "- For now, let's define an `init` function."
   ]
  },
  {
   "cell_type": "code",
   "execution_count": null,
   "id": "2682bdb7",
   "metadata": {},
   "outputs": [],
   "source": [
    "def init(???):\n",
    "    pass"
   ]
  },
  {
   "cell_type": "code",
   "execution_count": null,
   "id": "4cc6c3a1",
   "metadata": {},
   "outputs": [],
   "source": [
    "dog2 = Dog()\n",
    "init(???)\n",
    "speak(dog2)"
   ]
  }
 ],
 "metadata": {
  "kernelspec": {
   "display_name": "Python 3 (ipykernel)",
   "language": "python",
   "name": "python3"
  },
  "language_info": {
   "codemirror_mode": {
    "name": "ipython",
    "version": 3
   },
   "file_extension": ".py",
   "mimetype": "text/x-python",
   "name": "python",
   "nbconvert_exporter": "python",
   "pygments_lexer": "ipython3",
   "version": "3.10.6"
  }
 },
 "nbformat": 4,
 "nbformat_minor": 5
}
