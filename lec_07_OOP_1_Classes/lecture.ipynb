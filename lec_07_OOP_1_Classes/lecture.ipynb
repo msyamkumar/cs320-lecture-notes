{
 "cells": [
  {
   "cell_type": "markdown",
   "id": "d617eefb",
   "metadata": {},
   "source": [
    "# Performance 3"
   ]
  },
  {
   "cell_type": "code",
   "execution_count": null,
   "id": "783117c5-146f-454a-963e-ed2873b8a6d3",
   "metadata": {},
   "outputs": [],
   "source": [
    "# known import statements\n",
    "import pandas as pd\n",
    "import csv\n",
    "from subprocess import check_output\n",
    "\n",
    "# new import statements\n",
    "import zipfile\n",
    "from io import TextIOWrapper"
   ]
  },
  {
   "cell_type": "markdown",
   "id": "4e2be82d",
   "metadata": {},
   "source": [
    "### Let's take a look at the files inside the current working directory."
   ]
  },
  {
   "cell_type": "code",
   "execution_count": null,
   "id": "4eaa8a8d",
   "metadata": {},
   "outputs": [],
   "source": [
    "str(check_output([\"ls\", \"-lh\"]), encoding=\"utf-8\").split(\"\\n\")"
   ]
  },
  {
   "cell_type": "markdown",
   "id": "b8c7dc7f",
   "metadata": {},
   "source": [
    "### Let's `unzip` \"wi.zip\"."
   ]
  },
  {
   "cell_type": "code",
   "execution_count": null,
   "id": "ed32cf4c",
   "metadata": {},
   "outputs": [],
   "source": [
    "check_output([\"unzip\", \"wi.zip\"])"
   ]
  },
  {
   "cell_type": "markdown",
   "id": "4eac1b48",
   "metadata": {},
   "source": [
    "### Let's take a look at the files inside the current working directory."
   ]
  },
  {
   "cell_type": "code",
   "execution_count": null,
   "id": "a6852e43",
   "metadata": {},
   "outputs": [],
   "source": [
    "str(check_output([\"ls\", \"-lh\"]), encoding=\"utf-8\").split(\"\\n\")"
   ]
  },
  {
   "cell_type": "markdown",
   "id": "8ba94151",
   "metadata": {},
   "source": [
    "### Traditional way of reading data using pandas"
   ]
  },
  {
   "cell_type": "code",
   "execution_count": null,
   "id": "529a4bd2",
   "metadata": {},
   "outputs": [],
   "source": [
    "df = pd.read_csv(\"wi.csv\")"
   ]
  },
  {
   "cell_type": "code",
   "execution_count": null,
   "id": "570485b8",
   "metadata": {},
   "outputs": [],
   "source": [
    "df.head(5) # Top 5 rows within the DataFrame"
   ]
  },
  {
   "cell_type": "markdown",
   "id": "bad7dce4",
   "metadata": {},
   "source": [
    "### How can we see all the column names?"
   ]
  },
  {
   "cell_type": "code",
   "execution_count": null,
   "id": "d0a98751",
   "metadata": {},
   "outputs": [],
   "source": [
    "df.columns"
   ]
  },
  {
   "cell_type": "markdown",
   "id": "26311838",
   "metadata": {},
   "source": [
    "### How to extract `interest_rate`?"
   ]
  },
  {
   "cell_type": "code",
   "execution_count": null,
   "id": "c4bae34a",
   "metadata": {},
   "outputs": [],
   "source": [
    "df[\"interest_rate\"] # observe that there are missing values"
   ]
  },
  {
   "cell_type": "markdown",
   "id": "148b1243",
   "metadata": {},
   "source": [
    "### How to count unique values in a column `Series`?"
   ]
  },
  {
   "cell_type": "code",
   "execution_count": null,
   "id": "f310b537",
   "metadata": {},
   "outputs": [],
   "source": [
    "df[\"interest_rate\"].value_counts()"
   ]
  },
  {
   "cell_type": "markdown",
   "id": "e0da9824",
   "metadata": {},
   "source": [
    "### Let's eliminiate the strings (Exempt) and missing values (NaN).\n",
    "Let's try `pd.to_numeric(...)`. We need a way to specify that strings need to be converted into NaN values."
   ]
  },
  {
   "cell_type": "code",
   "execution_count": null,
   "id": "3beaae6e",
   "metadata": {},
   "outputs": [],
   "source": [
    "pd.to_numeric(df[\"interest_rate\"]) \n",
    "# TODO: open the documentation and figure out what parameter will help us\n",
    "# Recall that we can press shift + tab after a function name to open the documentation"
   ]
  },
  {
   "cell_type": "code",
   "execution_count": null,
   "id": "9c342dce",
   "metadata": {},
   "outputs": [],
   "source": [
    "pd.to_numeric(df[\"interest_rate\"], errors=\"coerce\")"
   ]
  },
  {
   "cell_type": "markdown",
   "id": "546b218b",
   "metadata": {},
   "source": [
    "### Let's drop the NaN values and compute average interest rate."
   ]
  },
  {
   "cell_type": "code",
   "execution_count": null,
   "id": "e4f21269",
   "metadata": {},
   "outputs": [],
   "source": [
    "pd.to_numeric(df[\"interest_rate\"], errors=\"coerce\").dropna()"
   ]
  },
  {
   "cell_type": "code",
   "execution_count": null,
   "id": "113dd8a5",
   "metadata": {},
   "outputs": [],
   "source": [
    "pd.to_numeric(df[\"interest_rate\"], errors=\"coerce\").dropna().mean()"
   ]
  },
  {
   "cell_type": "markdown",
   "id": "8b902599",
   "metadata": {},
   "source": [
    "### How can we read the data without creating an uncompressed version called \"wi.csv\"?\n",
    "\n",
    "- Why would we want to do something like that?\n",
    "    1. lower memory usage (we can try to load information on one loan at a time, instead of all the loans): that will still work for average interest rate computation\n",
    "    2. lower storage usage (you can directly work with compressed data)"
   ]
  },
  {
   "cell_type": "code",
   "execution_count": null,
   "id": "4c59ae54",
   "metadata": {},
   "outputs": [],
   "source": [
    "f = open(\"wi.csv\")\n",
    "df = pd.read_csv(f) # instead of passing relative path of file name, we can pass a file object instance reference\n",
    "f.close()"
   ]
  },
  {
   "cell_type": "markdown",
   "id": "6636cfee",
   "metadata": {},
   "source": [
    "### Let's clear the memory and delete \"wi.csv\".\n",
    "In python, you can clear memory used up for an object simply by getting rid of all the active references."
   ]
  },
  {
   "cell_type": "code",
   "execution_count": null,
   "id": "7c10d374",
   "metadata": {},
   "outputs": [],
   "source": [
    "df = \"some_string\" # you can retrive the memory used for storing the DataFrame"
   ]
  },
  {
   "cell_type": "code",
   "execution_count": null,
   "id": "9fc9d5f4",
   "metadata": {},
   "outputs": [],
   "source": [
    "check_output([\"rm\", \"wi.csv\"])\n",
    "str(check_output([\"ls\", \"-lh\"]), encoding=\"utf-8\").split(\"\\n\")"
   ]
  },
  {
   "cell_type": "markdown",
   "id": "38c7d946",
   "metadata": {},
   "source": [
    "### How can we read data directly from a zip file?\n",
    "`zipfile.ZipFile(...)`"
   ]
  },
  {
   "cell_type": "markdown",
   "id": "7d81fe7c",
   "metadata": {},
   "source": [
    "### Goals:\n",
    "1. directly access the data without decompressing: `zipfile.ZipFile(...)` - saves storage space by directly opening a zip file\n",
    "2. only look at one row at a time: `csv.DictReader(...)` - saves memory space by enabling us to read one row at a time (as `dict`)"
   ]
  },
  {
   "cell_type": "code",
   "execution_count": null,
   "id": "2a158f48",
   "metadata": {},
   "outputs": [],
   "source": [
    "# code for goal 1\n",
    "zf = zipfile.ZipFile(\"wi.zip\")\n",
    "f = zf.open(\"wi.csv\")\n",
    "\n",
    "df = pd.read_csv(f) \n",
    "\n",
    "f.close()\n",
    "zf.close()"
   ]
  },
  {
   "cell_type": "code",
   "execution_count": null,
   "id": "4fddde38",
   "metadata": {},
   "outputs": [],
   "source": [
    "# code for goal 2 & goal 1\n",
    "zf = zipfile.ZipFile(\"wi.zip\")\n",
    "f = zf.open(\"wi.csv\")\n",
    "\n",
    "reader = csv.DictReader(f)\n",
    "\n",
    "for row in reader:\n",
    "    print(row)\n",
    "    break\n",
    "\n",
    "f.close()\n",
    "zf.close()"
   ]
  },
  {
   "cell_type": "markdown",
   "id": "c1e9cfba",
   "metadata": {},
   "source": [
    "### Let's learn more modes for `open` built-in function\n",
    "- `open(..., mode=\"r\")`   => text (default)\n",
    "- `open(..., mode=\"rb\")`  => bytes\n",
    "- `zf.open(...)`          => always bytes\n",
    "\n",
    "With `zipfile` module there isn't a way for us to specify that we need text.\n",
    "\n",
    "### `TextIOWrapper` inside `io` module enables us to convert `bytes` into `str`"
   ]
  },
  {
   "cell_type": "code",
   "execution_count": null,
   "id": "6f52b0ae",
   "metadata": {},
   "outputs": [],
   "source": [
    "# code for goal 2 & goal 1\n",
    "zf = zipfile.ZipFile(\"wi.zip\")\n",
    "f = zf.open(\"wi.csv\")\n",
    "\n",
    "reader = csv.DictReader(TextIOWrapper(f))\n",
    "\n",
    "for row in reader:\n",
    "    print(row)\n",
    "    break\n",
    "\n",
    "f.close()\n",
    "zf.close()"
   ]
  },
  {
   "cell_type": "markdown",
   "id": "3f138285",
   "metadata": {},
   "source": [
    "### Let's go back to calculating average interest rate.\n",
    "- Algorithm / Pseudocode steps:\n",
    "    1. print \"interest rate\" and type of \"interest rate\"\n",
    "    2. convert \"interest rate\" into `float` - how can we handle errors? `try` ... `except` ... (*IMPORTANT*: always have your `except` block catch specific exceptions)\n",
    "    3. calculate running total, count for each row of data\n",
    "    4. calculate average"
   ]
  },
  {
   "cell_type": "code",
   "execution_count": null,
   "id": "6be87e1a",
   "metadata": {},
   "outputs": [],
   "source": [
    "zf = zipfile.ZipFile(\"wi.zip\")\n",
    "f = zf.open(\"wi.csv\")\n",
    "\n",
    "total = 0\n",
    "count = 0\n",
    "\n",
    "reader = csv.DictReader(TextIOWrapper(f))\n",
    "\n",
    "for row in reader:\n",
    "    try:\n",
    "        total += float(row[\"interest_rate\"])\n",
    "        count += 1\n",
    "    except ValueError:\n",
    "        pass # do nothing\n",
    "\n",
    "f.close()\n",
    "zf.close()\n",
    "\n",
    "total / count"
   ]
  },
  {
   "cell_type": "markdown",
   "id": "c000b405",
   "metadata": {},
   "source": [
    "### Let's generalize the code to read \"interest rate\" into a function.\n",
    "\n",
    "- This does make things worse because we are going back to reading all the data before doing the computation.\n",
    "- But this sets us up to learn about generators."
   ]
  },
  {
   "cell_type": "code",
   "execution_count": null,
   "id": "aaf33408",
   "metadata": {},
   "outputs": [],
   "source": [
    "def get_rates_v1():\n",
    "    rates = []\n",
    "    \n",
    "    zf = zipfile.ZipFile(\"wi.zip\")\n",
    "    f = zf.open(\"wi.csv\")\n",
    "\n",
    "    reader = csv.DictReader(TextIOWrapper(f))\n",
    "    \n",
    "    for row in reader:\n",
    "        try:\n",
    "            rates.append(float(row[\"interest_rate\"]))\n",
    "        except ValueError:\n",
    "            pass # do nothing\n",
    "\n",
    "    f.close()\n",
    "    zf.close()\n",
    "    \n",
    "    return rates\n",
    "\n",
    "rates = get_rates_v1()\n",
    "sum(rates) / len(rates)"
   ]
  },
  {
   "cell_type": "markdown",
   "id": "6eced472",
   "metadata": {},
   "source": [
    "### Using a generator\n",
    "- `yield` each value\n",
    "- use `next` to get the next value => internally `for` loop invokes `next` for each iteration"
   ]
  },
  {
   "cell_type": "code",
   "execution_count": null,
   "id": "22c8a41b-1356-4aad-8f92-c3db19ce4c03",
   "metadata": {},
   "outputs": [],
   "source": [
    "def get_rates_v2():\n",
    "    print(\"Starting generator\")\n",
    "    \n",
    "    zf = zipfile.ZipFile(\"wi.zip\")\n",
    "    f = zf.open(\"wi.csv\")\n",
    "    \n",
    "    reader = csv.DictReader(TextIOWrapper(f))\n",
    "    \n",
    "    for row in reader:\n",
    "        try:\n",
    "            yield float(row[\"interest_rate\"])\n",
    "        except ValueError:\n",
    "            pass # do nothing\n",
    "\n",
    "    f.close()\n",
    "    zf.close()\n",
    "\n",
    "rates = get_rates_v2()"
   ]
  },
  {
   "cell_type": "code",
   "execution_count": null,
   "id": "509a76db",
   "metadata": {},
   "outputs": [],
   "source": [
    "next(rates) # gives us the next value"
   ]
  },
  {
   "cell_type": "code",
   "execution_count": null,
   "id": "8d6fc162",
   "metadata": {},
   "outputs": [],
   "source": [
    "next(rates) # gives us the next value"
   ]
  },
  {
   "cell_type": "code",
   "execution_count": null,
   "id": "a863d383",
   "metadata": {},
   "outputs": [],
   "source": [
    "next(rates) # gives us the next value"
   ]
  },
  {
   "cell_type": "markdown",
   "id": "69848d5a",
   "metadata": {},
   "source": [
    "### Let's use `for` loop to keep getting all the rates.\n",
    "\n",
    "- `len` function doesn't work with generators\n",
    "- indexing doesn't work with generators"
   ]
  },
  {
   "cell_type": "code",
   "execution_count": null,
   "id": "d31f9f9f",
   "metadata": {},
   "outputs": [],
   "source": [
    "len(rates)"
   ]
  },
  {
   "cell_type": "code",
   "execution_count": null,
   "id": "0c73ca83",
   "metadata": {},
   "outputs": [],
   "source": [
    "rates[4]"
   ]
  },
  {
   "cell_type": "code",
   "execution_count": null,
   "id": "bdddd858",
   "metadata": {},
   "outputs": [],
   "source": [
    "rates = get_rates_v2()\n",
    "\n",
    "total = 0\n",
    "count = 0\n",
    "\n",
    "for rate in rates: # keeps calling next(rates) to get values from yield\n",
    "    total += rate\n",
    "    count += 1\n",
    "    \n",
    "total / count"
   ]
  },
  {
   "cell_type": "markdown",
   "id": "c93d951c",
   "metadata": {},
   "source": [
    "This approach doesn't work for median calculation. Why? Remember we have to sort, so we need all values in memory."
   ]
  },
  {
   "cell_type": "code",
   "execution_count": null,
   "id": "ace73646-1b9c-45d6-881f-832a5e170766",
   "metadata": {},
   "outputs": [],
   "source": [
    "rates = list(get_rates_v2())\n",
    "rates.sort()"
   ]
  },
  {
   "cell_type": "markdown",
   "id": "18d452b1",
   "metadata": {},
   "source": [
    "# OOP 1: Classes\n",
    "\n",
    "Classes enable to create custom types. Attributes within the class will be used to store information about each object instance."
   ]
  },
  {
   "cell_type": "markdown",
   "id": "691f9170",
   "metadata": {},
   "source": [
    "### Let's create a `Dog` class."
   ]
  },
  {
   "cell_type": "code",
   "execution_count": null,
   "id": "2b462cdd",
   "metadata": {},
   "outputs": [],
   "source": [
    "class Dog:\n",
    "    pass # eventually we will learn how to write code inside a class"
   ]
  },
  {
   "cell_type": "markdown",
   "id": "a8a6311b",
   "metadata": {},
   "source": [
    "### Let's create `Dog` object instances and add attributes."
   ]
  },
  {
   "cell_type": "code",
   "execution_count": null,
   "id": "5c65755d",
   "metadata": {},
   "outputs": [],
   "source": [
    "dog1 = Dog()\n",
    "dog1.name = \"Jimmy\"\n",
    "dog1.age = 2"
   ]
  },
  {
   "cell_type": "code",
   "execution_count": null,
   "id": "3a7a3c62",
   "metadata": {},
   "outputs": [],
   "source": [
    "dog2 = Dog()\n",
    "dog2.name = \"Buster\""
   ]
  },
  {
   "cell_type": "markdown",
   "id": "244ddc14",
   "metadata": {},
   "source": [
    "### Let's define a `speak` function that will make the `Dog` bark.\n",
    "- Algorithm / pseudocode steps:\n",
    "    1. puppies bark thrice (age < 2)\n",
    "    2. dogs bark once"
   ]
  },
  {
   "cell_type": "code",
   "execution_count": null,
   "id": "a9e7f827",
   "metadata": {},
   "outputs": [],
   "source": [
    "def speak(dog):\n",
    "    if dog.age < 2:\n",
    "        print(f\"{dog.name}: bark bark bark!\")\n",
    "    else:\n",
    "        print(f\"{dog.name}: bark!\")"
   ]
  },
  {
   "cell_type": "markdown",
   "id": "33815738",
   "metadata": {},
   "source": [
    "### Let's invoke `speak` for dog1 and dog2."
   ]
  },
  {
   "cell_type": "code",
   "execution_count": null,
   "id": "d92fc8a4",
   "metadata": {},
   "outputs": [],
   "source": [
    "speak(dog1)"
   ]
  },
  {
   "cell_type": "code",
   "execution_count": null,
   "id": "1de32f33",
   "metadata": {},
   "outputs": [],
   "source": [
    "speak(dog2)"
   ]
  },
  {
   "cell_type": "markdown",
   "id": "4424e7cd",
   "metadata": {},
   "source": [
    "### How can we standardize the attribute initialization to avoid bugs?\n",
    "\n",
    "- Eventually we will learn about how to define methods inside the class, which will include `__init__` method.\n",
    "- For now, let's define an `init` function."
   ]
  },
  {
   "cell_type": "code",
   "execution_count": null,
   "id": "9420fad8",
   "metadata": {},
   "outputs": [],
   "source": [
    "def init(dog, name, how_old):\n",
    "    dog.name = name\n",
    "    dog.age = how_old"
   ]
  },
  {
   "cell_type": "code",
   "execution_count": null,
   "id": "10397e6b",
   "metadata": {},
   "outputs": [],
   "source": [
    "dog2 = Dog()\n",
    "init(dog2, \"Spark\", 10)\n",
    "speak(dog2)"
   ]
  }
 ],
 "metadata": {
  "kernelspec": {
   "display_name": "Python 3 (ipykernel)",
   "language": "python",
   "name": "python3"
  },
  "language_info": {
   "codemirror_mode": {
    "name": "ipython",
    "version": 3
   },
   "file_extension": ".py",
   "mimetype": "text/x-python",
   "name": "python",
   "nbconvert_exporter": "python",
   "pygments_lexer": "ipython3",
   "version": "3.9.13"
  }
 },
 "nbformat": 4,
 "nbformat_minor": 5
}
