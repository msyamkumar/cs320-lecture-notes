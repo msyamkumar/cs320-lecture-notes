{
 "cells": [
  {
   "cell_type": "code",
   "execution_count": null,
   "id": "9c2567f0-5e30-4c25-8d9d-65d8e8b648b8",
   "metadata": {},
   "outputs": [],
   "source": [
    "import time\n",
    "\n",
    "# regular (no threads)\n",
    "\n",
    "def f(name, n):\n",
    "    for i in range(n):\n",
    "        print(name, n-i)\n",
    "        time.sleep(1)\n",
    "\n",
    "f(\"A\", 3)\n",
    "f(\"B\", 5)"
   ]
  },
  {
   "cell_type": "code",
   "execution_count": null,
   "id": "358d5e73-8b34-4440-82b6-184bd6ede511",
   "metadata": {},
   "outputs": [],
   "source": [
    "# with threads\n",
    "\n",
    "from threading import Thread\n",
    "\n",
    "t1 = Thread(target=f, args=(\"A\", 3))\n",
    "t2 = Thread(target=f, args=(\"B\", 5))\n",
    "t1.start()\n",
    "t2.start()\n",
    "t1.join()\n",
    "t2.join()\n",
    "\n",
    "print(\"done\")"
   ]
  },
  {
   "cell_type": "code",
   "execution_count": null,
   "id": "62844d4c-95ee-4a67-a858-a8cae3bdd2e1",
   "metadata": {},
   "outputs": [],
   "source": [
    "def double(x):\n",
    "    return x * 2\n",
    "\n",
    "for result in map(double, [7,8,9]):\n",
    "    print(result)"
   ]
  },
  {
   "cell_type": "code",
   "execution_count": null,
   "id": "202b7116-0ce3-4306-b8fc-4ef8a3265753",
   "metadata": {},
   "outputs": [],
   "source": [
    "list(map(double, [7,8,9]))"
   ]
  },
  {
   "cell_type": "code",
   "execution_count": null,
   "id": "76250849-4a97-46ec-87c5-8d1a957c6cbf",
   "metadata": {},
   "outputs": [],
   "source": [
    "from multiprocessing import Pool"
   ]
  },
  {
   "cell_type": "code",
   "execution_count": null,
   "id": "78358efa-d65b-4085-b725-10a0c63c5d82",
   "metadata": {},
   "outputs": [],
   "source": [
    "with Pool() as p:\n",
    "    # this is probably a bad idea: it is much slower to create a process than multiply by 2\n",
    "    results = p.map(double, [7,8,9])\n",
    "results"
   ]
  },
  {
   "cell_type": "code",
   "execution_count": null,
   "id": "a51c9345-58c1-4e6f-b327-8d18da2e9c14",
   "metadata": {},
   "outputs": [],
   "source": [
    "import requests\n",
    "\n",
    "def get_page(page_num):\n",
    "    url = f\"https://www.msyamkumar.com/cs320/crawl/practice7/{page_num}.html\"\n",
    "    r = requests.get(url)\n",
    "    r.raise_for_status()\n",
    "    return r.text\n",
    "\n",
    "get_page(1)"
   ]
  },
  {
   "cell_type": "code",
   "execution_count": null,
   "id": "9bf4f34a-26f1-4b27-aa0b-41aaff723836",
   "metadata": {},
   "outputs": [],
   "source": [
    "t0 = time.time()\n",
    "with Pool() as p:\n",
    "    results = p.map(get_page, range(18))\n",
    "t1 = time.time()\n",
    "print((t1-t0) * 1000) # in ms, how long did it take?"
   ]
  },
  {
   "cell_type": "code",
   "execution_count": null,
   "id": "abf28b02-2d1c-4a2e-aaa0-497b96b3cb77",
   "metadata": {},
   "outputs": [],
   "source": [
    "t0 = time.time()\n",
    "with Pool(1) as p:\n",
    "    results = p.map(get_page, range(18))\n",
    "t1 = time.time()\n",
    "print((t1-t0) * 1000) # in ms, how long did it take?"
   ]
  },
  {
   "cell_type": "code",
   "execution_count": null,
   "id": "8de61134-bbda-4c2b-bb51-696a94944165",
   "metadata": {},
   "outputs": [],
   "source": [
    "t0 = time.time()\n",
    "with Pool(8) as p:\n",
    "    results = p.map(get_page, range(18))\n",
    "t1 = time.time()\n",
    "print((t1-t0) * 1000) # in ms, how long did it take?"
   ]
  },
  {
   "cell_type": "code",
   "execution_count": null,
   "id": "e40c747e-7f4d-4f7b-b893-a59482ef65dc",
   "metadata": {},
   "outputs": [],
   "source": [
    "# bug 1: is there is an exception in one of our processes\n",
    "with Pool(8) as p:\n",
    "    results = p.map(get_page, range(20)) # we don't actually have this many pages"
   ]
  },
  {
   "cell_type": "code",
   "execution_count": null,
   "id": "73194f2c-fd85-4673-b856-9cdec9934ccc",
   "metadata": {},
   "outputs": [],
   "source": [
    "import os\n",
    "os.getpid() # the unique process ID for the current process"
   ]
  },
  {
   "cell_type": "code",
   "execution_count": null,
   "id": "508fb76b-c212-4b32-98fd-d0e8da84d9e6",
   "metadata": {},
   "outputs": [],
   "source": [
    "status_codes = []\n",
    "\n",
    "def get_page(page_num):\n",
    "    url = f\"https://www.msyamkumar.com/cs320/crawl/practice7/{page_num}.html\"\n",
    "    r = requests.get(url)\n",
    "    status_codes.append(r.status_code) # bug 2: ????\n",
    "    print(os.getpid(), status_codes)\n",
    "    r.raise_for_status()\n",
    "    # ADVICE: return everything you need when using a process in a pool\n",
    "    # (global variables aren't shared between processes)\n",
    "    return r.text"
   ]
  },
  {
   "cell_type": "code",
   "execution_count": null,
   "id": "a043791b-6ece-47db-92a7-1488c68172d9",
   "metadata": {},
   "outputs": [],
   "source": [
    "with Pool(8) as p:\n",
    "    results = p.map(get_page, range(18))"
   ]
  },
  {
   "cell_type": "code",
   "execution_count": null,
   "id": "d9bc43ac-1b08-42f0-83ee-55aea261a634",
   "metadata": {},
   "outputs": [],
   "source": [
    "print(os.getpid(), status_codes)"
   ]
  }
 ],
 "metadata": {
  "kernelspec": {
   "display_name": "Python 3 (ipykernel)",
   "language": "python",
   "name": "python3"
  },
  "language_info": {
   "codemirror_mode": {
    "name": "ipython",
    "version": 3
   },
   "file_extension": ".py",
   "mimetype": "text/x-python",
   "name": "python",
   "nbconvert_exporter": "python",
   "pygments_lexer": "ipython3",
   "version": "3.10.6"
  }
 },
 "nbformat": 4,
 "nbformat_minor": 5
}
