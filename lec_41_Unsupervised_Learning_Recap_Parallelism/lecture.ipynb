{
 "cells": [
  {
   "cell_type": "markdown",
   "id": "5f200a84-798b-4634-bc32-67645d94aa8a",
   "metadata": {},
   "source": [
    "# Thread"
   ]
  },
  {
   "cell_type": "code",
   "execution_count": 1,
   "id": "9c2567f0-5e30-4c25-8d9d-65d8e8b648b8",
   "metadata": {},
   "outputs": [
    {
     "name": "stdout",
     "output_type": "stream",
     "text": [
      "A 3\n",
      "A 2\n",
      "A 1\n",
      "B 5\n",
      "B 4\n",
      "B 3\n",
      "B 2\n",
      "B 1\n"
     ]
    }
   ],
   "source": [
    "import time\n",
    "\n",
    "# no threads\n",
    "\n",
    "def f(name, n):\n",
    "    for i in range(n):\n",
    "        print(name, n-i)\n",
    "        time.sleep(1)\n",
    "\n",
    "# takes 8 seconds to run\n",
    "f(\"A\", 3)\n",
    "f(\"B\", 5)"
   ]
  },
  {
   "cell_type": "code",
   "execution_count": 2,
   "id": "358d5e73-8b34-4440-82b6-184bd6ede511",
   "metadata": {},
   "outputs": [
    {
     "name": "stdout",
     "output_type": "stream",
     "text": [
      "AB 5\n",
      " 3\n",
      "BA 2\n",
      " 4\n",
      "A 1\n",
      "B 3\n",
      "B 2\n",
      "B 1\n",
      "done\n"
     ]
    }
   ],
   "source": [
    "# with threads\n",
    "\n",
    "from threading import Thread\n",
    "\n",
    "# takes 5 seconds to run \n",
    "t1 = Thread(target=f, args=(\"A\", 3))\n",
    "t2 = Thread(target=f, args=(\"B\", 5))\n",
    "# start both threads\n",
    "t1.start()\n",
    "t2.start()\n",
    "# join together when both finished\n",
    "t1.join()\n",
    "t2.join()\n",
    "\n",
    "print(\"done\")"
   ]
  },
  {
   "cell_type": "markdown",
   "id": "606cd963-c3c2-412a-9ac5-4cde728f07b4",
   "metadata": {},
   "source": [
    "# Process"
   ]
  },
  {
   "cell_type": "code",
   "execution_count": 3,
   "id": "62844d4c-95ee-4a67-a858-a8cae3bdd2e1",
   "metadata": {},
   "outputs": [],
   "source": [
    "def double(x):\n",
    "    return x * 2"
   ]
  },
  {
   "cell_type": "code",
   "execution_count": 4,
   "id": "202b7116-0ce3-4306-b8fc-4ef8a3265753",
   "metadata": {},
   "outputs": [
    {
     "data": {
      "text/plain": [
       "[14, 16, 18]"
      ]
     },
     "execution_count": 4,
     "metadata": {},
     "output_type": "execute_result"
    }
   ],
   "source": [
    "# map function apply the double function on each element of the list\n",
    "# similar termiology with the \"apply\" function of pandas\n",
    "list(map(double, [7,8,9]))"
   ]
  },
  {
   "cell_type": "code",
   "execution_count": 5,
   "id": "76250849-4a97-46ec-87c5-8d1a957c6cbf",
   "metadata": {},
   "outputs": [],
   "source": [
    "# a pool of available processes\n",
    "from multiprocessing import Pool"
   ]
  },
  {
   "cell_type": "code",
   "execution_count": 6,
   "id": "78358efa-d65b-4085-b725-10a0c63c5d82",
   "metadata": {},
   "outputs": [
    {
     "data": {
      "text/plain": [
       "[14, 16, 18]"
      ]
     },
     "execution_count": 6,
     "metadata": {},
     "output_type": "execute_result"
    }
   ],
   "source": [
    "# use the with keyword\n",
    "with Pool() as p:\n",
    "    # this is probably a bad idea: it is much slower to create processes than multiply by 2\n",
    "    # why? need to take extra time to create copies of the current process and wait all the processes to return the results\n",
    "    results = p.map(double, [7,8,9])\n",
    "results"
   ]
  },
  {
   "cell_type": "code",
   "execution_count": 7,
   "id": "a51c9345-58c1-4e6f-b327-8d18da2e9c14",
   "metadata": {},
   "outputs": [
    {
     "data": {
      "text/plain": [
       "'<html><body>\\n<h1>Node: 2</h1>\\n<h3>Children:</h3>\\n<ul>\\n<li><a href=\"0.html\">0</a><li><a href=\"1.html\">1</a></ul>\\n</body></html>\\n'"
      ]
     },
     "execution_count": 7,
     "metadata": {},
     "output_type": "execute_result"
    }
   ],
   "source": [
    "# a good untilization of multiprocessing\n",
    "# create different processes to scrape different web pages\n",
    "\n",
    "# 17 pages in total \n",
    "import requests\n",
    "\n",
    "def get_page(page_num):\n",
    "    url = f\"https://www.msyamkumar.com/cs320/crawl/practice7/{page_num}.html\"\n",
    "    r = requests.get(url)\n",
    "    r.raise_for_status()\n",
    "    return r.text\n",
    "\n",
    "get_page(2)"
   ]
  },
  {
   "cell_type": "code",
   "execution_count": 8,
   "id": "9bf4f34a-26f1-4b27-aa0b-41aaff723836",
   "metadata": {},
   "outputs": [
    {
     "name": "stdout",
     "output_type": "stream",
     "text": [
      "1211.5576267242432\n"
     ]
    }
   ],
   "source": [
    "# your VM has two CPUs\n",
    "t0 = time.time()\n",
    "with Pool() as p:\n",
    "    results = p.map(get_page, range(18))\n",
    "t1 = time.time()\n",
    "print((t1-t0) * 1000) # how it takes to scrape all 17 pages in ms"
   ]
  },
  {
   "cell_type": "code",
   "execution_count": 9,
   "id": "abf28b02-2d1c-4a2e-aaa0-497b96b3cb77",
   "metadata": {},
   "outputs": [
    {
     "name": "stdout",
     "output_type": "stream",
     "text": [
      "1944.6773529052734\n"
     ]
    }
   ],
   "source": [
    "# gets slower if only use one CPU\n",
    "t0 = time.time()\n",
    "with Pool(1) as p:\n",
    "    results = p.map(get_page, range(18))\n",
    "t1 = time.time()\n",
    "print((t1-t0) * 1000)"
   ]
  },
  {
   "cell_type": "code",
   "execution_count": 10,
   "id": "8de61134-bbda-4c2b-bb51-696a94944165",
   "metadata": {},
   "outputs": [
    {
     "name": "stdout",
     "output_type": "stream",
     "text": [
      "1004.1356086730957\n"
     ]
    }
   ],
   "source": [
    "t0 = time.time()\n",
    "with Pool(8) as p:\n",
    "    results = p.map(get_page, range(18))\n",
    "t1 = time.time()\n",
    "print((t1-t0) * 1000)"
   ]
  },
  {
   "cell_type": "code",
   "execution_count": 11,
   "id": "e40c747e-7f4d-4f7b-b893-a59482ef65dc",
   "metadata": {},
   "outputs": [
    {
     "ename": "HTTPError",
     "evalue": "404 Client Error: Not Found for url: https://www.msyamkumar.com/cs320/crawl/practice7/18.html",
     "output_type": "error",
     "traceback": [
      "\u001b[0;31m---------------------------------------------------------------------------\u001b[0m",
      "\u001b[0;31mRemoteTraceback\u001b[0m                           Traceback (most recent call last)",
      "\u001b[0;31mRemoteTraceback\u001b[0m: \n\"\"\"\nTraceback (most recent call last):\n  File \"/usr/lib/python3.10/multiprocessing/pool.py\", line 125, in worker\n    result = (True, func(*args, **kwds))\n  File \"/usr/lib/python3.10/multiprocessing/pool.py\", line 48, in mapstar\n    return list(map(*args))\n  File \"/tmp/ipykernel_975761/941317685.py\", line 10, in get_page\n    r.raise_for_status()\n  File \"/usr/local/lib/python3.10/dist-packages/requests/models.py\", line 1021, in raise_for_status\n    raise HTTPError(http_error_msg, response=self)\nrequests.exceptions.HTTPError: 404 Client Error: Not Found for url: https://www.msyamkumar.com/cs320/crawl/practice7/18.html\n\"\"\"",
      "\nThe above exception was the direct cause of the following exception:\n",
      "\u001b[0;31mHTTPError\u001b[0m                                 Traceback (most recent call last)",
      "Input \u001b[0;32mIn [11]\u001b[0m, in \u001b[0;36m<cell line: 2>\u001b[0;34m()\u001b[0m\n\u001b[1;32m      1\u001b[0m \u001b[38;5;66;03m# bug 1: if there is an exception in one of our processes\u001b[39;00m\n\u001b[1;32m      2\u001b[0m \u001b[38;5;28;01mwith\u001b[39;00m Pool(\u001b[38;5;241m8\u001b[39m) \u001b[38;5;28;01mas\u001b[39;00m p:\n\u001b[0;32m----> 3\u001b[0m     results \u001b[38;5;241m=\u001b[39m \u001b[43mp\u001b[49m\u001b[38;5;241;43m.\u001b[39;49m\u001b[43mmap\u001b[49m\u001b[43m(\u001b[49m\u001b[43mget_page\u001b[49m\u001b[43m,\u001b[49m\u001b[43m \u001b[49m\u001b[38;5;28;43mrange\u001b[39;49m\u001b[43m(\u001b[49m\u001b[38;5;241;43m20\u001b[39;49m\u001b[43m)\u001b[49m\u001b[43m)\u001b[49m\n",
      "File \u001b[0;32m/usr/lib/python3.10/multiprocessing/pool.py:367\u001b[0m, in \u001b[0;36mPool.map\u001b[0;34m(self, func, iterable, chunksize)\u001b[0m\n\u001b[1;32m    362\u001b[0m \u001b[38;5;28;01mdef\u001b[39;00m \u001b[38;5;21mmap\u001b[39m(\u001b[38;5;28mself\u001b[39m, func, iterable, chunksize\u001b[38;5;241m=\u001b[39m\u001b[38;5;28;01mNone\u001b[39;00m):\n\u001b[1;32m    363\u001b[0m     \u001b[38;5;124;03m'''\u001b[39;00m\n\u001b[1;32m    364\u001b[0m \u001b[38;5;124;03m    Apply `func` to each element in `iterable`, collecting the results\u001b[39;00m\n\u001b[1;32m    365\u001b[0m \u001b[38;5;124;03m    in a list that is returned.\u001b[39;00m\n\u001b[1;32m    366\u001b[0m \u001b[38;5;124;03m    '''\u001b[39;00m\n\u001b[0;32m--> 367\u001b[0m     \u001b[38;5;28;01mreturn\u001b[39;00m \u001b[38;5;28;43mself\u001b[39;49m\u001b[38;5;241;43m.\u001b[39;49m\u001b[43m_map_async\u001b[49m\u001b[43m(\u001b[49m\u001b[43mfunc\u001b[49m\u001b[43m,\u001b[49m\u001b[43m \u001b[49m\u001b[43miterable\u001b[49m\u001b[43m,\u001b[49m\u001b[43m \u001b[49m\u001b[43mmapstar\u001b[49m\u001b[43m,\u001b[49m\u001b[43m \u001b[49m\u001b[43mchunksize\u001b[49m\u001b[43m)\u001b[49m\u001b[38;5;241;43m.\u001b[39;49m\u001b[43mget\u001b[49m\u001b[43m(\u001b[49m\u001b[43m)\u001b[49m\n",
      "File \u001b[0;32m/usr/lib/python3.10/multiprocessing/pool.py:774\u001b[0m, in \u001b[0;36mApplyResult.get\u001b[0;34m(self, timeout)\u001b[0m\n\u001b[1;32m    772\u001b[0m     \u001b[38;5;28;01mreturn\u001b[39;00m \u001b[38;5;28mself\u001b[39m\u001b[38;5;241m.\u001b[39m_value\n\u001b[1;32m    773\u001b[0m \u001b[38;5;28;01melse\u001b[39;00m:\n\u001b[0;32m--> 774\u001b[0m     \u001b[38;5;28;01mraise\u001b[39;00m \u001b[38;5;28mself\u001b[39m\u001b[38;5;241m.\u001b[39m_value\n",
      "\u001b[0;31mHTTPError\u001b[0m: 404 Client Error: Not Found for url: https://www.msyamkumar.com/cs320/crawl/practice7/18.html"
     ]
    }
   ],
   "source": [
    "# bug 1: if there is an exception in one of our processes\n",
    "with Pool(8) as p:\n",
    "    results = p.map(get_page, range(20)) # we don't actually have this many pages"
   ]
  },
  {
   "cell_type": "markdown",
   "id": "9578fc17-554f-4dff-bb1d-9f4e3a1c47fe",
   "metadata": {},
   "source": [
    "RemoteTraceback: this error traceback comes from another process than the current process this jupyter notebook is running \\\n",
    "Thus, the name \"remote\". "
   ]
  },
  {
   "cell_type": "code",
   "execution_count": 12,
   "id": "73194f2c-fd85-4673-b856-9cdec9934ccc",
   "metadata": {},
   "outputs": [
    {
     "data": {
      "text/plain": [
       "975761"
      ]
     },
     "execution_count": 12,
     "metadata": {},
     "output_type": "execute_result"
    }
   ],
   "source": [
    "import os\n",
    "os.getpid() # the unique process ID for the current process"
   ]
  },
  {
   "cell_type": "code",
   "execution_count": 13,
   "id": "508fb76b-c212-4b32-98fd-d0e8da84d9e6",
   "metadata": {},
   "outputs": [],
   "source": [
    "status_codes = []\n",
    "\n",
    "def get_page(page_num):\n",
    "    url = f\"https://www.msyamkumar.com/cs320/crawl/practice7/{page_num}.html\"\n",
    "    r = requests.get(url)\n",
    "    status_codes.append(r.status_code) # bug 2: status_codes is empty\n",
    "    r.raise_for_status()\n",
    "    return r.text"
   ]
  },
  {
   "cell_type": "code",
   "execution_count": 14,
   "id": "a043791b-6ece-47db-92a7-1488c68172d9",
   "metadata": {},
   "outputs": [
    {
     "data": {
      "text/plain": [
       "[]"
      ]
     },
     "execution_count": 14,
     "metadata": {},
     "output_type": "execute_result"
    }
   ],
   "source": [
    "with Pool(8) as p:\n",
    "    results = p.map(get_page, range(18))\n",
    "status_codes"
   ]
  },
  {
   "cell_type": "code",
   "execution_count": 15,
   "id": "d9bc43ac-1b08-42f0-83ee-55aea261a634",
   "metadata": {},
   "outputs": [],
   "source": [
    "status_codes = []\n",
    "\n",
    "def get_page(page_num):\n",
    "    url = f\"https://www.msyamkumar.com/cs320/crawl/practice7/{page_num}.html\"\n",
    "    r = requests.get(url)\n",
    "    status_codes.append(r.status_code)\n",
    "    print(os.getpid(), status_codes)\n",
    "    r.raise_for_status()\n",
    "    # ADVICE: return everything you need when using a process in a pool\n",
    "    # global variables aren't shared between processes\n",
    "    return r.text"
   ]
  },
  {
   "cell_type": "code",
   "execution_count": 16,
   "id": "c52b66f0-2d47-4269-87f1-b8bc22f60b58",
   "metadata": {},
   "outputs": [
    {
     "name": "stdout",
     "output_type": "stream",
     "text": [
      "975834 975837975840[200] [200]\n",
      "975838975839975835975836\n",
      "     975841[200] [200]\n",
      "[200]\n",
      "[200][200][200]\n",
      "\n",
      "\n",
      "\n",
      "975840 [200, 200]975836 975834\n",
      "975841975838 [200, 200]975839 975837975835[200, 200] \n",
      "\n",
      " [200, 200]  [200, 200][200, 200]\n",
      "[200, 200][200, 200]\n",
      "\n",
      "\n",
      "\n",
      "975840975836 [200, 200, 200] \n",
      "[200, 200, 200]\n"
     ]
    }
   ],
   "source": [
    "with Pool(8) as p:\n",
    "    results = p.map(get_page, range(18))"
   ]
  },
  {
   "cell_type": "code",
   "execution_count": null,
   "id": "32bbfa3a-4719-4289-995e-9094ab69e371",
   "metadata": {},
   "outputs": [],
   "source": []
  }
 ],
 "metadata": {
  "kernelspec": {
   "display_name": "Python 3 (ipykernel)",
   "language": "python",
   "name": "python3"
  },
  "language_info": {
   "codemirror_mode": {
    "name": "ipython",
    "version": 3
   },
   "file_extension": ".py",
   "mimetype": "text/x-python",
   "name": "python",
   "nbconvert_exporter": "python",
   "pygments_lexer": "ipython3",
   "version": "3.10.6"
  }
 },
 "nbformat": 4,
 "nbformat_minor": 5
}
