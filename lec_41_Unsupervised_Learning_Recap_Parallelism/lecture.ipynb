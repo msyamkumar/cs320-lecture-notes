{
 "cells": [
  {
   "cell_type": "code",
   "execution_count": 1,
   "id": "9c2567f0-5e30-4c25-8d9d-65d8e8b648b8",
   "metadata": {},
   "outputs": [
    {
     "name": "stdout",
     "output_type": "stream",
     "text": [
      "A 3\n",
      "A 2\n",
      "A 1\n",
      "B 5\n",
      "B 4\n",
      "B 3\n",
      "B 2\n",
      "B 1\n"
     ]
    }
   ],
   "source": [
    "import time\n",
    "\n",
    "# regular (no threads)\n",
    "\n",
    "def f(name, n):\n",
    "    for i in range(n):\n",
    "        print(name, n-i)\n",
    "        time.sleep(1)\n",
    "\n",
    "f(\"A\", 3)\n",
    "f(\"B\", 5)"
   ]
  },
  {
   "cell_type": "code",
   "execution_count": 5,
   "id": "358d5e73-8b34-4440-82b6-184bd6ede511",
   "metadata": {},
   "outputs": [
    {
     "name": "stdout",
     "output_type": "stream",
     "text": [
      "A 3\n",
      "B 5\n",
      "A 2\n",
      "B 4\n",
      "A 1\n",
      "B 3\n",
      "B 2\n",
      "B 1\n",
      "done\n"
     ]
    }
   ],
   "source": [
    "# with threads\n",
    "\n",
    "from threading import Thread\n",
    "\n",
    "t1 = Thread(target=f, args=(\"A\", 3))\n",
    "t2 = Thread(target=f, args=(\"B\", 5))\n",
    "t1.start()\n",
    "t2.start()\n",
    "t1.join()\n",
    "t2.join()\n",
    "\n",
    "print(\"done\")"
   ]
  },
  {
   "cell_type": "code",
   "execution_count": 7,
   "id": "62844d4c-95ee-4a67-a858-a8cae3bdd2e1",
   "metadata": {},
   "outputs": [
    {
     "name": "stdout",
     "output_type": "stream",
     "text": [
      "14\n",
      "16\n",
      "18\n"
     ]
    }
   ],
   "source": [
    "def double(x):\n",
    "    return x * 2\n",
    "\n",
    "for result in map(double, [7,8,9]):\n",
    "    print(result)"
   ]
  },
  {
   "cell_type": "code",
   "execution_count": 8,
   "id": "202b7116-0ce3-4306-b8fc-4ef8a3265753",
   "metadata": {},
   "outputs": [
    {
     "data": {
      "text/plain": [
       "[14, 16, 18]"
      ]
     },
     "execution_count": 8,
     "metadata": {},
     "output_type": "execute_result"
    }
   ],
   "source": [
    "list(map(double, [7,8,9]))"
   ]
  },
  {
   "cell_type": "code",
   "execution_count": 10,
   "id": "76250849-4a97-46ec-87c5-8d1a957c6cbf",
   "metadata": {},
   "outputs": [],
   "source": [
    "from multiprocessing import Pool"
   ]
  },
  {
   "cell_type": "code",
   "execution_count": 11,
   "id": "78358efa-d65b-4085-b725-10a0c63c5d82",
   "metadata": {},
   "outputs": [
    {
     "data": {
      "text/plain": [
       "[14, 16, 18]"
      ]
     },
     "execution_count": 11,
     "metadata": {},
     "output_type": "execute_result"
    }
   ],
   "source": [
    "with Pool() as p:\n",
    "    # this is probably a bad idea: it is much slower to create a process than multiply by 2\n",
    "    results = p.map(double, [7,8,9])\n",
    "results"
   ]
  },
  {
   "cell_type": "code",
   "execution_count": 13,
   "id": "a51c9345-58c1-4e6f-b327-8d18da2e9c14",
   "metadata": {},
   "outputs": [
    {
     "data": {
      "text/plain": [
       "'<html><body>\\n<h1>Node: 1</h1>\\n<h3>Children:</h3>\\n<ul>\\n<li><a href=\"0.html\">0</a><li><a href=\"2.html\">2</a></ul>\\n</body></html>\\n'"
      ]
     },
     "execution_count": 13,
     "metadata": {},
     "output_type": "execute_result"
    }
   ],
   "source": [
    "import requests\n",
    "\n",
    "def get_page(page_num):\n",
    "    url = f\"https://tyler.caraza-harter.com/cs320/crawl/practice7/{page_num}.html\"\n",
    "    r = requests.get(url)\n",
    "    r.raise_for_status()\n",
    "    return r.text\n",
    "\n",
    "get_page(1)"
   ]
  },
  {
   "cell_type": "code",
   "execution_count": 17,
   "id": "9bf4f34a-26f1-4b27-aa0b-41aaff723836",
   "metadata": {},
   "outputs": [
    {
     "name": "stdout",
     "output_type": "stream",
     "text": [
      "1252.6209354400635\n"
     ]
    }
   ],
   "source": [
    "t0 = time.time()\n",
    "with Pool() as p:\n",
    "    results = p.map(get_page, range(18))\n",
    "t1 = time.time()\n",
    "print((t1-t0) * 1000) # in ms, how long did it take?"
   ]
  },
  {
   "cell_type": "code",
   "execution_count": 19,
   "id": "abf28b02-2d1c-4a2e-aaa0-497b96b3cb77",
   "metadata": {},
   "outputs": [
    {
     "name": "stdout",
     "output_type": "stream",
     "text": [
      "2301.382541656494\n"
     ]
    }
   ],
   "source": [
    "t0 = time.time()\n",
    "with Pool(1) as p:\n",
    "    results = p.map(get_page, range(18))\n",
    "t1 = time.time()\n",
    "print((t1-t0) * 1000) # in ms, how long did it take?"
   ]
  },
  {
   "cell_type": "code",
   "execution_count": 20,
   "id": "8de61134-bbda-4c2b-bb51-696a94944165",
   "metadata": {},
   "outputs": [
    {
     "name": "stdout",
     "output_type": "stream",
     "text": [
      "974.8213291168213\n"
     ]
    }
   ],
   "source": [
    "t0 = time.time()\n",
    "with Pool(8) as p:\n",
    "    results = p.map(get_page, range(18))\n",
    "t1 = time.time()\n",
    "print((t1-t0) * 1000) # in ms, how long did it take?"
   ]
  },
  {
   "cell_type": "code",
   "execution_count": 21,
   "id": "e40c747e-7f4d-4f7b-b893-a59482ef65dc",
   "metadata": {},
   "outputs": [
    {
     "ename": "HTTPError",
     "evalue": "404 Client Error: Not Found for url: https://tyler.caraza-harter.com/cs320/crawl/practice7/18.html",
     "output_type": "error",
     "traceback": [
      "\u001b[0;31m---------------------------------------------------------------------------\u001b[0m",
      "\u001b[0;31mRemoteTraceback\u001b[0m                           Traceback (most recent call last)",
      "\u001b[0;31mRemoteTraceback\u001b[0m: \n\"\"\"\nTraceback (most recent call last):\n  File \"/usr/lib/python3.10/multiprocessing/pool.py\", line 125, in worker\n    result = (True, func(*args, **kwds))\n  File \"/usr/lib/python3.10/multiprocessing/pool.py\", line 48, in mapstar\n    return list(map(*args))\n  File \"/tmp/ipykernel_83200/2404647566.py\", line 6, in get_page\n    r.raise_for_status()\n  File \"/usr/lib/python3/dist-packages/requests/models.py\", line 943, in raise_for_status\n    raise HTTPError(http_error_msg, response=self)\nrequests.exceptions.HTTPError: 404 Client Error: Not Found for url: https://tyler.caraza-harter.com/cs320/crawl/practice7/18.html\n\"\"\"",
      "\nThe above exception was the direct cause of the following exception:\n",
      "\u001b[0;31mHTTPError\u001b[0m                                 Traceback (most recent call last)",
      "Input \u001b[0;32mIn [21]\u001b[0m, in \u001b[0;36m<cell line: 2>\u001b[0;34m()\u001b[0m\n\u001b[1;32m      1\u001b[0m \u001b[38;5;66;03m# bug 1: is there is an exception in one of our processes\u001b[39;00m\n\u001b[1;32m      2\u001b[0m \u001b[38;5;28;01mwith\u001b[39;00m Pool(\u001b[38;5;241m8\u001b[39m) \u001b[38;5;28;01mas\u001b[39;00m p:\n\u001b[0;32m----> 3\u001b[0m     results \u001b[38;5;241m=\u001b[39m \u001b[43mp\u001b[49m\u001b[38;5;241;43m.\u001b[39;49m\u001b[43mmap\u001b[49m\u001b[43m(\u001b[49m\u001b[43mget_page\u001b[49m\u001b[43m,\u001b[49m\u001b[43m \u001b[49m\u001b[38;5;28;43mrange\u001b[39;49m\u001b[43m(\u001b[49m\u001b[38;5;241;43m20\u001b[39;49m\u001b[43m)\u001b[49m\u001b[43m)\u001b[49m\n",
      "File \u001b[0;32m/usr/lib/python3.10/multiprocessing/pool.py:367\u001b[0m, in \u001b[0;36mPool.map\u001b[0;34m(self, func, iterable, chunksize)\u001b[0m\n\u001b[1;32m    362\u001b[0m \u001b[38;5;28;01mdef\u001b[39;00m \u001b[38;5;21mmap\u001b[39m(\u001b[38;5;28mself\u001b[39m, func, iterable, chunksize\u001b[38;5;241m=\u001b[39m\u001b[38;5;28;01mNone\u001b[39;00m):\n\u001b[1;32m    363\u001b[0m     \u001b[38;5;124;03m'''\u001b[39;00m\n\u001b[1;32m    364\u001b[0m \u001b[38;5;124;03m    Apply `func` to each element in `iterable`, collecting the results\u001b[39;00m\n\u001b[1;32m    365\u001b[0m \u001b[38;5;124;03m    in a list that is returned.\u001b[39;00m\n\u001b[1;32m    366\u001b[0m \u001b[38;5;124;03m    '''\u001b[39;00m\n\u001b[0;32m--> 367\u001b[0m     \u001b[38;5;28;01mreturn\u001b[39;00m \u001b[38;5;28;43mself\u001b[39;49m\u001b[38;5;241;43m.\u001b[39;49m\u001b[43m_map_async\u001b[49m\u001b[43m(\u001b[49m\u001b[43mfunc\u001b[49m\u001b[43m,\u001b[49m\u001b[43m \u001b[49m\u001b[43miterable\u001b[49m\u001b[43m,\u001b[49m\u001b[43m \u001b[49m\u001b[43mmapstar\u001b[49m\u001b[43m,\u001b[49m\u001b[43m \u001b[49m\u001b[43mchunksize\u001b[49m\u001b[43m)\u001b[49m\u001b[38;5;241;43m.\u001b[39;49m\u001b[43mget\u001b[49m\u001b[43m(\u001b[49m\u001b[43m)\u001b[49m\n",
      "File \u001b[0;32m/usr/lib/python3.10/multiprocessing/pool.py:774\u001b[0m, in \u001b[0;36mApplyResult.get\u001b[0;34m(self, timeout)\u001b[0m\n\u001b[1;32m    772\u001b[0m     \u001b[38;5;28;01mreturn\u001b[39;00m \u001b[38;5;28mself\u001b[39m\u001b[38;5;241m.\u001b[39m_value\n\u001b[1;32m    773\u001b[0m \u001b[38;5;28;01melse\u001b[39;00m:\n\u001b[0;32m--> 774\u001b[0m     \u001b[38;5;28;01mraise\u001b[39;00m \u001b[38;5;28mself\u001b[39m\u001b[38;5;241m.\u001b[39m_value\n",
      "\u001b[0;31mHTTPError\u001b[0m: 404 Client Error: Not Found for url: https://tyler.caraza-harter.com/cs320/crawl/practice7/18.html"
     ]
    }
   ],
   "source": [
    "# bug 1: is there is an exception in one of our processes\n",
    "with Pool(8) as p:\n",
    "    results = p.map(get_page, range(20)) # we don't actually have this many pages"
   ]
  },
  {
   "cell_type": "code",
   "execution_count": 26,
   "id": "73194f2c-fd85-4673-b856-9cdec9934ccc",
   "metadata": {},
   "outputs": [
    {
     "data": {
      "text/plain": [
       "83200"
      ]
     },
     "execution_count": 26,
     "metadata": {},
     "output_type": "execute_result"
    }
   ],
   "source": [
    "import os\n",
    "os.getpid() # the unique process ID for the current process"
   ]
  },
  {
   "cell_type": "code",
   "execution_count": 27,
   "id": "508fb76b-c212-4b32-98fd-d0e8da84d9e6",
   "metadata": {},
   "outputs": [],
   "source": [
    "status_codes = []\n",
    "\n",
    "def get_page(page_num):\n",
    "    url = f\"https://tyler.caraza-harter.com/cs320/crawl/practice7/{page_num}.html\"\n",
    "    r = requests.get(url)\n",
    "    status_codes.append(r.status_code) # bug 2: ????\n",
    "    print(os.getpid(), status_codes)\n",
    "    r.raise_for_status()\n",
    "    # ADVICE: return everything you need when using a process in a pool\n",
    "    # (global variables aren't shared between processes)\n",
    "    return r.text"
   ]
  },
  {
   "cell_type": "code",
   "execution_count": 28,
   "id": "a043791b-6ece-47db-92a7-1488c68172d9",
   "metadata": {},
   "outputs": [
    {
     "name": "stdout",
     "output_type": "stream",
     "text": [
      "83758 [200]\n",
      "83764 [200]83757\n",
      "837608376183759 [200] 83762  [200][200]\n",
      " 83763\n",
      "[200]\n",
      "[200] \n",
      "[200]\n",
      "\n",
      "83758 [200, 200]\n",
      "8376283757 8375983764 [200, 200] [200, 200]83760\n",
      "83761[200, 200]\n",
      " 83763  [200, 200][200, 200][200, 200]\n",
      "\n",
      " \n",
      "[200, 200]\n",
      "\n",
      "83758 [200, 200, 200]\n",
      "83762 [200, 200, 200]\n"
     ]
    }
   ],
   "source": [
    "with Pool(8) as p:\n",
    "    results = p.map(get_page, range(18))"
   ]
  },
  {
   "cell_type": "code",
   "execution_count": 29,
   "id": "d9bc43ac-1b08-42f0-83ee-55aea261a634",
   "metadata": {},
   "outputs": [
    {
     "name": "stdout",
     "output_type": "stream",
     "text": [
      "83200 []\n"
     ]
    }
   ],
   "source": [
    "print(os.getpid(), status_codes)"
   ]
  }
 ],
 "metadata": {
  "kernelspec": {
   "display_name": "Python 3 (ipykernel)",
   "language": "python",
   "name": "python3"
  },
  "language_info": {
   "codemirror_mode": {
    "name": "ipython",
    "version": 3
   },
   "file_extension": ".py",
   "mimetype": "text/x-python",
   "name": "python",
   "nbconvert_exporter": "python",
   "pygments_lexer": "ipython3",
   "version": "3.10.6"
  }
 },
 "nbformat": 4,
 "nbformat_minor": 5
}
