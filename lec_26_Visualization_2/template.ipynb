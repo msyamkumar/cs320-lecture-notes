{
 "cells": [
  {
   "cell_type": "markdown",
   "id": "471a762b",
   "metadata": {},
   "source": [
    "# Visualization 2\n",
    "\n",
    "- Advanced visualization, example: https://trailsofwind.figures.cc/\n",
    "- Custom visualization steps:\n",
    "    - draw \"patches\" (shapes) on the screen (what):\n",
    "        - lines\n",
    "        - polygons\n",
    "        - circle\n",
    "        - text\n",
    "    - location of the \"patches\" on the screen (where):\n",
    "        - X & Y co-ordinate\n",
    "        - \"Coordinate Reference System (CRS)\":\n",
    "            - takes some X & Y and maps it on to actual space on screen\n",
    "            - several CRS"
   ]
  },
  {
   "cell_type": "markdown",
   "id": "c2429f83-1603-4aaf-b767-a60969fc20d7",
   "metadata": {},
   "source": [
    "### Transformers: let us pick a Coordinate Reference System (CRS)\n",
    "\n",
    "- Documentation: https://matplotlib.org/stable/tutorials/advanced/transforms_tutorial.html\n",
    "- `ax.transData`: default\n",
    "- `ax.transAxes` and `fig.transFigure`:\n",
    "    - (0, 0) is bottom left\n",
    "    - (1, 1) is top right\n",
    "        - these are true immaterial of the axes limits\n",
    "- `None` or `IdentityTransform()`: disabling CRS"
   ]
  },
  {
   "cell_type": "markdown",
   "id": "f451f527",
   "metadata": {},
   "source": [
    "### Mix and match\n",
    "\n",
    "- `ax.transData.transform((x, y))`: converts axes / data coords into raw coordinates\n",
    "- How to draw an arrow:\n",
    "    `matplotlib.patches.FancyArrowPatch((<x1>, <y1>), (<x2>, (<y2>)), transform=None, arrowstyle=<STYLE>)`\n",
    "    - arrowstyle=\"simple,head_width=10,head_length=10\""
   ]
  },
  {
   "cell_type": "code",
   "execution_count": null,
   "id": "e6f50cc3",
   "metadata": {},
   "outputs": [],
   "source": [
    "import matplotlib\n",
    "import matplotlib.pyplot as plt\n",
    "import pandas as pd\n",
    "import math\n",
    "\n",
    "# new import statements\n",
    "import geopandas as gpd\n",
    "\n",
    "from shapely.geometry import Point, Polygon, box"
   ]
  },
  {
   "cell_type": "code",
   "execution_count": null,
   "id": "83b86eb0-02e8-48a4-a2da-f644b4964c85",
   "metadata": {},
   "outputs": [],
   "source": [
    "# GOAL: draw a visual circle at axes / data coords 0.5, 0.5 \n",
    "# with raw co-ordinate radius 30 on right subplot\n",
    "fig, (ax1, ax2) = plt.subplots(ncols=2, figsize=(6, 4))\n",
    "ax2.set_xlim(0, 3)\n",
    "\n",
    "# crop now (after .transform, we don't want to move anything!)\n",
    "# plt.tight_layout() \n",
    "\n",
    "# Transform (0.5, 0.5) to transData CRS\n",
    "\n",
    "print(x, y)\n",
    "# Draw a circle at (x, y) with radius 30 and set transform to None\n",
    "\n",
    "\n",
    "# GOAL: arrow from 0.2, 0.2 (left) to 2, 0.5 (right)\n",
    "# Use axes / data coords from one subplot to another subplot\n",
    "\n",
    "# arrowstyle=\"simple,head_width=10,head_length=10\"\n",
    "arrow = matplotlib.patches.FancyArrowPatch((x1, y1), (x2, y2), transform=None)\n",
    "fig.add_artist(arrow)"
   ]
  },
  {
   "cell_type": "markdown",
   "id": "d2272a0b-f8f1-4bdd-87d5-971aee1ce160",
   "metadata": {},
   "source": [
    "### Custom Scatter Plots with Angles"
   ]
  },
  {
   "cell_type": "code",
   "execution_count": null,
   "id": "468492f8-0e1e-4a37-b16c-d08e818a1b63",
   "metadata": {},
   "outputs": [],
   "source": [
    "df = pd.DataFrame([\n",
    "    {\"x\":2, \"y\":5, \"a\": 90},\n",
    "    {\"x\":3, \"y\":1, \"a\": 0},\n",
    "    {\"x\":6, \"y\":6, \"a\": 45},\n",
    "    {\"x\":8, \"y\":1, \"a\": 180}\n",
    "])\n",
    "df"
   ]
  },
  {
   "cell_type": "code",
   "execution_count": null,
   "id": "cbe14fb5",
   "metadata": {},
   "outputs": [],
   "source": [
    "fig, ax = plt.subplots(figsize=(3,2))\n",
    "ax.set_xlim(0, 10)\n",
    "ax.set_ylim(-1, 10)\n",
    "\n",
    "for row in df.itertuples():\n",
    "    print(row.x, row.y, row.a)\n",
    "    # v1: draw a circle of radius 10 for each scatter point\n",
    "    \n",
    "    # v2: draw an arrow for each scatter point (correct angle)\n",
    "    # x, y = ax.transData.transform((row.x, row.y))\n",
    "    # Calculate angle: math.radians(row.a)\n",
    "    \n",
    "    # Calculate end axes / data coords using math.cos and math.sin\n",
    "    \n",
    "    "
   ]
  },
  {
   "attachments": {
    "Target_plot.png": {
     "image/png": "[encoded data removed]"
    }
   },
   "cell_type": "markdown",
   "id": "530b6501",
   "metadata": {},
   "source": [
    "### Plot annotations\n",
    "\n",
    "- Target plot:\n",
    "\n",
    "![Target_plot.png](attachment:Target_plot.png)"
   ]
  },
  {
   "cell_type": "markdown",
   "id": "84835f9e-6220-4553-ab79-3df9bf3b5352",
   "metadata": {},
   "source": [
    "- `ax.text(<x>, <y>, <text>, ha=<someval>, va=<someval>)`\n",
    "    - `ha`: horizontalalignment\n",
    "    - `va`: verticalalignment\n",
    "        - enables us to modify \"anchor\" of the text\n",
    "    \n",
    "### More patches\n",
    "- `plt.Line2D((<x1>, <x2>), (<y1>, <y2>)))`\n",
    "- `matplotlib.patches.FancyArrowPatch((<x1>, <y1>), (<x2>, (<y2>))`\n",
    "- `plt.Rectangle((<x>,<y>), <width>, <height>)`"
   ]
  },
  {
   "cell_type": "code",
   "execution_count": null,
   "id": "d09e2939",
   "metadata": {},
   "outputs": [],
   "source": [
    "plt.rcParams[\"font.size\"] = 16\n",
    "df = pd.DataFrame({\"A\": [1,2,8,9], \"B\": [5,7,12,15]}, index=[10,20,30,40])\n",
    "ax = df.plot.line(figsize=(4,3))\n",
    "ax.set_xlabel(\"Day\")\n",
    "ax.set_ylabel(\"Amount\")\n",
    "plt.tight_layout()\n",
    "# Enables us to control borders (aka spines)\n",
    "ax.spines[\"top\"].set_visible(False)\n",
    "ax.spines[\"right\"].set_visible(False)\n",
    "\n",
    "# 1. Replace legened with line labels\n",
    "\n",
    "\n",
    "# 2. Draw a vertical line at x=20\n",
    "# color=\"r\", linestyle=\"--\"\n",
    "\n",
    "\n",
    "# 3. Highlight a region from x=25 to x=35\n",
    "# color=\"k\", zorder=50, alpha=0.2, linewidth=0\n",
    "\n",
    "\n",
    "df"
   ]
  },
  {
   "cell_type": "markdown",
   "id": "ffb0b058",
   "metadata": {},
   "source": [
    "### Geographic Data / Maps\n",
    "\n",
    "#### Installation\n",
    "```python\n",
    "pip3 install --upgrade pip\n",
    "pip3 install geopandas shapely descartes geopy netaddr\n",
    "sudo apt install -y python3-rtree\n",
    "```\n",
    "\n",
    "- `import geopandas as gpd`\n",
    "- `.shp` => Shapefile\n",
    "- `gpd.datasets.get_path(<shp file path>)`:\n",
    "    - example: `gpd.datasets.get_path(\"naturalearth_lowres\")`\n",
    "- `gpd.read_file(<path>)`"
   ]
  },
  {
   "cell_type": "code",
   "execution_count": null,
   "id": "3d763a94",
   "metadata": {},
   "outputs": [],
   "source": [
    "!ls /home/msyamkumar/.local/lib/python3.10/site-packages/geopandas/datasets/naturalearth_lowres"
   ]
  },
  {
   "cell_type": "code",
   "execution_count": null,
   "id": "a020dd8a",
   "metadata": {},
   "outputs": [],
   "source": [
    "!ls /home/msyamkumar/.local/lib/python3.10/site-packages/geopandas/datasets"
   ]
  },
  {
   "cell_type": "code",
   "execution_count": null,
   "id": "273ed288",
   "metadata": {},
   "outputs": [],
   "source": [
    "# Find the path for \"naturalearth_lowres\"\n",
    "path = \n",
    "# Read the shapefile for \"naturalearth_lowres\" and\n",
    "# set index using \"name\" column\n",
    "gdf = "
   ]
  },
  {
   "cell_type": "code",
   "execution_count": null,
   "id": "661c3ba5",
   "metadata": {},
   "outputs": [],
   "source": [
    "gdf.head()"
   ]
  },
  {
   "cell_type": "code",
   "execution_count": null,
   "id": "9221e1ba",
   "metadata": {},
   "outputs": [],
   "source": [
    "type(gdf).__mro__"
   ]
  },
  {
   "cell_type": "code",
   "execution_count": null,
   "id": "25797a57",
   "metadata": {},
   "outputs": [],
   "source": [
    "# All shapefiles have a column called \"geometry\"\n"
   ]
  },
  {
   "cell_type": "code",
   "execution_count": null,
   "id": "d9f91f9c",
   "metadata": {},
   "outputs": [],
   "source": [
    "type(gdf[\"geometry\"]).__mro__"
   ]
  },
  {
   "cell_type": "code",
   "execution_count": null,
   "id": "ea15791b",
   "metadata": {},
   "outputs": [],
   "source": [
    "# First country's geometry\n",
    "print() # index of the first country\n",
    "gdf[\"geometry\"] # geometry of the first country"
   ]
  },
  {
   "cell_type": "code",
   "execution_count": null,
   "id": "52447baf",
   "metadata": {},
   "outputs": [],
   "source": [
    "# Second country's geometry\n",
    "print(gdf.index[1])\n",
    "gdf[\"geometry\"].iat[1]"
   ]
  },
  {
   "cell_type": "code",
   "execution_count": null,
   "id": "0f643a95",
   "metadata": {},
   "outputs": [],
   "source": [
    "# Geometry for \"United States of America\"\n",
    "gdf.at[<row_index>, <column_name>]"
   ]
  },
  {
   "cell_type": "code",
   "execution_count": null,
   "id": "90f03ea1",
   "metadata": {},
   "outputs": [],
   "source": [
    "# Type of Tanzania's geometry\n",
    "print(gdf.index[1], type(gdf[\"geometry\"].iat[1]))\n",
    "\n",
    "# Type of United States of America's geometry\n",
    "print(\"United States of America\", type(gdf.at[\"United States of America\", \"geometry\"]))"
   ]
  },
  {
   "cell_type": "markdown",
   "id": "40b3f821-ff60-4221-a6ce-0ee24c89ea50",
   "metadata": {},
   "source": [
    "- `gdf.plot(figsize=(<width>, <height>), column=<column name>)`\n",
    "- `ax.set_axis_off()`"
   ]
  },
  {
   "cell_type": "code",
   "execution_count": null,
   "id": "6ef66ae4",
   "metadata": {},
   "outputs": [],
   "source": []
  },
  {
   "cell_type": "code",
   "execution_count": null,
   "id": "fa07e031",
   "metadata": {},
   "outputs": [],
   "source": [
    "# Set facecolor=\"0.7\", edgecolor=\"black\"\n",
    "ax = gdf.plot(figsize=(8,4))\n",
    "# Turn off the axes\n",
    "ax.set_axis_off()"
   ]
  },
  {
   "cell_type": "code",
   "execution_count": null,
   "id": "58da716e",
   "metadata": {},
   "outputs": [],
   "source": [
    "# Color the map based on population column and set cmap=\"cool\" (now we need legend=True)\n",
    "ax = gdf.plot(figsize=(8,4))\n",
    "ax.set_axis_off()"
   ]
  },
  {
   "cell_type": "markdown",
   "id": "c7a85431-bdab-46ab-8e29-5f91d8a2e0bc",
   "metadata": {},
   "source": [
    "#### Create a map where countries with >100M people are red, others are gray."
   ]
  },
  {
   "cell_type": "code",
   "execution_count": null,
   "id": "11214c90",
   "metadata": {},
   "outputs": [],
   "source": [
    "# Create a map where countries with >100M people are red, others are gray\n",
    "\n",
    "# Add a new column called color to gdf and set default value to \"lightgray\"\n",
    "\n",
    "# Boolean indexing to set color to red for countries with \"pop_est\" > 1e8\n",
    "\n",
    "# Create the plot\n",
    "# ax = gdf.plot(figsize=(8,4), color=gdf[\"color\"])\n",
    "# ax.set_axis_off()"
   ]
  },
  {
   "cell_type": "markdown",
   "id": "39c95c23",
   "metadata": {},
   "source": [
    "### Shapely shapes\n",
    "\n",
    "- `from shapely.geometry import Point, Polygon, box`\n",
    "- `Polygon([(<x1>, <y1>), (<x2>, <y2>), (<x3>, <y3>), ...])`\n",
    "- `box(<x1>, <x2>, <y1>, <y2>)`\n",
    "- `Point(<x>, <y>)`\n",
    "- `<shapely object>.buffer(<size>)`\n",
    "    - example: `Point(5, 5).buffer(3)` creates a circle\n",
    "- Shapely methods:\n",
    "    - `union`:  any point that is in either shape (OR)\n",
    "    - `intersection`: any point that is in both shapes (AND)\n",
    "    - `difference`: subtraction\n",
    "    - `intersects`: do they overlap?"
   ]
  },
  {
   "cell_type": "code",
   "execution_count": null,
   "id": "61716db9",
   "metadata": {},
   "outputs": [],
   "source": [
    "triangle = Polygon([(0, 0), (1.2, 1), (2, 0)])   # triangle\n",
    "triangle"
   ]
  },
  {
   "cell_type": "code",
   "execution_count": null,
   "id": "bddd958d-6fde-42df-8ae3-459e25fa3f04",
   "metadata": {},
   "outputs": [],
   "source": [
    "box1 = box(0,0,1,1)\n",
    "box1"
   ]
  },
  {
   "cell_type": "code",
   "execution_count": null,
   "id": "e5308c61-b1fa-433b-bb05-485ca7bd23da",
   "metadata": {},
   "outputs": [],
   "source": [
    "point = Point(5, 5)\n",
    "point"
   ]
  },
  {
   "cell_type": "code",
   "execution_count": null,
   "id": "f015d27e-8fd8-446f-992f-4f7a88cc582d",
   "metadata": {},
   "outputs": [],
   "source": [
    "circle = point.buffer(1)\n",
    "circle"
   ]
  },
  {
   "cell_type": "code",
   "execution_count": null,
   "id": "800cc48d-c241-4439-9161-ff309e50373f",
   "metadata": {},
   "outputs": [],
   "source": [
    "triangle_buffer = triangle.buffer(3)\n",
    "triangle_buffer"
   ]
  },
  {
   "cell_type": "code",
   "execution_count": null,
   "id": "d1c5f9f7",
   "metadata": {},
   "outputs": [],
   "source": [
    "triangle.union(box1)   # any point that is in either shape (OR)"
   ]
  },
  {
   "cell_type": "code",
   "execution_count": null,
   "id": "8a2d3357",
   "metadata": {},
   "outputs": [],
   "source": [
    "triangle.intersection(box1)   # any point that is in both shapes (AND)"
   ]
  },
  {
   "cell_type": "code",
   "execution_count": null,
   "id": "153a6b72",
   "metadata": {},
   "outputs": [],
   "source": [
    "triangle.difference(box1)   # subtraction"
   ]
  },
  {
   "cell_type": "code",
   "execution_count": null,
   "id": "9082b54a",
   "metadata": {},
   "outputs": [],
   "source": [
    "box1.difference(triangle)   # subtraction"
   ]
  },
  {
   "cell_type": "code",
   "execution_count": null,
   "id": "59493a5b",
   "metadata": {},
   "outputs": [],
   "source": [
    "triangle.intersects(box1) # do they overlap?"
   ]
  },
  {
   "cell_type": "code",
   "execution_count": null,
   "id": "7a87b70f",
   "metadata": {},
   "outputs": [],
   "source": [
    "# is the point \"near\" (<6 units) the triangle?\n",
    "triangle.union(point.buffer(6))"
   ]
  },
  {
   "cell_type": "code",
   "execution_count": null,
   "id": "e04daa60",
   "metadata": {},
   "outputs": [],
   "source": [
    "triangle.intersects(point.buffer(6))"
   ]
  },
  {
   "cell_type": "code",
   "execution_count": null,
   "id": "410b08cf",
   "metadata": {},
   "outputs": [],
   "source": [
    "# Europe bounding box\n",
    "b = box(-10.67, 34.5, 31.55, 71.05)\n",
    "\n",
    "# attempt 1\n",
    "gdf[gdf.intersects(b)].plot()"
   ]
  },
  {
   "cell_type": "code",
   "execution_count": null,
   "id": "108b8b8a",
   "metadata": {},
   "outputs": [],
   "source": [
    "eur1 = gdf.intersection(b)\n",
    "eur1.plot()"
   ]
  },
  {
   "cell_type": "code",
   "execution_count": null,
   "id": "55a76a00",
   "metadata": {},
   "outputs": [],
   "source": [
    "eur2 = eur1[~eur1.is_empty]\n",
    "eur2"
   ]
  },
  {
   "cell_type": "code",
   "execution_count": null,
   "id": "08c59df7",
   "metadata": {},
   "outputs": [],
   "source": [
    "eur2.plot()"
   ]
  }
 ],
 "metadata": {
  "kernelspec": {
   "display_name": "Python 3 (ipykernel)",
   "language": "python",
   "name": "python3"
  },
  "language_info": {
   "codemirror_mode": {
    "name": "ipython",
    "version": 3
   },
   "file_extension": ".py",
   "mimetype": "text/x-python",
   "name": "python",
   "nbconvert_exporter": "python",
   "pygments_lexer": "ipython3",
   "version": "3.10.6"
  }
 },
 "nbformat": 4,
 "nbformat_minor": 5
}
