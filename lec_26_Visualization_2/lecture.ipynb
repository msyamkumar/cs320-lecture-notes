{
 "cells": [
  {
   "cell_type": "markdown",
   "id": "471a762b",
   "metadata": {},
   "source": [
    "# Visualization 2\n",
    "\n",
    "- Advanced visualization, example: https://trailsofwind.figures.cc/\n",
    "- Custom visualization steps:\n",
    "    - draw \"patches\" (shapes) on the screen (what):\n",
    "        - lines\n",
    "        - polygons\n",
    "        - circle\n",
    "        - text\n",
    "    - location of the \"patches\" on the screen (where):\n",
    "        - X & Y co-ordinate\n",
    "        - \"Coordinate Reference System (CRS)\":\n",
    "            - takes some X & Y and maps it on to actual space on screen\n",
    "            - several CRS"
   ]
  },
  {
   "cell_type": "markdown",
   "id": "c2429f83-1603-4aaf-b767-a60969fc20d7",
   "metadata": {},
   "source": [
    "### Transformers: let us pick a Coordinate Reference System (CRS)\n",
    "\n",
    "- Documentation: https://matplotlib.org/stable/tutorials/advanced/transforms_tutorial.html\n",
    "- `ax.transData`: default\n",
    "- `ax.transAxes` and `fig.transFigure`:\n",
    "    - (0, 0) is bottom left\n",
    "    - (1, 1) is top right\n",
    "        - these are true immaterial of the axes limits\n",
    "- `None` or `IdentityTransform()`: disabling CRS"
   ]
  },
  {
   "cell_type": "markdown",
   "id": "f451f527",
   "metadata": {},
   "source": [
    "### Mix and match\n",
    "\n",
    "- `ax.transData.transform((x, y))`: converts axes / data coords into raw coordinates\n",
    "- How to draw an arrow:\n",
    "    `matplotlib.patches.FancyArrowPatch((<x1>, <y1>), (<x2>, (<y2>)), transform=None, arrowstyle=<STYLE>)`:\n",
    "        - arrowstyle=\"simple,head_width=10,head_length=10\""
   ]
  },
  {
   "cell_type": "code",
   "execution_count": 13,
   "id": "e6f50cc3",
   "metadata": {},
   "outputs": [],
   "source": [
    "import matplotlib\n",
    "import matplotlib.pyplot as plt\n",
    "import pandas as pd\n",
    "import math\n",
    "\n",
    "# new import statements\n",
    "import geopandas as gpd\n",
    "\n",
    "from shapely.geometry import Point, Polygon, box"
   ]
  },
  {
   "cell_type": "code",
   "execution_count": 9,
   "id": "83b86eb0-02e8-48a4-a2da-f644b4964c85",
   "metadata": {},
   "outputs": [
    {
     "name": "stdout",
     "output_type": "stream",
     "text": [
      "396.7008101851851 211.8611111111111\n"
     ]
    },
    {
     "data": {
      "text/plain": [
       "<matplotlib.patches.FancyArrowPatch at 0x7f8918f36eb0>"
      ]
     },
     "execution_count": 9,
     "metadata": {},
     "output_type": "execute_result"
    },
    {
     "data": {
      "image/png": "[encoded data removed]",
      "text/plain": [
       "<Figure size 600x400 with 2 Axes>"
      ]
     },
     "metadata": {},
     "output_type": "display_data"
    }
   ],
   "source": [
    "# GOAL: draw a visual circle at axes / data coords 0.5, 0.5 \n",
    "# with raw co-ordinate radius 30 on right subplot\n",
    "fig, (ax1, ax2) = plt.subplots(ncols=2, figsize=(6, 4))\n",
    "ax2.set_xlim(0, 3)\n",
    "\n",
    "# crop now (after .transform, we don't want to move anything!)\n",
    "plt.tight_layout() \n",
    "\n",
    "x, y = ax2.transData.transform((0.5, 0.5))\n",
    "print(x, y)\n",
    "# Draw a circle at (x, y) with radius 30 and set transform to None\n",
    "c = plt.Circle((x, y), 30, transform=None)\n",
    "ax2.add_artist(c)\n",
    "\n",
    "# GOAL: arrow from 0.2, 0.2 (left) to 2, 0.5 (right)\n",
    "# Use axes / data coords from one subplot to another subplot\n",
    "x1, y1 = ax1.transData.transform((0.2, 0.2))\n",
    "x2, y2 = ax2.transData.transform((2, 0.5))\n",
    "# arrowstyle=\"simple,head_width=10,head_length=10\"\n",
    "arrow = matplotlib.patches.FancyArrowPatch((x1, y1), (x2, y2), transform=None, color=\"k\",\n",
    "                                           arrowstyle=\"simple,head_width=10,head_length=10\")\n",
    "fig.add_artist(arrow)"
   ]
  },
  {
   "cell_type": "markdown",
   "id": "d2272a0b-f8f1-4bdd-87d5-971aee1ce160",
   "metadata": {},
   "source": [
    "### Custom Scatter Plots with Angles"
   ]
  },
  {
   "cell_type": "code",
   "execution_count": 10,
   "id": "468492f8-0e1e-4a37-b16c-d08e818a1b63",
   "metadata": {},
   "outputs": [
    {
     "data": {
      "text/html": [
       "<div>\n",
       "<style scoped>\n",
       "    .dataframe tbody tr th:only-of-type {\n",
       "        vertical-align: middle;\n",
       "    }\n",
       "\n",
       "    .dataframe tbody tr th {\n",
       "        vertical-align: top;\n",
       "    }\n",
       "\n",
       "    .dataframe thead th {\n",
       "        text-align: right;\n",
       "    }\n",
       "</style>\n",
       "<table border=\"1\" class=\"dataframe\">\n",
       "  <thead>\n",
       "    <tr style=\"text-align: right;\">\n",
       "      <th></th>\n",
       "      <th>x</th>\n",
       "      <th>y</th>\n",
       "      <th>a</th>\n",
       "    </tr>\n",
       "  </thead>\n",
       "  <tbody>\n",
       "    <tr>\n",
       "      <th>0</th>\n",
       "      <td>2</td>\n",
       "      <td>5</td>\n",
       "      <td>90</td>\n",
       "    </tr>\n",
       "    <tr>\n",
       "      <th>1</th>\n",
       "      <td>3</td>\n",
       "      <td>1</td>\n",
       "      <td>0</td>\n",
       "    </tr>\n",
       "    <tr>\n",
       "      <th>2</th>\n",
       "      <td>6</td>\n",
       "      <td>6</td>\n",
       "      <td>45</td>\n",
       "    </tr>\n",
       "    <tr>\n",
       "      <th>3</th>\n",
       "      <td>8</td>\n",
       "      <td>1</td>\n",
       "      <td>180</td>\n",
       "    </tr>\n",
       "  </tbody>\n",
       "</table>\n",
       "</div>"
      ],
      "text/plain": [
       "   x  y    a\n",
       "0  2  5   90\n",
       "1  3  1    0\n",
       "2  6  6   45\n",
       "3  8  1  180"
      ]
     },
     "execution_count": 10,
     "metadata": {},
     "output_type": "execute_result"
    }
   ],
   "source": [
    "df = pd.DataFrame([\n",
    "    {\"x\":2, \"y\":5, \"a\": 90},\n",
    "    {\"x\":3, \"y\":1, \"a\": 0},\n",
    "    {\"x\":6, \"y\":6, \"a\": 45},\n",
    "    {\"x\":8, \"y\":1, \"a\": 180}\n",
    "])\n",
    "df"
   ]
  },
  {
   "cell_type": "code",
   "execution_count": 12,
   "id": "cbe14fb5",
   "metadata": {},
   "outputs": [
    {
     "name": "stdout",
     "output_type": "stream",
     "text": [
      "2 5 90\n",
      "3 1 0\n",
      "6 6 45\n",
      "8 1 180\n"
     ]
    },
    {
     "data": {
      "image/png": "[encoded data removed]",
      "text/plain": [
       "<Figure size 300x200 with 1 Axes>"
      ]
     },
     "metadata": {},
     "output_type": "display_data"
    }
   ],
   "source": [
    "fig, ax = plt.subplots(figsize=(3,2))\n",
    "ax.set_xlim(0, 10)\n",
    "ax.set_ylim(-1, 10)\n",
    "\n",
    "for row in df.itertuples():\n",
    "    print(row.x, row.y, row.a)\n",
    "    # v1: draw a circle for each scatter point\n",
    "    \n",
    "    # x, y = ax.transData.transform((row.x, row.y))\n",
    "    # c = plt.Circle((x,y), radius=10, transform=None)\n",
    "    # ax.add_artist(c)\n",
    "    \n",
    "    # v2: draw an arrow for each scatter point (correct angle)\n",
    "    x, y = ax.transData.transform((row.x, row.y))\n",
    "    # Calculate angle: math.radians(row.a)\n",
    "    a = math.radians(row.a)\n",
    "    # Calculate end axes / data coords using \n",
    "    x_diff = math.cos(a) * 25\n",
    "    y_diff = math.sin(a) * 25\n",
    "    c = matplotlib.patches.FancyArrowPatch((x,y), (x+x_diff, y+y_diff),transform=None, color=\"k\",\n",
    "                                           arrowstyle=\"simple,head_width=10,head_length=10\")\n",
    "    ax.add_artist(c)"
   ]
  },
  {
   "attachments": {
    "Target_plot.png": {
     "image/png": "[encoded data removed]"
    }
   },
   "cell_type": "markdown",
   "id": "530b6501",
   "metadata": {},
   "source": [
    "### Plot annotations\n",
    "\n",
    "- Target plot:\n",
    "![Target_plot.png](attachment:Target_plot.png)"
   ]
  },
  {
   "cell_type": "code",
   "execution_count": 5,
   "id": "d09e2939",
   "metadata": {},
   "outputs": [
    {
     "data": {
      "text/plain": [
       "<matplotlib.patches.Rectangle at 0x7f892b4a9280>"
      ]
     },
     "execution_count": 5,
     "metadata": {},
     "output_type": "execute_result"
    },
    {
     "data": {
      "image/png": "[encoded data removed]",
      "text/plain": [
       "<Figure size 400x300 with 1 Axes>"
      ]
     },
     "metadata": {},
     "output_type": "display_data"
    }
   ],
   "source": [
    "plt.rcParams[\"font.size\"] = 16\n",
    "df = pd.DataFrame({\"A\": [1,2,8,9], \"B\": [5,7,12,15]}, index=[10,20,30,40])\n",
    "ax = df.plot.line(figsize=(4,3), legend=False)\n",
    "ax.set_xlabel(\"Day\")\n",
    "ax.set_ylabel(\"Amount\")\n",
    "plt.tight_layout()\n",
    "ax.spines[\"top\"].set_visible(False)\n",
    "ax.spines[\"right\"].set_visible(False)\n",
    "\n",
    "# 1. Replace legened with line labels\n",
    "for col in df.columns:\n",
    "    ax.text(df.index[-1], df[col].iat[-1], col, ha=\"left\", va=\"center\")\n",
    "\n",
    "# 2. Draw a vertical line at x=20\n",
    "p = plt.Line2D((20, 20), ax.get_ylim(), color=\"r\", linestyle=\"--\")\n",
    "ax.add_artist(p)\n",
    "\n",
    "#(x1,y1), (x2,y2)   # FancyArrowPatch\n",
    "#(x1,x2), (y1,y2)   # Line2D\n",
    "\n",
    "# 3. Highlight a region from x=25 to x=35\n",
    "p = plt.Rectangle((25, 0), 10, ax.get_ylim()[1], color=\"k\", zorder=50, alpha=0.2, linewidth=0)\n",
    "ax.add_artist(p)\n",
    "\n",
    "# (x,y), width, height   --- Rectangle\n",
    "# (x1,y1), (x2,y2)       --- later"
   ]
  },
  {
   "cell_type": "markdown",
   "id": "ffb0b058",
   "metadata": {},
   "source": [
    "### Geographic Data / Maps\n",
    "\n",
    "- `.shp` => Shapefile"
   ]
  },
  {
   "cell_type": "code",
   "execution_count": 14,
   "id": "a14133a7",
   "metadata": {},
   "outputs": [
    {
     "data": {
      "text/plain": [
       "'/Users/msyamkumar/opt/anaconda3/lib/python3.9/site-packages/geopandas/datasets/naturalearth_lowres/naturalearth_lowres.shp'"
      ]
     },
     "execution_count": 14,
     "metadata": {},
     "output_type": "execute_result"
    }
   ],
   "source": []
  },
  {
   "cell_type": "code",
   "execution_count": null,
   "id": "3d763a94",
   "metadata": {},
   "outputs": [],
   "source": [
    "!ls /home/msyamkumar/.local/lib/python3.10/site-packages/geopandas/datasets/naturalearth_lowres"
   ]
  },
  {
   "cell_type": "code",
   "execution_count": null,
   "id": "a020dd8a",
   "metadata": {},
   "outputs": [],
   "source": [
    "!ls /home/msyamkumar/.local/lib/python3.10/site-packages/geopandas/datasets"
   ]
  },
  {
   "cell_type": "code",
   "execution_count": null,
   "id": "273ed288",
   "metadata": {},
   "outputs": [],
   "source": [
    "path = gpd.datasets.get_path(\"naturalearth_lowres\")\n",
    "gdf = gpd.read_file(path).set_index(\"name\")"
   ]
  },
  {
   "cell_type": "code",
   "execution_count": null,
   "id": "661c3ba5",
   "metadata": {},
   "outputs": [],
   "source": [
    "gdf.head()"
   ]
  },
  {
   "cell_type": "code",
   "execution_count": null,
   "id": "9221e1ba",
   "metadata": {},
   "outputs": [],
   "source": [
    "type(gdf).__mro__"
   ]
  },
  {
   "cell_type": "code",
   "execution_count": null,
   "id": "25797a57",
   "metadata": {},
   "outputs": [],
   "source": [
    "df[\"geometry\"]"
   ]
  },
  {
   "cell_type": "code",
   "execution_count": null,
   "id": "d9f91f9c",
   "metadata": {},
   "outputs": [],
   "source": [
    "type(df[\"geometry\"]).__mro__"
   ]
  },
  {
   "cell_type": "code",
   "execution_count": null,
   "id": "ea15791b",
   "metadata": {},
   "outputs": [],
   "source": [
    "df[\"geometry\"].iat[0]"
   ]
  },
  {
   "cell_type": "code",
   "execution_count": null,
   "id": "52447baf",
   "metadata": {},
   "outputs": [],
   "source": [
    "df[\"geometry\"].iat[1]"
   ]
  },
  {
   "cell_type": "code",
   "execution_count": null,
   "id": "0f643a95",
   "metadata": {},
   "outputs": [],
   "source": [
    "df.at[\"United States of America\", \"geometry\"]"
   ]
  },
  {
   "cell_type": "code",
   "execution_count": null,
   "id": "90f03ea1",
   "metadata": {},
   "outputs": [],
   "source": [
    "print(type(df[\"geometry\"].iat[1]))\n",
    "print(type(df.at[\"United States of America\", \"geometry\"]))"
   ]
  },
  {
   "cell_type": "code",
   "execution_count": null,
   "id": "6ef66ae4",
   "metadata": {},
   "outputs": [],
   "source": [
    "ax = df.plot(figsize=(8,4))\n",
    "ax.set_axis_off()"
   ]
  },
  {
   "cell_type": "code",
   "execution_count": null,
   "id": "fa07e031",
   "metadata": {},
   "outputs": [],
   "source": [
    "ax = df.plot(figsize=(8,4), facecolor=\"0.7\", edgecolor=\"black\")\n",
    "ax.set_axis_off()"
   ]
  },
  {
   "cell_type": "code",
   "execution_count": null,
   "id": "58da716e",
   "metadata": {},
   "outputs": [],
   "source": [
    "ax = df.plot(figsize=(8,4), column=\"pop_est\", legend=True, cmap=\"cool\")\n",
    "ax.set_axis_off()"
   ]
  },
  {
   "cell_type": "code",
   "execution_count": null,
   "id": "11214c90",
   "metadata": {},
   "outputs": [],
   "source": [
    "# create a map where countries with >100M people are red, others are gray\n",
    "df[\"color\"] = \"lightgray\"\n",
    "df.loc[df[\"pop_est\"] > 1e8, \"color\"] = \"red\"\n",
    "ax = df.plot(figsize=(8,4), color=df[\"color\"])\n",
    "ax.set_axis_off()"
   ]
  },
  {
   "cell_type": "markdown",
   "id": "39c95c23",
   "metadata": {},
   "source": [
    "### Shapely shapes"
   ]
  },
  {
   "cell_type": "code",
   "execution_count": null,
   "id": "61716db9",
   "metadata": {},
   "outputs": [],
   "source": [
    "p1 = Polygon([(0,0), (1.2,1), (2,0)])   # triangle\n",
    "p2 = box(0,0,1,1)\n",
    "p3 = Point(5,5)\n",
    "p4 = p3.buffer(1)\n",
    "p4"
   ]
  },
  {
   "cell_type": "code",
   "execution_count": null,
   "id": "d1c5f9f7",
   "metadata": {},
   "outputs": [],
   "source": [
    "p1.union(p2)   # any point that is in either (OR)"
   ]
  },
  {
   "cell_type": "code",
   "execution_count": null,
   "id": "8a2d3357",
   "metadata": {},
   "outputs": [],
   "source": [
    "p1.intersection(p2)   # any point that is in both (AND)"
   ]
  },
  {
   "cell_type": "code",
   "execution_count": null,
   "id": "153a6b72",
   "metadata": {},
   "outputs": [],
   "source": [
    "p1.difference(p2)   # subtraction"
   ]
  },
  {
   "cell_type": "code",
   "execution_count": null,
   "id": "9082b54a",
   "metadata": {},
   "outputs": [],
   "source": [
    "p2.difference(p1)   # subtraction"
   ]
  },
  {
   "cell_type": "code",
   "execution_count": null,
   "id": "59493a5b",
   "metadata": {},
   "outputs": [],
   "source": [
    "p1.intersects(p2) # do they overlap?"
   ]
  },
  {
   "cell_type": "code",
   "execution_count": null,
   "id": "7a87b70f",
   "metadata": {},
   "outputs": [],
   "source": [
    "# is the point \"near\" (<6 units) the triangle?\n",
    "p1.union(p3.buffer(6))"
   ]
  },
  {
   "cell_type": "code",
   "execution_count": null,
   "id": "e04daa60",
   "metadata": {},
   "outputs": [],
   "source": [
    "p1.intersects(p3.buffer(6))"
   ]
  },
  {
   "cell_type": "code",
   "execution_count": null,
   "id": "410b08cf",
   "metadata": {},
   "outputs": [],
   "source": [
    "b = box(-10.67,34.5,31.55,71.05)\n",
    "\n",
    "# attempt 1\n",
    "df[df.intersects(b)].plot()"
   ]
  },
  {
   "cell_type": "code",
   "execution_count": null,
   "id": "108b8b8a",
   "metadata": {},
   "outputs": [],
   "source": [
    "eur1 = df.intersection(b)\n",
    "eur1.plot()"
   ]
  },
  {
   "cell_type": "code",
   "execution_count": null,
   "id": "55a76a00",
   "metadata": {},
   "outputs": [],
   "source": [
    "eur2 = eur1[~eur1.is_empty]\n",
    "eur2"
   ]
  },
  {
   "cell_type": "code",
   "execution_count": null,
   "id": "08c59df7",
   "metadata": {},
   "outputs": [],
   "source": [
    "eur2.plot()"
   ]
  },
  {
   "cell_type": "code",
   "execution_count": null,
   "id": "2e82a9c6",
   "metadata": {},
   "outputs": [],
   "source": []
  }
 ],
 "metadata": {
  "kernelspec": {
   "display_name": "Python 3 (ipykernel)",
   "language": "python",
   "name": "python3"
  },
  "language_info": {
   "codemirror_mode": {
    "name": "ipython",
    "version": 3
   },
   "file_extension": ".py",
   "mimetype": "text/x-python",
   "name": "python",
   "nbconvert_exporter": "python",
   "pygments_lexer": "ipython3",
   "version": "3.9.13"
  }
 },
 "nbformat": 4,
 "nbformat_minor": 5
}
