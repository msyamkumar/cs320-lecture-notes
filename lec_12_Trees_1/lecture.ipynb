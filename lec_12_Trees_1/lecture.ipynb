{
 "cells": [
  {
   "cell_type": "markdown",
   "id": "d684d88e-e96d-4392-b4d6-92d3f1669b32",
   "metadata": {},
   "source": [
    "# Binary Search Trees"
   ]
  },
  {
   "cell_type": "markdown",
   "id": "8da93b35",
   "metadata": {},
   "source": [
    "### Review **tree** terminology:\n",
    "\n",
    "- **Tree**: DAG (directed acyclic graph) with exactly one **root** (has no parents) and all other nodes have exactly one parent\n",
    "- **root**: any node with no parents\n",
    "- **leaf**: any node with no children"
   ]
  },
  {
   "cell_type": "code",
   "execution_count": null,
   "id": "66ba808a",
   "metadata": {},
   "outputs": [],
   "source": [
    "from graphviz import Graph, Digraph"
   ]
  },
  {
   "cell_type": "markdown",
   "id": "8b758d75",
   "metadata": {},
   "source": [
    "### Is this a tree? If not, how do we make it into a tree?"
   ]
  },
  {
   "cell_type": "code",
   "execution_count": null,
   "id": "d62b95dc-9f28-4e6e-a3a0-e0aac6e6eb3b",
   "metadata": {},
   "outputs": [],
   "source": [
    "g = Digraph()\n",
    "g.edge(\"1\", \"2\", label=\"left\")\n",
    "g.edge(\"1\", \"3\", label=\"right\")\n",
    "g"
   ]
  },
  {
   "cell_type": "markdown",
   "id": "aa0f43f8",
   "metadata": {},
   "source": [
    "### Special cases of trees\n",
    "- **Linked list**: a tree, where each node has *at most* one child\n",
    "- **Binary tree**:  a tree, where each has *at most* two children"
   ]
  },
  {
   "cell_type": "markdown",
   "id": "61015756",
   "metadata": {},
   "source": [
    "### Review: recursive functions\n",
    "1. *Category 1*: functions that return some computation\n",
    "2. *Category 2*: functions that do some action (for example: printing, appending, etc.,)"
   ]
  },
  {
   "cell_type": "markdown",
   "id": "a6b914b2",
   "metadata": {},
   "source": [
    "## Binary tree"
   ]
  },
  {
   "cell_type": "code",
   "execution_count": null,
   "id": "847dc240-ca01-4f1a-a4d7-13fed4fe3995",
   "metadata": {},
   "outputs": [],
   "source": [
    "# TODO: define Node class\n",
    "class Node:\n",
    "    def __init__(self, label):\n",
    "        self.label = label\n",
    "        self.left = None\n",
    "        self.right = None\n",
    "    \n",
    "\n",
    "    # Category 2 recursive function\n",
    "    def dump(self, prefix=\"\", suffix=\"\"):\n",
    "        \"\"\"\n",
    "        prints out name of every node in the tree with some basic formatting\n",
    "        \"\"\"\n",
    "        # TODO: what is the simplest example in this case?\n",
    "        print(prefix, self.label, suffix)\n",
    "        # recurse left\n",
    "        if self.left != None:\n",
    "            self.left.dump(prefix+\"\\t\", \"(LEFT)\")\n",
    "        # recurse right\n",
    "        if self.right != None:\n",
    "            self.right.dump(prefix+\"\\t\", \"(RIGHT)\")\n",
    "            \n",
    "    # Category 1: functions that return some computation\n",
    "    def search(self, target):\n",
    "        \"\"\"\n",
    "        returns True/False, if target is somewhere in the tree\n",
    "        \"\"\"\n",
    "        if target == self.label:\n",
    "            return True\n",
    "\n",
    "        if self.left != None:\n",
    "            if self.left.search(target):\n",
    "                return True\n",
    "        \n",
    "        if self.right != None:\n",
    "            if self.right.search(target):\n",
    "                return True\n",
    "        \n",
    "        return False\n",
    "\n",
    "node1 = Node(1)\n",
    "node2 = Node(2)\n",
    "node3 = Node(3)\n",
    "node4 = Node(4)\n",
    "node1.left = node2\n",
    "node1.right = node3\n",
    "node2.left = node4\n",
    "node1.dump()"
   ]
  },
  {
   "cell_type": "markdown",
   "id": "e81ed3ef",
   "metadata": {},
   "source": [
    "### Let's come up with testcases for `search(...)`"
   ]
  },
  {
   "cell_type": "code",
   "execution_count": null,
   "id": "c5248d0a",
   "metadata": {},
   "outputs": [],
   "source": [
    "node1.search(1) # should be True\n",
    "node1.search(2) # should be True\n",
    "node1.search(3) # should be True\n",
    "node1.search(4) # should be True\n",
    "node1.search(5) # should be False"
   ]
  },
  {
   "cell_type": "markdown",
   "id": "c05e82e7",
   "metadata": {},
   "source": [
    "#### How many times is search(...) called, in the worst case?  \n",
    "- Assume tree has *N* nodes.  \n",
    "- Complexity is: ???"
   ]
  },
  {
   "cell_type": "markdown",
   "id": "3c372194",
   "metadata": {},
   "source": [
    "## Binary Search Tree\n",
    "\n",
    "- special case of *Binary trees*\n",
    "- **BST rule**: any node's value is bigger than every value in its left subtree, and and smaller than every value in its right subtree\n",
    "- TODO: write an efficient search for a BST (better complexity than O(N)\n",
    "- TODO: write a method to add values to a BST, while preserving the BST rule"
   ]
  },
  {
   "cell_type": "code",
   "execution_count": null,
   "id": "894a39d2-5e3b-4178-bc1b-dedf0b5a86c0",
   "metadata": {},
   "outputs": [],
   "source": [
    "class BSTNode:\n",
    "    def __init__(self, label):\n",
    "        self.label = label\n",
    "        self.left = None\n",
    "        self.right = None\n",
    "    \n",
    "    # situation 2: a function that does something (e.g., printing)\n",
    "    # prints out name of every node in the tree\n",
    "    def dump(self, prefix=\"\", suffix=\"\"):\n",
    "        print(prefix, self.label, suffix)\n",
    "        if self.left != None:\n",
    "            self.left.dump(prefix+\"\\t\", \"(LEFT)\")\n",
    "        if self.right != None:\n",
    "            self.right.dump(prefix+\"\\t\", \"(RIGHT)\")\n",
    "            \n",
    "    # situation 1: a function that returns something\n",
    "    # return True/False, if target is somewhere in the tree\n",
    "    def search(self, target):\n",
    "        if target == self.label:\n",
    "            return True\n",
    "        elif target < self.label:\n",
    "            if self.left != None:\n",
    "                if self.left.search(target):\n",
    "                    return True\n",
    "        elif target > self.label:\n",
    "            if self.right != None:\n",
    "                if self.right.search(target):\n",
    "                    return True\n",
    "        \n",
    "        return False"
   ]
  },
  {
   "cell_type": "markdown",
   "id": "1d6935d8",
   "metadata": {},
   "source": [
    "### Does this tree satisfy BST rule? If not, which node violates it and how can we fix its position?\n",
    "- Let's not displace other children node to find a new spot for the node in violation of BST rule."
   ]
  },
  {
   "cell_type": "code",
   "execution_count": null,
   "id": "7047d184",
   "metadata": {},
   "outputs": [],
   "source": [
    "root = BSTNode(10)\n",
    "root.left = BSTNode(2)\n",
    "root.left.left = BSTNode(1)\n",
    "root.left.right = BSTNode(4)\n",
    "root.left.right.left = BSTNode(3)\n",
    "root.right = BSTNode(15)\n",
    "root.right.left = BSTNode(12)\n",
    "root.right.right = BSTNode(19)\n",
    "root.right.left.left = BSTNode(8)\n",
    "root.dump()"
   ]
  },
  {
   "cell_type": "markdown",
   "id": "1d56266b",
   "metadata": {},
   "source": [
    "### BST after fix"
   ]
  },
  {
   "cell_type": "code",
   "execution_count": null,
   "id": "dfbfc6e8",
   "metadata": {},
   "outputs": [],
   "source": [
    "root = BSTNode(10)\n",
    "root.left = BSTNode(2)\n",
    "root.left.left = BSTNode(1)\n",
    "root.left.right = BSTNode(4)\n",
    "root.left.right.right = BSTNode(8)\n",
    "root.left.right.left = BSTNode(3)\n",
    "root.right = BSTNode(15)\n",
    "root.right.left = BSTNode(12)\n",
    "root.right.right = BSTNode(19)\n",
    "#root.right.left.left = Node(8)\n",
    "root.dump()"
   ]
  },
  {
   "cell_type": "code",
   "execution_count": null,
   "id": "61b93235-2702-474d-a601-e8fcbe5c3bcb",
   "metadata": {},
   "outputs": [],
   "source": [
    "# TODO: update \"search(...)\" definition for BSTNode"
   ]
  },
  {
   "cell_type": "markdown",
   "id": "77d45804",
   "metadata": {},
   "source": [
    "### Testcases for BST `search(...)`"
   ]
  },
  {
   "cell_type": "code",
   "execution_count": null,
   "id": "e2ef8e73",
   "metadata": {},
   "outputs": [],
   "source": [
    "root.search(10) # should be True\n",
    "root.search(11) # should be False\n",
    "root.search(19) # should be True\n",
    "root.search(5)  # should be False"
   ]
  },
  {
   "cell_type": "markdown",
   "id": "6ae7786b",
   "metadata": {},
   "source": [
    "#### How many times is BST search(...) called, in the worst case?  \n",
    "- Assume tree has *N* nodes.  \n",
    "- Complexity is: ???"
   ]
  },
  {
   "cell_type": "code",
   "execution_count": null,
   "id": "bd5aa50f",
   "metadata": {},
   "outputs": [],
   "source": []
  }
 ],
 "metadata": {
  "kernelspec": {
   "display_name": "Python 3 (ipykernel)",
   "language": "python",
   "name": "python3"
  },
  "language_info": {
   "codemirror_mode": {
    "name": "ipython",
    "version": 3
   },
   "file_extension": ".py",
   "mimetype": "text/x-python",
   "name": "python",
   "nbconvert_exporter": "python",
   "pygments_lexer": "ipython3",
   "version": "3.9.13"
  }
 },
 "nbformat": 4,
 "nbformat_minor": 5
}
