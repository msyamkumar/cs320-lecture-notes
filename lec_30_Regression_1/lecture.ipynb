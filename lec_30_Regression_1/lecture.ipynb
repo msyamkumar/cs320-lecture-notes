{
 "cells": [
  {
   "cell_type": "code",
   "execution_count": 1,
   "id": "e6f50cc3",
   "metadata": {},
   "outputs": [],
   "source": [
    "import os\n",
    "import pandas as pd\n",
    "import geopandas as gpd\n",
    "\n",
    "# new import statements\n",
    "from sklearn.linear_model import LinearRegression\n",
    "import sklearn\n",
    "from sklearn.model_selection import train_test_split\n",
    "from sklearn.model_selection import cross_val_score"
   ]
  },
  {
   "cell_type": "markdown",
   "id": "9e33d56e",
   "metadata": {},
   "source": [
    "# ML overview"
   ]
  },
  {
   "cell_type": "markdown",
   "id": "570b4253",
   "metadata": {},
   "source": [
    "#### Covid deaths analysis\n",
    "\n",
    "- Source: https://data.dhsgis.wi.gov/\n",
    "    - Specifically, let's analyze \"COVID-19 Data by Census Tract V2\": https://data.dhsgis.wi.gov/datasets/wi-dhs::covid-19-data-by-census-tract-v2/explore\n",
    "        - Status Flag Values: -999: Census tracts, municipalities, school districts, and zip codes with 0–4 aggregate counts for any data have been suppressed. County data with 0-4 aggregate counts by demographic factors (e.g., by age group, race, ethnicity) have been suppressed."
   ]
  },
  {
   "cell_type": "code",
   "execution_count": 2,
   "id": "696eec18",
   "metadata": {},
   "outputs": [
    {
     "name": "stdout",
     "output_type": "stream",
     "text": [
      "Reading local file.\n"
     ]
    }
   ],
   "source": [
    "# Do not reptitivitely download large datasets\n",
    "# Save a local copy instead\n",
    "dataset_file = \"covid.geojson\"\n",
    "if os.path.exists(dataset_file):\n",
    "    print(\"Reading local file.\")\n",
    "    df = gpd.read_file(dataset_file)\n",
    "else:\n",
    "    print(\"Downloading the dataset.\")\n",
    "    url = \"https://dhsgis.wi.gov/server/rest/services/DHS_COVID19/COVID19_WI_V2/MapServer/9/query?outFields=*&where=1%3D1&f=geojson\"\n",
    "    df = gpd.read_file(url)\n",
    "    df.to_file(dataset_file)"
   ]
  },
  {
   "cell_type": "code",
   "execution_count": 3,
   "id": "c3e6454f",
   "metadata": {},
   "outputs": [
    {
     "data": {
      "text/html": [
       "<div>\n",
       "<style scoped>\n",
       "    .dataframe tbody tr th:only-of-type {\n",
       "        vertical-align: middle;\n",
       "    }\n",
       "\n",
       "    .dataframe tbody tr th {\n",
       "        vertical-align: top;\n",
       "    }\n",
       "\n",
       "    .dataframe thead th {\n",
       "        text-align: right;\n",
       "    }\n",
       "</style>\n",
       "<table border=\"1\" class=\"dataframe\">\n",
       "  <thead>\n",
       "    <tr style=\"text-align: right;\">\n",
       "      <th></th>\n",
       "      <th>RptDt</th>\n",
       "      <th>GEOID</th>\n",
       "      <th>GEOName</th>\n",
       "      <th>POS_CUM_CP</th>\n",
       "      <th>POS_NEW_CP</th>\n",
       "      <th>POS_7DAYAVG_CP</th>\n",
       "      <th>DTH_CUM_CP</th>\n",
       "      <th>DTH_NEW_CP</th>\n",
       "      <th>DTH_7DAYAVG_CP</th>\n",
       "      <th>DTH_OVER_30DAYS_CP</th>\n",
       "      <th>...</th>\n",
       "      <th>HOSP_NO_CP</th>\n",
       "      <th>HOSP_UNK_CP</th>\n",
       "      <th>Date</th>\n",
       "      <th>POP</th>\n",
       "      <th>POP_MOE</th>\n",
       "      <th>OBJECTID</th>\n",
       "      <th>GEO</th>\n",
       "      <th>Shape.STArea()</th>\n",
       "      <th>Shape.STLength()</th>\n",
       "      <th>geometry</th>\n",
       "    </tr>\n",
       "  </thead>\n",
       "  <tbody>\n",
       "    <tr>\n",
       "      <th>0</th>\n",
       "      <td>1680894000000</td>\n",
       "      <td>55001950100</td>\n",
       "      <td>NaN</td>\n",
       "      <td>1032</td>\n",
       "      <td>1</td>\n",
       "      <td>0.43</td>\n",
       "      <td>13</td>\n",
       "      <td>0</td>\n",
       "      <td>0.0</td>\n",
       "      <td>0</td>\n",
       "      <td>...</td>\n",
       "      <td>620</td>\n",
       "      <td>361</td>\n",
       "      <td>1680760800000</td>\n",
       "      <td>2870</td>\n",
       "      <td>66.0</td>\n",
       "      <td>3405</td>\n",
       "      <td>Census tract</td>\n",
       "      <td>4.894706e+08</td>\n",
       "      <td>108089.745033</td>\n",
       "      <td>POLYGON ((-89.72475 44.24769, -89.72492 44.247...</td>\n",
       "    </tr>\n",
       "    <tr>\n",
       "      <th>1</th>\n",
       "      <td>1680894000000</td>\n",
       "      <td>55001950201</td>\n",
       "      <td>NaN</td>\n",
       "      <td>361</td>\n",
       "      <td>0</td>\n",
       "      <td>0.29</td>\n",
       "      <td>5</td>\n",
       "      <td>0</td>\n",
       "      <td>0.0</td>\n",
       "      <td>0</td>\n",
       "      <td>...</td>\n",
       "      <td>168</td>\n",
       "      <td>170</td>\n",
       "      <td>1680760800000</td>\n",
       "      <td>1244</td>\n",
       "      <td>96.0</td>\n",
       "      <td>3406</td>\n",
       "      <td>Census tract</td>\n",
       "      <td>2.277343e+08</td>\n",
       "      <td>97033.719846</td>\n",
       "      <td>POLYGON ((-89.73892 43.98186, -89.73925 43.982...</td>\n",
       "    </tr>\n",
       "    <tr>\n",
       "      <th>2</th>\n",
       "      <td>1680894000000</td>\n",
       "      <td>55001950202</td>\n",
       "      <td>NaN</td>\n",
       "      <td>669</td>\n",
       "      <td>0</td>\n",
       "      <td>0.00</td>\n",
       "      <td>8</td>\n",
       "      <td>0</td>\n",
       "      <td>0.0</td>\n",
       "      <td>0</td>\n",
       "      <td>...</td>\n",
       "      <td>388</td>\n",
       "      <td>260</td>\n",
       "      <td>1680760800000</td>\n",
       "      <td>2599</td>\n",
       "      <td>146.0</td>\n",
       "      <td>3113</td>\n",
       "      <td>Census tract</td>\n",
       "      <td>1.004937e+09</td>\n",
       "      <td>162456.681081</td>\n",
       "      <td>POLYGON ((-89.90890 44.17627, -89.90907 44.176...</td>\n",
       "    </tr>\n",
       "    <tr>\n",
       "      <th>3</th>\n",
       "      <td>1680894000000</td>\n",
       "      <td>55001950400</td>\n",
       "      <td>NaN</td>\n",
       "      <td>1434</td>\n",
       "      <td>0</td>\n",
       "      <td>0.29</td>\n",
       "      <td>26</td>\n",
       "      <td>0</td>\n",
       "      <td>0.0</td>\n",
       "      <td>0</td>\n",
       "      <td>...</td>\n",
       "      <td>698</td>\n",
       "      <td>649</td>\n",
       "      <td>1680760800000</td>\n",
       "      <td>4533</td>\n",
       "      <td>183.0</td>\n",
       "      <td>3114</td>\n",
       "      <td>Census tract</td>\n",
       "      <td>4.567996e+08</td>\n",
       "      <td>121861.166562</td>\n",
       "      <td>POLYGON ((-89.73892 43.98186, -89.75025 43.981...</td>\n",
       "    </tr>\n",
       "    <tr>\n",
       "      <th>4</th>\n",
       "      <td>1680894000000</td>\n",
       "      <td>55001950501</td>\n",
       "      <td>NaN</td>\n",
       "      <td>420</td>\n",
       "      <td>0</td>\n",
       "      <td>0.43</td>\n",
       "      <td>0</td>\n",
       "      <td>0</td>\n",
       "      <td>0.0</td>\n",
       "      <td>0</td>\n",
       "      <td>...</td>\n",
       "      <td>171</td>\n",
       "      <td>228</td>\n",
       "      <td>1680760800000</td>\n",
       "      <td>1603</td>\n",
       "      <td>133.0</td>\n",
       "      <td>3115</td>\n",
       "      <td>Census tract</td>\n",
       "      <td>2.575669e+08</td>\n",
       "      <td>77494.089221</td>\n",
       "      <td>POLYGON ((-89.93773 43.96630, -89.93779 43.966...</td>\n",
       "    </tr>\n",
       "  </tbody>\n",
       "</table>\n",
       "<p>5 rows × 90 columns</p>\n",
       "</div>"
      ],
      "text/plain": [
       "           RptDt        GEOID  GEOName  POS_CUM_CP  POS_NEW_CP  \\\n",
       "0  1680894000000  55001950100      NaN        1032           1   \n",
       "1  1680894000000  55001950201      NaN         361           0   \n",
       "2  1680894000000  55001950202      NaN         669           0   \n",
       "3  1680894000000  55001950400      NaN        1434           0   \n",
       "4  1680894000000  55001950501      NaN         420           0   \n",
       "\n",
       "   POS_7DAYAVG_CP  DTH_CUM_CP  DTH_NEW_CP  DTH_7DAYAVG_CP  DTH_OVER_30DAYS_CP  \\\n",
       "0            0.43          13           0             0.0                   0   \n",
       "1            0.29           5           0             0.0                   0   \n",
       "2            0.00           8           0             0.0                   0   \n",
       "3            0.29          26           0             0.0                   0   \n",
       "4            0.43           0           0             0.0                   0   \n",
       "\n",
       "   ...  HOSP_NO_CP  HOSP_UNK_CP           Date   POP  POP_MOE  OBJECTID  \\\n",
       "0  ...         620          361  1680760800000  2870     66.0      3405   \n",
       "1  ...         168          170  1680760800000  1244     96.0      3406   \n",
       "2  ...         388          260  1680760800000  2599    146.0      3113   \n",
       "3  ...         698          649  1680760800000  4533    183.0      3114   \n",
       "4  ...         171          228  1680760800000  1603    133.0      3115   \n",
       "\n",
       "            GEO  Shape.STArea()  Shape.STLength()  \\\n",
       "0  Census tract    4.894706e+08     108089.745033   \n",
       "1  Census tract    2.277343e+08      97033.719846   \n",
       "2  Census tract    1.004937e+09     162456.681081   \n",
       "3  Census tract    4.567996e+08     121861.166562   \n",
       "4  Census tract    2.575669e+08      77494.089221   \n",
       "\n",
       "                                            geometry  \n",
       "0  POLYGON ((-89.72475 44.24769, -89.72492 44.247...  \n",
       "1  POLYGON ((-89.73892 43.98186, -89.73925 43.982...  \n",
       "2  POLYGON ((-89.90890 44.17627, -89.90907 44.176...  \n",
       "3  POLYGON ((-89.73892 43.98186, -89.75025 43.981...  \n",
       "4  POLYGON ((-89.93773 43.96630, -89.93779 43.966...  \n",
       "\n",
       "[5 rows x 90 columns]"
      ]
     },
     "execution_count": 3,
     "metadata": {},
     "output_type": "execute_result"
    }
   ],
   "source": [
    "df.head()"
   ]
  },
  {
   "cell_type": "code",
   "execution_count": 4,
   "id": "905da51e",
   "metadata": {},
   "outputs": [
    {
     "data": {
      "text/plain": [
       "Index(['RptDt', 'GEOID', 'GEOName', 'POS_CUM_CP', 'POS_NEW_CP',\n",
       "       'POS_7DAYAVG_CP', 'DTH_CUM_CP', 'DTH_NEW_CP', 'DTH_7DAYAVG_CP',\n",
       "       'DTH_OVER_30DAYS_CP', 'DTH_CP_Daily', 'TESTS_POS_CONF',\n",
       "       'TESTS_POS_CONF_NEW', 'TESTS_POS_CONF_7DAYAVG', 'PercentNAATPos',\n",
       "       'TESTS_CUM', 'TESTS_NEW', 'TESTS_7DAYAVG', 'POS_CUM_CONF',\n",
       "       'POS_NEW_CONF', 'POS_7DAYAVG_CONF', 'POS_CUM_PROB', 'POS_NEW_PROB',\n",
       "       'POS_7DAYAVG_PROB', 'DTH_CUM_CONF', 'DTH_NEW_CONF', 'DTH_7DAYAVG_CONF',\n",
       "       'DTH_CONF_Daily', 'DTH_CUM_PROB', 'DTH_NEW_PROB', 'DTH_7DAYAVG_PROB',\n",
       "       'DTH_PROB_Daily', 'POS_MALE_CP', 'POS_FEM_CP', 'POS_OTH_CP',\n",
       "       'POS_0_9_CP', 'POS_10_19_CP', 'POS_20_29_CP', 'POS_30_39_CP',\n",
       "       'POS_40_49_CP', 'POS_50_59_CP', 'POS_60_69_CP', 'POS_70_79_CP',\n",
       "       'POS_80_89_CP', 'POS_90_CP', 'DTHS_FEM_CP', 'DTHS_MALE_CP',\n",
       "       'DTHS_OTH_CP', 'DTHS_0_9_CP', 'DTHS_10_19_CP', 'DTHS_20_29_CP',\n",
       "       'DTHS_30_39_CP', 'DTHS_40_49_CP', 'DTHS_50_59_CP', 'DTHS_60_69_CP',\n",
       "       'DTHS_70_79_CP', 'DTHS_80_89_CP', 'DTHS_90_CP', 'POS_AIAN_CP',\n",
       "       'POS_ASN_CP', 'POS_BLK_CP', 'POS_WHT_CP', 'POS_MLTOTH_CP', 'POS_UNK_CP',\n",
       "       'POS_E_HSP_CP', 'POS_E_NHSP_CP', 'POS_E_UNK_CP', 'DTH_AIAN_CP',\n",
       "       'DTH_ASN_CP', 'DTH_BLK_CP', 'DTH_WHT_CP', 'DTH_MLTOTH_CP', 'DTH_UNK_CP',\n",
       "       'DTH_E_HSP_CP', 'DTH_E_NHSP_CP', 'DTH_E_UNK_CP', 'POS_HC_Y_CP',\n",
       "       'POS_HC_N_CP', 'POS_HC_UNK_CP', 'HOSP_YES_CP', 'HOSP_NO_CP',\n",
       "       'HOSP_UNK_CP', 'Date', 'POP', 'POP_MOE', 'OBJECTID', 'GEO',\n",
       "       'Shape.STArea()', 'Shape.STLength()', 'geometry'],\n",
       "      dtype='object')"
      ]
     },
     "execution_count": 4,
     "metadata": {},
     "output_type": "execute_result"
    }
   ],
   "source": [
    "# Explore the columns\n",
    "df.columns"
   ]
  },
  {
   "cell_type": "code",
   "execution_count": 5,
   "id": "a3434aba",
   "metadata": {},
   "outputs": [
    {
     "data": {
      "text/plain": [
       "<AxesSubplot:>"
      ]
     },
     "execution_count": 5,
     "metadata": {},
     "output_type": "execute_result"
    },
    {
     "data": {
      "image/png": "[encoded data removed]",
      "text/plain": [
       "<Figure size 640x480 with 1 Axes>"
      ]
     },
     "metadata": {},
     "output_type": "display_data"
    }
   ],
   "source": [
    "# Create a geographic plot\n",
    "df.plot()"
   ]
  },
  {
   "cell_type": "markdown",
   "id": "e3e73632",
   "metadata": {},
   "source": [
    "### Predicting \"DTH_CUM_CP\""
   ]
  },
  {
   "cell_type": "markdown",
   "id": "43cebffa",
   "metadata": {},
   "source": [
    "### How can we get a clean dataset of COVID deaths in WI?"
   ]
  },
  {
   "cell_type": "code",
   "execution_count": 6,
   "id": "fa2f30ae",
   "metadata": {},
   "outputs": [],
   "source": [
    "# Replace -999 with 2; 2 is between 0-4; random choice instead of using 0\n",
    "df = df.replace(-999, 2) \n",
    "# we must communicate in final results what percent of values were guessed (imputed)"
   ]
  },
  {
   "cell_type": "markdown",
   "id": "4cff709d",
   "metadata": {},
   "source": [
    "How would we know if the data is now clean?"
   ]
  },
  {
   "cell_type": "code",
   "execution_count": 7,
   "id": "950c2041",
   "metadata": {},
   "outputs": [
    {
     "data": {
      "text/plain": [
       "<AxesSubplot:xlabel='POP', ylabel='DTH_CUM_CP'>"
      ]
     },
     "execution_count": 7,
     "metadata": {},
     "output_type": "execute_result"
    },
    {
     "data": {
      "image/png": "[encoded data removed]",
      "text/plain": [
       "<Figure size 640x480 with 1 Axes>"
      ]
     },
     "metadata": {},
     "output_type": "display_data"
    }
   ],
   "source": [
    "# Create a scatter plot to visualize relationship between \"POP\" and \"DTH_CUM_CP\"\n",
    "df.plot.scatter(x=\"POP\", y=\"DTH_CUM_CP\")"
   ]
  },
  {
   "cell_type": "markdown",
   "id": "4073a940",
   "metadata": {},
   "source": [
    "Which points are concerning? Let's take a closer look.\n",
    "\n",
    "#### Which rows have \"DTH_CUM_CP\" greater than 300?"
   ]
  },
  {
   "cell_type": "code",
   "execution_count": 8,
   "id": "a655c465",
   "metadata": {},
   "outputs": [
    {
     "data": {
      "text/html": [
       "<div>\n",
       "<style scoped>\n",
       "    .dataframe tbody tr th:only-of-type {\n",
       "        vertical-align: middle;\n",
       "    }\n",
       "\n",
       "    .dataframe tbody tr th {\n",
       "        vertical-align: top;\n",
       "    }\n",
       "\n",
       "    .dataframe thead th {\n",
       "        text-align: right;\n",
       "    }\n",
       "</style>\n",
       "<table border=\"1\" class=\"dataframe\">\n",
       "  <thead>\n",
       "    <tr style=\"text-align: right;\">\n",
       "      <th></th>\n",
       "      <th>RptDt</th>\n",
       "      <th>GEOID</th>\n",
       "      <th>GEOName</th>\n",
       "      <th>POS_CUM_CP</th>\n",
       "      <th>POS_NEW_CP</th>\n",
       "      <th>POS_7DAYAVG_CP</th>\n",
       "      <th>DTH_CUM_CP</th>\n",
       "      <th>DTH_NEW_CP</th>\n",
       "      <th>DTH_7DAYAVG_CP</th>\n",
       "      <th>DTH_OVER_30DAYS_CP</th>\n",
       "      <th>...</th>\n",
       "      <th>HOSP_NO_CP</th>\n",
       "      <th>HOSP_UNK_CP</th>\n",
       "      <th>Date</th>\n",
       "      <th>POP</th>\n",
       "      <th>POP_MOE</th>\n",
       "      <th>OBJECTID</th>\n",
       "      <th>GEO</th>\n",
       "      <th>Shape.STArea()</th>\n",
       "      <th>Shape.STLength()</th>\n",
       "      <th>geometry</th>\n",
       "    </tr>\n",
       "  </thead>\n",
       "  <tbody>\n",
       "    <tr>\n",
       "      <th>1392</th>\n",
       "      <td>1680894000000</td>\n",
       "      <td>TRACT N/A</td>\n",
       "      <td>NaN</td>\n",
       "      <td>51289</td>\n",
       "      <td>15</td>\n",
       "      <td>17.29</td>\n",
       "      <td>466</td>\n",
       "      <td>1</td>\n",
       "      <td>0.14</td>\n",
       "      <td>0</td>\n",
       "      <td>...</td>\n",
       "      <td>22536</td>\n",
       "      <td>26772</td>\n",
       "      <td>1680760800000</td>\n",
       "      <td>0</td>\n",
       "      <td>NaN</td>\n",
       "      <td>1014</td>\n",
       "      <td>Census tract</td>\n",
       "      <td>466.180086</td>\n",
       "      <td>80.071546</td>\n",
       "      <td>POLYGON ((-87.04159 44.13490, -87.04161 44.134...</td>\n",
       "    </tr>\n",
       "  </tbody>\n",
       "</table>\n",
       "<p>1 rows × 90 columns</p>\n",
       "</div>"
      ],
      "text/plain": [
       "              RptDt      GEOID  GEOName  POS_CUM_CP  POS_NEW_CP  \\\n",
       "1392  1680894000000  TRACT N/A      NaN       51289          15   \n",
       "\n",
       "      POS_7DAYAVG_CP  DTH_CUM_CP  DTH_NEW_CP  DTH_7DAYAVG_CP  \\\n",
       "1392           17.29         466           1            0.14   \n",
       "\n",
       "      DTH_OVER_30DAYS_CP  ...  HOSP_NO_CP  HOSP_UNK_CP           Date  POP  \\\n",
       "1392                   0  ...       22536        26772  1680760800000    0   \n",
       "\n",
       "      POP_MOE  OBJECTID           GEO  Shape.STArea()  Shape.STLength()  \\\n",
       "1392      NaN      1014  Census tract      466.180086         80.071546   \n",
       "\n",
       "                                               geometry  \n",
       "1392  POLYGON ((-87.04159 44.13490, -87.04161 44.134...  \n",
       "\n",
       "[1 rows x 90 columns]"
      ]
     },
     "execution_count": 8,
     "metadata": {},
     "output_type": "execute_result"
    }
   ],
   "source": [
    "df[df[\"DTH_CUM_CP\"] > 300]"
   ]
  },
  {
   "cell_type": "markdown",
   "id": "d377143e",
   "metadata": {},
   "source": [
    "#### Valid rows have \"GEOID\" that only contains digits\n",
    "\n",
    "Using `str` methods to perform filtering: `str.fullmatch` does a full string match given a reg-ex. Because it does full string match anchor characters (`^`, `$`) won't be needed."
   ]
  },
  {
   "cell_type": "code",
   "execution_count": 9,
   "id": "529781db",
   "metadata": {},
   "outputs": [
    {
     "data": {
      "text/plain": [
       "0       55001950100\n",
       "1       55001950201\n",
       "2       55001950202\n",
       "3       55001950400\n",
       "4       55001950501\n",
       "           ...     \n",
       "1388    55141011400\n",
       "1389    55141011500\n",
       "1390    55141011600\n",
       "1391    55141011700\n",
       "1392      TRACT N/A\n",
       "Name: GEOID, Length: 1393, dtype: object"
      ]
     },
     "execution_count": 9,
     "metadata": {},
     "output_type": "execute_result"
    }
   ],
   "source": [
    "df[\"GEOID\"]"
   ]
  },
  {
   "cell_type": "code",
   "execution_count": 10,
   "id": "af16925b",
   "metadata": {},
   "outputs": [
    {
     "data": {
      "text/plain": [
       "0        True\n",
       "1        True\n",
       "2        True\n",
       "3        True\n",
       "4        True\n",
       "        ...  \n",
       "1388     True\n",
       "1389     True\n",
       "1390     True\n",
       "1391     True\n",
       "1392    False\n",
       "Name: GEOID, Length: 1393, dtype: bool"
      ]
     },
     "execution_count": 10,
     "metadata": {},
     "output_type": "execute_result"
    }
   ],
   "source": [
    "df[\"GEOID\"].str.fullmatch(r\"\\d+\")"
   ]
  },
  {
   "cell_type": "code",
   "execution_count": 11,
   "id": "1d583d06",
   "metadata": {},
   "outputs": [
    {
     "data": {
      "text/plain": [
       "<AxesSubplot:xlabel='POP', ylabel='DTH_CUM_CP'>"
      ]
     },
     "execution_count": 11,
     "metadata": {},
     "output_type": "execute_result"
    },
    {
     "data": {
      "image/png": "[encoded data removed]",
      "text/plain": [
       "<Figure size 640x480 with 1 Axes>"
      ]
     },
     "metadata": {},
     "output_type": "display_data"
    }
   ],
   "source": [
    "df = df[df[\"GEOID\"].str.fullmatch(r\"\\d+\")]\n",
    "df.plot.scatter(x=\"POP\", y=\"DTH_CUM_CP\")"
   ]
  },
  {
   "cell_type": "markdown",
   "id": "1be50600",
   "metadata": {},
   "source": [
    "### How can we train/fit models to known data to predict unknowns?\n",
    "- Feature(s) => Predictions\n",
    "    - Population => Deaths\n",
    "    - Cases => Deaths\n",
    "    - Cases by Age => Deaths\n",
    "    \n",
    "- General structure for fitting models:\n",
    "    ```python\n",
    "    model = <some model>\n",
    "    model.fit(X, y)\n",
    "    y = model.predict(X)\n",
    "    ```\n",
    "    - where `X` needs to be a matrix or a `DataFrame` and `y` needs to be an array (vector) or a `Series`\n",
    "    - after fitting, `model` object instance stores the information about relationship between features (x values) and predictions (y values)\n",
    "    - `predict` returns a `numpy` array, which can be treated like a list"
   ]
  },
  {
   "cell_type": "markdown",
   "id": "0d0e65c3",
   "metadata": {},
   "source": [
    "### Predicting \"DTH_CUM_CP\" using \"POP\" as feature."
   ]
  },
  {
   "cell_type": "code",
   "execution_count": 12,
   "id": "3dbdbba4",
   "metadata": {},
   "outputs": [
    {
     "data": {
      "text/html": [
       "<div>\n",
       "<style scoped>\n",
       "    .dataframe tbody tr th:only-of-type {\n",
       "        vertical-align: middle;\n",
       "    }\n",
       "\n",
       "    .dataframe tbody tr th {\n",
       "        vertical-align: top;\n",
       "    }\n",
       "\n",
       "    .dataframe thead th {\n",
       "        text-align: right;\n",
       "    }\n",
       "</style>\n",
       "<table border=\"1\" class=\"dataframe\">\n",
       "  <thead>\n",
       "    <tr style=\"text-align: right;\">\n",
       "      <th></th>\n",
       "      <th>POP</th>\n",
       "    </tr>\n",
       "  </thead>\n",
       "  <tbody>\n",
       "    <tr>\n",
       "      <th>0</th>\n",
       "      <td>2870</td>\n",
       "    </tr>\n",
       "    <tr>\n",
       "      <th>1</th>\n",
       "      <td>1244</td>\n",
       "    </tr>\n",
       "    <tr>\n",
       "      <th>2</th>\n",
       "      <td>2599</td>\n",
       "    </tr>\n",
       "    <tr>\n",
       "      <th>3</th>\n",
       "      <td>4533</td>\n",
       "    </tr>\n",
       "    <tr>\n",
       "      <th>4</th>\n",
       "      <td>1603</td>\n",
       "    </tr>\n",
       "  </tbody>\n",
       "</table>\n",
       "</div>"
      ],
      "text/plain": [
       "    POP\n",
       "0  2870\n",
       "1  1244\n",
       "2  2599\n",
       "3  4533\n",
       "4  1603"
      ]
     },
     "execution_count": 12,
     "metadata": {},
     "output_type": "execute_result"
    }
   ],
   "source": [
    "# We must specify a list of columns to make sure we extract a DataFrame and not a Series\n",
    "# Feature DataFrame\n",
    "df[[\"POP\"]].head()"
   ]
  },
  {
   "cell_type": "code",
   "execution_count": 13,
   "id": "22aad05e",
   "metadata": {},
   "outputs": [
    {
     "data": {
      "text/plain": [
       "0    13\n",
       "1     5\n",
       "2     8\n",
       "3    26\n",
       "4     0\n",
       "Name: DTH_CUM_CP, dtype: int64"
      ]
     },
     "execution_count": 13,
     "metadata": {},
     "output_type": "execute_result"
    }
   ],
   "source": [
    "# Label Series: \"DTH_CUM_CP\"\n",
    "df[\"DTH_CUM_CP\"].head()"
   ]
  },
  {
   "cell_type": "markdown",
   "id": "797d6831",
   "metadata": {},
   "source": [
    "### Let's use `LinearRegression` model.\n",
    "\n",
    "- `from sklearn.linear_model import LinearRegression`"
   ]
  },
  {
   "cell_type": "code",
   "execution_count": 14,
   "id": "51ad5b05",
   "metadata": {},
   "outputs": [],
   "source": [
    "xcols = [\"POP\"]\n",
    "ycol = \"DTH_CUM_CP\"\n",
    "\n",
    "model = LinearRegression()\n",
    "model.fit(df[xcols], df[ycol])\n",
    "# less interesting because we are predicting what we already know\n",
    "y = model.predict(df[xcols])"
   ]
  },
  {
   "cell_type": "markdown",
   "id": "e589d923",
   "metadata": {},
   "source": [
    "Predicting for new values of x."
   ]
  },
  {
   "cell_type": "code",
   "execution_count": 15,
   "id": "dd8f0440",
   "metadata": {},
   "outputs": [
    {
     "data": {
      "text/html": [
       "<div>\n",
       "<style scoped>\n",
       "    .dataframe tbody tr th:only-of-type {\n",
       "        vertical-align: middle;\n",
       "    }\n",
       "\n",
       "    .dataframe tbody tr th {\n",
       "        vertical-align: top;\n",
       "    }\n",
       "\n",
       "    .dataframe thead th {\n",
       "        text-align: right;\n",
       "    }\n",
       "</style>\n",
       "<table border=\"1\" class=\"dataframe\">\n",
       "  <thead>\n",
       "    <tr style=\"text-align: right;\">\n",
       "      <th></th>\n",
       "      <th>POP</th>\n",
       "    </tr>\n",
       "  </thead>\n",
       "  <tbody>\n",
       "    <tr>\n",
       "      <th>0</th>\n",
       "      <td>1000</td>\n",
       "    </tr>\n",
       "    <tr>\n",
       "      <th>1</th>\n",
       "      <td>2000</td>\n",
       "    </tr>\n",
       "    <tr>\n",
       "      <th>2</th>\n",
       "      <td>3000</td>\n",
       "    </tr>\n",
       "  </tbody>\n",
       "</table>\n",
       "</div>"
      ],
      "text/plain": [
       "    POP\n",
       "0  1000\n",
       "1  2000\n",
       "2  3000"
      ]
     },
     "execution_count": 15,
     "metadata": {},
     "output_type": "execute_result"
    }
   ],
   "source": [
    "predict_df = pd.DataFrame({\"POP\": [1000, 2000, 3000]})\n",
    "predict_df"
   ]
  },
  {
   "cell_type": "code",
   "execution_count": 16,
   "id": "5315289f",
   "metadata": {},
   "outputs": [
    {
     "data": {
      "text/plain": [
       "array([3.95036044, 6.35121596, 8.75207149])"
      ]
     },
     "execution_count": 16,
     "metadata": {},
     "output_type": "execute_result"
    }
   ],
   "source": [
    "# Predict for the new data\n",
    "model.predict(predict_df)"
   ]
  },
  {
   "cell_type": "code",
   "execution_count": 17,
   "id": "0cea4830",
   "metadata": {},
   "outputs": [
    {
     "data": {
      "text/html": [
       "<div>\n",
       "<style scoped>\n",
       "    .dataframe tbody tr th:only-of-type {\n",
       "        vertical-align: middle;\n",
       "    }\n",
       "\n",
       "    .dataframe tbody tr th {\n",
       "        vertical-align: top;\n",
       "    }\n",
       "\n",
       "    .dataframe thead th {\n",
       "        text-align: right;\n",
       "    }\n",
       "</style>\n",
       "<table border=\"1\" class=\"dataframe\">\n",
       "  <thead>\n",
       "    <tr style=\"text-align: right;\">\n",
       "      <th></th>\n",
       "      <th>POP</th>\n",
       "      <th>predicted deaths</th>\n",
       "    </tr>\n",
       "  </thead>\n",
       "  <tbody>\n",
       "    <tr>\n",
       "      <th>0</th>\n",
       "      <td>1000</td>\n",
       "      <td>3.950360</td>\n",
       "    </tr>\n",
       "    <tr>\n",
       "      <th>1</th>\n",
       "      <td>2000</td>\n",
       "      <td>6.351216</td>\n",
       "    </tr>\n",
       "    <tr>\n",
       "      <th>2</th>\n",
       "      <td>3000</td>\n",
       "      <td>8.752071</td>\n",
       "    </tr>\n",
       "  </tbody>\n",
       "</table>\n",
       "</div>"
      ],
      "text/plain": [
       "    POP  predicted deaths\n",
       "0  1000          3.950360\n",
       "1  2000          6.351216\n",
       "2  3000          8.752071"
      ]
     },
     "execution_count": 17,
     "metadata": {},
     "output_type": "execute_result"
    }
   ],
   "source": [
    "# Insert a new column called \"predicted deaths\" with the predictions\n",
    "predict_df[\"predicted deaths\"] = model.predict(predict_df)\n",
    "predict_df"
   ]
  },
  {
   "cell_type": "markdown",
   "id": "1c649201",
   "metadata": {},
   "source": [
    "### How can we visualize model predictions?\n",
    "\n",
    "- Let's predict deaths for \"POP\" ranges like 0, 1000, 2000, ..., 20000"
   ]
  },
  {
   "cell_type": "code",
   "execution_count": 18,
   "id": "496a67c9",
   "metadata": {},
   "outputs": [
    {
     "data": {
      "text/html": [
       "<div>\n",
       "<style scoped>\n",
       "    .dataframe tbody tr th:only-of-type {\n",
       "        vertical-align: middle;\n",
       "    }\n",
       "\n",
       "    .dataframe tbody tr th {\n",
       "        vertical-align: top;\n",
       "    }\n",
       "\n",
       "    .dataframe thead th {\n",
       "        text-align: right;\n",
       "    }\n",
       "</style>\n",
       "<table border=\"1\" class=\"dataframe\">\n",
       "  <thead>\n",
       "    <tr style=\"text-align: right;\">\n",
       "      <th></th>\n",
       "      <th>POP</th>\n",
       "    </tr>\n",
       "  </thead>\n",
       "  <tbody>\n",
       "    <tr>\n",
       "      <th>0</th>\n",
       "      <td>0</td>\n",
       "    </tr>\n",
       "    <tr>\n",
       "      <th>1</th>\n",
       "      <td>1000</td>\n",
       "    </tr>\n",
       "    <tr>\n",
       "      <th>2</th>\n",
       "      <td>2000</td>\n",
       "    </tr>\n",
       "    <tr>\n",
       "      <th>3</th>\n",
       "      <td>3000</td>\n",
       "    </tr>\n",
       "    <tr>\n",
       "      <th>4</th>\n",
       "      <td>4000</td>\n",
       "    </tr>\n",
       "    <tr>\n",
       "      <th>5</th>\n",
       "      <td>5000</td>\n",
       "    </tr>\n",
       "    <tr>\n",
       "      <th>6</th>\n",
       "      <td>6000</td>\n",
       "    </tr>\n",
       "    <tr>\n",
       "      <th>7</th>\n",
       "      <td>7000</td>\n",
       "    </tr>\n",
       "    <tr>\n",
       "      <th>8</th>\n",
       "      <td>8000</td>\n",
       "    </tr>\n",
       "    <tr>\n",
       "      <th>9</th>\n",
       "      <td>9000</td>\n",
       "    </tr>\n",
       "    <tr>\n",
       "      <th>10</th>\n",
       "      <td>10000</td>\n",
       "    </tr>\n",
       "    <tr>\n",
       "      <th>11</th>\n",
       "      <td>11000</td>\n",
       "    </tr>\n",
       "    <tr>\n",
       "      <th>12</th>\n",
       "      <td>12000</td>\n",
       "    </tr>\n",
       "    <tr>\n",
       "      <th>13</th>\n",
       "      <td>13000</td>\n",
       "    </tr>\n",
       "    <tr>\n",
       "      <th>14</th>\n",
       "      <td>14000</td>\n",
       "    </tr>\n",
       "    <tr>\n",
       "      <th>15</th>\n",
       "      <td>15000</td>\n",
       "    </tr>\n",
       "    <tr>\n",
       "      <th>16</th>\n",
       "      <td>16000</td>\n",
       "    </tr>\n",
       "    <tr>\n",
       "      <th>17</th>\n",
       "      <td>17000</td>\n",
       "    </tr>\n",
       "    <tr>\n",
       "      <th>18</th>\n",
       "      <td>18000</td>\n",
       "    </tr>\n",
       "    <tr>\n",
       "      <th>19</th>\n",
       "      <td>19000</td>\n",
       "    </tr>\n",
       "  </tbody>\n",
       "</table>\n",
       "</div>"
      ],
      "text/plain": [
       "      POP\n",
       "0       0\n",
       "1    1000\n",
       "2    2000\n",
       "3    3000\n",
       "4    4000\n",
       "5    5000\n",
       "6    6000\n",
       "7    7000\n",
       "8    8000\n",
       "9    9000\n",
       "10  10000\n",
       "11  11000\n",
       "12  12000\n",
       "13  13000\n",
       "14  14000\n",
       "15  15000\n",
       "16  16000\n",
       "17  17000\n",
       "18  18000\n",
       "19  19000"
      ]
     },
     "execution_count": 18,
     "metadata": {},
     "output_type": "execute_result"
    }
   ],
   "source": [
    "predict_df = pd.DataFrame({\"POP\": range(0, 20000, 1000)})\n",
    "predict_df"
   ]
  },
  {
   "cell_type": "code",
   "execution_count": 19,
   "id": "b825412a",
   "metadata": {},
   "outputs": [
    {
     "data": {
      "text/html": [
       "<div>\n",
       "<style scoped>\n",
       "    .dataframe tbody tr th:only-of-type {\n",
       "        vertical-align: middle;\n",
       "    }\n",
       "\n",
       "    .dataframe tbody tr th {\n",
       "        vertical-align: top;\n",
       "    }\n",
       "\n",
       "    .dataframe thead th {\n",
       "        text-align: right;\n",
       "    }\n",
       "</style>\n",
       "<table border=\"1\" class=\"dataframe\">\n",
       "  <thead>\n",
       "    <tr style=\"text-align: right;\">\n",
       "      <th></th>\n",
       "      <th>POP</th>\n",
       "      <th>predicted deaths</th>\n",
       "    </tr>\n",
       "  </thead>\n",
       "  <tbody>\n",
       "    <tr>\n",
       "      <th>0</th>\n",
       "      <td>0</td>\n",
       "      <td>1.549505</td>\n",
       "    </tr>\n",
       "    <tr>\n",
       "      <th>1</th>\n",
       "      <td>1000</td>\n",
       "      <td>3.950360</td>\n",
       "    </tr>\n",
       "    <tr>\n",
       "      <th>2</th>\n",
       "      <td>2000</td>\n",
       "      <td>6.351216</td>\n",
       "    </tr>\n",
       "    <tr>\n",
       "      <th>3</th>\n",
       "      <td>3000</td>\n",
       "      <td>8.752071</td>\n",
       "    </tr>\n",
       "    <tr>\n",
       "      <th>4</th>\n",
       "      <td>4000</td>\n",
       "      <td>11.152927</td>\n",
       "    </tr>\n",
       "    <tr>\n",
       "      <th>5</th>\n",
       "      <td>5000</td>\n",
       "      <td>13.553783</td>\n",
       "    </tr>\n",
       "    <tr>\n",
       "      <th>6</th>\n",
       "      <td>6000</td>\n",
       "      <td>15.954638</td>\n",
       "    </tr>\n",
       "    <tr>\n",
       "      <th>7</th>\n",
       "      <td>7000</td>\n",
       "      <td>18.355494</td>\n",
       "    </tr>\n",
       "    <tr>\n",
       "      <th>8</th>\n",
       "      <td>8000</td>\n",
       "      <td>20.756349</td>\n",
       "    </tr>\n",
       "    <tr>\n",
       "      <th>9</th>\n",
       "      <td>9000</td>\n",
       "      <td>23.157205</td>\n",
       "    </tr>\n",
       "    <tr>\n",
       "      <th>10</th>\n",
       "      <td>10000</td>\n",
       "      <td>25.558060</td>\n",
       "    </tr>\n",
       "    <tr>\n",
       "      <th>11</th>\n",
       "      <td>11000</td>\n",
       "      <td>27.958916</td>\n",
       "    </tr>\n",
       "    <tr>\n",
       "      <th>12</th>\n",
       "      <td>12000</td>\n",
       "      <td>30.359771</td>\n",
       "    </tr>\n",
       "    <tr>\n",
       "      <th>13</th>\n",
       "      <td>13000</td>\n",
       "      <td>32.760627</td>\n",
       "    </tr>\n",
       "    <tr>\n",
       "      <th>14</th>\n",
       "      <td>14000</td>\n",
       "      <td>35.161482</td>\n",
       "    </tr>\n",
       "    <tr>\n",
       "      <th>15</th>\n",
       "      <td>15000</td>\n",
       "      <td>37.562338</td>\n",
       "    </tr>\n",
       "    <tr>\n",
       "      <th>16</th>\n",
       "      <td>16000</td>\n",
       "      <td>39.963193</td>\n",
       "    </tr>\n",
       "    <tr>\n",
       "      <th>17</th>\n",
       "      <td>17000</td>\n",
       "      <td>42.364049</td>\n",
       "    </tr>\n",
       "    <tr>\n",
       "      <th>18</th>\n",
       "      <td>18000</td>\n",
       "      <td>44.764904</td>\n",
       "    </tr>\n",
       "    <tr>\n",
       "      <th>19</th>\n",
       "      <td>19000</td>\n",
       "      <td>47.165760</td>\n",
       "    </tr>\n",
       "  </tbody>\n",
       "</table>\n",
       "</div>"
      ],
      "text/plain": [
       "      POP  predicted deaths\n",
       "0       0          1.549505\n",
       "1    1000          3.950360\n",
       "2    2000          6.351216\n",
       "3    3000          8.752071\n",
       "4    4000         11.152927\n",
       "5    5000         13.553783\n",
       "6    6000         15.954638\n",
       "7    7000         18.355494\n",
       "8    8000         20.756349\n",
       "9    9000         23.157205\n",
       "10  10000         25.558060\n",
       "11  11000         27.958916\n",
       "12  12000         30.359771\n",
       "13  13000         32.760627\n",
       "14  14000         35.161482\n",
       "15  15000         37.562338\n",
       "16  16000         39.963193\n",
       "17  17000         42.364049\n",
       "18  18000         44.764904\n",
       "19  19000         47.165760"
      ]
     },
     "execution_count": 19,
     "metadata": {},
     "output_type": "execute_result"
    }
   ],
   "source": [
    "# Insert a new column called \"predicted deaths\" with the predictions\n",
    "predict_df[\"predicted deaths\"] = model.predict(predict_df)\n",
    "predict_df"
   ]
  },
  {
   "cell_type": "code",
   "execution_count": 20,
   "id": "ca0b47f5",
   "metadata": {},
   "outputs": [
    {
     "data": {
      "text/plain": [
       "<AxesSubplot:xlabel='POP', ylabel='DTH_CUM_CP'>"
      ]
     },
     "execution_count": 20,
     "metadata": {},
     "output_type": "execute_result"
    },
    {
     "data": {
      "image/png": "[encoded data removed]",
      "text/plain": [
       "<Figure size 640x480 with 1 Axes>"
      ]
     },
     "metadata": {},
     "output_type": "display_data"
    }
   ],
   "source": [
    "# Create a line plot to visualize relationship between \"POP\" and \"predicted deaths\"\n",
    "ax = predict_df.plot.line(x=\"POP\", y=\"predicted deaths\", color=\"r\")\n",
    "# Create a scatter plot to visualize relationship between \"POP\" and \"DTH_CUM_CP\"\n",
    "df.plot.scatter(x=\"POP\", y=\"DTH_CUM_CP\", ax=ax, color=\"k\", alpha=0.05)"
   ]
  },
  {
   "cell_type": "markdown",
   "id": "3bb2d3f8",
   "metadata": {},
   "source": [
    "### How can we get a formula for the relationship?\n",
    "\n",
    "- `y=mx+c`, where `y` is our predictions and `x` are the features used for the fit\n",
    "    - Slope of the line (`m`) given by `model.coef_[0]`\n",
    "    - Intercept of the line (`c`) given by `model.intercept_`"
   ]
  },
  {
   "cell_type": "markdown",
   "id": "a31d19b3",
   "metadata": {},
   "source": [
    "Model coefficients"
   ]
  },
  {
   "cell_type": "code",
   "execution_count": 21,
   "id": "c894c1b1",
   "metadata": {},
   "outputs": [
    {
     "data": {
      "text/plain": [
       "array([0.00240086])"
      ]
     },
     "execution_count": 21,
     "metadata": {},
     "output_type": "execute_result"
    }
   ],
   "source": [
    "model.coef_"
   ]
  },
  {
   "cell_type": "code",
   "execution_count": 22,
   "id": "4850a47e",
   "metadata": {},
   "outputs": [
    {
     "data": {
      "text/plain": [
       "0.0024008555243096655"
      ]
     },
     "execution_count": 22,
     "metadata": {},
     "output_type": "execute_result"
    }
   ],
   "source": [
    "# Slope of the line\n",
    "model.coef_[0]"
   ]
  },
  {
   "cell_type": "code",
   "execution_count": 23,
   "id": "32690085",
   "metadata": {},
   "outputs": [
    {
     "data": {
      "text/plain": [
       "1.5495049162803003"
      ]
     },
     "execution_count": 23,
     "metadata": {},
     "output_type": "execute_result"
    }
   ],
   "source": [
    "# Intercept of the line\n",
    "model.intercept_"
   ]
  },
  {
   "cell_type": "code",
   "execution_count": 24,
   "id": "cfbcee12",
   "metadata": {},
   "outputs": [
    {
     "name": "stdout",
     "output_type": "stream",
     "text": [
      "deaths ~= 0.0024 * population + 1.5495\n"
     ]
    }
   ],
   "source": [
    "print(f\"deaths ~= {round(model.coef_[0], 4)} * population + {round(model.intercept_, 4)}\")"
   ]
  },
  {
   "cell_type": "markdown",
   "id": "738ccba5",
   "metadata": {},
   "source": [
    "### How well does our model fit the data?\n",
    "- explained variance score\n",
    "- R^2 (\"r squared\")"
   ]
  },
  {
   "cell_type": "markdown",
   "id": "91e4af81",
   "metadata": {},
   "source": [
    "#### `sklearn.metrics.explained_variance_score(y_true, y_pred)`\n",
    "- requires `import sklearn`\n",
    "- calculates the explained variance score given:\n",
    "    - y_true: actual death values in our example\n",
    "    - y_pred: prediction of deaths in our example\n",
    "- documentation: https://scikit-learn.org/stable/modules/generated/sklearn.metrics.explained_variance_score.html"
   ]
  },
  {
   "cell_type": "code",
   "execution_count": 25,
   "id": "286e2569",
   "metadata": {},
   "outputs": [
    {
     "data": {
      "text/plain": [
       "(['POP'], 'DTH_CUM_CP')"
      ]
     },
     "execution_count": 25,
     "metadata": {},
     "output_type": "execute_result"
    }
   ],
   "source": [
    "xcols, ycol"
   ]
  },
  {
   "cell_type": "code",
   "execution_count": 26,
   "id": "bb36ca0f",
   "metadata": {},
   "outputs": [
    {
     "data": {
      "text/plain": [
       "array([ 8.43996027,  4.53616919,  7.78932842, ..., 14.97748986,\n",
       "       13.54177826, 12.17809232])"
      ]
     },
     "execution_count": 26,
     "metadata": {},
     "output_type": "execute_result"
    }
   ],
   "source": [
    "# Let's now make predictions for the known data\n",
    "predictions = model.predict(df[xcols])\n",
    "predictions"
   ]
  },
  {
   "cell_type": "code",
   "execution_count": 27,
   "id": "92dadb4c",
   "metadata": {},
   "outputs": [
    {
     "data": {
      "text/plain": [
       "0.21575697888643763"
      ]
     },
     "execution_count": 27,
     "metadata": {},
     "output_type": "execute_result"
    }
   ],
   "source": [
    "sklearn.metrics.explained_variance_score(df[ycol], predictions)"
   ]
  },
  {
   "cell_type": "markdown",
   "id": "ebd81950",
   "metadata": {},
   "source": [
    "#### Explained variance score\n",
    "\n",
    "- `explained_variance = (known_var - explained_variance) / known_var`\n",
    "    - where `known_var = y_true.var()` and `explained_variance = (y_true - y_pred).var()`"
   ]
  },
  {
   "cell_type": "markdown",
   "id": "36bc3bb5",
   "metadata": {},
   "source": [
    "What is the variation in known deaths?"
   ]
  },
  {
   "cell_type": "code",
   "execution_count": 28,
   "id": "55a3dfcd",
   "metadata": {},
   "outputs": [
    {
     "data": {
      "text/plain": [
       "81.47782336365947"
      ]
     },
     "execution_count": 28,
     "metadata": {},
     "output_type": "execute_result"
    }
   ],
   "source": [
    "# Compute variance of \"DTH_CUM_CP\" column\n",
    "known_var = df[ycol].var()\n",
    "known_var"
   ]
  },
  {
   "cell_type": "code",
   "execution_count": 29,
   "id": "c33a6fb1",
   "metadata": {},
   "outputs": [
    {
     "data": {
      "text/plain": [
       "63.89841434847359"
      ]
     },
     "execution_count": 29,
     "metadata": {},
     "output_type": "execute_result"
    }
   ],
   "source": [
    "# explained_variance\n",
    "explained_variance = (df[ycol] - predictions).var()   \n",
    "explained_variance"
   ]
  },
  {
   "cell_type": "code",
   "execution_count": 30,
   "id": "dfb076b1",
   "metadata": {},
   "outputs": [
    {
     "data": {
      "text/plain": [
       "0.21575697888643652"
      ]
     },
     "execution_count": 30,
     "metadata": {},
     "output_type": "execute_result"
    }
   ],
   "source": [
    "# explained_variance score\n",
    "explained_variance_score = (known_var - explained_variance) / known_var\n",
    "explained_variance_score"
   ]
  },
  {
   "cell_type": "code",
   "execution_count": 31,
   "id": "73a55a32",
   "metadata": {},
   "outputs": [
    {
     "data": {
      "text/plain": [
       "0.21575697888643763"
      ]
     },
     "execution_count": 31,
     "metadata": {},
     "output_type": "execute_result"
    }
   ],
   "source": [
    "# For comparison here is the explained variance score from sklearn\n",
    "sklearn.metrics.explained_variance_score(df[ycol], predictions)"
   ]
  },
  {
   "cell_type": "markdown",
   "id": "547452da",
   "metadata": {},
   "source": [
    "#### `sklearn.metrics.r2_score(y_true, y_pred)`\n",
    "\n",
    "- requires `import sklearn`\n",
    "- calculates the explained variance score given:\n",
    "    - y_true: actual death values in our example\n",
    "    - y_pred: prediction of deaths in our example\n",
    "- documentation: https://scikit-learn.org/stable/modules/generated/sklearn.metrics.r2_score.html "
   ]
  },
  {
   "cell_type": "code",
   "execution_count": 32,
   "id": "d16ba67b",
   "metadata": {},
   "outputs": [
    {
     "data": {
      "text/plain": [
       "0.21575697888643763"
      ]
     },
     "execution_count": 32,
     "metadata": {},
     "output_type": "execute_result"
    }
   ],
   "source": [
    "sklearn.metrics.r2_score(df[ycol], predictions)"
   ]
  },
  {
   "cell_type": "markdown",
   "id": "6e60fed7",
   "metadata": {},
   "source": [
    "#### R^2 score (aka coefficient of determination) approximation\n",
    "\n",
    "- `r2_score = (known_var - r2_val) / known_var`\n",
    "    - where `known_var = y_true.var()` and `r2_val = ((y_true - y_pred) ** 2).mean()`"
   ]
  },
  {
   "cell_type": "code",
   "execution_count": 33,
   "id": "d34ea427",
   "metadata": {},
   "outputs": [
    {
     "data": {
      "text/plain": [
       "63.85251031517727"
      ]
     },
     "execution_count": 33,
     "metadata": {},
     "output_type": "execute_result"
    }
   ],
   "source": [
    "# r2_val\n",
    "r2_val = ((df[ycol] - predictions) ** 2).mean()\n",
    "r2_val"
   ]
  },
  {
   "cell_type": "code",
   "execution_count": 34,
   "id": "b1c3574b",
   "metadata": {},
   "outputs": [
    {
     "data": {
      "text/plain": [
       "0.21632037186137443"
      ]
     },
     "execution_count": 34,
     "metadata": {},
     "output_type": "execute_result"
    }
   ],
   "source": [
    "r2_score = (known_var - r2_val) / known_var\n",
    "r2_score # there might be minor rounding off differences"
   ]
  },
  {
   "cell_type": "markdown",
   "id": "adc33af9",
   "metadata": {},
   "source": [
    "#### `model.score(X, y)`\n",
    "- invokes `predict` method for calculating predictions (`y`) based on features (`X`) and compares the predictions with true values of y"
   ]
  },
  {
   "cell_type": "code",
   "execution_count": 35,
   "id": "b3bde089",
   "metadata": {},
   "outputs": [
    {
     "data": {
      "text/plain": [
       "0.21575697888643763"
      ]
     },
     "execution_count": 35,
     "metadata": {},
     "output_type": "execute_result"
    }
   ],
   "source": [
    "model.score(df[xcols], df[ycol])  "
   ]
  },
  {
   "cell_type": "markdown",
   "id": "1768f9a9",
   "metadata": {},
   "source": [
    "#### Did our model learn, or just memorize (that is, \"overfit\")?\n",
    "\n",
    "- Split data into train and test"
   ]
  },
  {
   "cell_type": "code",
   "execution_count": 36,
   "id": "87a77fb4",
   "metadata": {},
   "outputs": [
    {
     "data": {
      "text/plain": [
       "696"
      ]
     },
     "execution_count": 36,
     "metadata": {},
     "output_type": "execute_result"
    }
   ],
   "source": [
    "# Split the data into two equal parts\n",
    "len(df) // 2"
   ]
  },
  {
   "cell_type": "code",
   "execution_count": 37,
   "id": "bdd7cad0",
   "metadata": {},
   "outputs": [
    {
     "data": {
      "text/plain": [
       "(696, 696)"
      ]
     },
     "execution_count": 37,
     "metadata": {},
     "output_type": "execute_result"
    }
   ],
   "source": [
    "# Manual way of splitting train and test data\n",
    "train, test = df.iloc[:len(df)//2], df.iloc[len(df)//2:]\n",
    "len(train), len(test)"
   ]
  },
  {
   "cell_type": "markdown",
   "id": "2f45dd74",
   "metadata": {},
   "source": [
    "Problem with manual splitting is, we need to make sure that the data is not sorted in some way."
   ]
  },
  {
   "cell_type": "markdown",
   "id": "3a781391",
   "metadata": {},
   "source": [
    "#### `train_test_split(<dataframe>, test_size=<val>)`\n",
    "\n",
    "- requires `from sklearn.model_selection import train_test_split`\n",
    "- shuffles the data and then splits based on 75%-25% split between train and test\n",
    "    - produces new train and test data every single time\n",
    "- `test_size` parameter can take two kind of values:\n",
    "    - actual number of rows that we want in test data\n",
    "    - fractional number representing the ratio of train versus test data\n",
    "    - default value is `0.25`\n",
    "- documentation: https://scikit-learn.org/stable/modules/generated/sklearn.model_selection.train_test_split.html"
   ]
  },
  {
   "cell_type": "code",
   "execution_count": 38,
   "id": "1d3a86c9",
   "metadata": {},
   "outputs": [
    {
     "data": {
      "text/plain": [
       "(1044, 348)"
      ]
     },
     "execution_count": 38,
     "metadata": {},
     "output_type": "execute_result"
    }
   ],
   "source": [
    "train, test = train_test_split(df)\n",
    "len(train), len(test)"
   ]
  },
  {
   "cell_type": "code",
   "execution_count": 39,
   "id": "49f7dfe8",
   "metadata": {},
   "outputs": [
    {
     "data": {
      "text/plain": [
       "(1272, 120)"
      ]
     },
     "execution_count": 39,
     "metadata": {},
     "output_type": "execute_result"
    }
   ],
   "source": [
    "# Test size using row count\n",
    "train, test = train_test_split(df, test_size=120)\n",
    "len(train), len(test)"
   ]
  },
  {
   "cell_type": "code",
   "execution_count": 40,
   "id": "1a29cf9d",
   "metadata": {},
   "outputs": [
    {
     "data": {
      "text/plain": [
       "(696, 696)"
      ]
     },
     "execution_count": 40,
     "metadata": {},
     "output_type": "execute_result"
    }
   ],
   "source": [
    "# Test size using fraction\n",
    "train, test = train_test_split(df, test_size=0.5)\n",
    "len(train), len(test)"
   ]
  },
  {
   "cell_type": "code",
   "execution_count": 41,
   "id": "7934e9ee",
   "metadata": {},
   "outputs": [
    {
     "data": {
      "text/html": [
       "<div>\n",
       "<style scoped>\n",
       "    .dataframe tbody tr th:only-of-type {\n",
       "        vertical-align: middle;\n",
       "    }\n",
       "\n",
       "    .dataframe tbody tr th {\n",
       "        vertical-align: top;\n",
       "    }\n",
       "\n",
       "    .dataframe thead th {\n",
       "        text-align: right;\n",
       "    }\n",
       "</style>\n",
       "<table border=\"1\" class=\"dataframe\">\n",
       "  <thead>\n",
       "    <tr style=\"text-align: right;\">\n",
       "      <th></th>\n",
       "      <th>RptDt</th>\n",
       "      <th>GEOID</th>\n",
       "      <th>GEOName</th>\n",
       "      <th>POS_CUM_CP</th>\n",
       "      <th>POS_NEW_CP</th>\n",
       "      <th>POS_7DAYAVG_CP</th>\n",
       "      <th>DTH_CUM_CP</th>\n",
       "      <th>DTH_NEW_CP</th>\n",
       "      <th>DTH_7DAYAVG_CP</th>\n",
       "      <th>DTH_OVER_30DAYS_CP</th>\n",
       "      <th>...</th>\n",
       "      <th>HOSP_NO_CP</th>\n",
       "      <th>HOSP_UNK_CP</th>\n",
       "      <th>Date</th>\n",
       "      <th>POP</th>\n",
       "      <th>POP_MOE</th>\n",
       "      <th>OBJECTID</th>\n",
       "      <th>GEO</th>\n",
       "      <th>Shape.STArea()</th>\n",
       "      <th>Shape.STLength()</th>\n",
       "      <th>geometry</th>\n",
       "    </tr>\n",
       "  </thead>\n",
       "  <tbody>\n",
       "    <tr>\n",
       "      <th>1363</th>\n",
       "      <td>1680894000000</td>\n",
       "      <td>55139002700</td>\n",
       "      <td>NaN</td>\n",
       "      <td>831</td>\n",
       "      <td>0</td>\n",
       "      <td>0.14</td>\n",
       "      <td>3</td>\n",
       "      <td>0</td>\n",
       "      <td>0.0</td>\n",
       "      <td>0</td>\n",
       "      <td>...</td>\n",
       "      <td>648</td>\n",
       "      <td>148</td>\n",
       "      <td>1680760800000</td>\n",
       "      <td>2504</td>\n",
       "      <td>258.0</td>\n",
       "      <td>2280</td>\n",
       "      <td>Census tract</td>\n",
       "      <td>3.692688e+06</td>\n",
       "      <td>9961.540119</td>\n",
       "      <td>POLYGON ((-88.43324 44.21539, -88.43702 44.215...</td>\n",
       "    </tr>\n",
       "    <tr>\n",
       "      <th>198</th>\n",
       "      <td>1680894000000</td>\n",
       "      <td>55025003200</td>\n",
       "      <td>NaN</td>\n",
       "      <td>700</td>\n",
       "      <td>0</td>\n",
       "      <td>0.71</td>\n",
       "      <td>1</td>\n",
       "      <td>0</td>\n",
       "      <td>0.0</td>\n",
       "      <td>0</td>\n",
       "      <td>...</td>\n",
       "      <td>293</td>\n",
       "      <td>407</td>\n",
       "      <td>1680760800000</td>\n",
       "      <td>2926</td>\n",
       "      <td>261.0</td>\n",
       "      <td>3100</td>\n",
       "      <td>Census tract</td>\n",
       "      <td>4.547333e+06</td>\n",
       "      <td>13029.517186</td>\n",
       "      <td>POLYGON ((-89.42098 43.07823, -89.42148 43.078...</td>\n",
       "    </tr>\n",
       "    <tr>\n",
       "      <th>964</th>\n",
       "      <td>1680894000000</td>\n",
       "      <td>55095961000</td>\n",
       "      <td>NaN</td>\n",
       "      <td>1795</td>\n",
       "      <td>0</td>\n",
       "      <td>0.14</td>\n",
       "      <td>36</td>\n",
       "      <td>0</td>\n",
       "      <td>0.0</td>\n",
       "      <td>0</td>\n",
       "      <td>...</td>\n",
       "      <td>1193</td>\n",
       "      <td>533</td>\n",
       "      <td>1680760800000</td>\n",
       "      <td>4590</td>\n",
       "      <td>230.0</td>\n",
       "      <td>2223</td>\n",
       "      <td>Census tract</td>\n",
       "      <td>2.058972e+08</td>\n",
       "      <td>72465.341534</td>\n",
       "      <td>POLYGON ((-92.31634 45.29585, -92.32564 45.295...</td>\n",
       "    </tr>\n",
       "    <tr>\n",
       "      <th>693</th>\n",
       "      <td>1680894000000</td>\n",
       "      <td>55079015900</td>\n",
       "      <td>NaN</td>\n",
       "      <td>1435</td>\n",
       "      <td>0</td>\n",
       "      <td>0.86</td>\n",
       "      <td>11</td>\n",
       "      <td>0</td>\n",
       "      <td>0.0</td>\n",
       "      <td>0</td>\n",
       "      <td>...</td>\n",
       "      <td>747</td>\n",
       "      <td>602</td>\n",
       "      <td>1680760800000</td>\n",
       "      <td>3460</td>\n",
       "      <td>446.0</td>\n",
       "      <td>2786</td>\n",
       "      <td>Census tract</td>\n",
       "      <td>8.825646e+05</td>\n",
       "      <td>3817.445944</td>\n",
       "      <td>POLYGON ((-87.94226 43.01910, -87.94225 43.019...</td>\n",
       "    </tr>\n",
       "    <tr>\n",
       "      <th>350</th>\n",
       "      <td>1680894000000</td>\n",
       "      <td>55043960900</td>\n",
       "      <td>NaN</td>\n",
       "      <td>1667</td>\n",
       "      <td>0</td>\n",
       "      <td>0.29</td>\n",
       "      <td>7</td>\n",
       "      <td>0</td>\n",
       "      <td>0.0</td>\n",
       "      <td>0</td>\n",
       "      <td>...</td>\n",
       "      <td>829</td>\n",
       "      <td>794</td>\n",
       "      <td>1680760800000</td>\n",
       "      <td>5046</td>\n",
       "      <td>306.0</td>\n",
       "      <td>2812</td>\n",
       "      <td>Census tract</td>\n",
       "      <td>5.596763e+07</td>\n",
       "      <td>38511.778221</td>\n",
       "      <td>POLYGON ((-90.42630 42.77660, -90.42679 42.776...</td>\n",
       "    </tr>\n",
       "  </tbody>\n",
       "</table>\n",
       "<p>5 rows × 90 columns</p>\n",
       "</div>"
      ],
      "text/plain": [
       "              RptDt        GEOID  GEOName  POS_CUM_CP  POS_NEW_CP  \\\n",
       "1363  1680894000000  55139002700      NaN         831           0   \n",
       "198   1680894000000  55025003200      NaN         700           0   \n",
       "964   1680894000000  55095961000      NaN        1795           0   \n",
       "693   1680894000000  55079015900      NaN        1435           0   \n",
       "350   1680894000000  55043960900      NaN        1667           0   \n",
       "\n",
       "      POS_7DAYAVG_CP  DTH_CUM_CP  DTH_NEW_CP  DTH_7DAYAVG_CP  \\\n",
       "1363            0.14           3           0             0.0   \n",
       "198             0.71           1           0             0.0   \n",
       "964             0.14          36           0             0.0   \n",
       "693             0.86          11           0             0.0   \n",
       "350             0.29           7           0             0.0   \n",
       "\n",
       "      DTH_OVER_30DAYS_CP  ...  HOSP_NO_CP  HOSP_UNK_CP           Date   POP  \\\n",
       "1363                   0  ...         648          148  1680760800000  2504   \n",
       "198                    0  ...         293          407  1680760800000  2926   \n",
       "964                    0  ...        1193          533  1680760800000  4590   \n",
       "693                    0  ...         747          602  1680760800000  3460   \n",
       "350                    0  ...         829          794  1680760800000  5046   \n",
       "\n",
       "      POP_MOE  OBJECTID           GEO  Shape.STArea()  Shape.STLength()  \\\n",
       "1363    258.0      2280  Census tract    3.692688e+06       9961.540119   \n",
       "198     261.0      3100  Census tract    4.547333e+06      13029.517186   \n",
       "964     230.0      2223  Census tract    2.058972e+08      72465.341534   \n",
       "693     446.0      2786  Census tract    8.825646e+05       3817.445944   \n",
       "350     306.0      2812  Census tract    5.596763e+07      38511.778221   \n",
       "\n",
       "                                               geometry  \n",
       "1363  POLYGON ((-88.43324 44.21539, -88.43702 44.215...  \n",
       "198   POLYGON ((-89.42098 43.07823, -89.42148 43.078...  \n",
       "964   POLYGON ((-92.31634 45.29585, -92.32564 45.295...  \n",
       "693   POLYGON ((-87.94226 43.01910, -87.94225 43.019...  \n",
       "350   POLYGON ((-90.42630 42.77660, -90.42679 42.776...  \n",
       "\n",
       "[5 rows x 90 columns]"
      ]
     },
     "execution_count": 41,
     "metadata": {},
     "output_type": "execute_result"
    }
   ],
   "source": [
    "# Running this cell twice will give you two different train datasets\n",
    "train, test = train_test_split(df)\n",
    "train.head()"
   ]
  },
  {
   "cell_type": "code",
   "execution_count": 42,
   "id": "0fe05a2e",
   "metadata": {},
   "outputs": [
    {
     "data": {
      "text/plain": [
       "0.2238498167305384"
      ]
     },
     "execution_count": 42,
     "metadata": {},
     "output_type": "execute_result"
    }
   ],
   "source": [
    "train, test = train_test_split(df)\n",
    "\n",
    "# Let's use the train and the test data\n",
    "model = LinearRegression()\n",
    "# Fit using training data\n",
    "model.fit(train[xcols], train[ycol])\n",
    "# Predict using test data\n",
    "y = model.predict(test[xcols])\n",
    "# We can use score directly as it automatically invokes predict\n",
    "model.score(test[xcols], test[ycol])"
   ]
  },
  {
   "cell_type": "markdown",
   "id": "e0f0e21b",
   "metadata": {},
   "source": [
    "Running the above cell again will give you entirely different model and score."
   ]
  },
  {
   "cell_type": "markdown",
   "id": "003b1c50",
   "metadata": {},
   "source": [
    "#### How can we minimize noise due to random train/test splits?\n",
    "\n",
    "### Cross validation: `cross_val_score(estimator, X, y)`\n",
    "\n",
    "- requires `from sklearn.model_selection import cross_val_score`\n",
    "-  do many different train/test splits of the values, fitting and scoring the model across each combination\n",
    "- documentation: https://scikit-learn.org/stable/modules/generated/sklearn.model_selection.cross_val_score.html"
   ]
  },
  {
   "cell_type": "code",
   "execution_count": 43,
   "id": "bfa17fce",
   "metadata": {},
   "outputs": [
    {
     "data": {
      "text/plain": [
       "array([0.10596008, 0.24991963, 0.08773383, 0.19833743, 0.25939468])"
      ]
     },
     "execution_count": 43,
     "metadata": {},
     "output_type": "execute_result"
    }
   ],
   "source": [
    "train, test = train_test_split(df)\n",
    "\n",
    "model = LinearRegression()\n",
    "scores = cross_val_score(model, train[xcols], train[ycol])\n",
    "scores"
   ]
  },
  {
   "cell_type": "code",
   "execution_count": 44,
   "id": "284f776f",
   "metadata": {},
   "outputs": [
    {
     "data": {
      "text/plain": [
       "0.1802691310372521"
      ]
     },
     "execution_count": 44,
     "metadata": {},
     "output_type": "execute_result"
    }
   ],
   "source": [
    "# Compute mean of the scores\n",
    "scores.mean()"
   ]
  },
  {
   "cell_type": "markdown",
   "id": "53c9d4d4",
   "metadata": {},
   "source": [
    "#### How can we compare models?\n",
    "- model 1: POP => DEATHS\n",
    "- model 2: CASES (POS_CUM_CP) => DEATHS"
   ]
  },
  {
   "cell_type": "code",
   "execution_count": 45,
   "id": "ffd9791b",
   "metadata": {},
   "outputs": [],
   "source": [
    "model1 = LinearRegression()\n",
    "model2 = LinearRegression()\n",
    "model1_scores = cross_val_score(model1, train[[\"POP\"]], train[ycol])\n",
    "model2_scores = cross_val_score(model2, train[[\"POS_CUM_CP\"]], train[ycol])"
   ]
  },
  {
   "cell_type": "code",
   "execution_count": 46,
   "id": "60f0bf73",
   "metadata": {},
   "outputs": [
    {
     "data": {
      "text/plain": [
       "0.1802691310372521"
      ]
     },
     "execution_count": 46,
     "metadata": {},
     "output_type": "execute_result"
    }
   ],
   "source": [
    "model1_scores.mean()"
   ]
  },
  {
   "cell_type": "code",
   "execution_count": 47,
   "id": "e3070bf6",
   "metadata": {},
   "outputs": [
    {
     "data": {
      "text/plain": [
       "0.22915307983338623"
      ]
     },
     "execution_count": 47,
     "metadata": {},
     "output_type": "execute_result"
    }
   ],
   "source": [
    "model2_scores.mean()"
   ]
  },
  {
   "cell_type": "markdown",
   "id": "dced0919",
   "metadata": {},
   "source": [
    "Which of these two models do you think will perform better? Probably model2."
   ]
  },
  {
   "cell_type": "code",
   "execution_count": 48,
   "id": "dfedd8d4",
   "metadata": {},
   "outputs": [
    {
     "data": {
      "text/plain": [
       "<AxesSubplot:>"
      ]
     },
     "execution_count": 48,
     "metadata": {},
     "output_type": "execute_result"
    },
    {
     "data": {
      "image/png": "[encoded data removed]",
      "text/plain": [
       "<Figure size 300x300 with 1 Axes>"
      ]
     },
     "metadata": {},
     "output_type": "display_data"
    }
   ],
   "source": [
    "means = pd.Series({\"model1\": model1_scores.mean(),\n",
    "                   \"model2\": model2_scores.mean()})\n",
    "means.plot.bar(figsize=(3, 3))"
   ]
  },
  {
   "cell_type": "markdown",
   "id": "312aa001",
   "metadata": {},
   "source": [
    "How do we know the above difference is not noise? Let's calculate standard deviation and display error bars on the bar plot."
   ]
  },
  {
   "cell_type": "code",
   "execution_count": 49,
   "id": "5123c3a9",
   "metadata": {},
   "outputs": [
    {
     "data": {
      "text/plain": [
       "0.07144665878218347"
      ]
     },
     "execution_count": 49,
     "metadata": {},
     "output_type": "execute_result"
    }
   ],
   "source": [
    "model1_scores.std()"
   ]
  },
  {
   "cell_type": "code",
   "execution_count": 50,
   "id": "230b9dc9",
   "metadata": {},
   "outputs": [
    {
     "data": {
      "text/plain": [
       "0.08321894252440726"
      ]
     },
     "execution_count": 50,
     "metadata": {},
     "output_type": "execute_result"
    }
   ],
   "source": [
    "model2_scores.std()"
   ]
  },
  {
   "cell_type": "code",
   "execution_count": 51,
   "id": "484c7af9",
   "metadata": {},
   "outputs": [
    {
     "data": {
      "text/plain": [
       "model1    0.071447\n",
       "model2    0.083219\n",
       "dtype: float64"
      ]
     },
     "execution_count": 51,
     "metadata": {},
     "output_type": "execute_result"
    }
   ],
   "source": [
    "err = pd.Series({\"model1\": model1_scores.std(),\n",
    "                 \"model2\": model2_scores.std()})\n",
    "err"
   ]
  },
  {
   "cell_type": "code",
   "execution_count": 52,
   "id": "233cd91d",
   "metadata": {},
   "outputs": [
    {
     "data": {
      "text/plain": [
       "<AxesSubplot:>"
      ]
     },
     "execution_count": 52,
     "metadata": {},
     "output_type": "execute_result"
    },
    {
     "data": {
      "image/png": "[encoded data removed]",
      "text/plain": [
       "<Figure size 300x300 with 1 Axes>"
      ]
     },
     "metadata": {},
     "output_type": "display_data"
    }
   ],
   "source": [
    "# Plot error bar by passing argument to paramenter yerr\n",
    "means.plot.bar(figsize=(3, 3), yerr=err)"
   ]
  },
  {
   "cell_type": "markdown",
   "id": "c3b68db6",
   "metadata": {},
   "source": [
    "Pick a winner and run it one more time against test data."
   ]
  },
  {
   "cell_type": "markdown",
   "id": "09f5bce9",
   "metadata": {},
   "source": [
    "#### How can we use multiple x variables (multiple regression)?"
   ]
  },
  {
   "cell_type": "code",
   "execution_count": 53,
   "id": "2538534d",
   "metadata": {},
   "outputs": [
    {
     "data": {
      "text/plain": [
       "0.6650938757320155"
      ]
     },
     "execution_count": 53,
     "metadata": {},
     "output_type": "execute_result"
    }
   ],
   "source": [
    "model = LinearRegression()\n",
    "xcols = ['POS_0_9_CP', 'POS_10_19_CP', 'POS_20_29_CP', 'POS_30_39_CP',\n",
    "       'POS_40_49_CP', 'POS_50_59_CP', 'POS_60_69_CP', 'POS_70_79_CP',\n",
    "       'POS_80_89_CP', 'POS_90_CP']\n",
    "ycol = \"DTH_CUM_CP\"\n",
    "\n",
    "model.fit(train[xcols], train[ycol])\n",
    "model.score(test[xcols], test[ycol]) "
   ]
  },
  {
   "cell_type": "markdown",
   "id": "92e4c272",
   "metadata": {},
   "source": [
    "#### How can we interpret what features the model is relying on?"
   ]
  },
  {
   "cell_type": "code",
   "execution_count": 54,
   "id": "68e3d21a",
   "metadata": {},
   "outputs": [
    {
     "data": {
      "text/plain": [
       "array([-0.02831411,  0.00185036, -0.00180267,  0.01456699,  0.01235213,\n",
       "       -0.01054311,  0.02334617, -0.01161435,  0.13046548,  0.15250337])"
      ]
     },
     "execution_count": 54,
     "metadata": {},
     "output_type": "execute_result"
    }
   ],
   "source": [
    "model.coef_"
   ]
  },
  {
   "cell_type": "code",
   "execution_count": 55,
   "id": "44bd5b07",
   "metadata": {},
   "outputs": [
    {
     "data": {
      "text/plain": [
       "<AxesSubplot:>"
      ]
     },
     "execution_count": 55,
     "metadata": {},
     "output_type": "execute_result"
    },
    {
     "data": {
      "image/png": "[encoded data removed]",
      "text/plain": [
       "<Figure size 300x200 with 1 Axes>"
      ]
     },
     "metadata": {},
     "output_type": "display_data"
    }
   ],
   "source": [
    "pd.Series(model.coef_, index=xcols).plot.bar(figsize=(3, 2))"
   ]
  }
 ],
 "metadata": {
  "kernelspec": {
   "display_name": "Python 3 (ipykernel)",
   "language": "python",
   "name": "python3"
  },
  "language_info": {
   "codemirror_mode": {
    "name": "ipython",
    "version": 3
   },
   "file_extension": ".py",
   "mimetype": "text/x-python",
   "name": "python",
   "nbconvert_exporter": "python",
   "pygments_lexer": "ipython3",
   "version": "3.9.13"
  }
 },
 "nbformat": 4,
 "nbformat_minor": 5
}
