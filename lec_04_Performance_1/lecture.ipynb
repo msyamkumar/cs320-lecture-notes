{
 "cells": [
  {
   "cell_type": "markdown",
   "id": "d15a3b25",
   "metadata": {},
   "source": [
    "# Performance 1"
   ]
  },
  {
   "cell_type": "markdown",
   "id": "ea8c9210",
   "metadata": {},
   "source": [
    "Recommendation: include all `import` statements in a cell at the top of the notebook file or your script file (`.py`).\n",
    "\n",
    "### Two styles of import\n",
    "\n",
    "1. `from <module> import <some_function, some_variable>`\n",
    "    - invocation `some_function()`\n",
    "2. `import <module>`\n",
    "    - invocation `<module>.some_function()`"
   ]
  },
  {
   "cell_type": "code",
   "execution_count": 1,
   "id": "4782ff79",
   "metadata": {},
   "outputs": [],
   "source": [
    "# import statements\n",
    "\n",
    "# TODO: use from style of import for importing \"check_output\" from subprocess\n",
    "from subprocess import check_output\n",
    "\n",
    "# TODO: use import style of import for importing \"time\" module\n",
    "import time"
   ]
  },
  {
   "cell_type": "markdown",
   "id": "de8ea97c",
   "metadata": {},
   "source": [
    "### How to open documentation about a function inside `jupyter`?\n",
    "Press \"Shift + tab\" after entering function name."
   ]
  },
  {
   "cell_type": "code",
   "execution_count": 2,
   "id": "4a61ed24",
   "metadata": {},
   "outputs": [
    {
     "data": {
      "text/plain": [
       "<function subprocess.check_output(*popenargs, timeout=None, **kwargs)>"
      ]
     },
     "execution_count": 2,
     "metadata": {},
     "output_type": "execute_result"
    }
   ],
   "source": [
    "# TODO: open documentation for check_output\n",
    "check_output"
   ]
  },
  {
   "cell_type": "markdown",
   "id": "fc3025fc",
   "metadata": {},
   "source": [
    "### What does `check_output` do?\n",
    "\n",
    "Enables us to run a command with or without arguments. It returns the output of the command.\n",
    "- Argument: command to run\n",
    "- Return value: output of the command as a `byte` object."
   ]
  },
  {
   "cell_type": "code",
   "execution_count": 3,
   "id": "e09ab658",
   "metadata": {},
   "outputs": [
    {
     "data": {
      "text/plain": [
       "b'/home/msyamkumar/temp/cs320-lecture-notes/lec_04_Performance_1\\n'"
      ]
     },
     "execution_count": 3,
     "metadata": {},
     "output_type": "execute_result"
    }
   ],
   "source": [
    "# TODO: invoke check_output to execute \"pwd\"\n",
    "pwd_output = check_output(\"pwd\")\n",
    "pwd_output"
   ]
  },
  {
   "cell_type": "code",
   "execution_count": 4,
   "id": "668afc99",
   "metadata": {},
   "outputs": [
    {
     "data": {
      "text/plain": [
       "bytes"
      ]
     },
     "execution_count": 4,
     "metadata": {},
     "output_type": "execute_result"
    }
   ],
   "source": [
    "# TODO: use type function call to check the output type of check_output\n",
    "type(pwd_output)"
   ]
  },
  {
   "cell_type": "markdown",
   "id": "6dffec77",
   "metadata": {},
   "source": [
    "### What is a `byte` object?\n",
    "\n",
    "- `byte` is an example of a sequence.\n",
    "\n",
    "- Recall that `list`, `str`, `tuple` are examples of Python sequences.\n",
    "- Key sequence features:\n",
    "    - indexing `seq[index]`\n",
    "    - slicing `seq[start index:exclusive end index]`\n",
    "    - iteration `for val in seq:`\n",
    "    - length `length(seq)`\n",
    "    - existence / constituency match `<val> in seq`\n",
    "- indexing:\n",
    "    - begins with 0 and increases by 1 for every value\n",
    "    - can use negative values: -1 represents index for last value, -2 penultimate, etc.,"
   ]
  },
  {
   "cell_type": "code",
   "execution_count": 5,
   "id": "70e41d0b-a12a-4e35-be97-083aa91af28f",
   "metadata": {},
   "outputs": [
    {
     "data": {
      "text/plain": [
       "47"
      ]
     },
     "execution_count": 5,
     "metadata": {},
     "output_type": "execute_result"
    }
   ],
   "source": [
    "# TODO: use indexing to extract value at index 0\n",
    "pwd_output[0]"
   ]
  },
  {
   "cell_type": "markdown",
   "id": "60504389",
   "metadata": {},
   "source": [
    "### `byte` conversion to `str`\n",
    "- requires details about encoding\n",
    "- `str(<byte_variable>, <encoding>)`\n",
    "- Most programs in linux use `utf-8` encoding"
   ]
  },
  {
   "cell_type": "code",
   "execution_count": 6,
   "id": "09e5bd77",
   "metadata": {},
   "outputs": [
    {
     "data": {
      "text/plain": [
       "\"b'/home/msyamkumar/temp/cs320-lecture-notes/lec_04_Performance_1\\\\n'\""
      ]
     },
     "execution_count": 6,
     "metadata": {},
     "output_type": "execute_result"
    }
   ],
   "source": [
    "# Can we just convert bytes directly into str?\n",
    "# Not really, you need specify the encoding\n",
    "str(pwd_output)"
   ]
  },
  {
   "cell_type": "code",
   "execution_count": 7,
   "id": "fbc2ad71",
   "metadata": {},
   "outputs": [
    {
     "data": {
      "text/plain": [
       "'/home/msyamkumar/temp/cs320-lecture-notes/lec_04_Performance_1\\n'"
      ]
     },
     "execution_count": 7,
     "metadata": {},
     "output_type": "execute_result"
    }
   ],
   "source": [
    "# TODO: let's try utf-8 encoding\n",
    "pwd_output_str = str(pwd_output, \"utf-8\")\n",
    "pwd_output_str"
   ]
  },
  {
   "cell_type": "markdown",
   "id": "5ce854cd",
   "metadata": {},
   "source": [
    "Recall that, when you print an `str`, it formats the output."
   ]
  },
  {
   "cell_type": "code",
   "execution_count": 8,
   "id": "8e0c335c",
   "metadata": {},
   "outputs": [
    {
     "name": "stdout",
     "output_type": "stream",
     "text": [
      "/home/msyamkumar/temp/cs320-lecture-notes/lec_04_Performance_1\n",
      "\n"
     ]
    }
   ],
   "source": [
    "print(pwd_output_str)"
   ]
  },
  {
   "cell_type": "code",
   "execution_count": 9,
   "id": "da2f1bc1",
   "metadata": {},
   "outputs": [
    {
     "data": {
      "text/plain": [
       "'\\x07Ç?_Á\\x07_Ë`/_,Í_/Ê\\x07ÈÁ_ø\\x07[Ë\\x93\\x16\\x90\\x05%Á[ÈÍÊÁ\\x05>?ÈÁË\\x07%Á[^\\x90\\x94^&ÁÊÃ?Ê_/>[Á^\\x91\\x8e'"
      ]
     },
     "execution_count": 9,
     "metadata": {},
     "output_type": "execute_result"
    }
   ],
   "source": [
    "# You must use the correct encoding, otherwise the conversion will fail\n",
    "str(pwd_output, \"cp273\")"
   ]
  },
  {
   "cell_type": "markdown",
   "id": "11ce814c",
   "metadata": {},
   "source": [
    "### `str` methods recap\n",
    "\n",
    "- `<str_variable>.strip()`: removes leading and trailing whitespace\n",
    "- `<str_varaible>.split(<separator>)`: returns list of strings split by separator"
   ]
  },
  {
   "cell_type": "code",
   "execution_count": 10,
   "id": "8d8bb61a-39ce-404b-81a1-992434ef26de",
   "metadata": {},
   "outputs": [
    {
     "data": {
      "text/plain": [
       "'/home/msyamkumar/temp/cs320-lecture-notes/lec_04_Performance_1'"
      ]
     },
     "execution_count": 10,
     "metadata": {},
     "output_type": "execute_result"
    }
   ],
   "source": [
    "# TODO: try strip method\n",
    "pwd_output_str.strip()"
   ]
  },
  {
   "cell_type": "code",
   "execution_count": 11,
   "id": "fabe2232",
   "metadata": {},
   "outputs": [
    {
     "data": {
      "text/plain": [
       "['',\n",
       " 'home',\n",
       " 'msyamkumar',\n",
       " 'temp',\n",
       " 'cs320-lecture-notes',\n",
       " 'lec_04_Performance_1\\n']"
      ]
     },
     "execution_count": 11,
     "metadata": {},
     "output_type": "execute_result"
    }
   ],
   "source": [
    "# TODO: try split method using \"/\" as separator\n",
    "pwd_output_str.split(\"/\")"
   ]
  },
  {
   "cell_type": "code",
   "execution_count": 12,
   "id": "27590458-53b4-4b8d-b7db-25ea54e304c3",
   "metadata": {},
   "outputs": [
    {
     "data": {
      "text/plain": [
       "['',\n",
       " 'home',\n",
       " 'msyamkumar',\n",
       " 'temp',\n",
       " 'cs320-lecture-notes',\n",
       " 'lec_04_Performance_1']"
      ]
     },
     "execution_count": 12,
     "metadata": {},
     "output_type": "execute_result"
    }
   ],
   "source": [
    "# You can string methods or function calls together\n",
    "# TODO: first strip and then split the string\n",
    "pwd_output_str.strip().split(\"/\")"
   ]
  },
  {
   "cell_type": "markdown",
   "id": "a83a11b3",
   "metadata": {},
   "source": [
    "### What does `check_output` do when the command doesn't exist?\n",
    "- `FileNotFoundError`"
   ]
  },
  {
   "cell_type": "code",
   "execution_count": 13,
   "id": "b865a24c-bf5f-4fbf-be5b-0b578df66df8",
   "metadata": {},
   "outputs": [
    {
     "ename": "FileNotFoundError",
     "evalue": "[Errno 2] No such file or directory: 'hahaha'",
     "output_type": "error",
     "traceback": [
      "\u001b[0;31m---------------------------------------------------------------------------\u001b[0m",
      "\u001b[0;31mFileNotFoundError\u001b[0m                         Traceback (most recent call last)",
      "Cell \u001b[0;32mIn[13], line 2\u001b[0m\n\u001b[1;32m      1\u001b[0m \u001b[38;5;66;03m# TODO: invoke check_output by passing \"hahaha\" as argument\u001b[39;00m\n\u001b[0;32m----> 2\u001b[0m \u001b[43mcheck_output\u001b[49m\u001b[43m(\u001b[49m\u001b[38;5;124;43m\"\u001b[39;49m\u001b[38;5;124;43mhahaha\u001b[39;49m\u001b[38;5;124;43m\"\u001b[39;49m\u001b[43m)\u001b[49m\n",
      "File \u001b[0;32m/usr/lib/python3.10/subprocess.py:420\u001b[0m, in \u001b[0;36mcheck_output\u001b[0;34m(timeout, *popenargs, **kwargs)\u001b[0m\n\u001b[1;32m    417\u001b[0m         empty \u001b[38;5;241m=\u001b[39m \u001b[38;5;124mb\u001b[39m\u001b[38;5;124m'\u001b[39m\u001b[38;5;124m'\u001b[39m\n\u001b[1;32m    418\u001b[0m     kwargs[\u001b[38;5;124m'\u001b[39m\u001b[38;5;124minput\u001b[39m\u001b[38;5;124m'\u001b[39m] \u001b[38;5;241m=\u001b[39m empty\n\u001b[0;32m--> 420\u001b[0m \u001b[38;5;28;01mreturn\u001b[39;00m \u001b[43mrun\u001b[49m\u001b[43m(\u001b[49m\u001b[38;5;241;43m*\u001b[39;49m\u001b[43mpopenargs\u001b[49m\u001b[43m,\u001b[49m\u001b[43m \u001b[49m\u001b[43mstdout\u001b[49m\u001b[38;5;241;43m=\u001b[39;49m\u001b[43mPIPE\u001b[49m\u001b[43m,\u001b[49m\u001b[43m \u001b[49m\u001b[43mtimeout\u001b[49m\u001b[38;5;241;43m=\u001b[39;49m\u001b[43mtimeout\u001b[49m\u001b[43m,\u001b[49m\u001b[43m \u001b[49m\u001b[43mcheck\u001b[49m\u001b[38;5;241;43m=\u001b[39;49m\u001b[38;5;28;43;01mTrue\u001b[39;49;00m\u001b[43m,\u001b[49m\n\u001b[1;32m    421\u001b[0m \u001b[43m           \u001b[49m\u001b[38;5;241;43m*\u001b[39;49m\u001b[38;5;241;43m*\u001b[39;49m\u001b[43mkwargs\u001b[49m\u001b[43m)\u001b[49m\u001b[38;5;241m.\u001b[39mstdout\n",
      "File \u001b[0;32m/usr/lib/python3.10/subprocess.py:501\u001b[0m, in \u001b[0;36mrun\u001b[0;34m(input, capture_output, timeout, check, *popenargs, **kwargs)\u001b[0m\n\u001b[1;32m    498\u001b[0m     kwargs[\u001b[38;5;124m'\u001b[39m\u001b[38;5;124mstdout\u001b[39m\u001b[38;5;124m'\u001b[39m] \u001b[38;5;241m=\u001b[39m PIPE\n\u001b[1;32m    499\u001b[0m     kwargs[\u001b[38;5;124m'\u001b[39m\u001b[38;5;124mstderr\u001b[39m\u001b[38;5;124m'\u001b[39m] \u001b[38;5;241m=\u001b[39m PIPE\n\u001b[0;32m--> 501\u001b[0m \u001b[38;5;28;01mwith\u001b[39;00m \u001b[43mPopen\u001b[49m\u001b[43m(\u001b[49m\u001b[38;5;241;43m*\u001b[39;49m\u001b[43mpopenargs\u001b[49m\u001b[43m,\u001b[49m\u001b[43m \u001b[49m\u001b[38;5;241;43m*\u001b[39;49m\u001b[38;5;241;43m*\u001b[39;49m\u001b[43mkwargs\u001b[49m\u001b[43m)\u001b[49m \u001b[38;5;28;01mas\u001b[39;00m process:\n\u001b[1;32m    502\u001b[0m     \u001b[38;5;28;01mtry\u001b[39;00m:\n\u001b[1;32m    503\u001b[0m         stdout, stderr \u001b[38;5;241m=\u001b[39m process\u001b[38;5;241m.\u001b[39mcommunicate(\u001b[38;5;28minput\u001b[39m, timeout\u001b[38;5;241m=\u001b[39mtimeout)\n",
      "File \u001b[0;32m/usr/lib/python3.10/subprocess.py:969\u001b[0m, in \u001b[0;36mPopen.__init__\u001b[0;34m(self, args, bufsize, executable, stdin, stdout, stderr, preexec_fn, close_fds, shell, cwd, env, universal_newlines, startupinfo, creationflags, restore_signals, start_new_session, pass_fds, user, group, extra_groups, encoding, errors, text, umask, pipesize)\u001b[0m\n\u001b[1;32m    965\u001b[0m         \u001b[38;5;28;01mif\u001b[39;00m \u001b[38;5;28mself\u001b[39m\u001b[38;5;241m.\u001b[39mtext_mode:\n\u001b[1;32m    966\u001b[0m             \u001b[38;5;28mself\u001b[39m\u001b[38;5;241m.\u001b[39mstderr \u001b[38;5;241m=\u001b[39m io\u001b[38;5;241m.\u001b[39mTextIOWrapper(\u001b[38;5;28mself\u001b[39m\u001b[38;5;241m.\u001b[39mstderr,\n\u001b[1;32m    967\u001b[0m                     encoding\u001b[38;5;241m=\u001b[39mencoding, errors\u001b[38;5;241m=\u001b[39merrors)\n\u001b[0;32m--> 969\u001b[0m     \u001b[38;5;28;43mself\u001b[39;49m\u001b[38;5;241;43m.\u001b[39;49m\u001b[43m_execute_child\u001b[49m\u001b[43m(\u001b[49m\u001b[43margs\u001b[49m\u001b[43m,\u001b[49m\u001b[43m \u001b[49m\u001b[43mexecutable\u001b[49m\u001b[43m,\u001b[49m\u001b[43m \u001b[49m\u001b[43mpreexec_fn\u001b[49m\u001b[43m,\u001b[49m\u001b[43m \u001b[49m\u001b[43mclose_fds\u001b[49m\u001b[43m,\u001b[49m\n\u001b[1;32m    970\u001b[0m \u001b[43m                        \u001b[49m\u001b[43mpass_fds\u001b[49m\u001b[43m,\u001b[49m\u001b[43m \u001b[49m\u001b[43mcwd\u001b[49m\u001b[43m,\u001b[49m\u001b[43m \u001b[49m\u001b[43menv\u001b[49m\u001b[43m,\u001b[49m\n\u001b[1;32m    971\u001b[0m \u001b[43m                        \u001b[49m\u001b[43mstartupinfo\u001b[49m\u001b[43m,\u001b[49m\u001b[43m \u001b[49m\u001b[43mcreationflags\u001b[49m\u001b[43m,\u001b[49m\u001b[43m \u001b[49m\u001b[43mshell\u001b[49m\u001b[43m,\u001b[49m\n\u001b[1;32m    972\u001b[0m \u001b[43m                        \u001b[49m\u001b[43mp2cread\u001b[49m\u001b[43m,\u001b[49m\u001b[43m \u001b[49m\u001b[43mp2cwrite\u001b[49m\u001b[43m,\u001b[49m\n\u001b[1;32m    973\u001b[0m \u001b[43m                        \u001b[49m\u001b[43mc2pread\u001b[49m\u001b[43m,\u001b[49m\u001b[43m \u001b[49m\u001b[43mc2pwrite\u001b[49m\u001b[43m,\u001b[49m\n\u001b[1;32m    974\u001b[0m \u001b[43m                        \u001b[49m\u001b[43merrread\u001b[49m\u001b[43m,\u001b[49m\u001b[43m \u001b[49m\u001b[43merrwrite\u001b[49m\u001b[43m,\u001b[49m\n\u001b[1;32m    975\u001b[0m \u001b[43m                        \u001b[49m\u001b[43mrestore_signals\u001b[49m\u001b[43m,\u001b[49m\n\u001b[1;32m    976\u001b[0m \u001b[43m                        \u001b[49m\u001b[43mgid\u001b[49m\u001b[43m,\u001b[49m\u001b[43m \u001b[49m\u001b[43mgids\u001b[49m\u001b[43m,\u001b[49m\u001b[43m \u001b[49m\u001b[43muid\u001b[49m\u001b[43m,\u001b[49m\u001b[43m \u001b[49m\u001b[43mumask\u001b[49m\u001b[43m,\u001b[49m\n\u001b[1;32m    977\u001b[0m \u001b[43m                        \u001b[49m\u001b[43mstart_new_session\u001b[49m\u001b[43m)\u001b[49m\n\u001b[1;32m    978\u001b[0m \u001b[38;5;28;01mexcept\u001b[39;00m:\n\u001b[1;32m    979\u001b[0m     \u001b[38;5;66;03m# Cleanup if the child failed starting.\u001b[39;00m\n\u001b[1;32m    980\u001b[0m     \u001b[38;5;28;01mfor\u001b[39;00m f \u001b[38;5;129;01min\u001b[39;00m \u001b[38;5;28mfilter\u001b[39m(\u001b[38;5;28;01mNone\u001b[39;00m, (\u001b[38;5;28mself\u001b[39m\u001b[38;5;241m.\u001b[39mstdin, \u001b[38;5;28mself\u001b[39m\u001b[38;5;241m.\u001b[39mstdout, \u001b[38;5;28mself\u001b[39m\u001b[38;5;241m.\u001b[39mstderr)):\n",
      "File \u001b[0;32m/usr/lib/python3.10/subprocess.py:1845\u001b[0m, in \u001b[0;36mPopen._execute_child\u001b[0;34m(self, args, executable, preexec_fn, close_fds, pass_fds, cwd, env, startupinfo, creationflags, shell, p2cread, p2cwrite, c2pread, c2pwrite, errread, errwrite, restore_signals, gid, gids, uid, umask, start_new_session)\u001b[0m\n\u001b[1;32m   1843\u001b[0m     \u001b[38;5;28;01mif\u001b[39;00m errno_num \u001b[38;5;241m!=\u001b[39m \u001b[38;5;241m0\u001b[39m:\n\u001b[1;32m   1844\u001b[0m         err_msg \u001b[38;5;241m=\u001b[39m os\u001b[38;5;241m.\u001b[39mstrerror(errno_num)\n\u001b[0;32m-> 1845\u001b[0m     \u001b[38;5;28;01mraise\u001b[39;00m child_exception_type(errno_num, err_msg, err_filename)\n\u001b[1;32m   1846\u001b[0m \u001b[38;5;28;01mraise\u001b[39;00m child_exception_type(err_msg)\n",
      "\u001b[0;31mFileNotFoundError\u001b[0m: [Errno 2] No such file or directory: 'hahaha'"
     ]
    }
   ],
   "source": [
    "# TODO: invoke check_output by passing \"hahaha\" as argument\n",
    "check_output(\"hahaha\")"
   ]
  },
  {
   "cell_type": "markdown",
   "id": "8512a276",
   "metadata": {},
   "source": [
    "### How can we use `check_output` to execute a command with arguments?\n",
    "\n",
    "- option 1: pass the command with arguments as a string and pass `True` as argument to parameter `shell`\n",
    "- option 2: pass a list of strings; for example: `[<command>, <arg1>, <arg2>]`"
   ]
  },
  {
   "cell_type": "markdown",
   "id": "9a5d0722",
   "metadata": {},
   "source": [
    "### git --version"
   ]
  },
  {
   "cell_type": "code",
   "execution_count": 14,
   "id": "fad47b1d-1f52-4c8e-8df4-0847fe1718c6",
   "metadata": {},
   "outputs": [
    {
     "data": {
      "text/plain": [
       "b'git version 2.34.1\\n'"
      ]
     },
     "execution_count": 14,
     "metadata": {},
     "output_type": "execute_result"
    }
   ],
   "source": [
    "# TODO: use option 1 to run \"git --version\"\n",
    "check_output(\"git --version\", shell=True)"
   ]
  },
  {
   "cell_type": "markdown",
   "id": "632699d8",
   "metadata": {},
   "source": [
    "What would happen if we switch the order of the two arguments? Recall that positional arguments should come before keyword arguments."
   ]
  },
  {
   "cell_type": "code",
   "execution_count": 15,
   "id": "6efc81d6",
   "metadata": {},
   "outputs": [
    {
     "ename": "SyntaxError",
     "evalue": "positional argument follows keyword argument (2083628834.py, line 1)",
     "output_type": "error",
     "traceback": [
      "\u001b[0;36m  Cell \u001b[0;32mIn[15], line 1\u001b[0;36m\u001b[0m\n\u001b[0;31m    check_output(shell=True, \"git --version\")\u001b[0m\n\u001b[0m                                            ^\u001b[0m\n\u001b[0;31mSyntaxError\u001b[0m\u001b[0;31m:\u001b[0m positional argument follows keyword argument\n"
     ]
    }
   ],
   "source": [
    "check_output(shell=True, \"git --version\")"
   ]
  },
  {
   "cell_type": "code",
   "execution_count": 16,
   "id": "847b3c3d-bd9b-45d9-acf7-745a562c579e",
   "metadata": {},
   "outputs": [
    {
     "data": {
      "text/plain": [
       "b'git version 2.34.1\\n'"
      ]
     },
     "execution_count": 16,
     "metadata": {},
     "output_type": "execute_result"
    }
   ],
   "source": [
    "# TODO: use option 2 to run \"git --version\"\n",
    "check_output([\"git\", \"--version\"])"
   ]
  },
  {
   "cell_type": "code",
   "execution_count": 17,
   "id": "7bcf8ef4",
   "metadata": {},
   "outputs": [],
   "source": [
    "# TODO: combine check_output with str typecast\n",
    "git_version_str = str(check_output([\"git\", \"--version\"]), \"utf-8\")"
   ]
  },
  {
   "cell_type": "code",
   "execution_count": 18,
   "id": "d0d6c938",
   "metadata": {},
   "outputs": [
    {
     "name": "stdout",
     "output_type": "stream",
     "text": [
      "2.34.1\n",
      "2.34.1\n"
     ]
    }
   ],
   "source": [
    "# TODO: write code to extract just the version number\n",
    "print(git_version_str.strip().split(\" \")[-1]) # option 1\n",
    "print(git_version_str[-7:-1]) # option 2"
   ]
  },
  {
   "cell_type": "markdown",
   "id": "2ef0b826-cb54-4d43-abe4-7dda3425ce65",
   "metadata": {},
   "source": [
    "### How long does it take to run code?\n",
    "\n",
    "Let's learn about `time` module `time` function. It returns the current time in seconds since epoch.\n",
    "\n",
    "What is epoch? epoch is January 1, 1970. **FUN FACT**: epoch is considered beginning of time for computers."
   ]
  },
  {
   "cell_type": "code",
   "execution_count": 19,
   "id": "89b5982c-40b5-498f-9acf-f05a9d233f59",
   "metadata": {},
   "outputs": [
    {
     "data": {
      "text/plain": [
       "1675231286.744164"
      ]
     },
     "execution_count": 19,
     "metadata": {},
     "output_type": "execute_result"
    }
   ],
   "source": [
    "# TODO: invoke time module time function\n",
    "# keep in mind that we used import style of import\n",
    "time.time() \n",
    "# number of seconds since Jan 1, 1970"
   ]
  },
  {
   "cell_type": "code",
   "execution_count": 20,
   "id": "0c41fd03-d2b8-4641-a288-4b95c48b5d24",
   "metadata": {},
   "outputs": [
    {
     "name": "stdout",
     "output_type": "stream",
     "text": [
      "3.814697265625e-05\n"
     ]
    }
   ],
   "source": [
    "start_time = time.time()\n",
    "# DO SOMETHING (e.g., check_output)\n",
    "end_time = time.time()\n",
    "\n",
    "print(end_time - start_time)"
   ]
  },
  {
   "cell_type": "code",
   "execution_count": 21,
   "id": "31737e44",
   "metadata": {},
   "outputs": [
    {
     "name": "stdout",
     "output_type": "stream",
     "text": [
      "0.03814697265625\n",
      "38.14697265625\n"
     ]
    }
   ],
   "source": [
    "# TODO: let's convert to milliseconds\n",
    "print((end_time-start_time) * 1e3)\n",
    "\n",
    "# TODO: let's convert to microseconds\n",
    "print((end_time-start_time) * 1e6)"
   ]
  },
  {
   "cell_type": "markdown",
   "id": "01651895",
   "metadata": {},
   "source": [
    "How long does it take to run simple computations (example: 4 + 5)?"
   ]
  },
  {
   "cell_type": "code",
   "execution_count": 22,
   "id": "0b739045-bfbe-439e-ac57-7e3f069db7b6",
   "metadata": {},
   "outputs": [
    {
     "name": "stdout",
     "output_type": "stream",
     "text": [
      "7.677078247070312e-05\n"
     ]
    }
   ],
   "source": [
    "start_time = time.time()\n",
    "x = 4 + 5\n",
    "end_time = time.time()\n",
    "\n",
    "print(end_time - start_time)"
   ]
  },
  {
   "cell_type": "markdown",
   "id": "1e378bfb",
   "metadata": {},
   "source": [
    "How long does it take to print simple computations (example: 4 + 5)?"
   ]
  },
  {
   "cell_type": "code",
   "execution_count": 23,
   "id": "2665edb8-bd7d-4cf7-baf5-5143bd6f25a0",
   "metadata": {},
   "outputs": [
    {
     "name": "stdout",
     "output_type": "stream",
     "text": [
      "9\n",
      "1.7392635345458984\n"
     ]
    }
   ],
   "source": [
    "start_time = time.time()\n",
    "print(4 + 5)\n",
    "end_time = time.time()\n",
    "\n",
    "print((end_time-start_time) * 1e3)"
   ]
  },
  {
   "cell_type": "markdown",
   "id": "a0b5c105",
   "metadata": {},
   "source": [
    "Printing is a relatively slow operation. If your program is printing lot of things, its performance might get impacted!"
   ]
  },
  {
   "cell_type": "markdown",
   "id": "030b867b",
   "metadata": {},
   "source": [
    "How long does it take to run a python program?\n",
    "\n",
    "Let's do a recap of python interactive mode.\n",
    "`python3 -c \"code\"`"
   ]
  },
  {
   "cell_type": "code",
   "execution_count": 24,
   "id": "991218f8",
   "metadata": {},
   "outputs": [
    {
     "name": "stdout",
     "output_type": "stream",
     "text": [
      "30.985593795776367\n"
     ]
    }
   ],
   "source": [
    "start_time = time.time()\n",
    "check_output([\"python3\", \"-c\", \"print(4 + 5)\"])\n",
    "end_time = time.time()\n",
    "\n",
    "print((end_time-start_time) * 1e3)"
   ]
  },
  {
   "cell_type": "markdown",
   "id": "1c68a8cd",
   "metadata": {},
   "source": [
    "### Everytime we run a command, we get slightly different output. How can we eliminate the noise?"
   ]
  },
  {
   "cell_type": "markdown",
   "id": "7dad0036",
   "metadata": {},
   "source": [
    "Let's try this with \"pwd\"."
   ]
  },
  {
   "cell_type": "code",
   "execution_count": 25,
   "id": "5b4dba6f",
   "metadata": {},
   "outputs": [
    {
     "name": "stdout",
     "output_type": "stream",
     "text": [
      "2.9201507568359375\n"
     ]
    }
   ],
   "source": [
    "start_time = time.time()\n",
    "check_output(\"pwd\")\n",
    "end_time = time.time()\n",
    "\n",
    "print((end_time-start_time) * 1e3)"
   ]
  },
  {
   "cell_type": "markdown",
   "id": "f853aab6",
   "metadata": {},
   "source": [
    "Recall that `range` built-in function produces a sequence of integers starting at 0."
   ]
  },
  {
   "cell_type": "code",
   "execution_count": 26,
   "id": "b45228b7",
   "metadata": {},
   "outputs": [
    {
     "name": "stdout",
     "output_type": "stream",
     "text": [
      "1.6988284587860107\n"
     ]
    }
   ],
   "source": [
    "iters = 1000\n",
    "\n",
    "start_time = time.time()\n",
    "for i in range(iters):\n",
    "    check_output(\"pwd\")\n",
    "end_time = time.time()\n",
    "\n",
    "print((end_time-start_time) * 1e3 / iters)"
   ]
  },
  {
   "cell_type": "markdown",
   "id": "ff7e8971",
   "metadata": {},
   "source": [
    "### Data structures review\n",
    "- lists (sequence: ordered)\n",
    "- sets (not a sequence: not ordered): \n",
    "    - indexing doesn't work, but `in` operator works\n",
    "    - only stores unique values"
   ]
  },
  {
   "cell_type": "code",
   "execution_count": 27,
   "id": "10a09035",
   "metadata": {},
   "outputs": [
    {
     "data": {
      "text/plain": [
       "[11, 22, 33]"
      ]
     },
     "execution_count": 27,
     "metadata": {},
     "output_type": "execute_result"
    }
   ],
   "source": [
    "# TODO: create a simple list of integers\n",
    "some_numbers = [11, 22, 33]\n",
    "some_numbers"
   ]
  },
  {
   "cell_type": "code",
   "execution_count": 28,
   "id": "553b126b",
   "metadata": {},
   "outputs": [],
   "source": [
    "# TODO: use range() to produce a list containing 1000000 numbers\n",
    "some_numbers = list(range(1000000))"
   ]
  },
  {
   "cell_type": "markdown",
   "id": "a73c753a",
   "metadata": {},
   "source": [
    "`in` operator: existence / constituency match"
   ]
  },
  {
   "cell_type": "code",
   "execution_count": 29,
   "id": "e927c0b7",
   "metadata": {},
   "outputs": [
    {
     "data": {
      "text/plain": [
       "True"
      ]
     },
     "execution_count": 29,
     "metadata": {},
     "output_type": "execute_result"
    }
   ],
   "source": [
    "100 in some_numbers"
   ]
  },
  {
   "cell_type": "code",
   "execution_count": 30,
   "id": "896176d0",
   "metadata": {},
   "outputs": [
    {
     "data": {
      "text/plain": [
       "False"
      ]
     },
     "execution_count": 30,
     "metadata": {},
     "output_type": "execute_result"
    }
   ],
   "source": [
    "-20 in some_numbers"
   ]
  },
  {
   "cell_type": "markdown",
   "id": "bc5f912b",
   "metadata": {},
   "source": [
    "How long does `in` operator take? It kind of depends on the location of the item we are searching."
   ]
  },
  {
   "cell_type": "code",
   "execution_count": 31,
   "id": "e0eda15b",
   "metadata": {},
   "outputs": [
    {
     "name": "stdout",
     "output_type": "stream",
     "text": [
      "0.09298324584960938\n"
     ]
    }
   ],
   "source": [
    "# TODO: time how long it takes to find 99 in some_numbers\n",
    "start_time = time.time()\n",
    "99 in some_numbers\n",
    "end_time = time.time()\n",
    "\n",
    "print((end_time-start_time) * 1e3)"
   ]
  },
  {
   "cell_type": "code",
   "execution_count": 32,
   "id": "ae667c2f",
   "metadata": {},
   "outputs": [
    {
     "name": "stdout",
     "output_type": "stream",
     "text": [
      "11.307954788208008\n"
     ]
    }
   ],
   "source": [
    "# TODO: time how long it takes to find 999999 in some_numbers\n",
    "start_time = time.time()\n",
    "999999 in some_numbers\n",
    "end_time = time.time()\n",
    "\n",
    "print((end_time-start_time) * 1e3)"
   ]
  },
  {
   "cell_type": "code",
   "execution_count": 33,
   "id": "e77a228d-1709-4f9a-b8ff-7c97fbda38bc",
   "metadata": {},
   "outputs": [
    {
     "name": "stdout",
     "output_type": "stream",
     "text": [
      "11.208295822143555\n"
     ]
    }
   ],
   "source": [
    "# TODO: time how long it takes to find -1 in some_numbers\n",
    "start_time = time.time()\n",
    "-1 in some_numbers\n",
    "end_time = time.time()\n",
    "\n",
    "print((end_time-start_time) * 1e3)"
   ]
  },
  {
   "cell_type": "code",
   "execution_count": 34,
   "id": "3ba890dc",
   "metadata": {},
   "outputs": [
    {
     "data": {
      "text/plain": [
       "{11, 22, 33}"
      ]
     },
     "execution_count": 34,
     "metadata": {},
     "output_type": "execute_result"
    }
   ],
   "source": [
    "# TODO: create a simple set of numbers\n",
    "some_set = {11, 22, 33}\n",
    "some_set"
   ]
  },
  {
   "cell_type": "code",
   "execution_count": 35,
   "id": "64d7b73f-d8a9-43c7-a3a3-01e9aaa9a09f",
   "metadata": {},
   "outputs": [],
   "source": [
    "# TODO: convert some_numbers into set\n",
    "some_set = set(some_numbers)"
   ]
  },
  {
   "cell_type": "code",
   "execution_count": 36,
   "id": "a55e59ef-31e3-4468-a0db-aad1c3fc291d",
   "metadata": {},
   "outputs": [
    {
     "name": "stdout",
     "output_type": "stream",
     "text": [
      "0.06175041198730469\n"
     ]
    }
   ],
   "source": [
    "# TODO: time how long it takes to find -1 in some_numbers\n",
    "start_time = time.time()\n",
    "-1 in some_set\n",
    "end_time = time.time()\n",
    "\n",
    "print((end_time-start_time) * 1e3)"
   ]
  }
 ],
 "metadata": {
  "kernelspec": {
   "display_name": "Python 3 (ipykernel)",
   "language": "python",
   "name": "python3"
  },
  "language_info": {
   "codemirror_mode": {
    "name": "ipython",
    "version": 3
   },
   "file_extension": ".py",
   "mimetype": "text/x-python",
   "name": "python",
   "nbconvert_exporter": "python",
   "pygments_lexer": "ipython3",
   "version": "3.9.13"
  }
 },
 "nbformat": 4,
 "nbformat_minor": 5
}
