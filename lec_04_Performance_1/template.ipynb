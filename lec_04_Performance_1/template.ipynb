{
 "cells": [
  {
   "cell_type": "markdown",
   "id": "d15a3b25",
   "metadata": {},
   "source": [
    "# Performance 1"
   ]
  },
  {
   "cell_type": "markdown",
   "id": "ea8c9210",
   "metadata": {},
   "source": [
    "Recommendation: include all `import` statements in a cell at the top of the notebook file or your script file (`.py`).\n",
    "\n",
    "### Two styles of import\n",
    "\n",
    "1. `from <module> import <some_function, some_variable>`\n",
    "    - invocation `some_function()`\n",
    "2. `import <module>`\n",
    "    - invocation `<module>.some_function()`"
   ]
  },
  {
   "cell_type": "code",
   "execution_count": null,
   "id": "4782ff79",
   "metadata": {},
   "outputs": [],
   "source": [
    "# import statements\n",
    "\n",
    "# TODO: use from style of import for importing \"check_output\" from subprocess\n",
    "\n",
    "# TODO: use import style of import for importing \"time\" module\n"
   ]
  },
  {
   "cell_type": "markdown",
   "id": "de8ea97c",
   "metadata": {},
   "source": [
    "### How to open documentation about a function inside `jupyter`?\n",
    "Press \"Shift + tab\" after entering function name."
   ]
  },
  {
   "cell_type": "code",
   "execution_count": null,
   "id": "4a61ed24",
   "metadata": {},
   "outputs": [],
   "source": [
    "# TODO: open documentation for check_output\n",
    "check_output"
   ]
  },
  {
   "cell_type": "markdown",
   "id": "fc3025fc",
   "metadata": {},
   "source": [
    "### What does `check_output` do?\n",
    "\n",
    "Enables us to run a command with or without arguments. It returns the output of the command.\n",
    "- Argument: command to run\n",
    "- Return value: output of the command as a `byte` object."
   ]
  },
  {
   "cell_type": "code",
   "execution_count": null,
   "id": "e09ab658",
   "metadata": {},
   "outputs": [],
   "source": [
    "# TODO: invoke check_output to execute \"pwd\"\n",
    "pwd_output = \n",
    "pwd_output"
   ]
  },
  {
   "cell_type": "code",
   "execution_count": null,
   "id": "668afc99",
   "metadata": {},
   "outputs": [],
   "source": [
    "# TODO: use type function call to check the output type of check_output\n"
   ]
  },
  {
   "cell_type": "markdown",
   "id": "6dffec77",
   "metadata": {},
   "source": [
    "### What is a `byte` object?\n",
    "\n",
    "- `byte` is an example of a sequence.\n",
    "\n",
    "- Recall that `list`, `str`, `tuple` are examples of Python sequences.\n",
    "- Key sequence features:\n",
    "    - indexing `seq[index]`\n",
    "    - slicing `seq[start index:exclusive end index]`\n",
    "    - iteration `for val in seq:`\n",
    "    - length `length(seq)`\n",
    "    - existence / constituency match `<val> in seq`"
   ]
  },
  {
   "cell_type": "code",
   "execution_count": null,
   "id": "70e41d0b-a12a-4e35-be97-083aa91af28f",
   "metadata": {},
   "outputs": [],
   "source": [
    "# TODO: use indexing to extract value at index 0\n"
   ]
  },
  {
   "cell_type": "markdown",
   "id": "60504389",
   "metadata": {},
   "source": [
    "### `byte` conversion to `str`\n",
    "- requires details about encoding\n",
    "- `str(<byte_variable>, <encoding>)`\n",
    "- Most programs in linux use `utf-8` encoding"
   ]
  },
  {
   "cell_type": "code",
   "execution_count": null,
   "id": "09e5bd77",
   "metadata": {},
   "outputs": [],
   "source": [
    "# Can we just convert bytes directly into str?\n",
    "# Not really, you need specify the encoding\n"
   ]
  },
  {
   "cell_type": "code",
   "execution_count": null,
   "id": "fbc2ad71",
   "metadata": {},
   "outputs": [],
   "source": [
    "# TODO: let's try utf-8 encoding\n",
    "pwd_output_str = str(pwd_output, ?)\n",
    "pwd_output_str"
   ]
  },
  {
   "cell_type": "markdown",
   "id": "5ce854cd",
   "metadata": {},
   "source": [
    "Recall that, when you print an `str`, it formats the output."
   ]
  },
  {
   "cell_type": "code",
   "execution_count": null,
   "id": "8e0c335c",
   "metadata": {},
   "outputs": [],
   "source": [
    "print(pwd_output_str)"
   ]
  },
  {
   "cell_type": "code",
   "execution_count": null,
   "id": "da2f1bc1",
   "metadata": {},
   "outputs": [],
   "source": [
    "# You must use the correct encoding, otherwise the conversion will fail\n",
    "str(pwd_output, \"cp273\")"
   ]
  },
  {
   "cell_type": "markdown",
   "id": "11ce814c",
   "metadata": {},
   "source": [
    "### `str` methods recap\n",
    "\n",
    "- `<str_variable>.strip()`: removes leading and trailing whitespace\n",
    "- `<str_varaible>.split(<separator>)`: returns list of strings split by separator"
   ]
  },
  {
   "cell_type": "code",
   "execution_count": null,
   "id": "8d8bb61a-39ce-404b-81a1-992434ef26de",
   "metadata": {},
   "outputs": [],
   "source": [
    "# TODO: try strip method\n",
    "pwd_output_str"
   ]
  },
  {
   "cell_type": "code",
   "execution_count": null,
   "id": "fabe2232",
   "metadata": {},
   "outputs": [],
   "source": [
    "# TODO: try split method using \"/\" as separator\n",
    "pwd_output_str"
   ]
  },
  {
   "cell_type": "code",
   "execution_count": null,
   "id": "27590458-53b4-4b8d-b7db-25ea54e304c3",
   "metadata": {},
   "outputs": [],
   "source": [
    "# You can string methods or function calls together\n",
    "# TODO: first strip and then split the string\n",
    "pwd_output_str"
   ]
  },
  {
   "cell_type": "markdown",
   "id": "a83a11b3",
   "metadata": {},
   "source": [
    "### What does `check_output` do when the command doesn't exist?\n",
    "- `FileNotFoundError`"
   ]
  },
  {
   "cell_type": "code",
   "execution_count": null,
   "id": "b865a24c-bf5f-4fbf-be5b-0b578df66df8",
   "metadata": {},
   "outputs": [],
   "source": [
    "# TODO: invoke check_output by passing \"hahaha\" as argument\n",
    "check_output(\"hahaha\")"
   ]
  },
  {
   "cell_type": "markdown",
   "id": "8512a276",
   "metadata": {},
   "source": [
    "### How can we use `check_output` to execute a command with arguments?\n",
    "\n",
    "- option 1: pass the command with arguments as a string and pass `True` as argument to parameter `shell`\n",
    "- option 2: pass a list of strings; for example: `[<command>, <arg1>, <arg2>]`"
   ]
  },
  {
   "cell_type": "markdown",
   "id": "9a5d0722",
   "metadata": {},
   "source": [
    "### git --version"
   ]
  },
  {
   "cell_type": "code",
   "execution_count": null,
   "id": "fad47b1d-1f52-4c8e-8df4-0847fe1718c6",
   "metadata": {},
   "outputs": [],
   "source": [
    "# TODO: use option 1 to run \"git --version\"\n"
   ]
  },
  {
   "cell_type": "markdown",
   "id": "632699d8",
   "metadata": {},
   "source": [
    "What would happen if we switch the order of the two arguments? Recall that positional arguments should come before keyword arguments."
   ]
  },
  {
   "cell_type": "code",
   "execution_count": null,
   "id": "6efc81d6",
   "metadata": {},
   "outputs": [],
   "source": [
    "check_output(shell=True, \"git --version\")"
   ]
  },
  {
   "cell_type": "code",
   "execution_count": null,
   "id": "847b3c3d-bd9b-45d9-acf7-745a562c579e",
   "metadata": {},
   "outputs": [],
   "source": [
    "# TODO: use option 2 to run \"git --version\"\n"
   ]
  },
  {
   "cell_type": "code",
   "execution_count": null,
   "id": "7bcf8ef4",
   "metadata": {},
   "outputs": [],
   "source": [
    "# TODO: combine check_output with str typecast\n",
    "git_version_str = "
   ]
  },
  {
   "cell_type": "code",
   "execution_count": null,
   "id": "d0d6c938",
   "metadata": {},
   "outputs": [],
   "source": [
    "# TODO: write code to extract just the version number\n"
   ]
  },
  {
   "cell_type": "markdown",
   "id": "2ef0b826-cb54-4d43-abe4-7dda3425ce65",
   "metadata": {},
   "source": [
    "### How long does it take to run code?\n",
    "\n",
    "Let's learn about `time` module `time` function. It returns the current time in seconds since epoch.\n",
    "\n",
    "What is epoch? epoch is January 1, 1970. **FUN FACT**: epoch is considered beginning of time for computers."
   ]
  },
  {
   "cell_type": "code",
   "execution_count": null,
   "id": "89b5982c-40b5-498f-9acf-f05a9d233f59",
   "metadata": {},
   "outputs": [],
   "source": [
    "time.time() # number of seconds since Jan 1, 1970"
   ]
  },
  {
   "cell_type": "code",
   "execution_count": null,
   "id": "0c41fd03-d2b8-4641-a288-4b95c48b5d24",
   "metadata": {},
   "outputs": [],
   "source": [
    "start_time = time.time()\n",
    "# DO SOMETHING (e.g., check_output)\n",
    "end_time = time.time()\n",
    "\n",
    "print(end_time - start_time)"
   ]
  },
  {
   "cell_type": "code",
   "execution_count": null,
   "id": "31737e44",
   "metadata": {},
   "outputs": [],
   "source": [
    "# TODO: let's convert to milliseconds\n",
    "print((end_time-start_time))\n",
    "\n",
    "# TODO: let's convert to microseconds\n",
    "print((end_time-start_time))"
   ]
  },
  {
   "cell_type": "markdown",
   "id": "01651895",
   "metadata": {},
   "source": [
    "How long does it take to run simple computations (example: 4 + 5)?"
   ]
  },
  {
   "cell_type": "code",
   "execution_count": null,
   "id": "0b739045-bfbe-439e-ac57-7e3f069db7b6",
   "metadata": {},
   "outputs": [],
   "source": [
    "start_time = time.time()\n",
    "\n",
    "end_time = time.time()\n",
    "\n",
    "print(end_time - start_time)"
   ]
  },
  {
   "cell_type": "markdown",
   "id": "1e378bfb",
   "metadata": {},
   "source": [
    "How long does it take to print simple computations (example: 4 + 5)?"
   ]
  },
  {
   "cell_type": "code",
   "execution_count": null,
   "id": "2665edb8-bd7d-4cf7-baf5-5143bd6f25a0",
   "metadata": {},
   "outputs": [],
   "source": [
    "start_time = time.time()\n",
    "\n",
    "end_time = time.time()\n",
    "\n",
    "print(end_time - start_time)"
   ]
  },
  {
   "cell_type": "markdown",
   "id": "a0b5c105",
   "metadata": {},
   "source": [
    "Printing is a relatively slow operation. If your program is printing lot of things, its performance might get impacted!"
   ]
  },
  {
   "cell_type": "markdown",
   "id": "030b867b",
   "metadata": {},
   "source": [
    "How long does it take to run a python program?\n",
    "\n",
    "Let's do a recap of python interactive mode.\n",
    "`python3 -c \"code\"`"
   ]
  },
  {
   "cell_type": "code",
   "execution_count": null,
   "id": "991218f8",
   "metadata": {},
   "outputs": [],
   "source": [
    "start_time = time.time()\n",
    "\n",
    "end_time = time.time()\n",
    "\n",
    "print(end_time - start_time)"
   ]
  },
  {
   "cell_type": "markdown",
   "id": "1c68a8cd",
   "metadata": {},
   "source": [
    "### Everytime we run a command, we get slightly different output. How can we eliminate the noise?"
   ]
  },
  {
   "cell_type": "markdown",
   "id": "7dad0036",
   "metadata": {},
   "source": [
    "Let's try this with \"pwd\"."
   ]
  },
  {
   "cell_type": "code",
   "execution_count": null,
   "id": "5b4dba6f",
   "metadata": {},
   "outputs": [],
   "source": [
    "start_time = time.time()\n",
    "\n",
    "end_time = time.time()\n",
    "\n",
    "print((end_time-start_time) * 1e3)"
   ]
  },
  {
   "cell_type": "markdown",
   "id": "f853aab6",
   "metadata": {},
   "source": [
    "Recall that `range` built-in function produces a sequence of integers starting at 0."
   ]
  },
  {
   "cell_type": "code",
   "execution_count": null,
   "id": "b45228b7",
   "metadata": {},
   "outputs": [],
   "source": [
    "\n",
    "\n",
    "start_time = time.time()\n",
    "\n",
    "end_time = time.time()\n",
    "\n",
    "print((end_time-start_time) * 1e3)"
   ]
  },
  {
   "cell_type": "markdown",
   "id": "ff7e8971",
   "metadata": {},
   "source": [
    "### Data structures review\n",
    "- lists (sequence: ordered)\n",
    "- sets (not a sequence: not ordered): \n",
    "    - indexing doesn't work, but `in` operator works\n",
    "    - only stores unique values"
   ]
  },
  {
   "cell_type": "code",
   "execution_count": null,
   "id": "10a09035",
   "metadata": {},
   "outputs": [],
   "source": [
    "# TODO: create a simple list of integers\n",
    "some_numbers = \n",
    "some_numbers"
   ]
  },
  {
   "cell_type": "code",
   "execution_count": null,
   "id": "553b126b",
   "metadata": {},
   "outputs": [],
   "source": [
    "# TODO: use range() to produce a list containing 1000000 numbers\n",
    "some_numbers = "
   ]
  },
  {
   "cell_type": "markdown",
   "id": "a73c753a",
   "metadata": {},
   "source": [
    "`in` operator: existence / constituency match"
   ]
  },
  {
   "cell_type": "code",
   "execution_count": null,
   "id": "e927c0b7",
   "metadata": {},
   "outputs": [],
   "source": [
    "100 in some_numbers"
   ]
  },
  {
   "cell_type": "code",
   "execution_count": null,
   "id": "896176d0",
   "metadata": {},
   "outputs": [],
   "source": [
    "-20 in some_numbers"
   ]
  },
  {
   "cell_type": "markdown",
   "id": "bc5f912b",
   "metadata": {},
   "source": [
    "How long does `in` operator take? It kind of depends on the location of the item we are searching."
   ]
  },
  {
   "cell_type": "code",
   "execution_count": null,
   "id": "e0eda15b",
   "metadata": {},
   "outputs": [],
   "source": [
    "# TODO: time how long it takes to find 99 in some_numbers\n",
    "start_time = time.time()\n",
    "\n",
    "end_time = time.time()\n",
    "\n",
    "print((end_time-start_time) * 1e3)"
   ]
  },
  {
   "cell_type": "code",
   "execution_count": null,
   "id": "ae667c2f",
   "metadata": {},
   "outputs": [],
   "source": [
    "# TODO: time how long it takes to find 999999 in some_numbers\n",
    "start_time = time.time()\n",
    "\n",
    "end_time = time.time()\n",
    "\n",
    "print((end_time-start_time) * 1e3)"
   ]
  },
  {
   "cell_type": "code",
   "execution_count": null,
   "id": "e77a228d-1709-4f9a-b8ff-7c97fbda38bc",
   "metadata": {},
   "outputs": [],
   "source": [
    "# TODO: time how long it takes to find -1 in some_numbers\n",
    "start_time = time.time()\n",
    "\n",
    "end_time = time.time()\n",
    "\n",
    "print((end_time-start_time) * 1e3)"
   ]
  },
  {
   "cell_type": "code",
   "execution_count": null,
   "id": "3ba890dc",
   "metadata": {},
   "outputs": [],
   "source": [
    "# TODO: create a simple set of numbers\n",
    "some_set = \n",
    "some_set"
   ]
  },
  {
   "cell_type": "code",
   "execution_count": null,
   "id": "64d7b73f-d8a9-43c7-a3a3-01e9aaa9a09f",
   "metadata": {},
   "outputs": [],
   "source": [
    "# TODO: convert some_numbers into set\n",
    "some_set = "
   ]
  },
  {
   "cell_type": "code",
   "execution_count": null,
   "id": "a55e59ef-31e3-4468-a0db-aad1c3fc291d",
   "metadata": {},
   "outputs": [],
   "source": [
    "# TODO: time how long it takes to find -1 in some_numbers\n",
    "start_time = time.time()\n",
    "\n",
    "end_time = time.time()\n",
    "\n",
    "print((end_time-start_time) * 1e3)"
   ]
  }
 ],
 "metadata": {
  "kernelspec": {
   "display_name": "Python 3 (ipykernel)",
   "language": "python",
   "name": "python3"
  },
  "language_info": {
   "codemirror_mode": {
    "name": "ipython",
    "version": 3
   },
   "file_extension": ".py",
   "mimetype": "text/x-python",
   "name": "python",
   "nbconvert_exporter": "python",
   "pygments_lexer": "ipython3",
   "version": "3.9.13"
  }
 },
 "nbformat": 4,
 "nbformat_minor": 5
}
