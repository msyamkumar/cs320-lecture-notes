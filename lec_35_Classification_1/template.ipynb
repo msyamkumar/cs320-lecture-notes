{
 "cells": [
  {
   "cell_type": "code",
   "execution_count": null,
   "id": "cbd48a28",
   "metadata": {},
   "outputs": [],
   "source": [
    "import numpy as np\n",
    "import pandas as pd\n",
    "import matplotlib.pyplot as plt\n",
    "\n",
    "from sklearn import datasets\n",
    "from sklearn.model_selection import train_test_split\n",
    "from sklearn.linear_model import LinearRegression, LogisticRegression\n",
    "\n",
    "from sklearn import set_config\n",
    "set_config(display=\"diagram\")"
   ]
  },
  {
   "cell_type": "markdown",
   "id": "dc708de6",
   "metadata": {},
   "source": [
    "# Linear Algebra 3"
   ]
  },
  {
   "cell_type": "markdown",
   "id": "c382fa8e",
   "metadata": {},
   "source": [
    "### Part 3: Projection Matrix\n",
    "\n",
    "Say X and y are known, but we can't solve for c because X has more rows than columns:\n",
    "\n",
    "### <font color='red'>$Xc = y$</font>\n",
    "\n",
    "We can, however, usually (unless there are multiple equally good solutions) solve the following, which we get by multiplying both sides by $X^T$:\n",
    "\n",
    "### <font color='red'>$X^TXc = X^Ty$</font>\n",
    "\n",
    "If we can find a c to make the above true, we can multiple both sides by $(X^TX)^{-1}$ (which generally exists unless X columns are redundant) to get this equation:\n",
    "\n",
    "$(X^TX)^{-1}X^TXc = (X^TX)^{-1}X^Ty$\n",
    "\n",
    "Simplify:\n",
    "\n",
    "$c = (X^TX)^{-1}X^Ty$\n",
    "\n",
    "Multiply both sides by X:\n",
    "\n",
    "### <font color='red'>$Xc = X(X^TX)^{-1}X^Ty$</font>\n",
    "\n",
    "### Note we started with an unsolveable $Xc = y$ problem but multiplied $y$ by something to get a different $Xc = ????$ that is solveable.\n",
    "\n",
    "Define <font color=\"red\">$P = X(X^TX)^{-1}X^T$</font>.  This is a **projection matrix**.  If you multiply a vector by $P$, you get back a new vector of the same size, with two properties:\n",
    "\n",
    "1. it will be in the column space of $X$\n",
    "2. the new vector will be as \"close as possible\" to the original vector\n",
    "\n",
    "Note: computing P is generally very expensive.\n",
    "\n",
    "<img src=\"projection.png\" width=\"80%\">\n",
    "\n",
    "**Note:** $\\theta$ in the image above is the same as $c$\n",
    "\n",
    "Cite: [CS760 Regression Slide](https://pages.cs.wisc.edu/~fredsala/cs760/fall2021/slides/lecture6-regression.pdf)\n",
    "\n",
    "### Fruit Sales Example"
   ]
  },
  {
   "cell_type": "code",
   "execution_count": null,
   "id": "3506a459",
   "metadata": {},
   "outputs": [],
   "source": [
    "X = np.array([\n",
    "    [10, 0, 1],\n",
    "    [2, 8, 1],\n",
    "    [4, 4, 1],\n",
    "    [10, 4, 1],\n",
    "    [10, 4, 1]\n",
    "])\n",
    "y = np.array([7, 5, 5, 8, 8.5]).reshape(-1, 1)\n",
    "y"
   ]
  },
  {
   "cell_type": "code",
   "execution_count": null,
   "id": "8e05d783",
   "metadata": {},
   "outputs": [],
   "source": [
    "c = np.linalg.solve(X, y)\n",
    "c"
   ]
  },
  {
   "cell_type": "markdown",
   "id": "bc38a0cd",
   "metadata": {},
   "source": [
    "Multiply both sides by `X.T` ---> this will usually make it solvable."
   ]
  },
  {
   "cell_type": "code",
   "execution_count": null,
   "id": "436b8a71",
   "metadata": {},
   "outputs": [],
   "source": [
    "c = np.linalg.solve(????, ????)\n",
    "c"
   ]
  },
  {
   "cell_type": "markdown",
   "id": "f72a42e5",
   "metadata": {},
   "source": [
    "What is special about multiplication of a matrix with its transpose? Resultant shape is always a square."
   ]
  },
  {
   "cell_type": "code",
   "execution_count": null,
   "id": "e03457dd-7f50-4ebc-ac9f-3ffa247a0572",
   "metadata": {},
   "outputs": [],
   "source": [
    "X.T.shape"
   ]
  },
  {
   "cell_type": "code",
   "execution_count": null,
   "id": "333d3ddd-646f-4395-97b9-280212a68659",
   "metadata": {},
   "outputs": [],
   "source": [
    "X.shape"
   ]
  },
  {
   "cell_type": "code",
   "execution_count": null,
   "id": "9d18971c",
   "metadata": {},
   "outputs": [],
   "source": [
    "(X.T @ X).shape"
   ]
  },
  {
   "cell_type": "markdown",
   "id": "d08e23e1",
   "metadata": {},
   "source": [
    "Let's compute $P = X(X^TX)^{-1}X^T$.\n",
    "\n",
    "- **IMPORTANT**: We are not going to discuss how inverse works. That is beyond the scope of CS320.\n",
    "\n",
    "### `np.linalg.inv(a)`\n",
    "\n",
    "- computes the (multiplicative) inverse of a matrix.\n",
    "- documentation: https://numpy.org/doc/stable/reference/generated/numpy.linalg.inv.html"
   ]
  },
  {
   "cell_type": "code",
   "execution_count": null,
   "id": "243c2127",
   "metadata": {},
   "outputs": [],
   "source": [
    "P = ????\n",
    "P"
   ]
  },
  {
   "cell_type": "code",
   "execution_count": null,
   "id": "1e0681e9",
   "metadata": {},
   "outputs": [],
   "source": [
    "X"
   ]
  },
  {
   "cell_type": "code",
   "execution_count": null,
   "id": "3e881e59",
   "metadata": {},
   "outputs": [],
   "source": [
    "y"
   ]
  },
  {
   "cell_type": "markdown",
   "id": "1d8e442c",
   "metadata": {},
   "source": [
    "The new vector will be as \"close as possible\" to the original vector."
   ]
  },
  {
   "cell_type": "code",
   "execution_count": null,
   "id": "33aeabe1",
   "metadata": {},
   "outputs": [],
   "source": [
    "P @ y"
   ]
  },
  {
   "cell_type": "markdown",
   "id": "b36c1335",
   "metadata": {},
   "source": [
    "#### Scatter plot visualization\n",
    "\n",
    "**IMPORTANT**: We are not going to discuss how `np.random.normal` works. You can look up the documentation if you are interested."
   ]
  },
  {
   "cell_type": "code",
   "execution_count": null,
   "id": "921938e2",
   "metadata": {},
   "outputs": [],
   "source": [
    "x = np.random.normal(5, 2, size=(10, 1))\n",
    "y = 2*x + np.random.normal(size=x.shape)\n",
    "df = pd.DataFrame({\"x\": x.reshape(-1), \"y\": y.reshape(-1)})\n",
    "df"
   ]
  },
  {
   "cell_type": "code",
   "execution_count": null,
   "id": "f6052130",
   "metadata": {},
   "outputs": [],
   "source": [
    "df.plot.scatter(x=\"x\", y=\"y\", figsize=(5, 5))"
   ]
  },
  {
   "cell_type": "code",
   "execution_count": null,
   "id": "8304b0fb",
   "metadata": {},
   "outputs": [],
   "source": [
    "X = ????.????\n",
    "X"
   ]
  },
  {
   "cell_type": "code",
   "execution_count": null,
   "id": "b9f4403e",
   "metadata": {},
   "outputs": [],
   "source": [
    "P = X @ np.linalg.inv(X.T @ X) @ X.T\n",
    "P"
   ]
  },
  {
   "cell_type": "code",
   "execution_count": null,
   "id": "db976c33",
   "metadata": {},
   "outputs": [],
   "source": [
    "df[\"p\"] = P @ ????\n",
    "df"
   ]
  },
  {
   "cell_type": "code",
   "execution_count": null,
   "id": "9aab4539",
   "metadata": {},
   "outputs": [],
   "source": [
    "ax = df.plot.scatter(x=\"x\", y=\"y\", figsize=(5, 5), color=\"k\")\n",
    "df.plot.scatter(x=\"x\", y=????, color=\"r\", ax=ax)"
   ]
  },
  {
   "cell_type": "markdown",
   "id": "d1182ba3",
   "metadata": {},
   "source": [
    "### Euclidean Distance between columns\n",
    "\n",
    "- how close is the new vector (`P @ y`) to the original vector (`y`)?\n",
    "- $dist$ = $\\sqrt{(x2 - x1)^2 + (y2 - y1)^2}$"
   ]
  },
  {
   "cell_type": "code",
   "execution_count": null,
   "id": "bfd1ce1d",
   "metadata": {},
   "outputs": [],
   "source": [
    "coords = pd.DataFrame({\n",
    "    \"v1\": [1, 8],\n",
    "    \"v2\": [4, 12],\n",
    "}, index=[\"x\", \"y\"])\n",
    "coords"
   ]
  },
  {
   "cell_type": "code",
   "execution_count": null,
   "id": "cae18757",
   "metadata": {},
   "outputs": [],
   "source": [
    "# distance between v1 and v2 is 5\n",
    "((coords[\"v1\"] - coords[\"v2\"]) ** 2).sum() ** 0.5 "
   ]
  },
  {
   "cell_type": "code",
   "execution_count": null,
   "id": "1e096c19",
   "metadata": {},
   "outputs": [],
   "source": [
    "# this is the smallest possible distance between y and p, such\n",
    "# that X @ c = p is solveable\n",
    "((???? - ????) ** 2).sum() ** 0.5"
   ]
  },
  {
   "cell_type": "markdown",
   "id": "42945982",
   "metadata": {},
   "source": [
    "### Lab review"
   ]
  },
  {
   "cell_type": "code",
   "execution_count": null,
   "id": "6758c077",
   "metadata": {
    "scrolled": true
   },
   "outputs": [],
   "source": [
    "# As an exception, I am providing all the relevant import statements in this cell\n",
    "import numpy as np\n",
    "import rasterio\n",
    "from rasterio.mask import mask\n",
    "from shapely.geometry import box\n",
    "import geopandas as gpd\n",
    "\n",
    "land = rasterio.open(\"zip://land.zip!wi.tif\")\n",
    "# a = land.read()\n",
    "window = gpd.GeoSeries([box(-89.5, 43, -89.2, 43.2)]).set_crs(\"epsg:4326\").to_crs(land.crs)\n",
    "plt.imshow(mask(land, window, crop=True)[0][0])"
   ]
  },
  {
   "cell_type": "markdown",
   "id": "f53db4d6",
   "metadata": {},
   "source": [
    "# Classification 1"
   ]
  },
  {
   "cell_type": "code",
   "execution_count": null,
   "id": "cff661e3",
   "metadata": {},
   "outputs": [],
   "source": [
    "data = datasets.load_iris()\n",
    "df = pd.DataFrame(data[\"data\"], columns=data[\"feature_names\"]).drop(columns=[\"petal length (cm)\"])\n",
    "df.insert(2, \"const\", 1)\n",
    "df[\"variety\"] = data[\"target_names\"][data[\"target\"]]\n",
    "df.insert(4, \"setosa\", df[\"variety\"] == \"setosa\")"
   ]
  },
  {
   "cell_type": "code",
   "execution_count": null,
   "id": "de38eb62",
   "metadata": {},
   "outputs": [],
   "source": [
    "xcols = [\"sepal length (cm)\", \"sepal width (cm)\", \"const\"]\n",
    "train, test = train_test_split(df, test_size=10, random_state=5)\n",
    "test"
   ]
  },
  {
   "cell_type": "markdown",
   "id": "2c26bfa5",
   "metadata": {},
   "source": [
    "### Model 1: Predict petal width\n",
    "\n",
    "- regression problem"
   ]
  },
  {
   "cell_type": "code",
   "execution_count": null,
   "id": "1ee84b66",
   "metadata": {},
   "outputs": [],
   "source": [
    "xcols = [\"sepal length (cm)\", \"sepal width (cm)\", \"const\"]\n",
    "ycol = ????\n",
    "\n",
    "# 1. initialize model\n",
    "reg_model = ????(fit_intercept=False)\n",
    "# 2. fit using train data\n",
    "reg_model.fit(????, ????)\n",
    "# 3. predict for test data and add predictions as a column\n",
    "test[\"pet_width_predictions\"] = reg_model.predict(????)\n",
    "test"
   ]
  },
  {
   "cell_type": "code",
   "execution_count": null,
   "id": "ac534304-6488-42f7-aebc-dd540de97f70",
   "metadata": {},
   "outputs": [],
   "source": [
    "reg_model.score(????, ????)"
   ]
  },
  {
   "cell_type": "markdown",
   "id": "897596a3",
   "metadata": {},
   "source": [
    "### LogisticRegression\n",
    "\n",
    "- classification model\n",
    "- predict categorical labels"
   ]
  },
  {
   "cell_type": "markdown",
   "id": "66d1deca",
   "metadata": {},
   "source": [
    "### Model 2: Predict whether flower is \"setosa\"\n",
    "\n",
    "- classification problem, specifically binary classification: True / False"
   ]
  },
  {
   "cell_type": "code",
   "execution_count": null,
   "id": "6025224c",
   "metadata": {},
   "outputs": [],
   "source": [
    "xcols = [\"sepal length (cm)\", \"sepal width (cm)\", \"const\"]\n",
    "ycol = ????\n",
    "\n",
    "# 1. initialize model\n",
    "cls_model = ????(fit_intercept=False)\n",
    "# 2. fit using train data\n",
    "cls_model.fit(train[xcols], train[ycol])\n",
    "# 3. predict for test data and add predictions as a column\n",
    "test[\"setosa_predictions\"] = cls_model.predict(test[xcols])\n",
    "test"
   ]
  },
  {
   "cell_type": "markdown",
   "id": "4f70c5cb",
   "metadata": {},
   "source": [
    "What is the accuracy? That is what percent of the time is it correct?\n",
    "\n",
    "Review of `score` method."
   ]
  },
  {
   "cell_type": "code",
   "execution_count": null,
   "id": "1e9cc9d0",
   "metadata": {},
   "outputs": [],
   "source": [
    "cls_model.score(test[xcols], test[ycol])"
   ]
  },
  {
   "cell_type": "markdown",
   "id": "99f3abec",
   "metadata": {},
   "source": [
    "### Model 2b: Predict probablity of flower being \"setosa\"\n",
    "\n",
    "- classification problem, probablity between 0 to 1"
   ]
  },
  {
   "cell_type": "markdown",
   "id": "740f37a4",
   "metadata": {},
   "source": [
    "#### `<model object>.predict_proba(X)`\n",
    "\n",
    "- Calibrated probabilities of classification.\n",
    "- returns a numpy array of probabilities (that it is True):\n",
    "    - [[False probablity, True probablity], ...]\n",
    "- documentation: https://scikit-learn.org/stable/modules/generated/sklearn.calibration.CalibratedClassifierCV.html#sklearn.calibration.CalibratedClassifierCV.predict_proba"
   ]
  },
  {
   "cell_type": "code",
   "execution_count": null,
   "id": "99888847",
   "metadata": {},
   "outputs": [],
   "source": [
    "cls_model.????(test[xcols])  "
   ]
  },
  {
   "cell_type": "markdown",
   "id": "347e47d1",
   "metadata": {},
   "source": [
    "Extract just the True probablities."
   ]
  },
  {
   "cell_type": "code",
   "execution_count": null,
   "id": "b305853c",
   "metadata": {},
   "outputs": [],
   "source": [
    "cls_model.predict_proba(test[xcols])[:, ????]"
   ]
  },
  {
   "cell_type": "code",
   "execution_count": null,
   "id": "2e951243",
   "metadata": {},
   "outputs": [],
   "source": [
    "test[\"setosa_prob\"] = cls_model.predict_proba(test[xcols])[:, ????]\n",
    "test"
   ]
  },
  {
   "cell_type": "markdown",
   "id": "05949884",
   "metadata": {},
   "source": [
    "### Model 4: Predict variety of flower\n",
    "\n",
    "- classification problem, specifically multi-class classification for `variety`"
   ]
  },
  {
   "cell_type": "code",
   "execution_count": null,
   "id": "c5b193b9",
   "metadata": {},
   "outputs": [],
   "source": [
    "# PREDICT: which of the 3 varieties is a particular Iris?\n",
    "xcols = [\"sepal length (cm)\", \"sepal width (cm)\", \"const\"]\n",
    "ycol = ????\n",
    "\n",
    "# 1. initialize model\n",
    "mult_model = LogisticRegression(fit_intercept=False)\n",
    "# 2. fit using train data\n",
    "mult_model.fit(train[xcols], train[ycol])\n",
    "# 3. predict for test data and add predictions as a column\n",
    "test[\"variety_predictions\"] = mult_model.predict(test[xcols])\n",
    "test"
   ]
  },
  {
   "cell_type": "markdown",
   "id": "e6f289e0",
   "metadata": {},
   "source": [
    "What is the accuracy?"
   ]
  },
  {
   "cell_type": "code",
   "execution_count": null,
   "id": "aadff6a5",
   "metadata": {},
   "outputs": [],
   "source": [
    "mult_model.score(test[xcols], test[ycol])"
   ]
  }
 ],
 "metadata": {
  "kernelspec": {
   "display_name": "Python 3 (ipykernel)",
   "language": "python",
   "name": "python3"
  },
  "language_info": {
   "codemirror_mode": {
    "name": "ipython",
    "version": 3
   },
   "file_extension": ".py",
   "mimetype": "text/x-python",
   "name": "python",
   "nbconvert_exporter": "python",
   "pygments_lexer": "ipython3",
   "version": "3.10.6"
  }
 },
 "nbformat": 4,
 "nbformat_minor": 5
}
