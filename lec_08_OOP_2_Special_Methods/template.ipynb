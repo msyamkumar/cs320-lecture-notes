{
 "cells": [
  {
   "cell_type": "markdown",
   "id": "6a0e201f",
   "metadata": {},
   "source": [
    "# OOP 1: Classes\n",
    "\n",
    "- Creating new types using classes\n",
    "- Types have specific attributes and methods (special functions)\n",
    "- Using new types (classes), we can create object instances of those types\n",
    "- class creation and instantiation syntax: \n",
    "```python\n",
    "class Person:\n",
    "    # some code\n",
    "p1 = Person() # object instantiation using constructor\n",
    "p2 = Person() # object instantiation using constructor\n",
    "```\n",
    "- attribute / method access syntax:\n",
    "```python\n",
    "p1.fname = \"...\" # attribute initialization\n",
    "p1.lname = \"...\" # attribute initialization\n",
    "```"
   ]
  },
  {
   "cell_type": "markdown",
   "id": "b84a58bc",
   "metadata": {},
   "source": [
    "#### PythonTutor example"
   ]
  },
  {
   "cell_type": "code",
   "execution_count": null,
   "id": "b83723fe",
   "metadata": {},
   "outputs": [],
   "source": [
    "p1 = {\"fname\": \"Bob\", \"lname\": \"Baker\"}\n",
    "\n",
    "p2 = dict()\n",
    "p2[\"fname\"] = \"Cindy\"\n",
    "p2[\"lname\"] = \"Cooper\"\n",
    "\n",
    "p3 = {\"Fname\": \"Alice\", \"lname\": \"Anderson\"}\n",
    "\n",
    "# TODO: Let's define a Person class"
   ]
  },
  {
   "cell_type": "markdown",
   "id": "2bb4fa27",
   "metadata": {},
   "source": [
    "### `f-strings`\n",
    "\n",
    "- aka formatted string literals\n",
    "- easier and quicker way of formatting `str` than `str.format(...)` method\n",
    "\n",
    "- Syntax: \n",
    "```python\n",
    "f\"{} ...\"\n",
    "```\n",
    "- inside `{}` you can specify a variable or even call a function or a method\n",
    "\n",
    "### `Dog` class"
   ]
  },
  {
   "cell_type": "code",
   "execution_count": null,
   "id": "93ba6c81",
   "metadata": {},
   "outputs": [],
   "source": [
    "class Dog:\n",
    "    pass # eventually we will learn how to write code inside a class\n",
    "\n",
    "# Let's create Dog object instances\n",
    "dog1 = Dog()        # object instantiation using constructor\n",
    "dog1.name = \"Jimmy\" # attribute initialization\n",
    "dog1.age = 1\n",
    "\n",
    "dog2 = Dog()\n",
    "dog2.name = \"Buster\"\n",
    "\n",
    "# Regular function that accepts an object instance of the new type\n",
    "def speak(dog):\n",
    "    \"\"\"\n",
    "    Puppies (age < 2) bark thrice, whereas dogs bark once.\n",
    "    \"\"\"\n",
    "    if dog.age < 2:\n",
    "        print(\": bark bark bark!\")\n",
    "    else:\n",
    "        print(\": bark!\")\n",
    "        \n",
    "\n",
    "# Invoke speak for dog1 and dog2\n",
    "speak(dog1)\n",
    "speak(dog2)"
   ]
  },
  {
   "cell_type": "markdown",
   "id": "17a89e1e",
   "metadata": {},
   "source": [
    "### How can we avoid missing filling in attribute values?"
   ]
  },
  {
   "cell_type": "code",
   "execution_count": null,
   "id": "d20c2f35",
   "metadata": {},
   "outputs": [],
   "source": [
    "def init(???):\n",
    "    "
   ]
  },
  {
   "cell_type": "code",
   "execution_count": null,
   "id": "8dfa5499",
   "metadata": {},
   "outputs": [],
   "source": [
    "dog2 = Dog()\n",
    "init(dog2, \"Buster\", 10)\n",
    "speak(dog2)"
   ]
  },
  {
   "cell_type": "markdown",
   "id": "0b091c61",
   "metadata": {},
   "source": [
    "### What if there are two `speak` functions? Let's define a Cat class and corresponding `speak` function."
   ]
  },
  {
   "cell_type": "code",
   "execution_count": null,
   "id": "eaf478bd",
   "metadata": {},
   "outputs": [],
   "source": [
    "class Cat:\n",
    "    pass\n",
    "\n",
    "cat1 = Cat()\n",
    "\n",
    "def speak(cat):\n",
    "    \"\"\"\n",
    "    Cats meow!\n",
    "    \"\"\"\n",
    "    print(\"meow!\")"
   ]
  },
  {
   "cell_type": "markdown",
   "id": "11a22577",
   "metadata": {},
   "source": [
    "### What will be the output of the below function calls?"
   ]
  },
  {
   "cell_type": "code",
   "execution_count": null,
   "id": "7d93e7de",
   "metadata": {},
   "outputs": [],
   "source": [
    "speak(dog1)\n",
    "speak(dog2)\n",
    "speak(cat1)"
   ]
  },
  {
   "cell_type": "markdown",
   "id": "6d1586f2",
   "metadata": {},
   "source": [
    "### We lost the previous definition of the `speak` function because it is a function. What if `speak` were a method instead?"
   ]
  },
  {
   "cell_type": "markdown",
   "id": "a45ff879",
   "metadata": {},
   "source": [
    "### **IMPORTANT**: it is not recommended to re-define same `class`. This is shown only for example purposes. You must always go back to the original cell and update the definition there."
   ]
  },
  {
   "cell_type": "code",
   "execution_count": null,
   "id": "61b2fed5",
   "metadata": {},
   "outputs": [],
   "source": [
    "class Dog:\n",
    "    pass # eventually we will learn how to write code inside a class\n",
    "\n",
    "# Regular function that accepts an object instance of the new type\n",
    "def speak(dog):\n",
    "    \"\"\"\n",
    "    Puppies (age < 2) bark thrice, whereas dogs bark once.\n",
    "    \"\"\"\n",
    "    if dog.age < 2:\n",
    "        #print(dog.name + \": bark bark bark!\")\n",
    "        print(f\"{dog.name}: bark bark bark!\")\n",
    "    else:\n",
    "        #print(dog.name + \": bark!\")\n",
    "        print(f\"{dog.name}: bark!\")\n",
    "        \n",
    "# Regular function that accepts an object instance of the new type along with attribute values\n",
    "def init(dog, name, how_old):\n",
    "    dog.name = name\n",
    "    dog.age = how_old\n",
    "        \n",
    "class Cat:\n",
    "    pass\n",
    "\n",
    "def speak(cat):\n",
    "    \"\"\"\n",
    "    Cats meow!\n",
    "    \"\"\"\n",
    "    print(\"meow!\")\n",
    "    \n",
    "# Let's create object instances\n",
    "dog1 = Dog()\n",
    "init(dog1, \"Jimmy\", 1)\n",
    "\n",
    "dog2 = Dog()\n",
    "init(dog2, \"Buster\", 10)\n",
    "\n",
    "cat1 = Cat()"
   ]
  },
  {
   "cell_type": "code",
   "execution_count": null,
   "id": "a63a5d47",
   "metadata": {},
   "outputs": [],
   "source": [
    "# speak now is a method, so we need to use . attribute operator for invocation\n",
    "speak(dog1)\n",
    "speak(dog2)\n",
    "speak(cat1)"
   ]
  },
  {
   "cell_type": "markdown",
   "id": "647f78fa",
   "metadata": {},
   "source": [
    "### Type-based dispatch"
   ]
  },
  {
   "cell_type": "markdown",
   "id": "e3b14325",
   "metadata": {},
   "source": [
    "#### Let's create a list of animals and print `type` of each animal."
   ]
  },
  {
   "cell_type": "code",
   "execution_count": null,
   "id": "a3ff059f",
   "metadata": {},
   "outputs": [],
   "source": [
    "animals = [dog1, dog2, cat1]\n",
    "\n",
    "for animal in animals:\n",
    "    print(type(animal))"
   ]
  },
  {
   "cell_type": "markdown",
   "id": "a8606eb2",
   "metadata": {},
   "source": [
    "#### Even though `type` output displays additional details, in essense type is just name of the class: `Dog`, `Cat`, etc.,."
   ]
  },
  {
   "cell_type": "code",
   "execution_count": null,
   "id": "b168fe0d",
   "metadata": {},
   "outputs": [],
   "source": [
    "type(dog1) == Dog"
   ]
  },
  {
   "cell_type": "code",
   "execution_count": null,
   "id": "48ac8b5e",
   "metadata": {},
   "outputs": [],
   "source": [
    "type(cat1) == Cat"
   ]
  },
  {
   "cell_type": "markdown",
   "id": "e4a096a7",
   "metadata": {},
   "source": [
    "#### Let's invoke speak for all animals."
   ]
  },
  {
   "cell_type": "code",
   "execution_count": null,
   "id": "f13bba00",
   "metadata": {},
   "outputs": [],
   "source": [
    "# v1: bad version\n",
    "for animal in animals:\n",
    "    if type(animal) == Dog:\n",
    "        Dog.speak(animal)\n",
    "    elif type(animal) == Cat:\n",
    "        Cat.speak(animal)\n",
    "    # this conditional will keep growing as we add more and \n",
    "    # more animal classes!"
   ]
  },
  {
   "cell_type": "markdown",
   "id": "82e98084",
   "metadata": {},
   "source": [
    "#### Here is a slightly better version"
   ]
  },
  {
   "cell_type": "code",
   "execution_count": null,
   "id": "5c146b07",
   "metadata": {},
   "outputs": [],
   "source": [
    "for animal in animals:\n",
    "    type(animal).speak(animal)"
   ]
  },
  {
   "cell_type": "markdown",
   "id": "91bbb985",
   "metadata": {},
   "source": [
    "### Method invocation (most commonly used syntax)\n",
    "\n",
    "Notice how the animal is redundant. There is a better way to invoke methods.\n",
    "\n",
    "- Syntax: `obj_ref.method()`\n",
    "- `obj_ref` itself will be the first argument to the method."
   ]
  },
  {
   "cell_type": "code",
   "execution_count": null,
   "id": "286fc216",
   "metadata": {},
   "outputs": [],
   "source": [
    "for animal in animals:\n",
    "    # this is equivalent to type(animal).speak(animal)\n",
    "    "
   ]
  },
  {
   "cell_type": "markdown",
   "id": "c9b04c15",
   "metadata": {},
   "source": [
    "#### Let's try passing an argument to `speak` method."
   ]
  },
  {
   "cell_type": "code",
   "execution_count": null,
   "id": "1e00452f",
   "metadata": {},
   "outputs": [],
   "source": [
    "dog1.speak(\"hello\")\n",
    "# Observe how TypeError says 1 positional argument expected"
   ]
  },
  {
   "cell_type": "markdown",
   "id": "48f566dd",
   "metadata": {},
   "source": [
    "## `self`\n",
    "\n",
    "- dedicated special variable that refers to the current object instance (aka receiver) inside a class\n",
    "- attribute access inside the class **must** always use `self.<attribute>` syntax"
   ]
  },
  {
   "cell_type": "code",
   "execution_count": null,
   "id": "1bc8f198",
   "metadata": {},
   "outputs": [],
   "source": [
    "class Dog:\n",
    "    # regular method\n",
    "    def init(dog, name, how_old): \n",
    "        dog.name = name\n",
    "        dog.age = how_old\n",
    "    \n",
    "    # regular method\n",
    "    def speak(dog):\n",
    "        \"\"\"\n",
    "        Puppies (age < 2) bark thrice, whereas dogs bark once.\n",
    "        \"\"\"\n",
    "        if dog.age < 2:\n",
    "            #print(dog.name + \": bark bark bark!\")\n",
    "            print(f\"{dog.name}: bark bark bark!\")\n",
    "        else:\n",
    "            #print(dog.name + \": bark!\")\n",
    "            print(f\"{dog.name}: bark!\")\n",
    "\n",
    "# Let's create Dog object instances\n",
    "dog1 = Dog() \n",
    "dog1.init(\"Jimmy\", 1)\n",
    "\n",
    "dog2 = Dog()\n",
    "dog2.init(\"Buster\", 10)\n",
    "\n",
    "# Invoke speak for dog1 and dog2\n",
    "dog1.speak()\n",
    "dog2.speak()"
   ]
  },
  {
   "cell_type": "markdown",
   "id": "4c67afa7",
   "metadata": {},
   "source": [
    "# OOP: Special Methods\n",
    "\n",
    "\"Special methods\" is a technical term referring to methods that get called automatically. In Python, they usually begin and end with double underscores.\n",
    "- **Note:** you could define a regular method with `__<method>__`."
   ]
  },
  {
   "cell_type": "markdown",
   "id": "8cfcbee3",
   "metadata": {},
   "source": [
    "### `__init__` special method (aka Constructor)\n",
    "\n",
    "- automatically invoked when creating an object instance\n",
    "- only one possible constructor in Python"
   ]
  },
  {
   "cell_type": "code",
   "execution_count": null,
   "id": "9af13b39",
   "metadata": {},
   "outputs": [],
   "source": [
    "# This is the correct and final version of Dog class\n",
    "class Dog:\n",
    "    # regular method\n",
    "    def init(self, name, how_old): \n",
    "        self.name = name\n",
    "        self.age = how_old\n",
    "    \n",
    "    # regular method\n",
    "    def speak(self):\n",
    "        \"\"\"\n",
    "        Puppies (age < 2) bark thrice, whereas dogs bark once.\n",
    "        \"\"\"\n",
    "        if self.age < 2:\n",
    "            #print(dog.name + \": bark bark bark!\")\n",
    "            print(f\"{self.name}: bark bark bark!\")\n",
    "        else:\n",
    "            #print(dog.name + \": bark!\")\n",
    "            print(f\"{self.name}: bark!\")\n",
    "\n",
    "\n",
    "# Let's create Dog object instances\n",
    "dog1 = Dog() \n",
    "dog1.init(\"Jimmy\", 1)\n",
    "\n",
    "dog2 = Dog()\n",
    "dog2.init(\"Buster\", 10)\n",
    "\n",
    "# Invoke speak for dog1 and dog2\n",
    "dog1.speak()\n",
    "dog2.speak()"
   ]
  },
  {
   "cell_type": "markdown",
   "id": "0b3b586c",
   "metadata": {},
   "source": [
    "## Earthquake example"
   ]
  },
  {
   "cell_type": "code",
   "execution_count": null,
   "id": "2c78dcb6",
   "metadata": {},
   "outputs": [],
   "source": [
    "# represent earthquakes using classes\n",
    "\n",
    "quake_dicts = [   \n",
    "    {   'loc': {'lat': 35.6791667, 'lon': -117.5221667},\n",
    "        'mag': 1.56,\n",
    "        'place': '14km SW of Searles Valley, CA',\n",
    "        'time': 1634775231730},\n",
    "    {   'loc': {'lat': 43.8144, 'lon': 84.2395},\n",
    "        'mag': 4.6,\n",
    "        'place': '90 km ENE of Xinyuan, China',\n",
    "        'time': 1634775144081},\n",
    "    {   'loc': {'lat': 60.1499, 'lon': -153.0747},\n",
    "        'mag': 1.7,\n",
    "        'place': '69 km E of Port Alsworth, Alaska',\n",
    "        'time': 1634775046520},\n",
    "    {   'loc': {'lat': 19.2353324890137, 'lon': -155.408340454102},\n",
    "        'mag': 1.99000001,\n",
    "        'place': '8 km ENE of P?hala, Hawaii',\n",
    "        'time': 1634774881920},\n",
    "    {   'loc': {'lat': 61.1456, 'lon': -151.1505},\n",
    "        'mag': 1.4,\n",
    "        'place': '3 km W of Beluga, Alaska',\n",
    "        'time': 1634774737242}]\n",
    "\n",
    "def place_miles(quake):\n",
    "    \"\"\"\n",
    "    converts \"place\" km to miles\n",
    "    \"\"\"\n",
    "    place = quake[\"place\"]\n",
    "    km_idx = place.find(\"km\")\n",
    "    \n",
    "    if km_idx < 0:\n",
    "        return place\n",
    "    \n",
    "    num = place[:km_idx].strip()\n",
    "    if not num.isdigit():\n",
    "        return place\n",
    "    \n",
    "    miles = round(float(num) * 0.621371, 2)\n",
    "    return f\"{miles} miles{place[km_idx+2:]}\"\n",
    "\n",
    "place_miles(quake_dicts[4])"
   ]
  },
  {
   "cell_type": "markdown",
   "id": "a0c6dd81",
   "metadata": {},
   "source": [
    "### Two possible classes: `Earthquake` and `Location`."
   ]
  },
  {
   "cell_type": "code",
   "execution_count": null,
   "id": "e691488c",
   "metadata": {},
   "outputs": [],
   "source": [
    "# TODO: create Location class\n"
   ]
  },
  {
   "cell_type": "markdown",
   "id": "07eaacf5",
   "metadata": {},
   "source": [
    "#### We can use attribute operator (`.`) to access attributes and print it."
   ]
  },
  {
   "cell_type": "code",
   "execution_count": null,
   "id": "3fc74480",
   "metadata": {},
   "outputs": [],
   "source": [
    "print(loc1.lat)"
   ]
  },
  {
   "cell_type": "markdown",
   "id": "3e55f8d2",
   "metadata": {},
   "source": [
    "#### What if we pass the object instance itself as argument to `print`?"
   ]
  },
  {
   "cell_type": "code",
   "execution_count": null,
   "id": "f1acc158",
   "metadata": {},
   "outputs": [],
   "source": [
    "print(loc1)"
   ]
  },
  {
   "cell_type": "markdown",
   "id": "29c8c63a",
   "metadata": {},
   "source": [
    "#### Or display the reference variable?"
   ]
  },
  {
   "cell_type": "code",
   "execution_count": null,
   "id": "ea1d62c3",
   "metadata": {},
   "outputs": [],
   "source": [
    "loc1"
   ]
  },
  {
   "cell_type": "markdown",
   "id": "014d2fa0",
   "metadata": {},
   "source": [
    "### `__str__` and `__repr__` special methods\n",
    "\n",
    "- `__str__` is implicitly invoked when we invoke `print` (user friendly form)\n",
    "- `__rep__` (aka representation) is implicitly invoked when displaying the object instance (programmer friendly form)\n",
    "- Both methods must return a `str` value"
   ]
  },
  {
   "cell_type": "code",
   "execution_count": null,
   "id": "eb63f7e7",
   "metadata": {},
   "outputs": [],
   "source": [
    "s = \"A\\nB\"\n",
    "print(s) # invokes __str__"
   ]
  },
  {
   "cell_type": "code",
   "execution_count": null,
   "id": "1029a019",
   "metadata": {},
   "outputs": [],
   "source": [
    "s # invokes __repr__"
   ]
  },
  {
   "cell_type": "code",
   "execution_count": null,
   "id": "cf3b5b34",
   "metadata": {},
   "outputs": [],
   "source": [
    "# TODO: go back and define __str__ and __repr__ methods for Loction class"
   ]
  },
  {
   "cell_type": "code",
   "execution_count": null,
   "id": "23328a9d",
   "metadata": {},
   "outputs": [],
   "source": [
    "print(loc1)"
   ]
  },
  {
   "cell_type": "code",
   "execution_count": null,
   "id": "c459655f",
   "metadata": {},
   "outputs": [],
   "source": [
    "loc1"
   ]
  },
  {
   "cell_type": "markdown",
   "id": "2bf87b06",
   "metadata": {},
   "source": [
    "### `_repr_html` special method --- `jupyter` special method (not a special method for Python)\n",
    "\n",
    "- Observe that we have single `_`instead of `__`\n",
    "- Enables us to create a HTML display for the object instances\n",
    "- Invoked when using displaying reference variable inside `jupyter`\n",
    "- **IMPORTANT**: `_repr_html_` won't work in `.py` script file\n",
    "- Used by `pandas` to display `DataFrame` (uses HTML table format)"
   ]
  },
  {
   "cell_type": "code",
   "execution_count": null,
   "id": "d3d82fdb",
   "metadata": {},
   "outputs": [],
   "source": [
    "# TODO: create Earthquake class\n",
    "\n",
    "class Earthquake:\n",
    "    def __init__(self, ???):\n",
    "        self.place = \n",
    "        self.time = \n",
    "        self.mag = \n",
    "        self.loc = \n",
    "        \n",
    "#     def __repr__(self):\n",
    "#         return f\"Magnitude {self.mag} earthquake at {self.place} ({self.loc})\"\n",
    "        \n",
    "\n",
    "    \n",
    "        \n",
    "e1 = Earthquake(quake_dicts[0])\n",
    "e2 = Earthquake(quake_dicts[1])\n",
    "e3 = Earthquake(quake_dicts[4])"
   ]
  },
  {
   "cell_type": "code",
   "execution_count": null,
   "id": "faf4e4c7",
   "metadata": {},
   "outputs": [],
   "source": [
    "e1"
   ]
  },
  {
   "cell_type": "code",
   "execution_count": null,
   "id": "30af3758",
   "metadata": {},
   "outputs": [],
   "source": [
    "e2"
   ]
  },
  {
   "cell_type": "code",
   "execution_count": null,
   "id": "fb940e43",
   "metadata": {},
   "outputs": [],
   "source": [
    "e3"
   ]
  },
  {
   "cell_type": "markdown",
   "id": "104bf1e3",
   "metadata": {},
   "source": [
    "#### If we have a list of references, `jupyter` defaults back to `__repr__`"
   ]
  },
  {
   "cell_type": "code",
   "execution_count": null,
   "id": "40f1b84d",
   "metadata": {},
   "outputs": [],
   "source": [
    "# TODO: go back and define __repr__ special method for Earthquake class\n",
    "[e1, e2, e3]"
   ]
  },
  {
   "cell_type": "markdown",
   "id": "b600c42e",
   "metadata": {},
   "source": [
    "### `__eq__` special method\n",
    "\n",
    "- Enables us to define how `==` should work when we compare two object instances of our custom class type\n",
    "- Automatically invoked when using `==` comparison operator\n",
    "- Takes two arguments (two object instances: `self` and other)\n",
    "- Must return a `bool` value"
   ]
  },
  {
   "cell_type": "code",
   "execution_count": null,
   "id": "37e3892d",
   "metadata": {},
   "outputs": [],
   "source": [
    "# TODO: go back and define __eq__ special method for Location class"
   ]
  },
  {
   "cell_type": "code",
   "execution_count": null,
   "id": "06e69b7a",
   "metadata": {},
   "outputs": [],
   "source": [
    "loc1 == loc1 # implicitly invokes loc1.__eq__(loc1)"
   ]
  },
  {
   "cell_type": "code",
   "execution_count": null,
   "id": "27e2b0fd",
   "metadata": {},
   "outputs": [],
   "source": [
    "loc1 == loc2 # implicitly invokes loc1.__eq__(loc2)"
   ]
  },
  {
   "cell_type": "markdown",
   "id": "ba9c406c",
   "metadata": {},
   "source": [
    "### `__lt__` special method\n",
    "\n",
    "- Enables us to define how `<` should work when we compare two object instances of our custom class type\n",
    "- Automatically invoked when using `<` comparison operator\n",
    "- Takes two arguments (two object instances: `self` and other)\n",
    "- Must return a `bool` value"
   ]
  },
  {
   "cell_type": "code",
   "execution_count": null,
   "id": "030cb794",
   "metadata": {},
   "outputs": [],
   "source": [
    "# TODO: go back and define __eq__ special method for Earthquake class"
   ]
  },
  {
   "cell_type": "code",
   "execution_count": null,
   "id": "15c6d521",
   "metadata": {},
   "outputs": [],
   "source": [
    "e1 < e2 # implicitly invokes e1.__lt__(e2)"
   ]
  },
  {
   "cell_type": "code",
   "execution_count": null,
   "id": "163ef09e",
   "metadata": {},
   "outputs": [],
   "source": [
    "e2 < e3 # implicitly invokes e2.__lt__(e3)"
   ]
  }
 ],
 "metadata": {
  "kernelspec": {
   "display_name": "Python 3 (ipykernel)",
   "language": "python",
   "name": "python3"
  },
  "language_info": {
   "codemirror_mode": {
    "name": "ipython",
    "version": 3
   },
   "file_extension": ".py",
   "mimetype": "text/x-python",
   "name": "python",
   "nbconvert_exporter": "python",
   "pygments_lexer": "ipython3",
   "version": "3.9.13"
  }
 },
 "nbformat": 4,
 "nbformat_minor": 5
}
