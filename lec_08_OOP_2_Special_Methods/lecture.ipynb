{
 "cells": [
  {
   "cell_type": "markdown",
   "id": "bacf79e3",
   "metadata": {},
   "source": [
    "# OOP 1: Classes\n",
    "\n",
    "- Creating new types using classes\n",
    "- Types have specific attributes and methods (special functions)\n",
    "- Using new types (classes), we can create object instances of those types\n",
    "- class creation and instantiation syntax: \n",
    "```python\n",
    "class Person:\n",
    "    # some code\n",
    "p1 = Person() # object instantiation using constructor\n",
    "p2 = Person() # object instantiation using constructor\n",
    "```\n",
    "- attribute / method access syntax:\n",
    "```python\n",
    "p1.fname = \"...\" # attribute initialization\n",
    "p1.lname = \"...\" # attribute initialization\n",
    "```"
   ]
  },
  {
   "cell_type": "code",
   "execution_count": 1,
   "id": "561291e4",
   "metadata": {},
   "outputs": [],
   "source": [
    "p1 = {\"fname\": \"Bob\", \"lname\": \"Baker\"}\n",
    "\n",
    "p2 = dict()\n",
    "p2[\"fname\"] = \"Cindy\"\n",
    "p2[\"lname\"] = \"Cooper\"\n",
    "\n",
    "p3 = {\"Fname\": \"Alice\", \"lname\": \"Anderson\"}\n",
    "\n",
    "# TODO: Let's define a Person class\n",
    "class Person:\n",
    "    pass\n",
    "\n",
    "p4 = Person()\n",
    "p4.fname = \"Meena\"\n",
    "p4.lname = \"Syamkumar\""
   ]
  },
  {
   "cell_type": "markdown",
   "id": "db267566",
   "metadata": {},
   "source": [
    "### `f-strings`\n",
    "\n",
    "- aka formatted string literals\n",
    "- easier and quicker way of formatting `str` than `str.format(...)` method\n",
    "\n",
    "- Syntax: \n",
    "```python\n",
    "f\"{} ...\"\n",
    "```\n",
    "- inside `{}` you can specify a variable or even call a function or a method\n",
    "\n",
    "### `Dog` class"
   ]
  },
  {
   "cell_type": "code",
   "execution_count": 2,
   "id": "a2c2cb8a",
   "metadata": {},
   "outputs": [
    {
     "name": "stdout",
     "output_type": "stream",
     "text": [
      "Jimmy: bark bark bark!\n"
     ]
    },
    {
     "ename": "AttributeError",
     "evalue": "'Dog' object has no attribute 'age'",
     "output_type": "error",
     "traceback": [
      "\u001b[0;31m---------------------------------------------------------------------------\u001b[0m",
      "\u001b[0;31mAttributeError\u001b[0m                            Traceback (most recent call last)",
      "\u001b[0;32m/var/folders/cl/393mjdg57rv38cb5rqyxn6tc0000gn/T/ipykernel_51529/3540699309.py\u001b[0m in \u001b[0;36m<module>\u001b[0;34m\u001b[0m\n\u001b[1;32m     25\u001b[0m \u001b[0;31m# Invoke speak for dog1 and dog2\u001b[0m\u001b[0;34m\u001b[0m\u001b[0;34m\u001b[0m\u001b[0m\n\u001b[1;32m     26\u001b[0m \u001b[0mspeak\u001b[0m\u001b[0;34m(\u001b[0m\u001b[0mdog1\u001b[0m\u001b[0;34m)\u001b[0m\u001b[0;34m\u001b[0m\u001b[0;34m\u001b[0m\u001b[0m\n\u001b[0;32m---> 27\u001b[0;31m \u001b[0mspeak\u001b[0m\u001b[0;34m(\u001b[0m\u001b[0mdog2\u001b[0m\u001b[0;34m)\u001b[0m\u001b[0;34m\u001b[0m\u001b[0;34m\u001b[0m\u001b[0m\n\u001b[0m",
      "\u001b[0;32m/var/folders/cl/393mjdg57rv38cb5rqyxn6tc0000gn/T/ipykernel_51529/3540699309.py\u001b[0m in \u001b[0;36mspeak\u001b[0;34m(dog)\u001b[0m\n\u001b[1;32m     15\u001b[0m     \u001b[0mPuppies\u001b[0m \u001b[0;34m(\u001b[0m\u001b[0mage\u001b[0m \u001b[0;34m<\u001b[0m \u001b[0;36m2\u001b[0m\u001b[0;34m)\u001b[0m \u001b[0mbark\u001b[0m \u001b[0mthrice\u001b[0m\u001b[0;34m,\u001b[0m \u001b[0mwhereas\u001b[0m \u001b[0mdogs\u001b[0m \u001b[0mbark\u001b[0m \u001b[0monce\u001b[0m\u001b[0;34m.\u001b[0m\u001b[0;34m\u001b[0m\u001b[0;34m\u001b[0m\u001b[0m\n\u001b[1;32m     16\u001b[0m     \"\"\"\n\u001b[0;32m---> 17\u001b[0;31m     \u001b[0;32mif\u001b[0m \u001b[0mdog\u001b[0m\u001b[0;34m.\u001b[0m\u001b[0mage\u001b[0m \u001b[0;34m<\u001b[0m \u001b[0;36m2\u001b[0m\u001b[0;34m:\u001b[0m\u001b[0;34m\u001b[0m\u001b[0;34m\u001b[0m\u001b[0m\n\u001b[0m\u001b[1;32m     18\u001b[0m         \u001b[0;31m#print(dog.name + \": bark bark bark!\")\u001b[0m\u001b[0;34m\u001b[0m\u001b[0;34m\u001b[0m\u001b[0m\n\u001b[1;32m     19\u001b[0m         \u001b[0mprint\u001b[0m\u001b[0;34m(\u001b[0m\u001b[0;34mf\"{dog.name}: bark bark bark!\"\u001b[0m\u001b[0;34m)\u001b[0m\u001b[0;34m\u001b[0m\u001b[0;34m\u001b[0m\u001b[0m\n",
      "\u001b[0;31mAttributeError\u001b[0m: 'Dog' object has no attribute 'age'"
     ]
    }
   ],
   "source": [
    "class Dog:\n",
    "    pass # eventually we will learn how to write code inside a class\n",
    "\n",
    "# Let's create Dog object instances\n",
    "dog1 = Dog()        # object instantiation using constructor\n",
    "dog1.name = \"Jimmy\" # attribute initialization\n",
    "dog1.age = 1\n",
    "\n",
    "dog2 = Dog()\n",
    "dog2.name = \"Buster\"\n",
    "\n",
    "# Regular function that accepts an object instance of the new type\n",
    "def speak(dog):\n",
    "    \"\"\"\n",
    "    Puppies (age < 2) bark thrice, whereas dogs bark once.\n",
    "    \"\"\"\n",
    "    if dog.age < 2:\n",
    "        #print(dog.name + \": bark bark bark!\")\n",
    "        print(f\"{dog.name}: bark bark bark!\")\n",
    "    else:\n",
    "        #print(dog.name + \": bark!\")\n",
    "        print(f\"{dog.name}: bark!\")\n",
    "        \n",
    "\n",
    "# Invoke speak for dog1 and dog2\n",
    "speak(dog1)\n",
    "speak(dog2)"
   ]
  },
  {
   "cell_type": "markdown",
   "id": "dfd61298",
   "metadata": {},
   "source": [
    "### How can we avoid missing filling in attribute values?"
   ]
  },
  {
   "cell_type": "code",
   "execution_count": 3,
   "id": "2f600c9d",
   "metadata": {},
   "outputs": [],
   "source": [
    "# Regular function that accepts an object instance of the new type along with attribute values\n",
    "def init(dog, name, how_old):\n",
    "    dog.name = name\n",
    "    dog.age = how_old"
   ]
  },
  {
   "cell_type": "code",
   "execution_count": 4,
   "id": "f03a7374",
   "metadata": {},
   "outputs": [
    {
     "name": "stdout",
     "output_type": "stream",
     "text": [
      "Buster: bark!\n"
     ]
    }
   ],
   "source": [
    "dog2 = Dog()\n",
    "init(dog2, \"Buster\", 10)\n",
    "speak(dog2)"
   ]
  },
  {
   "cell_type": "markdown",
   "id": "9dc1706f",
   "metadata": {},
   "source": [
    "### What if there are two `speak` functions? Let's define a Cat class and corresponding `speak` function."
   ]
  },
  {
   "cell_type": "code",
   "execution_count": 5,
   "id": "4948e7c2",
   "metadata": {},
   "outputs": [],
   "source": [
    "class Cat:\n",
    "    pass\n",
    "\n",
    "cat1 = Cat()\n",
    "\n",
    "def speak(cat):\n",
    "    \"\"\"\n",
    "    Cats meow!\n",
    "    \"\"\"\n",
    "    print(\"meow!\")"
   ]
  },
  {
   "cell_type": "markdown",
   "id": "1de81baf",
   "metadata": {},
   "source": [
    "### What will be the output of the below function calls?"
   ]
  },
  {
   "cell_type": "code",
   "execution_count": 6,
   "id": "2fb8c506",
   "metadata": {},
   "outputs": [
    {
     "name": "stdout",
     "output_type": "stream",
     "text": [
      "meow!\n",
      "meow!\n",
      "meow!\n"
     ]
    }
   ],
   "source": [
    "speak(dog1)\n",
    "speak(dog2)\n",
    "speak(cat1)"
   ]
  },
  {
   "cell_type": "markdown",
   "id": "e322e351",
   "metadata": {},
   "source": [
    "### We lost the previous definition of the `speak` function because it is a function. What if `speak` were a method instead?\n",
    "\n",
    "### **IMPORTANT**: it is not recommended to re-define same `class`. This is shown only for example purposes. You must always go back to the original cell and update the definition there."
   ]
  },
  {
   "cell_type": "code",
   "execution_count": 7,
   "id": "81c9b072",
   "metadata": {},
   "outputs": [],
   "source": [
    "class Dog:\n",
    "    # regular method\n",
    "    def init(dog, name, how_old): \n",
    "        dog.name = name\n",
    "        dog.age = how_old\n",
    "    \n",
    "    # regular method\n",
    "    def speak(dog):\n",
    "        \"\"\"\n",
    "        Puppies (age < 2) bark thrice, whereas dogs bark once.\n",
    "        \"\"\"\n",
    "        if dog.age < 2:\n",
    "            #print(dog.name + \": bark bark bark!\")\n",
    "            print(f\"{dog.name}: bark bark bark!\")\n",
    "        else:\n",
    "            #print(dog.name + \": bark!\")\n",
    "            print(f\"{dog.name}: bark!\")\n",
    "\n",
    "class Cat:\n",
    "    def speak(cat):\n",
    "        \"\"\"\n",
    "        Cats meow!\n",
    "        \"\"\"\n",
    "        print(\"meow!\")\n",
    "        \n",
    "# Let's create object instances\n",
    "dog1 = Dog()\n",
    "Dog.init(dog1, \"Jimmy\", 1)\n",
    "\n",
    "dog2 = Dog()\n",
    "Dog.init(dog2, \"Buster\", 10)\n",
    "\n",
    "cat1 = Cat()"
   ]
  },
  {
   "cell_type": "code",
   "execution_count": 8,
   "id": "d3c806a0",
   "metadata": {},
   "outputs": [
    {
     "name": "stdout",
     "output_type": "stream",
     "text": [
      "Jimmy: bark bark bark!\n",
      "Buster: bark!\n",
      "meow!\n"
     ]
    }
   ],
   "source": [
    "# speak now is a method, so we need to use . attribute operator for invocation\n",
    "Dog.speak(dog1)\n",
    "Dog.speak(dog2)\n",
    "Cat.speak(cat1)"
   ]
  },
  {
   "cell_type": "markdown",
   "id": "b55afb62",
   "metadata": {},
   "source": [
    "### Type-based dispatch"
   ]
  },
  {
   "cell_type": "markdown",
   "id": "07a41f25",
   "metadata": {},
   "source": [
    "#### Let's create a list of animals and print `type` of each animal."
   ]
  },
  {
   "cell_type": "code",
   "execution_count": 9,
   "id": "10cdae14",
   "metadata": {},
   "outputs": [
    {
     "name": "stdout",
     "output_type": "stream",
     "text": [
      "<class '__main__.Dog'>\n",
      "<class '__main__.Dog'>\n",
      "<class '__main__.Cat'>\n"
     ]
    }
   ],
   "source": [
    "animals = [dog1, dog2, cat1]\n",
    "\n",
    "for animal in animals:\n",
    "    print(type(animal))"
   ]
  },
  {
   "cell_type": "markdown",
   "id": "441f5811",
   "metadata": {},
   "source": [
    "#### Even though `type` output displays additional details, in essense type is just name of the class: `Dog`, `Cat`, etc.,."
   ]
  },
  {
   "cell_type": "code",
   "execution_count": 10,
   "id": "0752057b",
   "metadata": {},
   "outputs": [
    {
     "data": {
      "text/plain": [
       "True"
      ]
     },
     "execution_count": 10,
     "metadata": {},
     "output_type": "execute_result"
    }
   ],
   "source": [
    "type(dog1) == Dog"
   ]
  },
  {
   "cell_type": "code",
   "execution_count": 11,
   "id": "8cc4dcf7",
   "metadata": {},
   "outputs": [
    {
     "data": {
      "text/plain": [
       "True"
      ]
     },
     "execution_count": 11,
     "metadata": {},
     "output_type": "execute_result"
    }
   ],
   "source": [
    "type(cat1) == Cat"
   ]
  },
  {
   "cell_type": "markdown",
   "id": "1450fb9a",
   "metadata": {},
   "source": [
    "#### Let's invoke speak for all animals."
   ]
  },
  {
   "cell_type": "code",
   "execution_count": 12,
   "id": "49624294",
   "metadata": {},
   "outputs": [
    {
     "name": "stdout",
     "output_type": "stream",
     "text": [
      "Jimmy: bark bark bark!\n",
      "Buster: bark!\n",
      "meow!\n"
     ]
    }
   ],
   "source": [
    "# v1: bad version\n",
    "for animal in animals:\n",
    "    if type(animal) == Dog:\n",
    "        Dog.speak(animal)\n",
    "    elif type(animal) == Cat:\n",
    "        Cat.speak(animal)\n",
    "    # this conditional will keep growing as we add more and \n",
    "    # more animal classes!"
   ]
  },
  {
   "cell_type": "markdown",
   "id": "30b60079",
   "metadata": {},
   "source": [
    "#### Here is a slightly better version"
   ]
  },
  {
   "cell_type": "code",
   "execution_count": 13,
   "id": "a9b92a90",
   "metadata": {},
   "outputs": [
    {
     "name": "stdout",
     "output_type": "stream",
     "text": [
      "Jimmy: bark bark bark!\n",
      "Buster: bark!\n",
      "meow!\n"
     ]
    }
   ],
   "source": [
    "for animal in animals:\n",
    "    type(animal).speak(animal)"
   ]
  },
  {
   "cell_type": "markdown",
   "id": "103c394e",
   "metadata": {},
   "source": [
    "#### Notice how the animal is redundant. There is a better way to invoke methods.\n",
    "\n",
    "- Syntax: `obj_ref.method()`\n",
    "- `obj_ref` itself will be the first argument to the method."
   ]
  },
  {
   "cell_type": "code",
   "execution_count": 14,
   "id": "771fdacc",
   "metadata": {},
   "outputs": [
    {
     "name": "stdout",
     "output_type": "stream",
     "text": [
      "Jimmy: bark bark bark!\n",
      "Buster: bark!\n",
      "meow!\n"
     ]
    }
   ],
   "source": [
    "for animal in animals:\n",
    "    # this is equivalent to type(animal).speak(animal)\n",
    "    animal.speak()"
   ]
  },
  {
   "cell_type": "markdown",
   "id": "1cd67c93",
   "metadata": {},
   "source": [
    "#### Let's try passing an argument to `speak` method."
   ]
  },
  {
   "cell_type": "code",
   "execution_count": 15,
   "id": "6b302204",
   "metadata": {},
   "outputs": [
    {
     "ename": "TypeError",
     "evalue": "speak() takes 1 positional argument but 2 were given",
     "output_type": "error",
     "traceback": [
      "\u001b[0;31m---------------------------------------------------------------------------\u001b[0m",
      "\u001b[0;31mTypeError\u001b[0m                                 Traceback (most recent call last)",
      "\u001b[0;32m/var/folders/cl/393mjdg57rv38cb5rqyxn6tc0000gn/T/ipykernel_51529/1017365569.py\u001b[0m in \u001b[0;36m<module>\u001b[0;34m\u001b[0m\n\u001b[0;32m----> 1\u001b[0;31m \u001b[0mdog1\u001b[0m\u001b[0;34m.\u001b[0m\u001b[0mspeak\u001b[0m\u001b[0;34m(\u001b[0m\u001b[0;34m\"hello\"\u001b[0m\u001b[0;34m)\u001b[0m\u001b[0;34m\u001b[0m\u001b[0;34m\u001b[0m\u001b[0m\n\u001b[0m\u001b[1;32m      2\u001b[0m \u001b[0;31m# Observe how TypeError says 1 positional argument expected\u001b[0m\u001b[0;34m\u001b[0m\u001b[0;34m\u001b[0m\u001b[0m\n",
      "\u001b[0;31mTypeError\u001b[0m: speak() takes 1 positional argument but 2 were given"
     ]
    }
   ],
   "source": [
    "dog1.speak(\"hello\")\n",
    "# Observe how TypeError says 1 positional argument expected"
   ]
  },
  {
   "cell_type": "markdown",
   "id": "9893d7b2",
   "metadata": {},
   "source": [
    "## `self`\n",
    "\n",
    "- refers to the current object instance (aka receiver) inside a class\n",
    "- attribute access inside the class **must** always use `self.<attribute>` syntax"
   ]
  },
  {
   "cell_type": "code",
   "execution_count": 16,
   "id": "aee15bfc",
   "metadata": {},
   "outputs": [
    {
     "name": "stdout",
     "output_type": "stream",
     "text": [
      "Jimmy: bark bark bark!\n",
      "Buster: bark!\n"
     ]
    }
   ],
   "source": [
    "class Dog:\n",
    "    # regular method\n",
    "    def init(self, name, how_old): \n",
    "        self.name = name\n",
    "        self.age = how_old\n",
    "    \n",
    "    # regular method\n",
    "    def speak(self):\n",
    "        \"\"\"\n",
    "        Puppies (age < 2) bark thrice, whereas dogs bark once.\n",
    "        \"\"\"\n",
    "        if self.age < 2:\n",
    "            #print(dog.name + \": bark bark bark!\")\n",
    "            print(f\"{self.name}: bark bark bark!\")\n",
    "        else:\n",
    "            #print(dog.name + \": bark!\")\n",
    "            print(f\"{self.name}: bark!\")\n",
    "\n",
    "\n",
    "# Let's create Dog object instances\n",
    "dog1 = Dog() \n",
    "Dog.init(dog1, \"Jimmy\", 1)\n",
    "\n",
    "dog2 = Dog()\n",
    "init(dog2, \"Buster\", 10)\n",
    "\n",
    "# Invoke speak for dog1 and dog2\n",
    "dog1.speak()\n",
    "dog2.speak()"
   ]
  },
  {
   "cell_type": "markdown",
   "id": "14aacb40",
   "metadata": {},
   "source": [
    "# OOP: Special Methods\n",
    "\n",
    "\"Special methods\" is a technical term referring to methods that get called automatically. In Python, they usually begin and end with double underscores.\n",
    "- **Note:** you could define a regular method with `__<method>__`."
   ]
  },
  {
   "cell_type": "markdown",
   "id": "e6e0e834",
   "metadata": {},
   "source": [
    "### `__init__` special method (aka Constructor)\n",
    "\n",
    "- automatically invoked when creating an object instance\n",
    "- only one possible constructor in Python"
   ]
  },
  {
   "cell_type": "code",
   "execution_count": 17,
   "id": "70bc5b78",
   "metadata": {},
   "outputs": [
    {
     "name": "stdout",
     "output_type": "stream",
     "text": [
      "Creating a dog!\n",
      "Creating a dog!\n",
      "Jimmy: bark bark bark!\n",
      "Buster: bark!\n"
     ]
    }
   ],
   "source": [
    "# This is the correct and final version of Dog class\n",
    "class Dog:\n",
    "    # special method\n",
    "    def __init__(self, name, how_old): \n",
    "        print(\"Creating a dog!\")\n",
    "        self.name = name\n",
    "        self.age = how_old\n",
    "    \n",
    "    # regular method\n",
    "    def speak(self):\n",
    "        \"\"\"\n",
    "        Puppies (age < 2) bark thrice, whereas dogs bark once.\n",
    "        \"\"\"\n",
    "        if self.age < 2:\n",
    "            #print(dog.name + \": bark bark bark!\")\n",
    "            print(f\"{self.name}: bark bark bark!\")\n",
    "        else:\n",
    "            #print(dog.name + \": bark!\")\n",
    "            print(f\"{self.name}: bark!\")\n",
    "\n",
    "\n",
    "# Let's create Dog object instances\n",
    "dog1 = Dog(\"Jimmy\", 1)\n",
    "dog2 = Dog(\"Buster\", 10)\n",
    "\n",
    "# Invoke speak for dog1 and dog2\n",
    "dog1.speak()\n",
    "dog2.speak()"
   ]
  },
  {
   "cell_type": "markdown",
   "id": "a8343230",
   "metadata": {},
   "source": [
    "## Earthquake example"
   ]
  },
  {
   "cell_type": "code",
   "execution_count": 18,
   "id": "b7e25660",
   "metadata": {},
   "outputs": [
    {
     "data": {
      "text/plain": [
       "'9.32 miles SE of Waynoka, Oklahoma'"
      ]
     },
     "execution_count": 18,
     "metadata": {},
     "output_type": "execute_result"
    }
   ],
   "source": [
    "# represent earthquakes using classes\n",
    "\n",
    "quake_dicts = [\n",
    "     {'place': 'southeast of the Loyalty Islands',\n",
    "      'time': 1637538745422,\n",
    "      'mag': 4.5,\n",
    "      'loc': {'lat': -22.7976, 'lon': 171.963}},\n",
    "     {'place': '5km ESE of Walker, CA',\n",
    "      'time': 1637537593330,\n",
    "      'mag': 1.19,\n",
    "      'loc': {'lat': 38.504, 'lon': -119.429}},\n",
    "     {'place': '19 km W of Cheyenne Wells, Colorado',\n",
    "      'time': 1637537565440,\n",
    "      'mag': 1.9,\n",
    "      'loc': {'lat': 38.8551, 'lon': -102.5692}},\n",
    "     {'place': '4 km NW of Point MacKenzie, Alaska',\n",
    "      'time': 1637537529410,\n",
    "      'mag': 1.7,\n",
    "      'loc': {'lat': 61.3898, 'lon': -150.0462}},\n",
    "     {'place': '15 km SE of Waynoka, Oklahoma',\n",
    "      'time': 1637537486109,\n",
    "      'mag': 1.51,\n",
    "      'loc': {'lat': 36.473, 'lon': -98.7745}}\n",
    "]\n",
    "\n",
    "def place_miles(quake):\n",
    "    \"\"\"\n",
    "    converts \"place\" km to miles\n",
    "    \"\"\"\n",
    "    place = quake[\"place\"]\n",
    "    km_idx = place.find(\"km\")\n",
    "    \n",
    "    if km_idx < 0:\n",
    "        return place\n",
    "    \n",
    "    num = place[:km_idx].strip()\n",
    "    if not num.isdigit():\n",
    "        return place\n",
    "    \n",
    "    miles = round(float(num) * 0.621371, 2)\n",
    "    return f\"{miles} miles{place[km_idx+2:]}\"\n",
    "\n",
    "place_miles(quake_dicts[4])"
   ]
  },
  {
   "cell_type": "markdown",
   "id": "f60d18d8",
   "metadata": {},
   "source": [
    "### Two possible classes: `Earthquake` and `Location`."
   ]
  },
  {
   "cell_type": "code",
   "execution_count": 19,
   "id": "00949a72",
   "metadata": {},
   "outputs": [],
   "source": [
    "# TODO: create Location class\n",
    "class Location:\n",
    "    def __init__(self, lat, lon):\n",
    "        self.lat = lat\n",
    "        self.lon = lon\n",
    "        \n",
    "    def __str__(self):\n",
    "        return f\"Location at lat: {self.lat}, lon {self.lon}\"\n",
    "        \n",
    "    def __repr__(self):\n",
    "        return f\"Location({self.lat}, {self.lon})\"\n",
    "    \n",
    "    def __eq__(self, other):\n",
    "        return self.lat == other.lat and self.lon == other.lon\n",
    "        \n",
    "# create Location object instance\n",
    "loc1 = Location(36.473, -98.7745)\n",
    "loc2 = Location(61.3898, -150.0462)"
   ]
  },
  {
   "cell_type": "markdown",
   "id": "1227af24",
   "metadata": {},
   "source": [
    "#### We can use attribute operator (`.`) to access attributes and print it."
   ]
  },
  {
   "cell_type": "code",
   "execution_count": 20,
   "id": "1ce2c189",
   "metadata": {},
   "outputs": [
    {
     "name": "stdout",
     "output_type": "stream",
     "text": [
      "36.473\n"
     ]
    }
   ],
   "source": [
    "print(loc1.lat)"
   ]
  },
  {
   "cell_type": "markdown",
   "id": "4767d58d",
   "metadata": {},
   "source": [
    "#### What if we pass the object instance itself as argument to `print`?"
   ]
  },
  {
   "cell_type": "code",
   "execution_count": 21,
   "id": "a10e3a71",
   "metadata": {},
   "outputs": [
    {
     "name": "stdout",
     "output_type": "stream",
     "text": [
      "Location at lat: 36.473, lon -98.7745\n"
     ]
    }
   ],
   "source": [
    "print(loc1)"
   ]
  },
  {
   "cell_type": "markdown",
   "id": "8251d2f4",
   "metadata": {},
   "source": [
    "#### Or display the reference variable?"
   ]
  },
  {
   "cell_type": "code",
   "execution_count": 22,
   "id": "5d9af92a",
   "metadata": {},
   "outputs": [
    {
     "data": {
      "text/plain": [
       "Location(36.473, -98.7745)"
      ]
     },
     "execution_count": 22,
     "metadata": {},
     "output_type": "execute_result"
    }
   ],
   "source": [
    "loc1"
   ]
  },
  {
   "cell_type": "markdown",
   "id": "7ab6f8d9",
   "metadata": {},
   "source": [
    "### `__str__` and `__repr__` special methods\n",
    "\n",
    "- `__str__` is implicitly invoked when we invoke `print` (user friendly form)\n",
    "- `__rep__` (aka representation) is implicitly invoked when displaying the object instance (programmer friendly form)\n",
    "- Both methods must return a `str` value"
   ]
  },
  {
   "cell_type": "code",
   "execution_count": 23,
   "id": "c160125a",
   "metadata": {},
   "outputs": [
    {
     "name": "stdout",
     "output_type": "stream",
     "text": [
      "A\n",
      "B\n"
     ]
    }
   ],
   "source": [
    "s = \"A\\nB\"\n",
    "print(s) # invokes __str__"
   ]
  },
  {
   "cell_type": "code",
   "execution_count": 24,
   "id": "b2b7b9ff",
   "metadata": {},
   "outputs": [
    {
     "data": {
      "text/plain": [
       "'A\\nB'"
      ]
     },
     "execution_count": 24,
     "metadata": {},
     "output_type": "execute_result"
    }
   ],
   "source": [
    "s # invokes __repr__"
   ]
  },
  {
   "cell_type": "code",
   "execution_count": 25,
   "id": "47b578d8",
   "metadata": {},
   "outputs": [],
   "source": [
    "# TODO: go back and define __str__ and __repr__ methods for Loction class"
   ]
  },
  {
   "cell_type": "code",
   "execution_count": 26,
   "id": "6e6a8d98",
   "metadata": {},
   "outputs": [
    {
     "name": "stdout",
     "output_type": "stream",
     "text": [
      "Location at lat: 36.473, lon -98.7745\n"
     ]
    }
   ],
   "source": [
    "print(loc1)"
   ]
  },
  {
   "cell_type": "code",
   "execution_count": 27,
   "id": "78959678",
   "metadata": {},
   "outputs": [
    {
     "data": {
      "text/plain": [
       "Location(36.473, -98.7745)"
      ]
     },
     "execution_count": 27,
     "metadata": {},
     "output_type": "execute_result"
    }
   ],
   "source": [
    "loc1"
   ]
  },
  {
   "cell_type": "markdown",
   "id": "67f7d896",
   "metadata": {},
   "source": [
    "### `_repr_html` special method --- `jupyter` special method (not a special method for Python)\n",
    "\n",
    "- Observe that we have single `_`instead of `__`\n",
    "- Enables us to create a HTML display for the object instances\n",
    "- Invoked when using displaying reference variable inside `jupyter`\n",
    "- **IMPORTANT**: `_repr_html_` won't work in `.py` script file\n",
    "- Used by `pandas` to display `DataFrame` (uses HTML table format)"
   ]
  },
  {
   "cell_type": "code",
   "execution_count": 28,
   "id": "77cb1cdb",
   "metadata": {},
   "outputs": [],
   "source": [
    "# TODO: create Earthquake class\n",
    "\n",
    "class Earthquake:\n",
    "    def __init__(self, quake_details):\n",
    "        self.place = place_miles(quake_details)\n",
    "        self.time = quake_details[\"time\"]\n",
    "        self.mag = quake_details[\"mag\"]\n",
    "        self.loc = Location(quake_details[\"loc\"][\"lat\"], quake_details[\"loc\"][\"lon\"])\n",
    "        \n",
    "    def __repr__(self):\n",
    "        return f\"Magnitude {self.mag} earthquake at {self.place} ({self.loc})\"\n",
    "        \n",
    "    def _repr_html_(self):\n",
    "        # assumes largest mag is 6\n",
    "        size = 6 - int(round(self.mag)) \n",
    "        # size is a local variable, not an attribute\n",
    "        return f\"<h{size}>Magnitude {self.mag} earthquake at {self.place} ({self.loc})</h{size}>\"\n",
    "    \n",
    "    def __lt__(self, other):\n",
    "        return self.mag < other.mag\n",
    "        \n",
    "e1 = Earthquake(quake_dicts[0])\n",
    "e2 = Earthquake(quake_dicts[1])\n",
    "e3 = Earthquake(quake_dicts[2])"
   ]
  },
  {
   "cell_type": "code",
   "execution_count": 29,
   "id": "d8b56936",
   "metadata": {},
   "outputs": [
    {
     "data": {
      "text/html": [
       "<h2>Magnitude 4.5 earthquake at southeast of the Loyalty Islands (Location at lat: -22.7976, lon 171.963)</h2>"
      ],
      "text/plain": [
       "Magnitude 4.5 earthquake at southeast of the Loyalty Islands (Location at lat: -22.7976, lon 171.963)"
      ]
     },
     "execution_count": 29,
     "metadata": {},
     "output_type": "execute_result"
    }
   ],
   "source": [
    "e1"
   ]
  },
  {
   "cell_type": "code",
   "execution_count": 30,
   "id": "f60b7407",
   "metadata": {},
   "outputs": [
    {
     "data": {
      "text/html": [
       "<h5>Magnitude 1.19 earthquake at 3.11 miles ESE of Walker, CA (Location at lat: 38.504, lon -119.429)</h5>"
      ],
      "text/plain": [
       "Magnitude 1.19 earthquake at 3.11 miles ESE of Walker, CA (Location at lat: 38.504, lon -119.429)"
      ]
     },
     "execution_count": 30,
     "metadata": {},
     "output_type": "execute_result"
    }
   ],
   "source": [
    "e2"
   ]
  },
  {
   "cell_type": "code",
   "execution_count": 31,
   "id": "5e8c98eb",
   "metadata": {},
   "outputs": [
    {
     "data": {
      "text/html": [
       "<h4>Magnitude 1.9 earthquake at 11.81 miles W of Cheyenne Wells, Colorado (Location at lat: 38.8551, lon -102.5692)</h4>"
      ],
      "text/plain": [
       "Magnitude 1.9 earthquake at 11.81 miles W of Cheyenne Wells, Colorado (Location at lat: 38.8551, lon -102.5692)"
      ]
     },
     "execution_count": 31,
     "metadata": {},
     "output_type": "execute_result"
    }
   ],
   "source": [
    "e3"
   ]
  },
  {
   "cell_type": "markdown",
   "id": "2a96b834",
   "metadata": {},
   "source": [
    "#### If we have a list of references, `jupyter` defaults back to `__repr__`"
   ]
  },
  {
   "cell_type": "code",
   "execution_count": 32,
   "id": "91c3ca81",
   "metadata": {},
   "outputs": [
    {
     "data": {
      "text/plain": [
       "[Magnitude 4.5 earthquake at southeast of the Loyalty Islands (Location at lat: -22.7976, lon 171.963),\n",
       " Magnitude 1.19 earthquake at 3.11 miles ESE of Walker, CA (Location at lat: 38.504, lon -119.429),\n",
       " Magnitude 1.9 earthquake at 11.81 miles W of Cheyenne Wells, Colorado (Location at lat: 38.8551, lon -102.5692)]"
      ]
     },
     "execution_count": 32,
     "metadata": {},
     "output_type": "execute_result"
    }
   ],
   "source": [
    "# TODO: go back and define __repr__ special method for Earthquake class\n",
    "[e1, e2, e3]"
   ]
  },
  {
   "cell_type": "markdown",
   "id": "40e1fca0",
   "metadata": {},
   "source": [
    "### `__eq__` special method\n",
    "\n",
    "- Enables us to define how `==` should work when we compare two object instances of our custom class type\n",
    "- Automatically invoked when using `==` comparison operator\n",
    "- Takes two arguments (two object instances: `self` and other)\n",
    "- Must return a `bool` value"
   ]
  },
  {
   "cell_type": "code",
   "execution_count": 33,
   "id": "d6d0664d",
   "metadata": {},
   "outputs": [],
   "source": [
    "# TODO: go back and define __eq__ special method for Location class"
   ]
  },
  {
   "cell_type": "code",
   "execution_count": 34,
   "id": "54f3cf36",
   "metadata": {},
   "outputs": [
    {
     "data": {
      "text/plain": [
       "True"
      ]
     },
     "execution_count": 34,
     "metadata": {},
     "output_type": "execute_result"
    }
   ],
   "source": [
    "loc1 == loc1"
   ]
  },
  {
   "cell_type": "code",
   "execution_count": 35,
   "id": "46eb95a3",
   "metadata": {},
   "outputs": [
    {
     "data": {
      "text/plain": [
       "False"
      ]
     },
     "execution_count": 35,
     "metadata": {},
     "output_type": "execute_result"
    }
   ],
   "source": [
    "loc1 == loc2"
   ]
  },
  {
   "cell_type": "markdown",
   "id": "6a191f87",
   "metadata": {},
   "source": [
    "### `__lt__` special method\n",
    "\n",
    "- Enables us to define how `<` should work when we compare two object instances of our custom class type\n",
    "- Automatically invoked when using `<` comparison operator\n",
    "- Takes two arguments (two object instances: `self` and other)\n",
    "- Must return a `bool` value"
   ]
  },
  {
   "cell_type": "code",
   "execution_count": 36,
   "id": "cc27b25f",
   "metadata": {},
   "outputs": [],
   "source": [
    "# TODO: go back and define __eq__ special method for Earthquake class"
   ]
  },
  {
   "cell_type": "code",
   "execution_count": 37,
   "id": "2f94a661",
   "metadata": {},
   "outputs": [
    {
     "data": {
      "text/plain": [
       "False"
      ]
     },
     "execution_count": 37,
     "metadata": {},
     "output_type": "execute_result"
    }
   ],
   "source": [
    "e1 < e2"
   ]
  },
  {
   "cell_type": "code",
   "execution_count": 38,
   "id": "191ab8ab",
   "metadata": {},
   "outputs": [
    {
     "data": {
      "text/plain": [
       "True"
      ]
     },
     "execution_count": 38,
     "metadata": {},
     "output_type": "execute_result"
    }
   ],
   "source": [
    "e2 < e3"
   ]
  }
 ],
 "metadata": {
  "kernelspec": {
   "display_name": "Python 3 (ipykernel)",
   "language": "python",
   "name": "python3"
  },
  "language_info": {
   "codemirror_mode": {
    "name": "ipython",
    "version": 3
   },
   "file_extension": ".py",
   "mimetype": "text/x-python",
   "name": "python",
   "nbconvert_exporter": "python",
   "pygments_lexer": "ipython3",
   "version": "3.9.13"
  }
 },
 "nbformat": 4,
 "nbformat_minor": 5
}
