{
 "cells": [
  {
   "cell_type": "markdown",
   "id": "d684d88e-e96d-4392-b4d6-92d3f1669b32",
   "metadata": {},
   "source": [
    "# Graph Search 1\n",
    "\n",
    "- Depth First Search (Stack)\n",
    "- Breadth First Search (Queue)"
   ]
  },
  {
   "cell_type": "code",
   "execution_count": null,
   "id": "66ba808a",
   "metadata": {},
   "outputs": [],
   "source": [
    "from graphviz import Graph, Digraph"
   ]
  },
  {
   "cell_type": "markdown",
   "id": "e042962c",
   "metadata": {},
   "source": [
    "### Depth First Search (DFS) \n",
    "- Last lecture: BST search with complexity **O(logN)**\n",
    "- Finds a path from one node to another -- works on any directed graph"
   ]
  },
  {
   "cell_type": "code",
   "execution_count": null,
   "id": "c00e99eb",
   "metadata": {},
   "outputs": [],
   "source": [
    "def example(num):\n",
    "    g = Graph()\n",
    "    if num == 1:\n",
    "        g.node(\"A\")\n",
    "        g.edge(\"B\", \"C\")\n",
    "        g.edge(\"C\", \"D\")\n",
    "        g.edge(\"D\", \"B\")\n",
    "    elif num == 2:\n",
    "        g.edge(\"A\", \"B\")\n",
    "        g.edge(\"B\", \"C\")\n",
    "        g.edge(\"C\", \"D\")\n",
    "        g.edge(\"D\", \"E\")\n",
    "        g.edge(\"A\", \"E\")\n",
    "    elif num == 3:\n",
    "        g.edge(\"A\", \"B\")\n",
    "        g.edge(\"A\", \"C\")\n",
    "        g.edge(\"B\", \"D\")\n",
    "        g.edge(\"B\", \"E\")\n",
    "        g.edge(\"C\", \"F\")\n",
    "        g.edge(\"C\", \"G\")\n",
    "    elif num == 4:\n",
    "        g.edge(\"A\", \"B\")\n",
    "        g.edge(\"A\", \"C\")\n",
    "        g.edge(\"B\", \"D\")\n",
    "        g.edge(\"B\", \"E\")\n",
    "        g.edge(\"C\", \"F\")\n",
    "        g.edge(\"C\", \"G\")\n",
    "        g.edge(\"E\", \"Z\")\n",
    "        g.edge(\"C\", \"Z\")\n",
    "        g.edge(\"B\", \"A\")\n",
    "    elif num == 5:\n",
    "        width = 8\n",
    "        height = 4\n",
    "        for L1 in range(height-1):\n",
    "            L2 = L1 + 1\n",
    "            for i in range(width-(height-L1-1)):\n",
    "                for j in range(width-(height-L2-1)):\n",
    "                    node1 = str(L1)+\"-\"+str(i)\n",
    "                    node2 = str(L2)+\"-\"+str(j)\n",
    "                    g.edge(node1, node2)\n",
    "    else:\n",
    "        raise Exception(\"no such example\")\n",
    "    return g"
   ]
  },
  {
   "cell_type": "markdown",
   "id": "6690b3be",
   "metadata": {},
   "source": [
    "### For a regular graph, you need a new class `Graph` to keep track of the whole graph.\n",
    "- Why? Remember graphs need not have a \"root\" node, which means there is no one origin point"
   ]
  },
  {
   "cell_type": "code",
   "execution_count": null,
   "id": "8f5e8b06",
   "metadata": {},
   "outputs": [],
   "source": [
    "class Graph:\n",
    "    def __init__(self):\n",
    "        # name => Node\n",
    "        self.nodes = {}\n",
    "\n",
    "    def node(self, name):\n",
    "        node = Node(name)\n",
    "        self.nodes[name] = node\n",
    "        node.graph = self\n",
    "    \n",
    "    def edge(self, src, dst):\n",
    "        \"\"\"\n",
    "        Automatically adds missing nodes.\n",
    "        \"\"\"\n",
    "        for name in [src, dst]:\n",
    "            if not name in self.nodes:\n",
    "                self.node(name)\n",
    "        self.nodes[src].children.append(self.nodes[dst])\n",
    "\n",
    "    def _repr_svg_(self):\n",
    "        \"\"\"\n",
    "        Draws the graph nodes and edges iteratively.\n",
    "        \"\"\"\n",
    "        g = Digraph()\n",
    "        for n in self.nodes:\n",
    "            g.node(n)\n",
    "            for child in self.nodes[n].children:\n",
    "                g.edge(n, child.name)\n",
    "        return g._repr_image_svg_xml()\n",
    "    \n",
    "class Node:\n",
    "    def __init__(self, name):\n",
    "        self.name = name\n",
    "        self.children = []\n",
    "        self.graph = None # back reference\n",
    "        \n",
    "    def __repr__(self):\n",
    "        return self.name\n",
    "    \n",
    "    def dfs_search(self, dst):\n",
    "        \"\"\"\n",
    "        \"\"\"\n",
    "        # TODO: what is the simplest case? current node is the dst\n",
    "        if self == dst:\n",
    "            return True\n",
    "        \n",
    "        for child in self.children:\n",
    "            if child.dfs_search(dst):\n",
    "                return True\n",
    "            \n",
    "        return False"
   ]
  },
  {
   "cell_type": "code",
   "execution_count": null,
   "id": "69f000e6-a830-4618-b734-cf8505fb041e",
   "metadata": {},
   "outputs": [],
   "source": [
    "g = example(1)\n",
    "g"
   ]
  },
  {
   "cell_type": "code",
   "execution_count": null,
   "id": "f5ce8765-f1c0-4c7d-94a4-80fe8987157b",
   "metadata": {},
   "outputs": [],
   "source": [
    "print(g.nodes[\"B\"].dfs_search(g.nodes[\"D\"]))"
   ]
  },
  {
   "cell_type": "code",
   "execution_count": null,
   "id": "a99d447c-b103-4b9d-a988-05418c957784",
   "metadata": {},
   "outputs": [],
   "source": [
    "print(g.nodes[\"B\"].dfs_search(g.nodes[\"A\"])) \n",
    "# what is wrong?"
   ]
  },
  {
   "cell_type": "markdown",
   "id": "c83e9993-765c-42a0-97f6-6277627acf95",
   "metadata": {},
   "source": [
    "### Testcases for DFS"
   ]
  },
  {
   "cell_type": "code",
   "execution_count": null,
   "id": "15edd0d2",
   "metadata": {},
   "outputs": [],
   "source": [
    "g"
   ]
  },
  {
   "cell_type": "code",
   "execution_count": null,
   "id": "c27edd46-2850-4b3f-b0fc-e94907488b5f",
   "metadata": {},
   "outputs": [],
   "source": [
    "print(g.dfs_search(\"B\", \"A\")) # should return \n",
    "print(g.dfs_search(\"B\", \"D\")) # should return "
   ]
  },
  {
   "cell_type": "markdown",
   "id": "7a66d567",
   "metadata": {},
   "source": [
    "### `tuple` review\n",
    "\n",
    "- similar to lists, but immutable\n",
    "- `*` operator represents replication and not multiplication for lists and tuples\n",
    "- `+` operator represents concatenation and not additional for lists and tuples"
   ]
  },
  {
   "cell_type": "code",
   "execution_count": null,
   "id": "ab722cd2",
   "metadata": {},
   "outputs": [],
   "source": [
    "# this is a tuple containing 5\n",
    "(3+2,)"
   ]
  },
  {
   "cell_type": "code",
   "execution_count": null,
   "id": "91125aba",
   "metadata": {},
   "outputs": [],
   "source": [
    "# gives us 15\n",
    "(3+2) * 3"
   ]
  },
  {
   "cell_type": "code",
   "execution_count": null,
   "id": "2c8ac248",
   "metadata": {},
   "outputs": [],
   "source": [
    "# replicates item 5 three times and returns a new tuple\n",
    "(3+2,) * 3"
   ]
  },
  {
   "cell_type": "code",
   "execution_count": null,
   "id": "cb7d9531",
   "metadata": {},
   "outputs": [],
   "source": [
    "# returns a new tuple containing all items in the first tuple and \n",
    "# the second tuple\n",
    "(3, ) + (5, )"
   ]
  },
  {
   "cell_type": "markdown",
   "id": "7308e594",
   "metadata": {},
   "source": [
    "### DFS search\n",
    "\n",
    "- return the actual path rather than just returning True / False\n",
    "- for example, path between B and D should be (B, C, D)"
   ]
  },
  {
   "cell_type": "markdown",
   "id": "a92903d6",
   "metadata": {},
   "source": [
    "### Why is it called \"*Depth* First Search\"?\n",
    "\n",
    "- we start at the starting node and go as deep as possible because recursion always goes as deep as possible before coming back to the other children in the previous level\n",
    "- we need a `Stack` data structure:\n",
    "    - Last-In-First-Out (LIFO)\n",
    "- recursion naturally uses `Stack`, which is why we don't have to explicitly use a `Stack` data structure\n",
    "- might not give us the shortest possible path"
   ]
  },
  {
   "cell_type": "code",
   "execution_count": null,
   "id": "e5baef43",
   "metadata": {},
   "outputs": [],
   "source": [
    "g = example(2)\n",
    "g"
   ]
  },
  {
   "cell_type": "code",
   "execution_count": null,
   "id": "25b87718-baa5-4a99-8b3c-a0f5f7bc72a6",
   "metadata": {},
   "outputs": [],
   "source": [
    "print(g.dfs_search(\"A\", \"E\")) # should return\n",
    "print(g.dfs_search(\"E\", \"A\")) # should return "
   ]
  },
  {
   "cell_type": "markdown",
   "id": "378d7ce7",
   "metadata": {},
   "source": [
    "### Breadth first search\n",
    "\n",
    "- find the shortest path by exploring all children first before the grandchildren or any of the successors\n",
    "- we need a `Queue` data structure:\n",
    "    - First-In-First-Out (FIFO)\n",
    "- unlike DFS, BFS gives us the shortest possible path"
   ]
  },
  {
   "cell_type": "code",
   "execution_count": null,
   "id": "75e190d3",
   "metadata": {},
   "outputs": [],
   "source": [
    "# TODO: let's define bfs_search method"
   ]
  },
  {
   "cell_type": "code",
   "execution_count": null,
   "id": "29031c60-26c4-4ce6-aeb2-7d34efce50e5",
   "metadata": {},
   "outputs": [],
   "source": [
    "g = example(3)\n",
    "g"
   ]
  },
  {
   "cell_type": "code",
   "execution_count": null,
   "id": "e04bc148-2d2e-44c2-8692-e84570e77ac7",
   "metadata": {},
   "outputs": [],
   "source": [
    "print(g.bfs_search(\"A\", \"D\"))"
   ]
  },
  {
   "cell_type": "code",
   "execution_count": null,
   "id": "c15583e6-86e7-4a82-86ef-1cf1a5170fab",
   "metadata": {},
   "outputs": [],
   "source": [
    "g = example(2)\n",
    "g"
   ]
  },
  {
   "cell_type": "code",
   "execution_count": null,
   "id": "ac5c3f93-87d3-4100-a517-50d3f9b659af",
   "metadata": {},
   "outputs": [],
   "source": [
    "print(g.bfs_search(\"A\", \"E\"))"
   ]
  },
  {
   "cell_type": "code",
   "execution_count": null,
   "id": "dac4b64c-553e-455f-a698-76c2564b5d9d",
   "metadata": {},
   "outputs": [],
   "source": [
    "g = example(1)\n",
    "g"
   ]
  },
  {
   "cell_type": "code",
   "execution_count": null,
   "id": "e802c9a5-04d9-433a-9887-4e373fb9c783",
   "metadata": {},
   "outputs": [],
   "source": [
    "print(g.bfs_search(\"B\", \"D\")) # should return "
   ]
  },
  {
   "cell_type": "code",
   "execution_count": null,
   "id": "956abc0c-3cc1-4283-8397-610da07fdcfe",
   "metadata": {},
   "outputs": [],
   "source": [
    "print(g.bfs_search(\"B\", \"A\")) # should return\n",
    "# what's wrong?"
   ]
  },
  {
   "cell_type": "markdown",
   "id": "f25a8642-227a-4e7c-a2c9-6677dc7f5fde",
   "metadata": {},
   "source": [
    "### How do we find the path using BFS?"
   ]
  },
  {
   "cell_type": "code",
   "execution_count": null,
   "id": "3e5053d9-ff2a-41a0-987c-84a0880f4f13",
   "metadata": {},
   "outputs": [],
   "source": [
    "g = example(3)\n",
    "print(g.bfs_search(\"A\", \"E\"))\n",
    "g"
   ]
  },
  {
   "cell_type": "code",
   "execution_count": null,
   "id": "34adcada-e97d-4725-912f-f519cbe68bfd",
   "metadata": {},
   "outputs": [],
   "source": [
    "g.nodes[\"E\"].finder"
   ]
  },
  {
   "cell_type": "code",
   "execution_count": null,
   "id": "bd5239e5-d7a4-4277-a30c-71f4eac0eaf6",
   "metadata": {},
   "outputs": [],
   "source": [
    "g.nodes[\"B\"].finder"
   ]
  },
  {
   "cell_type": "code",
   "execution_count": null,
   "id": "d0790031-14df-4416-a666-95b0e3b1f5f2",
   "metadata": {},
   "outputs": [],
   "source": [
    "g.nodes[\"A\"].finder"
   ]
  },
  {
   "cell_type": "code",
   "execution_count": null,
   "id": "a9f87651-cdd2-46a0-8fbc-0f349fbea8e7",
   "metadata": {},
   "outputs": [],
   "source": [
    "# TODO: let's go back and implement a backtrace method to help us trace back this path"
   ]
  }
 ],
 "metadata": {
  "kernelspec": {
   "display_name": "Python 3 (ipykernel)",
   "language": "python",
   "name": "python3"
  },
  "language_info": {
   "codemirror_mode": {
    "name": "ipython",
    "version": 3
   },
   "file_extension": ".py",
   "mimetype": "text/x-python",
   "name": "python",
   "nbconvert_exporter": "python",
   "pygments_lexer": "ipython3",
   "version": "3.10.6"
  }
 },
 "nbformat": 4,
 "nbformat_minor": 5
}
