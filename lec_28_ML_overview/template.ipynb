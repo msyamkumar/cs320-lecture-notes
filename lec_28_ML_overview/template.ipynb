{
 "cells": [
  {
   "cell_type": "markdown",
   "id": "471a762b",
   "metadata": {},
   "source": [
    "# Visualization 3 continued\n",
    "\n",
    "# Correction: Shapely shapes\n",
    "\n",
    "- `box(minx, miny, maxx, maxy)` previously mentioned as: `box(<x1>, <x2>, <y1>, <y2>)`"
   ]
  },
  {
   "cell_type": "code",
   "execution_count": null,
   "id": "e6f50cc3",
   "metadata": {},
   "outputs": [],
   "source": [
    "import matplotlib\n",
    "import matplotlib.pyplot as plt\n",
    "import pandas as pd\n",
    "import math\n",
    "import requests\n",
    "import re\n",
    "import geopandas as gpd\n",
    "import os\n",
    "\n",
    "# new import statements\n"
   ]
  },
  {
   "cell_type": "markdown",
   "id": "ed1dc896",
   "metadata": {},
   "source": [
    "### CRS\n",
    "\n",
    "- `<GeoDataFrame object>.crs`: gives you information about current CRS.\n",
    "- `<GeoDataFrame object>.to_crs(<TARGET CRS>)`: changes CRS to `<TARGET CRS>`."
   ]
  },
  {
   "cell_type": "markdown",
   "id": "9da3ee4c",
   "metadata": {},
   "source": [
    "### Madison area emergency services\n",
    "\n",
    "- Data source: https://data-cityofmadison.opendata.arcgis.com/\n",
    "    - Search for:\n",
    "        - \"City limit\"\n",
    "        - \"Lakes and rivers\"\n",
    "        - \"Fire stations\"\n",
    "        - \"Police stations\"\n",
    "\n",
    "- CRS for Madison area: https://en.wikipedia.org/wiki/Universal_Transverse_Mercator_coordinate_system#/media/File:Universal_Transverse_Mercator_zones.svg"
   ]
  },
  {
   "cell_type": "code",
   "execution_count": null,
   "id": "a6f80847",
   "metadata": {},
   "outputs": [],
   "source": [
    "city = gpd.read_file(\"City_Limit.zip\").to_crs(\"epsg:32616\")"
   ]
  },
  {
   "cell_type": "code",
   "execution_count": null,
   "id": "0fcc3630",
   "metadata": {},
   "outputs": [],
   "source": [
    "gpd.read_file(\"City_Limit.zip\").crs"
   ]
  },
  {
   "cell_type": "code",
   "execution_count": null,
   "id": "7f8595be",
   "metadata": {},
   "outputs": [],
   "source": [
    "city.crs"
   ]
  },
  {
   "cell_type": "code",
   "execution_count": null,
   "id": "9ebd361f",
   "metadata": {},
   "outputs": [],
   "source": [
    "water = gpd.read_file(\"Lakes_and_Rivers.zip\").to_crs(city.crs)\n",
    "fire = gpd.read_file(\"Fire_Stations.zip\").to_crs(city.crs)\n",
    "police = gpd.read_file(\"Police_Stations.zip\").to_crs(city.crs)"
   ]
  },
  {
   "cell_type": "markdown",
   "id": "723e2bff-545f-4a8c-9f72-8a9906a99b1b",
   "metadata": {},
   "source": [
    "#### Run this on your virtual machine\n",
    "\n",
    "`sudo sh -c \"echo 'Options = UnsafeLegacyRenegotiation' >> /etc/ssl/openssl.cnf\"`\n",
    "\n",
    "then restart notebook!"
   ]
  },
  {
   "cell_type": "markdown",
   "id": "b6069860-7dd9-43f2-970e-fd15980135ef",
   "metadata": {},
   "source": [
    "#### GeoJSON\n",
    "\n",
    "How to find the below URL?\n",
    "\n",
    "- Go to info page of a dataset, for example: https://data-cityofmadison.opendata.arcgis.com/datasets/police-stations/explore?location=43.081769%2C-89.391550%2C12.81\n",
    "- Then click on \"I want to use this\" > \"View API Resources\" > \"GeoJSON\""
   ]
  },
  {
   "cell_type": "code",
   "execution_count": null,
   "id": "3a095d5e",
   "metadata": {},
   "outputs": [],
   "source": [
    "url = \"https://maps.cityofmadison.com/arcgis/rest/services/Public/OPEN_DATA/MapServer/2/query?outFields=*&where=1%3D1&f=geojson\"\n",
    "police2 = gpd.read_file(url).to_crs(city.crs)"
   ]
  },
  {
   "cell_type": "code",
   "execution_count": null,
   "id": "248be81e",
   "metadata": {},
   "outputs": [],
   "source": [
    "ax = city.plot(color=\"lightgray\")\n",
    "water.plot(color=\"lightblue\", ax=ax)\n",
    "fire.plot(color=\"red\", ax=ax, marker=\"+\", label=\"Fire\")\n",
    "police2.plot(color=\"blue\", ax=ax, label=\"Police\")\n",
    "ax.legend(loc=\"upper left\", frameon=False)\n",
    "ax.set_axis_off()"
   ]
  },
  {
   "cell_type": "markdown",
   "id": "cb2469f8",
   "metadata": {},
   "source": [
    "Saving a `GeoDataFrame` to a `geojson` file.\n",
    "\n",
    "- `<geodataframe object>.to_file(<relative path for .geojson file>)`"
   ]
  },
  {
   "cell_type": "code",
   "execution_count": null,
   "id": "3a609d81",
   "metadata": {},
   "outputs": [],
   "source": [
    "fire.to_file(\"fire.geojson\")"
   ]
  },
  {
   "cell_type": "markdown",
   "id": "77600884",
   "metadata": {},
   "source": [
    "### Geocoding: street address => lat / lon\n",
    "\n",
    "\n",
    "- `gpd.tools.geocode(<street address>, provider=<geocoding service name>, user_agent=<user agent name>)`: converts street address into lat/long\n",
    "\n",
    "\n",
    "#### Daily incident reports: https://www.cityofmadison.com/fire/daily-reports"
   ]
  },
  {
   "cell_type": "code",
   "execution_count": null,
   "id": "6b0b2aa0",
   "metadata": {},
   "outputs": [],
   "source": [
    "url = \"https://www.cityofmadison.com/fire/daily-reports\"\n",
    "r = requests.get(url)\n",
    "r"
   ]
  },
  {
   "cell_type": "code",
   "execution_count": null,
   "id": "bee28b41",
   "metadata": {},
   "outputs": [],
   "source": [
    "r.raise_for_status() # give me an exception if not 200 (e.g., 404)"
   ]
  },
  {
   "cell_type": "code",
   "execution_count": null,
   "id": "0bae00e7",
   "metadata": {},
   "outputs": [],
   "source": [
    "# doesn't work\n",
    "pd.read_html(url)"
   ]
  },
  {
   "cell_type": "code",
   "execution_count": null,
   "id": "47173ec2",
   "metadata": {},
   "outputs": [],
   "source": [
    "print(r.text)"
   ]
  },
  {
   "cell_type": "markdown",
   "id": "39f166c5",
   "metadata": {},
   "source": [
    "Find all **span** tags with **streetAddress** using regex."
   ]
  },
  {
   "cell_type": "code",
   "execution_count": null,
   "id": "ac7b9482-5512-49e4-b0b8-7f9ed34b5844",
   "metadata": {},
   "outputs": [],
   "source": [
    "re.findall(r'', r.text)"
   ]
  },
  {
   "cell_type": "code",
   "execution_count": null,
   "id": "bbf8bdc8",
   "metadata": {},
   "outputs": [],
   "source": [
    "# Slicing the last address out to remove \"City of Madison Fire Department's\" address\n",
    "addrs = re.findall(r'<span itemprop=\"streetAddress\">(.*?)</span>', r.text)[:-1]\n",
    "addrs = pd.Series(addrs)\n",
    "addrs"
   ]
  },
  {
   "cell_type": "markdown",
   "id": "2ab9cdce",
   "metadata": {},
   "source": [
    "#### Without city name and state name, geocoding would return match with the most famous location with such a street name."
   ]
  },
  {
   "cell_type": "code",
   "execution_count": null,
   "id": "35b79ffb",
   "metadata": {},
   "outputs": [],
   "source": [
    "geo_info = ???(\"1300 East Washington Ave\")\n",
    "geo_info"
   ]
  },
  {
   "cell_type": "code",
   "execution_count": null,
   "id": "6e7348b2",
   "metadata": {},
   "outputs": [],
   "source": [
    "geo_info[\"address\"].loc[0]"
   ]
  },
  {
   "cell_type": "markdown",
   "id": "fcc3aeef",
   "metadata": {},
   "source": [
    "#### To get the correct address we want, we should concatenate \"Madison, Wisconsin\" to the end of the address."
   ]
  },
  {
   "cell_type": "code",
   "execution_count": null,
   "id": "b171f175",
   "metadata": {},
   "outputs": [],
   "source": [
    "gpd.tools.geocode(\"1300 East Washington Ave, Madison, Wisconsin\")"
   ]
  },
  {
   "cell_type": "markdown",
   "id": "1fc393af",
   "metadata": {},
   "source": [
    "#### Addresses with \"block\" often won't work or won't give you the correct lat/long. We need to remove the word \"block\" before geocoding."
   ]
  },
  {
   "cell_type": "code",
   "execution_count": null,
   "id": "1fcac5af",
   "metadata": {},
   "outputs": [],
   "source": [
    "gpd.tools.geocode(\"800 block W. Badger Road, Madison, Wisconsin\")"
   ]
  },
  {
   "cell_type": "code",
   "execution_count": null,
   "id": "0aeddc91",
   "metadata": {},
   "outputs": [],
   "source": [
    "gpd.tools.geocode(\"800 W. Badger Road, Madison, Wisconsin\")"
   ]
  },
  {
   "cell_type": "code",
   "execution_count": null,
   "id": "5bdf11dd",
   "metadata": {},
   "outputs": [],
   "source": [
    "addrs"
   ]
  },
  {
   "cell_type": "markdown",
   "id": "77739725",
   "metadata": {},
   "source": [
    "#### Using `str` methods on `pandas` `Series` to do manipulation.\n",
    "\n",
    "- `<series object>.str.replace(<search str>, <replace str>)`\n",
    "- always returns a new `Series` object instance - remember strings are immutable"
   ]
  },
  {
   "cell_type": "code",
   "execution_count": null,
   "id": "c2d6dfbb",
   "metadata": {},
   "outputs": [],
   "source": [
    "addrs"
   ]
  },
  {
   "cell_type": "code",
   "execution_count": null,
   "id": "cf982302",
   "metadata": {},
   "outputs": [],
   "source": [
    "fixed_addrs = addrs.str.replace(\" block \", \" \") + \", Madison, Wisconsin\"\n",
    "fixed_addrs"
   ]
  },
  {
   "cell_type": "markdown",
   "id": "96dd9403",
   "metadata": {},
   "source": [
    "#### Using a different provider than the default one\n",
    "\n",
    "- `gpd.tools.geocode(<street address>, provider=<geocoding service name>, user_agent=<user agent name>)`: converts street address into lat/long\n",
    "    - We will be using \"OpenStreetMap\", for which the argument is \"nominatim\"\n",
    "    - We also need to specify argument to `user_agent` parameter, indicating where the request is coming from; for example: \"cs320_bot\"\n",
    "    - Instead of processing single address, `geocode` method can also process a `Series` containing many addresses."
   ]
  },
  {
   "cell_type": "code",
   "execution_count": null,
   "id": "ab0e699f",
   "metadata": {},
   "outputs": [],
   "source": [
    "incidents = gpd.tools.geocode(fixed_addrs)\n",
    "incidents"
   ]
  },
  {
   "cell_type": "markdown",
   "id": "dab7ea76",
   "metadata": {},
   "source": [
    "It is often a good idea to drop na values. Although in this version of the example, there are no failed geocodings."
   ]
  },
  {
   "cell_type": "code",
   "execution_count": null,
   "id": "1c422ec3",
   "metadata": {},
   "outputs": [],
   "source": [
    "incidents = incidents.dropna()\n",
    "incidents"
   ]
  },
  {
   "cell_type": "markdown",
   "id": "a34f9259",
   "metadata": {},
   "source": [
    "#### Self-practice\n",
    "\n",
    "If you want practice with regex, try to write regular expression and use the match result to make sure that \"Madison\" and \"Wisconsin\" is part of each address. Utilize Piazza to post a question if you get stuck."
   ]
  },
  {
   "cell_type": "code",
   "execution_count": null,
   "id": "98ef591e",
   "metadata": {},
   "outputs": [],
   "source": [
    "# self-practice\n",
    "for addr in incidents[\"address\"]:\n",
    "    print(addr)"
   ]
  },
  {
   "cell_type": "code",
   "execution_count": null,
   "id": "1a04c2b0",
   "metadata": {},
   "outputs": [],
   "source": [
    "ax = city.plot(color=\"lightgray\")\n",
    "water.plot(color=\"lightblue\", ax=ax)\n",
    "fire.plot(color=\"red\", ax=ax, marker=\"+\", label=\"Fire\")\n",
    "police2.plot(color=\"blue\", ax=ax, label=\"Police\")\n",
    "# Adding the incidents on to the map\n",
    "incidents.to_crs(city.crs).plot(ax=ax, color=\"k\", label=\"Incidents\")\n",
    "ax.legend(loc=\"upper left\", frameon=False)\n",
    "ax.set_axis_off()"
   ]
  },
  {
   "cell_type": "markdown",
   "id": "02141569",
   "metadata": {},
   "source": [
    "# ML overview"
   ]
  },
  {
   "cell_type": "markdown",
   "id": "16fa2b7e",
   "metadata": {},
   "source": [
    "#### Covid deaths analysis\n",
    "\n",
    "- Source: https://data.dhsgis.wi.gov/\n",
    "    - Specifically, let's analyze \"COVID-19 Data by Census Tract V2\""
   ]
  },
  {
   "cell_type": "code",
   "execution_count": null,
   "id": "b71cf884",
   "metadata": {},
   "outputs": [],
   "source": [
    "# Do not reptitivitely download large datasets\n",
    "# Save a local copy instead\n",
    "if os.path.exists(\"covid.geojson\"):\n",
    "    print(\"Reading local file.\")\n",
    "    df = gpd.read_file(\"covid.geojson\")\n",
    "else:\n",
    "    print(\"Downloading the dataset.\")\n",
    "    # Figure out URL to geojson\n",
    "    url = ???\n",
    "    # Read data from geojson URL\n",
    "    df = ???\n",
    "    # Write geo dataframe into a geojson file\n",
    "    "
   ]
  },
  {
   "cell_type": "code",
   "execution_count": null,
   "id": "44e235dd",
   "metadata": {},
   "outputs": [],
   "source": [
    "df.head()"
   ]
  },
  {
   "cell_type": "code",
   "execution_count": null,
   "id": "162bc808",
   "metadata": {},
   "outputs": [],
   "source": [
    "df.columns"
   ]
  },
  {
   "cell_type": "code",
   "execution_count": null,
   "id": "08fb7baf",
   "metadata": {},
   "outputs": [],
   "source": [
    "# Create a geographic plot\n",
    "df.plot()"
   ]
  },
  {
   "cell_type": "markdown",
   "id": "cd2bb759",
   "metadata": {},
   "source": [
    "### How can we get a clean dataset of COVID deaths in WI?"
   ]
  },
  {
   "cell_type": "code",
   "execution_count": null,
   "id": "979b9a00",
   "metadata": {},
   "outputs": [],
   "source": [
    "# Replace -999 with 2; 2 is between 0-4; random choice instead of using 0\n",
    "df = ???\n",
    "# TODO: communicate in final results what percent of values were guessed (imputed)"
   ]
  },
  {
   "cell_type": "code",
   "execution_count": null,
   "id": "27363697",
   "metadata": {},
   "outputs": [],
   "source": [
    "# Create a scatter plot to visualize relationship between \"POP\" and \"DTH_CUM_CP\"\n"
   ]
  },
  {
   "cell_type": "markdown",
   "id": "b9fca0e4",
   "metadata": {},
   "source": [
    "Which points are concerning? Let's take a closer look.\n",
    "\n",
    "#### Which rows have \"DTH_CUM_CP\" greater than 300?"
   ]
  },
  {
   "cell_type": "code",
   "execution_count": null,
   "id": "32baad5f",
   "metadata": {},
   "outputs": [],
   "source": []
  },
  {
   "cell_type": "markdown",
   "id": "919229d6",
   "metadata": {},
   "source": [
    "#### Valid rows have \"GEOID\" that only contains digits\n",
    "\n",
    "Using `str` methods to perform filtering: `str.fullmatch` does a full string match given a reg-ex. Because it does full string match anchor characters (`^`, `$`) won't be needed."
   ]
  },
  {
   "cell_type": "code",
   "execution_count": null,
   "id": "8586f87d",
   "metadata": {},
   "outputs": [],
   "source": [
    "df[\"GEOID\"]"
   ]
  },
  {
   "cell_type": "code",
   "execution_count": null,
   "id": "7c2e2d41",
   "metadata": {},
   "outputs": [],
   "source": []
  },
  {
   "cell_type": "code",
   "execution_count": null,
   "id": "401c26ab",
   "metadata": {},
   "outputs": [],
   "source": [
    "df = df[df[\"GEOID\"].str.fullmatch(r\"\\d+\")]\n",
    "df.plot.scatter(x=\"POP\", y=\"DTH_CUM_CP\")"
   ]
  },
  {
   "cell_type": "markdown",
   "id": "b9cdcf02",
   "metadata": {},
   "source": [
    "### How can we train/fit models to known data to predict unknowns?\n",
    "- Feature(s) => Predictions\n",
    "    - Population => Deaths\n",
    "    - Cases => Deaths\n",
    "    - Cases by Age => Deaths\n",
    "    \n",
    "- General structure for fitting models:\n",
    "    ```python\n",
    "    model = <some model>\n",
    "    model.fit(X, y)\n",
    "    y = model.predict(X)\n",
    "    ```\n",
    "    where `X` needs to be a matrix or a `DataFrame` and `y` needs to be an array (vector) or a `Series`"
   ]
  },
  {
   "cell_type": "markdown",
   "id": "5298683f",
   "metadata": {},
   "source": [
    "### Using \"POP\" as feature."
   ]
  },
  {
   "cell_type": "code",
   "execution_count": null,
   "id": "22b34337",
   "metadata": {},
   "outputs": [],
   "source": [
    "# We must specify a list of columns to make sure we extract a DataFrame and not a Series\n",
    "# Feature DataFrame\n"
   ]
  },
  {
   "cell_type": "code",
   "execution_count": null,
   "id": "778fc862",
   "metadata": {},
   "outputs": [],
   "source": [
    "# Label Series\n"
   ]
  },
  {
   "cell_type": "markdown",
   "id": "96239d10",
   "metadata": {},
   "source": [
    "### Let's use `LinearRegression` model.\n",
    "\n",
    "- `from sklearn.linear_model import LinearRegression`"
   ]
  },
  {
   "cell_type": "code",
   "execution_count": null,
   "id": "10df7b84",
   "metadata": {},
   "outputs": [],
   "source": [
    "model = <some model>\n",
    "model.fit(X, y)\n",
    "y = model.predict(X)"
   ]
  },
  {
   "cell_type": "markdown",
   "id": "1095de07",
   "metadata": {},
   "source": [
    "Predicting for new values of x."
   ]
  },
  {
   "cell_type": "code",
   "execution_count": null,
   "id": "ccacb7e7",
   "metadata": {},
   "outputs": [],
   "source": [
    "predict_df = pd.DataFrame({\"POP\": [1000, 2000, 3000]})\n",
    "predict_df"
   ]
  },
  {
   "cell_type": "code",
   "execution_count": null,
   "id": "29c4c227",
   "metadata": {},
   "outputs": [],
   "source": [
    "model.predict(???)"
   ]
  },
  {
   "cell_type": "code",
   "execution_count": null,
   "id": "5cbd9622",
   "metadata": {},
   "outputs": [],
   "source": [
    "predict_df[\"predicted deaths\"] = model.predict(predict_df)\n",
    "predict_df"
   ]
  }
 ],
 "metadata": {
  "kernelspec": {
   "display_name": "Python 3 (ipykernel)",
   "language": "python",
   "name": "python3"
  },
  "language_info": {
   "codemirror_mode": {
    "name": "ipython",
    "version": 3
   },
   "file_extension": ".py",
   "mimetype": "text/x-python",
   "name": "python",
   "nbconvert_exporter": "python",
   "pygments_lexer": "ipython3",
   "version": "3.9.13"
  }
 },
 "nbformat": 4,
 "nbformat_minor": 5
}
