{
 "cells": [
  {
   "cell_type": "markdown",
   "id": "cf313adf",
   "metadata": {},
   "source": [
    "# Web 4: More Flask (review)\n",
    "\n",
    "- `@` operator is called a \"decorator\"\n",
    "- `flask.Response`: enables us to create a response object instance\n",
    "    - Arguments: `str` representing reponse, `headers` dict representing metadata, `status` representing status code.\n",
    "    - ex: \n",
    "    ```python\n",
    "    flask.Response(\"<b>go away</b>\",\n",
    "                              status=429,\n",
    "                              headers={\"Retry-After\": \"3\"})\n",
    "    ```\n",
    "    \n",
    "    ```python\n",
    "    flask.Response(\"\"\"User-Agent: *\n",
    "    Disallow: /never\n",
    "    \"\"\", headers={\"Content-Type\": \"text/plain\"})\n",
    "    ```\n",
    "\n",
    "- `flask.request.remote_addr`: enables us to take action based on the IP address from which we receive the request\n",
    "- `flask.request.args`: enables us to get the arguments passed as part of the URL\n",
    "    - How do we pass arguments?\n",
    "        - at the end of the URL, add a \"?\"\n",
    "        - then separate argument-value pair by \"=\"\n",
    "        - use \"&\" as delimiter between two argument-value pairs\n",
    "    - examples: \n",
    "        - http://34.69.204.31:5000/add?x=10&y=20\n",
    "        - http://34.69.204.31:5000/survey?major=CS\n",
    "        - http://34.69.204.31:5000/survey?major=Mechanical Engineering"
   ]
  },
  {
   "cell_type": "code",
   "execution_count": 1,
   "id": "d55e4bb4-9f29-4f4f-bba6-05054718259b",
   "metadata": {},
   "outputs": [],
   "source": [
    "import requests\n",
    "import time\n",
    "import urllib.robotparser\n",
    "\n",
    "import pandas as pd\n",
    "# new import statement: requires pip3 install scipy\n",
    "from scipy import stats"
   ]
  },
  {
   "cell_type": "markdown",
   "id": "527600aa",
   "metadata": {},
   "source": [
    "### Rate-limited webpage parsing\n",
    "\n",
    "- `requests` module:\n",
    "    - `resp = requests.get(<URL>)` method: enables us to send HTTP GET request\n",
    "    - `resp.status_code`: status code of the response\n",
    "    - `resp.text`: `str` text content of the response\n",
    "    - `resp.headers`: `dict` content of response headers"
   ]
  },
  {
   "cell_type": "code",
   "execution_count": 2,
   "id": "8241e51c",
   "metadata": {},
   "outputs": [],
   "source": [
    "base_url = \"http://34.69.204.31:5000/\""
   ]
  },
  {
   "cell_type": "code",
   "execution_count": 3,
   "id": "6cc81b85",
   "metadata": {},
   "outputs": [
    {
     "data": {
      "text/plain": [
       "'welcome!'"
      ]
     },
     "execution_count": 3,
     "metadata": {},
     "output_type": "execute_result"
    }
   ],
   "source": [
    "def friendly_get(url):\n",
    "    while True:\n",
    "        resp = requests.get(url)\n",
    "        if resp.status_code == 429:\n",
    "            seconds = int(resp.headers.get(\"Retry-After\", 1))\n",
    "            print(f\"sleep {seconds}\")\n",
    "            time.sleep(seconds)\n",
    "            continue\n",
    "        resp.raise_for_status() # raise exception if not 200\n",
    "        return resp\n",
    "    \n",
    "friendly_get(base_url + \"slow\").text"
   ]
  },
  {
   "cell_type": "markdown",
   "id": "23ba100b",
   "metadata": {},
   "source": [
    "### `urllib.robotparser`\n",
    "\n",
    "- Documentation: https://docs.python.org/3/library/urllib.robotparser.html"
   ]
  },
  {
   "cell_type": "code",
   "execution_count": 4,
   "id": "379c3ae5-7344-45b1-88c3-b35f0bd8eb5b",
   "metadata": {},
   "outputs": [
    {
     "data": {
      "text/plain": [
       "True"
      ]
     },
     "execution_count": 4,
     "metadata": {},
     "output_type": "execute_result"
    }
   ],
   "source": [
    "rp = urllib.robotparser.RobotFileParser()\n",
    "rp.set_url(base_url + \"/robots.txt\")\n",
    "rp.read()\n",
    "# Incorrect verion\n",
    "rp.can_fetch(\"cs320bot\", base_url + \"/slow\") # extra /"
   ]
  },
  {
   "cell_type": "code",
   "execution_count": 5,
   "id": "2e3fb01c-4281-4cbf-8828-98e04d27d09a",
   "metadata": {},
   "outputs": [
    {
     "data": {
      "text/plain": [
       "True"
      ]
     },
     "execution_count": 5,
     "metadata": {},
     "output_type": "execute_result"
    }
   ],
   "source": [
    "# Incorrect version\n",
    "rp.can_fetch(\"cs320bot\", base_url + \"/never\") # extra /"
   ]
  },
  {
   "cell_type": "code",
   "execution_count": 6,
   "id": "f5d4b21e-d36c-4143-8007-ad9fdcf3c7a0",
   "metadata": {},
   "outputs": [
    {
     "name": "stdout",
     "output_type": "stream",
     "text": [
      "True\n",
      "False\n"
     ]
    }
   ],
   "source": [
    "# Correct versions\n",
    "print(rp.can_fetch(\"cs320bot\", base_url + \"slow\"))\n",
    "print(rp.can_fetch(\"cs320bot\", base_url + \"never\"))"
   ]
  },
  {
   "cell_type": "markdown",
   "id": "818af0d5",
   "metadata": {},
   "source": [
    "# Web 5: A/B testing"
   ]
  },
  {
   "cell_type": "code",
   "execution_count": 7,
   "id": "4df2692d",
   "metadata": {},
   "outputs": [
    {
     "data": {
      "text/html": [
       "<div>\n",
       "<style scoped>\n",
       "    .dataframe tbody tr th:only-of-type {\n",
       "        vertical-align: middle;\n",
       "    }\n",
       "\n",
       "    .dataframe tbody tr th {\n",
       "        vertical-align: top;\n",
       "    }\n",
       "\n",
       "    .dataframe thead th {\n",
       "        text-align: right;\n",
       "    }\n",
       "</style>\n",
       "<table border=\"1\" class=\"dataframe\">\n",
       "  <thead>\n",
       "    <tr style=\"text-align: right;\">\n",
       "      <th></th>\n",
       "      <th>click</th>\n",
       "      <th>no-click</th>\n",
       "    </tr>\n",
       "  </thead>\n",
       "  <tbody>\n",
       "    <tr>\n",
       "      <th>A</th>\n",
       "      <td>50</td>\n",
       "      <td>50</td>\n",
       "    </tr>\n",
       "    <tr>\n",
       "      <th>B</th>\n",
       "      <td>55</td>\n",
       "      <td>45</td>\n",
       "    </tr>\n",
       "  </tbody>\n",
       "</table>\n",
       "</div>"
      ],
      "text/plain": [
       "   click  no-click\n",
       "A     50        50\n",
       "B     55        45"
      ]
     },
     "execution_count": 7,
     "metadata": {},
     "output_type": "execute_result"
    }
   ],
   "source": [
    "df = pd.DataFrame({\n",
    "    \"click\":    {\"A\": 50, \"B\": 55},\n",
    "    \"no-click\": {\"A\": 50, \"B\": 45}\n",
    "})\n",
    "df\n",
    "# Which has the higher CTR A or B?"
   ]
  },
  {
   "cell_type": "code",
   "execution_count": 8,
   "id": "7cfd6524",
   "metadata": {},
   "outputs": [
    {
     "data": {
      "text/plain": [
       "0.5712421394829712"
      ]
     },
     "execution_count": 8,
     "metadata": {},
     "output_type": "execute_result"
    }
   ],
   "source": [
    "_, pvalue = stats.fisher_exact(df)\n",
    "pvalue \n",
    "# no evidence that A and B are difference because pvalue is not less than 5%"
   ]
  },
  {
   "cell_type": "markdown",
   "id": "6feb87ad",
   "metadata": {},
   "source": [
    "### Two situations when pvalue will be lower than significance threshold\n",
    "\n",
    "1. Sample size is the same, but skew is very heavy --- unlikely to have that by chance\n",
    "2. Sample size is large, but skew is small "
   ]
  },
  {
   "cell_type": "code",
   "execution_count": 9,
   "id": "0c991824",
   "metadata": {},
   "outputs": [
    {
     "data": {
      "text/plain": [
       "0.00042033045869994034"
      ]
     },
     "execution_count": 9,
     "metadata": {},
     "output_type": "execute_result"
    }
   ],
   "source": [
    "# Scenario 1: \n",
    "# Sample size is the same, but skew is very heavy --- \n",
    "# unlikely to have that by chance\n",
    "\n",
    "df = pd.DataFrame({\n",
    "    \"click\":    {\"A\": 50, \"B\": 75},\n",
    "    \"no-click\": {\"A\": 50, \"B\": 25}\n",
    "})\n",
    "_, pvalue = stats.fisher_exact(df)\n",
    "pvalue"
   ]
  },
  {
   "cell_type": "code",
   "execution_count": 10,
   "id": "d88fe9f6",
   "metadata": {},
   "outputs": [
    {
     "data": {
      "text/plain": [
       "0.02820356890423392"
      ]
     },
     "execution_count": 10,
     "metadata": {},
     "output_type": "execute_result"
    }
   ],
   "source": [
    "# Scenario 2: \n",
    "# Sample size is large, but skew is small \n",
    "\n",
    "df = pd.DataFrame({\n",
    "    \"click\":    {\"A\": 500, \"B\": 550},\n",
    "    \"no-click\": {\"A\": 500, \"B\": 450}\n",
    "})\n",
    "_, pvalue = stats.fisher_exact(df)\n",
    "pvalue"
   ]
  }
 ],
 "metadata": {
  "kernelspec": {
   "display_name": "Python 3 (ipykernel)",
   "language": "python",
   "name": "python3"
  },
  "language_info": {
   "codemirror_mode": {
    "name": "ipython",
    "version": 3
   },
   "file_extension": ".py",
   "mimetype": "text/x-python",
   "name": "python",
   "nbconvert_exporter": "python",
   "pygments_lexer": "ipython3",
   "version": "3.10.6"
  }
 },
 "nbformat": 4,
 "nbformat_minor": 5
}
