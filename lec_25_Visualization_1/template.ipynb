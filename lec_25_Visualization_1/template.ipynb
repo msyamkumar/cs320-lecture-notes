{
 "cells": [
  {
   "cell_type": "markdown",
   "id": "084b5333",
   "metadata": {},
   "source": [
    "# Visualization 1\n",
    "\n",
    "- Advanced visualization, example: https://trailsofwind.figures.cc/\n",
    "- Custom visualization steps:\n",
    "    - draw \"patches\" (shapes) on the screen (what):\n",
    "        - lines\n",
    "        - polygons\n",
    "        - circle\n",
    "        - text\n",
    "    - location of the \"patches\" on the screen (where):\n",
    "        - X & Y co-ordinate\n",
    "        - \"Coordinate Reference System (CRS)\":\n",
    "            - takes some X & Y and maps it on to actual space on screen\n",
    "            - several CRS"
   ]
  },
  {
   "cell_type": "code",
   "execution_count": null,
   "id": "5df39a4b-d55b-4ba0-ab78-bd06fac8047e",
   "metadata": {},
   "outputs": [],
   "source": [
    "# import statements\n",
    "import matplotlib\n",
    "import matplotlib.pyplot as plt\n",
    "\n",
    "import pandas as pd\n",
    "import math"
   ]
  },
  {
   "cell_type": "markdown",
   "id": "af357b87",
   "metadata": {},
   "source": [
    "### Review: drawing a figure\n",
    "\n",
    "- `fig, ax = plt.subplots(figsize=(<width>, <height>))`\n",
    "\n",
    "### Drawing a circle\n",
    "\n",
    "- Type `plt.` and then tab to see a list of `patches`.\n",
    "- `plt.Circle((<X>, <Y>), <RADIUS>)`\n",
    "- To see the cicle, we need to invoke either:\n",
    "    - `ax.add_patch(<circle object>)`\n",
    "    - `ax.add_artist(<circle object>)`\n",
    "    - this invocation needs to be in the same cell as the one that draws the figure\n",
    "    - Is there a difference between `ax.add_patch` and `ax.add_artist`?\n",
    "        - `ax.autoscale_view()`: automatically chose limits for the axes; typically works better with `ax.add_patch(...)`"
   ]
  },
  {
   "cell_type": "code",
   "execution_count": null,
   "id": "152cd4b0-7334-491f-841d-c0bfe3fce3c9",
   "metadata": {},
   "outputs": [],
   "source": [
    "fig, ax = plt.subplots(figsize=(6, 4))\n",
    "# Let's draw a circle at (0.5, 0.5) of radius 0.3\n",
    "\n",
    "# Add the circle to the AxesSubplot\n",
    "\n"
   ]
  },
  {
   "cell_type": "code",
   "execution_count": null,
   "id": "5064c802",
   "metadata": {},
   "outputs": [],
   "source": []
  },
  {
   "cell_type": "markdown",
   "id": "5b760ce1",
   "metadata": {},
   "source": [
    "Type and MRO of circle object."
   ]
  },
  {
   "cell_type": "code",
   "execution_count": null,
   "id": "8a714acd-e33d-4fa0-9fdd-de8438e94418",
   "metadata": {},
   "outputs": [],
   "source": [
    "type(c)"
   ]
  },
  {
   "cell_type": "code",
   "execution_count": null,
   "id": "2617ab22",
   "metadata": {},
   "outputs": [],
   "source": [
    "type(c)"
   ]
  },
  {
   "cell_type": "markdown",
   "id": "085918f5",
   "metadata": {},
   "source": [
    "### Making the circle circular\n",
    "\n",
    "1. Have same figure width and height\n",
    "2. Aspect ratio\n",
    "3. Transformers: let's us pick a Coordinate Reference System (CRS)"
   ]
  },
  {
   "cell_type": "code",
   "execution_count": null,
   "id": "1bf67506",
   "metadata": {},
   "outputs": [],
   "source": [
    "# Option 1: Have same figure width and height\n",
    "fig, ax = plt.subplots(figsize=(6, 4))\n",
    "c = plt.Circle((0.5, 0.5), 0.3)\n",
    "ax.add_patch(c)\n",
    "ax.autoscale_view()"
   ]
  },
  {
   "cell_type": "markdown",
   "id": "4bd1648d-55ce-4156-b94e-6b9a10db4da7",
   "metadata": {},
   "source": [
    "### Aspect Ratio\n",
    "\n",
    "- `ax.set_aspect(<Y DIM>)`: how much space y axes takes with respect to x axes space"
   ]
  },
  {
   "cell_type": "code",
   "execution_count": null,
   "id": "06b32774-26a2-4627-b363-f79eb2838d07",
   "metadata": {},
   "outputs": [],
   "source": [
    "fig, ax = plt.subplots(figsize=(6, 4))\n",
    "c = plt.Circle((0.5, 0.5), 0.3)\n",
    "ax.add_artist(c)\n",
    "# Set aspect for y-axis to 1\n"
   ]
  },
  {
   "cell_type": "markdown",
   "id": "65f0928e",
   "metadata": {},
   "source": [
    "What if we want x and y axes to have the same aspect ratio? That is we care more about the figure being square than about the circle being circular."
   ]
  },
  {
   "cell_type": "code",
   "execution_count": null,
   "id": "7fa11875-34ba-4550-8e8b-9a9f92e58a9a",
   "metadata": {},
   "outputs": [],
   "source": [
    "fig, ax = plt.subplots(figsize=(6,4))\n",
    "# Set x axis limit to (0, 3)\n",
    "\n",
    "c = plt.Circle((0.5, 0.5), 0.3)\n",
    "ax.add_artist(c)\n",
    "# Set aspect for y-axis to 3\n"
   ]
  },
  {
   "cell_type": "markdown",
   "id": "c2429f83-1603-4aaf-b767-a60969fc20d7",
   "metadata": {},
   "source": [
    "### Transformers: let us pick a Coordinate Reference System (CRS)\n",
    "\n",
    "- Documentation: https://matplotlib.org/stable/tutorials/advanced/transforms_tutorial.html\n",
    "- `ax.transData`: default\n",
    "- `ax.transAxes`\n",
    "- `fig.transFigure`\n",
    "- `None` or `IdentityTransform()`: disabling CRS"
   ]
  },
  {
   "cell_type": "markdown",
   "id": "84c0e7b7",
   "metadata": {},
   "source": [
    "### Review:\n",
    "- `fig, ax = plt.subplots(figsize=(<width>, <height>), ncols=<N>, nrows=<N>)`:\n",
    "    - ncols: split into vertical sub plots\n",
    "    - nrows: split into horizontal sub plots\n",
    "- `ax.set_xlim(<lower limit>, <upper limit>)`: set x-axis limits\n",
    "- `ax.set_ylim(<lower limit>, <upper limit>)`: set y-axis limits\n",
    "\n",
    "### `ax.transData`\n",
    "- `transform` parameter in \"patch\" creation function let's us specify the CRS\n",
    "- `color` parameter controls the color of the \"patch\"\n",
    "- `edgecolor` parameter controls outer border color of the \"patch\"\n",
    "- `linewidth` parameter controls the size of the border of the \"patch\"\n",
    "- `facecolor` parameter controls the filled in color of the \"patch\""
   ]
  },
  {
   "cell_type": "code",
   "execution_count": null,
   "id": "5adb1223-0fc4-422c-95ef-1446ad811940",
   "metadata": {},
   "outputs": [],
   "source": [
    "# Create a plot with two vertical subplots\n",
    "\n",
    "# Set right subplot x-axis limit from 0 to 3\n",
    "\n",
    "\n",
    "# Left subplot: plot Circle at (0.5, 0.5) with radius 0.2\n",
    "# Specify CRS as ax1.transData (tranform parameter)\n",
    "\n",
    "\n",
    "# Right subplot: plot Circle at (0.5, 0.5) with radius 0.2\n",
    "# default: transform=ax2.transData\n",
    "\n",
    "\n",
    "# Observe that we get a different circle\n",
    "\n",
    "# Transform based on ax1, but crop based on ax2\n",
    "# Left subplot: plot Circle at (1, 1) with radius 0.3 and crop using ax2\n",
    " # where to position the shape \n",
    " # how to crop the shape\n",
    "\n",
    "# Right subplot: plot Circle at (1, 1) with radius 0.3 and crop using ax1\n",
    " # where to position the shape\n",
    " # how to crop the shape"
   ]
  },
  {
   "cell_type": "markdown",
   "id": "0167a871",
   "metadata": {},
   "source": [
    "### `ax.transAxes` and `fig.transFigure`\n",
    "\n",
    "- (0, 0) is bottom left\n",
    "- (1, 1) is top right\n",
    "    - these are true immaterial of the axes limits"
   ]
  },
  {
   "cell_type": "code",
   "execution_count": null,
   "id": "38aa99c6-039a-468e-9cb1-b1a3d9b36a80",
   "metadata": {},
   "outputs": [],
   "source": [
    "fig, (ax1, ax2) = plt.subplots(ncols=2, figsize=(6, 4))\n",
    "ax2.set_xlim(0, 3)\n",
    "\n",
    "# Left subplot\n",
    "c = plt.Circle((0.5, 0.5), 0.2, transform=???)\n",
    "???.add_artist(c)\n",
    "\n",
    "# Right subplot\n",
    "c = plt.Circle((0.5, 0.5), 0.2, transform=???)\n",
    "???.add_artist(c)\n",
    "\n",
    "# whole figure\n",
    "# edgecolor=\"red\", facecolor=\"none\", linewidth=3\n"
   ]
  },
  {
   "cell_type": "markdown",
   "id": "bc52379c",
   "metadata": {},
   "source": [
    "### No CRS (raw pixel coordinates)\n",
    "\n",
    "- `fig.dpi`: dots (aka pixesl) per inch\n",
    "- increasing dpi makes the figure have higher resolution (helpful when you want to print a large size)\n",
    "- Review: \n",
    "    - `plt.tight_layout()`: avoid unncessary cropping of the figure --- always needed for No CRS cases\n",
    "    - `fig.savefig(<relative path.png>)`: to save a local copy of the image\n",
    "    \n",
    "- Jupyter command to avoid cropping:\n",
    "    - `%config InlineBackend.print_figure_kwargs={'bbox_inches': None}`\n",
    "        - bbox_inches stands for bounding box"
   ]
  },
  {
   "cell_type": "code",
   "execution_count": null,
   "id": "222eb737",
   "metadata": {},
   "outputs": [],
   "source": [
    "# Jupyter commands begin with %\n"
   ]
  },
  {
   "cell_type": "code",
   "execution_count": null,
   "id": "e09ef243-ba52-4b70-a980-6ff4735f0fc2",
   "metadata": {},
   "outputs": [],
   "source": [
    "fig, (ax1, ax2) = plt.subplots(ncols=2, figsize=(6, 4))\n",
    "ax2.set_xlim(0, 3)\n",
    "\n",
    "# What is the dpi?\n",
    "   # dots (aka pixel) per inch\n",
    "\n",
    "# Calculate total width and height of the figure using dpi and dimensions\n",
    "width = ???\n",
    "height = ???\n",
    "\n",
    "# Calculate (x, y) in the middle of the plot\n",
    "x = ???\n",
    "y = >>>\n",
    "print(x, y)\n",
    "\n",
    "# Make sure to invoke plt.tight_layout()\n",
    "# matplotlib does the cropping better than Jupyter\n",
    "\n",
    "# Draw a circle at (x, y) with radius 30\n",
    "# Make sure to set transform=None\n",
    "\n",
    "\n",
    "# Save the figure to temp.png\n"
   ]
  },
  {
   "cell_type": "markdown",
   "id": "744d76e5",
   "metadata": {},
   "source": [
    "### Mix and match\n",
    "\n",
    "- `ax.transData.transform((x, y))`: converts axes / data coords into raw coordinates\n",
    "- How to draw an arrow:\n",
    "    `matplotlib.patches.FancyArrowPatch((<FIRST POINT TUPLE>, <SECOND POINT TUPLE>), transform=None, arrowstyle=<STYLE>)`:\n",
    "        - arrowstyle=\"simple,head_width=10,head_length=10\""
   ]
  },
  {
   "cell_type": "code",
   "execution_count": null,
   "id": "83b86eb0-02e8-48a4-a2da-f644b4964c85",
   "metadata": {},
   "outputs": [],
   "source": [
    "# GOAL: draw a visual circle at axes / data coords 0.5, 0.5 \n",
    "# with raw co-ordinate radius 30 on right subplot\n",
    "fig, (ax1, ax2) = plt.subplots(ncols=2, figsize=(6, 4))\n",
    "ax2.set_xlim(0, 3)\n",
    "\n",
    "# crop now (after .transform, we don't want to move anything!)\n",
    "plt.tight_layout() \n",
    "\n",
    "x, y = ax2.transData.transform((0.5, 0.5))\n",
    "print(x, y)\n",
    "# Draw a circle at (x, y) with radius 30 and set transform to None\n",
    "\n",
    "\n",
    "# GOAL: arrow from 0.2, 0.2 (left) to 2, 0.5 (right)\n",
    "# Use axes / data coords from one subplot to another subplot\n"
   ]
  },
  {
   "cell_type": "markdown",
   "id": "d2272a0b-f8f1-4bdd-87d5-971aee1ce160",
   "metadata": {},
   "source": [
    "### Custom Scatter Plots with Angles"
   ]
  },
  {
   "cell_type": "code",
   "execution_count": null,
   "id": "468492f8-0e1e-4a37-b16c-d08e818a1b63",
   "metadata": {},
   "outputs": [],
   "source": [
    "df = pd.DataFrame([\n",
    "    {\"x\":2, \"y\":5, \"a\": 90},\n",
    "    {\"x\":3, \"y\":1, \"a\": 0},\n",
    "    {\"x\":6, \"y\":6, \"a\": 45},\n",
    "    {\"x\":8, \"y\":1, \"a\": 180}\n",
    "])\n",
    "\n",
    "df"
   ]
  },
  {
   "cell_type": "code",
   "execution_count": null,
   "id": "4963466b-acab-468e-bdde-97f9908933a8",
   "metadata": {
    "scrolled": true
   },
   "outputs": [],
   "source": [
    "fig, ax = plt.subplots(figsize=(3, 2))\n",
    "ax.set_xlim(0, 10)\n",
    "ax.set_ylim(0, 10)\n",
    "\n",
    "for row in df.itertuples():\n",
    "    print(row.x, row.y, row.a)\n",
    "    # v1: draw a circle for each scatter point\n",
    "    \n",
    "    # x, y = ax.transData.transform((row.x, row.y))\n",
    "    # c = plt.Circle((x,y), radius=10, transform=None)\n",
    "    # ax.add_artist(c)\n",
    "    \n",
    "    # v2: draw an arrow for each scatter point (correct angle)\n",
    "    #x, y = ax.transData.transform((row.x, row.y))\n",
    "    # Calculate angle: math.radians(row.a)\n",
    "    #a = ???\n",
    "    # Calculate end axes / data coords:\n",
    "    # using math.cos(a) * 25 and math.sin(a) * 25\n",
    "    #x_diff = ???\n",
    "    #y_diff = ???\n",
    "    c = matplotlib.patches.FancyArrowPatch((x,y), (x+x_diff, y+y_diff),transform=None, color=\"k\",\n",
    "                                           arrowstyle=\"simple,head_width=10,head_length=10\")\n",
    "    ax.add_artist(c)"
   ]
  }
 ],
 "metadata": {
  "kernelspec": {
   "display_name": "Python 3 (ipykernel)",
   "language": "python",
   "name": "python3"
  },
  "language_info": {
   "codemirror_mode": {
    "name": "ipython",
    "version": 3
   },
   "file_extension": ".py",
   "mimetype": "text/x-python",
   "name": "python",
   "nbconvert_exporter": "python",
   "pygments_lexer": "ipython3",
   "version": "3.9.13"
  }
 },
 "nbformat": 4,
 "nbformat_minor": 5
}
