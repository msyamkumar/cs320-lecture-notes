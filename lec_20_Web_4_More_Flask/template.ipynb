{
 "cells": [
  {
   "cell_type": "markdown",
   "id": "cf313adf",
   "metadata": {},
   "source": [
    "# Web 4: More Flask"
   ]
  },
  {
   "cell_type": "code",
   "execution_count": null,
   "id": "d55e4bb4-9f29-4f4f-bba6-05054718259b",
   "metadata": {},
   "outputs": [],
   "source": [
    "import requests\n",
    "import time\n"
   ]
  },
  {
   "cell_type": "markdown",
   "id": "527600aa",
   "metadata": {},
   "source": [
    "### Rate-limited webpage parsing\n",
    "\n",
    "- `requests` module:\n",
    "    - `resp = requests.get(<URL>)` method: enables us to send HTTP GET request\n",
    "    - `resp.status_code`: status code of the response\n",
    "    - `resp.text`: `str` text content of the response\n",
    "    - `resp.headers`: `dict` content of response headers"
   ]
  },
  {
   "cell_type": "code",
   "execution_count": null,
   "id": "8241e51c",
   "metadata": {},
   "outputs": [],
   "source": [
    "base_url = \"http://34.69.204.31:5000/\""
   ]
  },
  {
   "cell_type": "code",
   "execution_count": null,
   "id": "6cc81b85",
   "metadata": {},
   "outputs": [],
   "source": [
    "def friendly_get(url):\n",
    "    while True:\n",
    "        resp = requests.get(url)\n",
    "        resp.raise_for_status() # raise exception if not 200\n",
    "        return resp\n",
    "    \n",
    "friendly_get(base_url + \"/slow\").text"
   ]
  },
  {
   "cell_type": "markdown",
   "id": "23ba100b",
   "metadata": {},
   "source": [
    "### `urllib.robotparser`\n",
    "\n",
    "- Documentation: https://docs.python.org/3/library/urllib.robotparser.html"
   ]
  },
  {
   "cell_type": "code",
   "execution_count": null,
   "id": "379c3ae5-7344-45b1-88c3-b35f0bd8eb5b",
   "metadata": {},
   "outputs": [],
   "source": []
  },
  {
   "cell_type": "code",
   "execution_count": null,
   "id": "2e3fb01c-4281-4cbf-8828-98e04d27d09a",
   "metadata": {},
   "outputs": [],
   "source": []
  },
  {
   "cell_type": "code",
   "execution_count": null,
   "id": "f5d4b21e-d36c-4143-8007-ad9fdcf3c7a0",
   "metadata": {},
   "outputs": [],
   "source": []
  }
 ],
 "metadata": {
  "kernelspec": {
   "display_name": "Python 3 (ipykernel)",
   "language": "python",
   "name": "python3"
  },
  "language_info": {
   "codemirror_mode": {
    "name": "ipython",
    "version": 3
   },
   "file_extension": ".py",
   "mimetype": "text/x-python",
   "name": "python",
   "nbconvert_exporter": "python",
   "pygments_lexer": "ipython3",
   "version": "3.9.13"
  }
 },
 "nbformat": 4,
 "nbformat_minor": 5
}
