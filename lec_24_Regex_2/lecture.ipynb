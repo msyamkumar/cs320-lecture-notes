{
 "cells": [
  {
   "cell_type": "markdown",
   "id": "e60c1c48",
   "metadata": {},
   "source": [
    "# Regex 2"
   ]
  },
  {
   "cell_type": "code",
   "execution_count": 1,
   "id": "0dba68b0",
   "metadata": {},
   "outputs": [],
   "source": [
    "#import statements\n",
    "import re\n",
    "from subprocess import check_output\n",
    "import pandas as pd"
   ]
  },
  {
   "cell_type": "code",
   "execution_count": 2,
   "id": "b97c8008-8e39-4a9f-89a1-0d1ddbb1ac01",
   "metadata": {},
   "outputs": [
    {
     "name": "stdout",
     "output_type": "stream",
     "text": [
      "A DAG is a directed graph without cycles. A tree is a DAG where every node has one parent (except the root, which has none). To learn more, visit www.example.com or call 1-608-123-4567. :) ¯\\_(ツ)_/¯\n",
      "1-608-123-4567\n",
      "a-bcd-efg-hijg (not a phone number)\n",
      "1-608-123-456 (not a phone number)\n",
      "608-123-4567\n",
      "123-4567\n",
      "1-123-4567 (not a phone number)\n",
      "\n",
      "In CS 320, there are 10 quizzes, 7 projects, 39 lectures, and 1000 things to learn.  CS 320 is awesome!\n",
      "In CS 320,  there are 14 quizzes,    7 projects,\n",
      "41 lectures, and 1000 things to learn.  CS 320 is awesome!\n"
     ]
    }
   ],
   "source": [
    "# Example strings\n",
    "# from DS100 book...\n",
    "def reg(regex, text):\n",
    "    \"\"\"\n",
    "    Prints the string with the regex match highlighted.\n",
    "    \"\"\"\n",
    "    print(re.sub(f'({regex})', r'\\033[1;30;43m\\1\\033[m', text))\n",
    "s1 = \" \".join([\"A DAG is a directed graph without cycles.\",\n",
    "               \"A tree is a DAG where every node has one parent (except the root, which has none).\",\n",
    "               \"To learn more, visit www.example.com or call 1-608-123-4567. :) ¯\\_(ツ)_/¯\"])\n",
    "print(s1)\n",
    "\n",
    "s2 = \"\"\"1-608-123-4567\n",
    "a-bcd-efg-hijg (not a phone number)\n",
    "1-608-123-456 (not a phone number)\n",
    "608-123-4567\n",
    "123-4567\n",
    "1-123-4567 (not a phone number)\n",
    "\"\"\"\n",
    "print(s2)\n",
    "\n",
    "s3 = \"In CS 320, there are 10 quizzes, 7 projects, 39 lectures, and 1000 things to learn.  CS 320 is awesome!\"\n",
    "print(s3)\n",
    "\n",
    "s4 = \"\"\"In CS 320,  there are 14 quizzes,    7 projects,\n",
    "41 lectures, and 1000 things to learn.  CS 320 is awesome!\"\"\"\n",
    "print(s4)"
   ]
  },
  {
   "cell_type": "code",
   "execution_count": 3,
   "id": "924069c5-82be-4423-b659-2beee8e226be",
   "metadata": {},
   "outputs": [
    {
     "name": "stdout",
     "output_type": "stream",
     "text": [
      "A DAG is a directed graph without cycles. A tree is a DAG where every node has one parent (except the root, which has none). To learn more, visit www.example.com or call 1-608-123-4567. :) ¯\\_(ツ)_/¯\n"
     ]
    }
   ],
   "source": [
    "print(s1)"
   ]
  },
  {
   "cell_type": "markdown",
   "id": "6a2eff34",
   "metadata": {},
   "source": [
    "### Regex is case sensitive\n",
    "\n",
    "### Character classes\n",
    "\n",
    "- Character classes can be mentioned within `[...]`\n",
    "- `^` means `NOT` of a character class\n",
    "- `-` enables us to mention range of characters, for example `[A-Z]`\n",
    "- `|` enables us to perform `OR`\n",
    "\n",
    "### Metacharacters\n",
    "\n",
    "- predefined character classes\n",
    "    - `\\d` => digits\n",
    "    - `\\s` => whitespace (space, tab, newline)\n",
    "    - `\\w` => \"word\" characters (digits, letters, underscores, etc) --- helpful for variable name matches and whole word matches (as it doesn't match whitespace --- `\\s`)\n",
    "    - `.` => wildcard: anything except newline\n",
    "- capitalized version of character classes mean `NOT`, for example `\\D` => everything except digits\n",
    "\n",
    "### REPETITION\n",
    "\n",
    "- `<character>{<num matches>}` - for example: `w{3}`\n",
    "- matches cannot overlap\n",
    "\n",
    "### Variable length repitition operators\n",
    "\n",
    "- `*` => 0 or more (greedy: match as many characters as possible)\n",
    "- `+` => 1 or more (greedy: match as many characters as possible)\n",
    "- `?` => 0 or 1\n",
    "- `*?` => 0 or more (non-greedy: match as few characters as possible)\n",
    "- `+?` => 1 or more (non-greedy: match as few characters as possible)\n",
    "\n",
    "#### Find everything inside of parentheses."
   ]
  },
  {
   "cell_type": "code",
   "execution_count": 4,
   "id": "11f75d92-f215-47f4-8804-5e5727d3be55",
   "metadata": {},
   "outputs": [
    {
     "name": "stdout",
     "output_type": "stream",
     "text": [
      "\u001b[1;30;43mA DAG is a directed graph without cycles. A tree is a DAG where every node has one parent (except the root, which has none). To learn more, visit www.example.com or call 1-608-123-4567. :) ¯\\_(ツ)_/¯\u001b[m\u001b[1;30;43m\u001b[m\n"
     ]
    }
   ],
   "source": [
    "# this doesn't work\n",
    "# it captures everything because () have special meaning (coming up)\n",
    "reg(r\"(.*)\", s1)"
   ]
  },
  {
   "cell_type": "code",
   "execution_count": 5,
   "id": "b488460e",
   "metadata": {},
   "outputs": [
    {
     "name": "stdout",
     "output_type": "stream",
     "text": [
      "A DAG is a directed graph without cycles. A tree is a DAG where every node has one parent \u001b[1;30;43m(except the root, which has none). To learn more, visit www.example.com or call 1-608-123-4567. :) ¯\\_(ツ)\u001b[m_/¯\n"
     ]
    }
   ],
   "source": [
    "# How can we change this to not use special meaning of ()?\n",
    "# * is greedy: match as many characters as possible\n",
    "reg(r\"\\(.*\\)\", s1)"
   ]
  },
  {
   "cell_type": "code",
   "execution_count": 6,
   "id": "42155b54-d27b-4418-81a1-c005c508d738",
   "metadata": {},
   "outputs": [
    {
     "name": "stdout",
     "output_type": "stream",
     "text": [
      "A DAG is a directed graph without cycles. A tree is a DAG where every node has one parent \u001b[1;30;43m(except the root, which has none)\u001b[m. To learn more, visit www.example.com or call 1-608-123-4567. :) ¯\\_\u001b[1;30;43m(ツ)\u001b[m_/¯\n"
     ]
    }
   ],
   "source": [
    "# non-greedy: stop at the first possible spot instead of the last possible spot\n",
    "reg(r\"\\(.*?\\)\", s1)"
   ]
  },
  {
   "cell_type": "markdown",
   "id": "0fd70cfd",
   "metadata": {},
   "source": [
    "### Anchor characters\n",
    "- `^` => start of string\n",
    "    - `^` is overloaded --- what was the other usage?\n",
    "- `$` => end of string\n",
    "\n",
    "#### Find everything in the first sentence."
   ]
  },
  {
   "cell_type": "code",
   "execution_count": 7,
   "id": "40fed5db",
   "metadata": {},
   "outputs": [
    {
     "name": "stdout",
     "output_type": "stream",
     "text": [
      "\u001b[1;30;43mA DAG is a directed graph without cycles.\u001b[m\u001b[1;30;43m A tree is a DAG where every node has one parent (except the root, which has none).\u001b[m\u001b[1;30;43m To learn more, visit www.\u001b[m\u001b[1;30;43mexample.\u001b[m\u001b[1;30;43mcom or call 1-608-123-4567.\u001b[m :) ¯\\_(ツ)_/¯\n"
     ]
    }
   ],
   "source": [
    "# doesn't work because remember regex finds all possible matches\n",
    "# so it matches every single sentence \n",
    "# (even though we are doing non-greedy match)\n",
    "reg(r\".*?\\.\", s1)"
   ]
  },
  {
   "cell_type": "code",
   "execution_count": 8,
   "id": "7e97abd8",
   "metadata": {},
   "outputs": [
    {
     "name": "stdout",
     "output_type": "stream",
     "text": [
      "\u001b[1;30;43mA DAG is a directed graph without cycles.\u001b[m A tree is a DAG where every node has one parent (except the root, which has none). To learn more, visit www.example.com or call 1-608-123-4567. :) ¯\\_(ツ)_/¯\n"
     ]
    }
   ],
   "source": [
    "reg(r\"^.*?\\.\", s1)"
   ]
  },
  {
   "cell_type": "markdown",
   "id": "f66a4651",
   "metadata": {},
   "source": [
    "#### Find everything in the first two sentences."
   ]
  },
  {
   "cell_type": "code",
   "execution_count": 9,
   "id": "cfa8353e-4402-4f64-b3f8-35e73b2d7a68",
   "metadata": {},
   "outputs": [
    {
     "name": "stdout",
     "output_type": "stream",
     "text": [
      "\u001b[1;30;43mA DAG is a directed graph without cycles. A tree is a DAG where every node has one parent (except the root, which has none).\u001b[m To learn more, visit www.example.com or call 1-608-123-4567. :) ¯\\_(ツ)_/¯\n"
     ]
    }
   ],
   "source": [
    "reg(r\"^(.*?\\.){2}\", s1)"
   ]
  },
  {
   "cell_type": "markdown",
   "id": "76570acd",
   "metadata": {},
   "source": [
    "#### Find last \"word\" in the sentence."
   ]
  },
  {
   "cell_type": "code",
   "execution_count": 10,
   "id": "f35a6c81-47b5-48eb-8357-888fe832f85b",
   "metadata": {},
   "outputs": [
    {
     "name": "stdout",
     "output_type": "stream",
     "text": [
      "A DAG is a directed graph without cycles. A tree is a DAG where every node has one parent (except the root, which has none). To learn more, visit www.example.com or call 1-608-123-4567. :) \u001b[1;30;43m¯\\_(ツ)_/¯\u001b[m\n"
     ]
    }
   ],
   "source": [
    "reg(r\"\\S+$\", s1)"
   ]
  },
  {
   "cell_type": "markdown",
   "id": "4b25fb66",
   "metadata": {},
   "source": [
    "### Case study: find all phone numbers."
   ]
  },
  {
   "cell_type": "code",
   "execution_count": 11,
   "id": "8ecbeaf0",
   "metadata": {},
   "outputs": [
    {
     "name": "stdout",
     "output_type": "stream",
     "text": [
      "1-608-123-4567\n",
      "a-bcd-efg-hijg (not a phone number)\n",
      "1-608-123-456 (not a phone number)\n",
      "608-123-4567\n",
      "123-4567\n",
      "1-123-4567 (not a phone number)\n",
      "\n"
     ]
    }
   ],
   "source": [
    "print(s2)\n",
    "# The country code (1) in the front is optional\n",
    "# The area code (608) is also optional\n",
    "# Doesn't make sense to match country code without area code though!"
   ]
  },
  {
   "cell_type": "code",
   "execution_count": 12,
   "id": "88a01725-790c-4f21-b334-e3d31bed24b5",
   "metadata": {},
   "outputs": [
    {
     "name": "stdout",
     "output_type": "stream",
     "text": [
      "\u001b[1;30;43m1-608-123-4567\u001b[m\n",
      "a-bcd-efg-hijg (not a phone number)\n",
      "1-608-123-456 (not a phone number)\n",
      "608-123-4567\n",
      "123-4567\n",
      "1-123-4567 (not a phone number)\n",
      "\n"
     ]
    }
   ],
   "source": [
    "# Full US phone numbers\n",
    "reg(r\"\\d-\\d{3}-\\d{3}-\\d{4}\", s2)"
   ]
  },
  {
   "cell_type": "code",
   "execution_count": 13,
   "id": "ea8ce0be-98f8-4f9c-bcc0-1d8a0bb183a8",
   "metadata": {
    "jupyter": {
     "outputs_hidden": true
    },
    "tags": []
   },
   "outputs": [
    {
     "name": "stdout",
     "output_type": "stream",
     "text": [
      "\u001b[1;30;43m1-608-123-4567\u001b[m\n",
      "a-bcd-efg-hijg (not a phone number)\n",
      "1-608-123-456 (not a phone number)\n",
      "\u001b[1;30;43m608-123-4567\u001b[m\n",
      "123-4567\n",
      "1-123-4567 (not a phone number)\n",
      "\n"
     ]
    }
   ],
   "source": [
    "# The country code (1) in the front is optional\n",
    "reg(r\"(\\d-)?\\d{3}-\\d{3}-\\d{4}\", s2)"
   ]
  },
  {
   "cell_type": "code",
   "execution_count": 14,
   "id": "5befb23a-848f-44d4-aaac-6b21ac0bbf43",
   "metadata": {},
   "outputs": [
    {
     "name": "stdout",
     "output_type": "stream",
     "text": [
      "\u001b[1;30;43m1-608-123-4567\u001b[m\n",
      "a-bcd-efg-hijg (not a phone number)\n",
      "1-608-123-456 (not a phone number)\n",
      "\u001b[1;30;43m608-123-4567\u001b[m\n",
      "\u001b[1;30;43m123-4567\u001b[m\n",
      "\u001b[1;30;43m1-123-4567\u001b[m (not a phone number)\n",
      "\n"
     ]
    }
   ],
   "source": [
    "# The area code (608) is also optional\n",
    "# Doesn't make sense to have country code without area code though!\n",
    "reg(r\"(\\d-)?(\\d{3}-)?\\d{3}-\\d{4}\", s2)"
   ]
  },
  {
   "cell_type": "code",
   "execution_count": 15,
   "id": "34164fd1-a422-45a0-8e11-54199ca77120",
   "metadata": {},
   "outputs": [
    {
     "name": "stdout",
     "output_type": "stream",
     "text": [
      "\u001b[1;30;43m1-608-123-4567\u001b[m\n",
      "a-bcd-efg-hijg (not a phone number)\n",
      "1-608-123-456 (not a phone number)\n",
      "\u001b[1;30;43m608-123-4567\u001b[m\n",
      "\u001b[1;30;43m123-4567\u001b[m\n",
      "1-\u001b[1;30;43m123-4567\u001b[m (not a phone number)\n",
      "\n"
     ]
    }
   ],
   "source": [
    "# This is good enough for 320 quizzes/tests\n",
    "# But clearly, the last match is not correct\n",
    "reg(r\"((\\d-)?\\d{3}-)?\\d{3}-\\d{4}\", s2)"
   ]
  },
  {
   "cell_type": "markdown",
   "id": "8a2ee4e2",
   "metadata": {},
   "source": [
    "Regex documentation link: https://docs.python.org/3/library/re.html."
   ]
  },
  {
   "cell_type": "code",
   "execution_count": 16,
   "id": "694a585b-b5a7-4a6f-a0f1-60521f7dfc47",
   "metadata": {},
   "outputs": [
    {
     "name": "stdout",
     "output_type": "stream",
     "text": [
      "\u001b[1;30;43m1-608-123-4567\u001b[m\n",
      "a-bcd-efg-hijg (not a phone number)\n",
      "1-608-123-456 (not a phone number)\n",
      "\u001b[1;30;43m608-123-4567\u001b[m\n",
      "\u001b[1;30;43m123-4567\u001b[m\n",
      "1-123-4567 (not a phone number)\n",
      "\n"
     ]
    }
   ],
   "source": [
    "# BONUS: negative lookbehind (I won't test this)\n",
    "reg(r\"(?<!\\d\\-)((\\d-)?\\d{3}-)?\\d{3}-\\d{4}\", s2)"
   ]
  },
  {
   "cell_type": "markdown",
   "id": "3973350b",
   "metadata": {},
   "source": [
    "There is also a negative lookahead. For example, how to avoid matching \"1-608-123-456\" in \"1-608-123-4569999\". You can explore this if you are interested."
   ]
  },
  {
   "cell_type": "code",
   "execution_count": 17,
   "id": "4988d765",
   "metadata": {},
   "outputs": [
    {
     "name": "stdout",
     "output_type": "stream",
     "text": [
      "\u001b[1;30;43m608-123-4569\u001b[m999\n"
     ]
    }
   ],
   "source": [
    "reg(r\"(?<!\\d\\-)((\\d-)?\\d{3}-)?\\d{3}-\\d{4}\", \"608-123-4569999\")"
   ]
  },
  {
   "cell_type": "markdown",
   "id": "b02ae9e0",
   "metadata": {},
   "source": [
    "### Testing your regex\n",
    "- you could use `reg(...)` function\n",
    "- another useful resource: https://regex101.com/"
   ]
  },
  {
   "cell_type": "markdown",
   "id": "4a973271",
   "metadata": {},
   "source": [
    "### `re` module\n",
    "- `re.findall(<PATTERN>, <SEARCH STRING>)`: regular expression matches\n",
    "    - returns a list of strings \n",
    "- `re.sub(<PATTERN>, <REPLACEMENT>, <SEARCH STRING>)`: regular expression match + substitution\n",
    "    - returns a new string with the substitutions (remember strings are immutable)"
   ]
  },
  {
   "cell_type": "code",
   "execution_count": 18,
   "id": "73ec525f",
   "metadata": {},
   "outputs": [
    {
     "name": "stdout",
     "output_type": "stream",
     "text": [
      "In CS 320,\tthere are 40 lectures, 10 quizzes, 3 exams,\t7 projects, and 1000 things to learn. CS 320 is awesome!\n"
     ]
    }
   ],
   "source": [
    "msg = \"In CS 320,\\tthere are 40 lectures, 10 quizzes, 3 exams,\\t7 projects, and 1000 things to learn. CS 320 is awesome!\"\n",
    "print(msg)"
   ]
  },
  {
   "cell_type": "markdown",
   "id": "34998a5e",
   "metadata": {},
   "source": [
    "#### Find all digits."
   ]
  },
  {
   "cell_type": "code",
   "execution_count": 19,
   "id": "7f42c25a",
   "metadata": {},
   "outputs": [
    {
     "data": {
      "text/plain": [
       "['320', '40', '10', '3', '7', '1000', '320']"
      ]
     },
     "execution_count": 19,
     "metadata": {},
     "output_type": "execute_result"
    }
   ],
   "source": [
    "re.findall(r\"\\d+\", msg)"
   ]
  },
  {
   "cell_type": "markdown",
   "id": "70b2f488",
   "metadata": {},
   "source": [
    "### Groups\n",
    "- we can capture matches using `()` => this is the special meaning of `()`\n",
    "- returns a list of tuples, where length of the tuple will be number of groups\n",
    "\n",
    "#### Find all digits and the word that comes after that."
   ]
  },
  {
   "cell_type": "code",
   "execution_count": 20,
   "id": "5309adee",
   "metadata": {},
   "outputs": [
    {
     "data": {
      "text/plain": [
       "[('40', 'lectures'),\n",
       " ('10', 'quizzes'),\n",
       " ('3', 'exams'),\n",
       " ('7', 'projects'),\n",
       " ('1000', 'things'),\n",
       " ('320', 'is')]"
      ]
     },
     "execution_count": 20,
     "metadata": {},
     "output_type": "execute_result"
    }
   ],
   "source": [
    "matches = re.findall(r\"(\\d+) (\\w+)\", msg)\n",
    "matches"
   ]
  },
  {
   "cell_type": "markdown",
   "id": "c138ff9a",
   "metadata": {},
   "source": [
    "#### Goal: make a dict (course component => count, like \"projects\" => 7)"
   ]
  },
  {
   "cell_type": "code",
   "execution_count": 21,
   "id": "6654bd71",
   "metadata": {},
   "outputs": [
    {
     "data": {
      "text/plain": [
       "{'lectures': 40,\n",
       " 'quizzes': 10,\n",
       " 'exams': 3,\n",
       " 'projects': 7,\n",
       " 'things': 1000,\n",
       " 'is': 320}"
      ]
     },
     "execution_count": 21,
     "metadata": {},
     "output_type": "execute_result"
    }
   ],
   "source": [
    "course_dict = {}\n",
    "for count, component in matches:\n",
    "    course_dict[component] = int(count)\n",
    "course_dict"
   ]
  },
  {
   "cell_type": "markdown",
   "id": "c4b6b505",
   "metadata": {},
   "source": [
    "### Unlike matches, groups can overlap\n",
    "\n",
    "#### Find and group all digits and the word that comes after that."
   ]
  },
  {
   "cell_type": "code",
   "execution_count": 22,
   "id": "491c3460",
   "metadata": {},
   "outputs": [
    {
     "data": {
      "text/plain": [
       "[('40 lectures', '40', 'lectures'),\n",
       " ('10 quizzes', '10', 'quizzes'),\n",
       " ('3 exams', '3', 'exams'),\n",
       " ('7 projects', '7', 'projects'),\n",
       " ('1000 things', '1000', 'things'),\n",
       " ('320 is', '320', 'is')]"
      ]
     },
     "execution_count": 22,
     "metadata": {},
     "output_type": "execute_result"
    }
   ],
   "source": [
    "re.findall(r\"((\\d+) (\\w+))\", msg)"
   ]
  },
  {
   "cell_type": "markdown",
   "id": "d2227e69",
   "metadata": {},
   "source": [
    "#### Substitute all digits with \"###\"."
   ]
  },
  {
   "cell_type": "code",
   "execution_count": 23,
   "id": "6d1fede1",
   "metadata": {},
   "outputs": [
    {
     "data": {
      "text/plain": [
       "'In CS ###,\\tthere are ### lectures, ### quizzes, ### exams,\\t### projects, and ### things to learn. CS ### is awesome!'"
      ]
     },
     "execution_count": 23,
     "metadata": {},
     "output_type": "execute_result"
    }
   ],
   "source": [
    "re.sub(r\"\\d+\", \"###\", msg)"
   ]
  },
  {
   "cell_type": "markdown",
   "id": "9d531122",
   "metadata": {},
   "source": [
    "#### Goal: normalize whitespace (everything will be a single space)"
   ]
  },
  {
   "cell_type": "code",
   "execution_count": 24,
   "id": "4becbe70",
   "metadata": {},
   "outputs": [
    {
     "name": "stdout",
     "output_type": "stream",
     "text": [
      "In CS 320,\tthere are 40 lectures, 10 quizzes, 3 exams,\t7 projects, and 1000 things to learn. CS 320 is awesome!\n"
     ]
    }
   ],
   "source": [
    "print(msg)"
   ]
  },
  {
   "cell_type": "code",
   "execution_count": 25,
   "id": "72a6eb42",
   "metadata": {},
   "outputs": [
    {
     "data": {
      "text/plain": [
       "'In CS 320, there are 40 lectures, 10 quizzes, 3 exams, 7 projects, and 1000 things to learn. CS 320 is awesome!'"
      ]
     },
     "execution_count": 25,
     "metadata": {},
     "output_type": "execute_result"
    }
   ],
   "source": [
    "re.sub(r\"\\s+\", \" \", msg)"
   ]
  },
  {
   "cell_type": "markdown",
   "id": "6faf33fd",
   "metadata": {},
   "source": [
    "### How to use groups is substitution?\n",
    "- `\\g<N>` gives you the result of the N'th grouping.\n",
    "\n",
    "#### Substitute all course component counts with HTML bold tags."
   ]
  },
  {
   "cell_type": "code",
   "execution_count": 26,
   "id": "8df577fd",
   "metadata": {},
   "outputs": [
    {
     "name": "stdout",
     "output_type": "stream",
     "text": [
      "In CS <b>320</b>,\tthere are <b>40</b> lectures, <b>10</b> quizzes, <b>3</b> exams,\t<b>7</b> projects, and <b>1000</b> things to learn. CS <b>320</b> is awesome!\n"
     ]
    }
   ],
   "source": [
    "print(re.sub(r\"(\\d+)\", \"<b>\\g<1></b>\", msg))"
   ]
  },
  {
   "cell_type": "markdown",
   "id": "35a15a41",
   "metadata": {},
   "source": [
    "In CS <b>320</b>, there are <b>40</b> lectures, <b>10</b> quizzes, <b>3</b> exams, <b>7</b> projects, and <b>1000</b> things to learn. CS <b>320</b> is awesome!"
   ]
  },
  {
   "cell_type": "markdown",
   "id": "bede932a",
   "metadata": {},
   "source": [
    "### Git log example"
   ]
  },
  {
   "cell_type": "markdown",
   "id": "f816ab34",
   "metadata": {},
   "source": [
    "#### Run `git log` as a shell command"
   ]
  },
  {
   "cell_type": "code",
   "execution_count": 27,
   "id": "f55eec9a",
   "metadata": {},
   "outputs": [
    {
     "name": "stdout",
     "output_type": "stream",
     "text": [
      "\u001b[33mcommit 5e40bf034e38a37fbc46184dbc4b894fb872e828\u001b[m\u001b[33m (\u001b[m\u001b[1;36mHEAD -> \u001b[m\u001b[1;32mmain\u001b[m\u001b[33m, \u001b[m\u001b[1;31morigin/main\u001b[m\u001b[33m)\u001b[m\r\n",
      "Author: Meenakshi Syamkumar <meenakshi.psgit@gmail.com>\r\n",
      "Date:   Fri Mar 24 10:43:42 2023 -0500\r\n",
      "\r\n",
      "    Minor change to document about word match\r\n",
      "\r\n",
      "\u001b[33mcommit 9d668e00bb8e8f6875423092f433c97351fb43a6\u001b[m\r\n",
      "Author: Meenakshi Syamkumar <meenakshi.psgit@gmail.com>\r\n",
      "Date:   Fri Mar 24 08:57:30 2023 -0500\r\n",
      "\r\n",
      "    Lec 22 notebooks\r\n",
      "\r\n",
      "\u001b[33mcommit 0a530a7fe608967e029371e183d3a9e68d22d48c\u001b[m\r\n",
      "Author: Meenakshi Syamkumar <meenakshi.psgit@gmail.com>\r\n",
      "Date:   Tue Mar 21 16:13:50 2023 -0500\r\n",
      "\r\n",
      "    Lec 22 files\r\n",
      "\r\n",
      "\u001b[33mcommit acadc06ac33ccce848344e36cb25838e366d2d07\u001b[m\r\n",
      "Author: Meenakshi Syamkumar <meenakshi.psgit@gmail.com>\r\n",
      "Date:   Tue Mar 21 14:31:16 2023 -0500\r\n",
      "\r\n",
      "    Initial version\r\n",
      "\r\n",
      "\u001b[33mcommit e377705d83556cb74075914ce81c69c11128005b\u001b[m\r\n",
      "Author: Meenakshi Syamkumar <meenakshi.psgit@gmail.com>\r\n",
      "Date:   Sun Mar 19 22:21:05 2023 -0500\r\n",
      "\r\n",
      "    Lec 21 code\r\n",
      "\r\n",
      "\u001b[33mcommit d0a49dc67a467b34f1d64bee6c8e20a23e644363\u001b[m\r\n",
      "Author: Meenakshi Syamkumar <meenakshi.psgit@gmail.com>\r\n",
      "Date:   Sun Mar 19 22:12:08 2023 -0500\r\n",
      "\r\n",
      "    Initial version of lec 21\r\n",
      "\r\n",
      "\u001b[33mcommit b5f256305b4a633bf184711bf64d9da83ac2880d\u001b[m\r\n",
      "Author: Meenakshi Syamkumar <meenakshi.psgit@gmail.com>\r\n",
      "Date:   Fri Mar 10 10:57:35 2023 -0600\r\n",
      "\r\n",
      "    Fixing notebooks\r\n",
      "\r\n",
      "\u001b[33mcommit 76b43a74907577a7d3e5d04483ea5de67c572483\u001b[m\r\n",
      "Author: Meenakshi Syamkumar <meenakshi.psgit@gmail.com>\r\n",
      "Date:   Fri Mar 10 10:47:15 2023 -0600\r\n",
      "\r\n",
      "    New template for lec 20\r\n",
      "\r\n",
      "\u001b[33mcommit ef2c32f2ed1f4edbf75004bc248f1456de5981a8\u001b[m\r\n",
      "Author: Meenakshi Syamkumar <meenakshi.psgit@gmail.com>\r\n",
      "Date:   Fri Mar 10 10:43:21 2023 -0600\r\n",
      "\r\n",
      "    Lec 19 files\r\n",
      "\r\n",
      "\u001b[33mcommit f20db40329c0717c1eae8bb9eb093775ba174964\u001b[m\r\n",
      "Author: Meenakshi Syamkumar <meenakshi.psgit@gmail.com>\r\n",
      "Date:   Thu Mar 9 12:43:45 2023 -0600\r\n",
      "\r\n",
      "    Exam1 files\r\n",
      "\r\n",
      "\u001b[33mcommit 946065482fdc394819ba32698c75ea3e30312496\u001b[m\r\n",
      "Author: Meenakshi Syamkumar <meenakshi.psgit@gmail.com>\r\n",
      "Date:   Wed Mar 8 10:12:54 2023 -0600\r\n",
      "\r\n",
      "    Lec 19 files\r\n",
      "\r\n",
      "\u001b[33mcommit efd3ed5ed5aada6a7fd50eb18c9a905bc2250109\u001b[m\r\n",
      "Author: Meenakshi Syamkumar <meenakshi.psgit@gmail.com>\r\n",
      "Date:   Sun Mar 5 23:49:12 2023 -0600\r\n",
      "\r\n",
      "    Lecture 18 files final version\r\n",
      "\r\n",
      "\u001b[33mcommit d91a49b36fe3a77827a530659fb054b17d76f2b2\u001b[m\r\n",
      "Author: Meenakshi Syamkumar <meenakshi.psgit@gmail.com>\r\n",
      "Date:   Sun Mar 5 23:40:45 2023 -0600\r\n",
      "\r\n",
      "    Lecture 18 files\r\n",
      "\r\n",
      "\u001b[33mcommit 6c4494fe583e0580ced6c90808b0c5a0080e3ce3\u001b[m\r\n",
      "Author: Meenakshi Syamkumar <meenakshi.psgit@gmail.com>\r\n",
      "Date:   Sun Mar 5 23:28:34 2023 -0600\r\n",
      "\r\n",
      "    Initial version of lec 18 files\r\n",
      "\r\n",
      "\u001b[33mcommit 79504dac2c337536d7a3cd834aaf22e049216e7e\u001b[m\r\n",
      "Author: Meenakshi Syamkumar <meenakshi.psgit@gmail.com>\r\n",
      "Date:   Wed Mar 1 01:06:03 2023 -0600\r\n",
      "\r\n",
      "    Lec 16 notebooks\r\n",
      "\r\n",
      "\u001b[33mcommit 6a815a3ce89da6ba8ab47127ce78de30444455f6\u001b[m\r\n",
      "Author: Meenakshi Syamkumar <meenakshi.psgit@gmail.com>\r\n",
      "Date:   Tue Feb 28 23:29:55 2023 -0600\r\n",
      "\r\n",
      "    Initial version of lec16 from prev lecture\r\n",
      "\r\n",
      "\u001b[33mcommit 25f15df46daafc6d4d9040b41206949b444c4c7c\u001b[m\r\n",
      "Author: yiyins2 <sophia1998shen@gmail.com>\r\n",
      "Date:   Mon Feb 27 23:26:32 2023 +0000\r\n",
      "\r\n",
      "    f22 exam answer keys\r\n",
      "\r\n",
      "\u001b[33mcommit fc289fd074ed346e94eb64ff97f6196b04775671\u001b[m\r\n",
      "Author: Meenakshi Syamkumar <meenakshi.psgit@gmail.com>\r\n",
      "Date:   Mon Feb 27 09:48:40 2023 -0600\r\n",
      "\r\n",
      "    Lecture 15 notebooks\r\n",
      "\r\n",
      "\u001b[33mcommit e1ff5164021a3f2f0f64094fa27871f392733cbb\u001b[m\r\n",
      "Author: Meenakshi Syamkumar <meenakshi.psgit@gmail.com>\r\n",
      "Date:   Mon Feb 27 09:37:37 2023 -0600\r\n",
      "\r\n",
      "    Lec 15 initial version\r\n",
      "\r\n",
      "\u001b[33mcommit e6115da91ffbdce023daec34e95488cd230bf916\u001b[m\r\n",
      "Author: Meenakshi Syamkumar <meenakshi.psgit@gmail.com>\r\n",
      "Date:   Fri Feb 24 10:50:11 2023 -0600\r\n",
      "\r\n",
      "    Lec 14 notebooks\r\n",
      "\r\n",
      "\u001b[33mcommit 8c3800cfb3639d88b24ebbeb05962081412f3bc3\u001b[m\r\n",
      "Author: Meenakshi Syamkumar <meenakshi.psgit@gmail.com>\r\n",
      "Date:   Fri Feb 24 07:29:23 2023 -0600\r\n",
      "\r\n",
      "    Lec 14 notebook files\r\n",
      "\r\n",
      "\u001b[33mcommit bef6a0b1399b14ef523961f176c1be850794bc68\u001b[m\r\n",
      "Merge: 6957aa8 b87fd1e\r\n",
      "Author: Meenakshi Syamkumar <meenakshi.psgit@gmail.com>\r\n",
      "Date:   Fri Feb 24 06:04:51 2023 -0600\r\n",
      "\r\n",
      "    Merge branch 'main' of github.com:msyamkumar/cs320-lecture-notes\r\n",
      "\r\n",
      "\u001b[33mcommit 6957aa88cfd503cbedb297f1a520a06116b09576\u001b[m\r\n",
      "Author: Meenakshi Syamkumar <meenakshi.psgit@gmail.com>\r\n",
      "Date:   Fri Feb 24 06:04:01 2023 -0600\r\n",
      "\r\n",
      "    Lec 14 initial version\r\n",
      "\r\n",
      "\u001b[33mcommit b87fd1e266c48d891d27ce9d2c4abfbbe8e44e48\u001b[m\r\n",
      "Author: msyamkumar <meenakshi.psgit@gmail.com>\r\n",
      "Date:   Wed Feb 22 13:02:22 2023 -0600\r\n",
      "\r\n",
      "    Update README.md\r\n",
      "    \r\n",
      "    Updating README list of lecture links.\r\n",
      "\r\n",
      "\u001b[33mcommit 525e7a6815287ae219eef242a5a06f24b6d3a750\u001b[m\r\n",
      "Author: Meenakshi Syamkumar <meenakshi.psgit@gmail.com>\r\n",
      "Date:   Wed Feb 22 09:16:02 2023 -0600\r\n",
      "\r\n",
      "    Adding code folding instructions\r\n",
      "\r\n",
      "\u001b[33mcommit 96a1db7c99b41154919431f794ee180bd2664924\u001b[m\r\n",
      "Author: Meenakshi Syamkumar <meenakshi.psgit@gmail.com>\r\n",
      "Date:   Wed Feb 22 09:00:54 2023 -0600\r\n",
      "\r\n",
      "    Adding template\r\n",
      "\r\n",
      "\u001b[33mcommit 2c259db0664bd7707e3d2de179fe25cbca54a6f1\u001b[m\r\n",
      "Author: Meenakshi Syamkumar <meenakshi.psgit@gmail.com>\r\n",
      "Date:   Wed Feb 22 08:05:53 2023 -0600\r\n",
      "\r\n",
      "    Intial version lec 13\r\n",
      "\r\n",
      "\u001b[33mcommit 0e133ed0b56f5d9e13c2fa20712305c5492f895f\u001b[m\r\n",
      "Author: Meenakshi Syamkumar <meenakshi.psgit@gmail.com>\r\n",
      "Date:   Mon Feb 20 10:18:58 2023 -0600\r\n",
      "\r\n",
      "    Lecture 12 final notebooks\r\n",
      "\r\n",
      "\u001b[33mcommit 89425123aa9ba241d1b1b6d413df11e13d1057c3\u001b[m\r\n",
      "Author: Meenakshi Syamkumar <meenakshi.psgit@gmail.com>\r\n",
      "Date:   Mon Feb 20 10:07:35 2023 -0600\r\n",
      "\r\n",
      "    Lecture 12 notebook files\r\n",
      "\r\n",
      "\u001b[33mcommit 707b39a5e1562f5254d85b1e1febab4dcd129df3\u001b[m\r\n",
      "Author: Meenakshi Syamkumar <meenakshi.psgit@gmail.com>\r\n",
      "Date:   Mon Feb 20 10:04:25 2023 -0600\r\n",
      "\r\n",
      "    Revert \"Lecture 12 notebooks\"\r\n",
      "    \r\n",
      "    This reverts commit 852eba71470bb6196a8bac199b3eb6bb97a21b16.\r\n",
      "\r\n",
      "\u001b[33mcommit 852eba71470bb6196a8bac199b3eb6bb97a21b16\u001b[m\r\n",
      "Author: Meenakshi Syamkumar <meenakshi.psgit@gmail.com>\r\n",
      "Date:   Mon Feb 20 09:54:16 2023 -0600\r\n",
      "\r\n",
      "    Lecture 12 notebooks\r\n",
      "\r\n",
      "\u001b[33mcommit edb291055c878393542497002d6241f2e713f6a9\u001b[m\r\n",
      "Author: Meenakshi Syamkumar <meenakshi.psgit@gmail.com>\r\n",
      "Date:   Mon Feb 20 09:42:32 2023 -0600\r\n",
      "\r\n",
      "    Lec 12 initial version\r\n",
      "\r\n",
      "\u001b[33mcommit ee8fb9d481d45517d9b71d0e791375dc69e4d351\u001b[m\r\n",
      "Author: Meenakshi Syamkumar <meenakshi.psgit@gmail.com>\r\n",
      "Date:   Fri Feb 17 10:50:19 2023 -0600\r\n",
      "\r\n",
      "    Lec 11 final version\r\n",
      "\r\n",
      "\u001b[33mcommit 3e79081b6781ea40543c6954fe5700d063e5d504\u001b[m\r\n",
      "Author: Meenakshi Syamkumar <meenakshi.psgit@gmail.com>\r\n",
      "Date:   Fri Feb 17 10:43:49 2023 -0600\r\n",
      "\r\n",
      "    Lec 11 initial version\r\n",
      "\r\n",
      "\u001b[33mcommit 058eea793b4ab5422853ec7f291b0de8abd00a30\u001b[m\r\n",
      "Author: Meenakshi Syamkumar <meenakshi.psgit@gmail.com>\r\n",
      "Date:   Wed Feb 15 10:27:58 2023 -0600\r\n",
      "\r\n",
      "    Lec 9 notebooks\r\n",
      "\r\n",
      "\u001b[33mcommit 8635407f82200896c325028fef553dea648736bd\u001b[m\r\n",
      "Author: Meenakshi Syamkumar <meenakshi.psgit@gmail.com>\r\n",
      "Date:   Mon Feb 13 13:15:14 2023 -0600\r\n",
      "\r\n",
      "    Adding in str and repr into template\r\n",
      "\r\n",
      "\u001b[33mcommit c53689a2ae5405052b5a3b9db292e88151aa7e2c\u001b[m\r\n",
      "Author: Meenakshi Syamkumar <meenakshi.psgit@gmail.com>\r\n",
      "Date:   Mon Feb 13 10:20:41 2023 -0600\r\n",
      "\r\n",
      "    Lecture 9 notebook files\r\n",
      "\r\n",
      "\u001b[33mcommit 81688aae4da5e5583881258c6fec047c6df4bb5d\u001b[m\r\n",
      "Author: Meenakshi Syamkumar <meenakshi.psgit@gmail.com>\r\n",
      "Date:   Mon Feb 13 09:17:25 2023 -0600\r\n",
      "\r\n",
      "    Lec 9 initial version\r\n",
      "\r\n",
      "\u001b[33mcommit 712b7c9d4b9d9c993b230c044166cbe55ac5802d\u001b[m\r\n",
      "Author: Meenakshi Syamkumar <meenakshi.psgit@gmail.com>\r\n",
      "Date:   Fri Feb 10 10:29:51 2023 -0600\r\n",
      "\r\n",
      "    Final update to lec 8 notebooks\r\n",
      "\r\n",
      "\u001b[33mcommit 9d6941b4e34ca5163e083758f2aa69e628bd73ae\u001b[m\r\n",
      "Author: Meenakshi Syamkumar <meenakshi.psgit@gmail.com>\r\n",
      "Date:   Fri Feb 10 10:24:56 2023 -0600\r\n",
      "\r\n",
      "    Final version of lec 8 notebooks and files\r\n",
      "\r\n",
      "\u001b[33mcommit 180ff72a322b9ccac23eee654ddeb2a201343b0b\u001b[m\r\n",
      "Author: Meenakshi Syamkumar <meenakshi.psgit@gmail.com>\r\n",
      "Date:   Fri Feb 10 10:14:22 2023 -0600\r\n",
      "\r\n",
      "    Updates to lec8 notebooks\r\n",
      "\r\n",
      "\u001b[33mcommit 90e88634827ae947e779e59dddb034ba13166a32\u001b[m\r\n",
      "Author: Meenakshi Syamkumar <meenakshi.psgit@gmail.com>\r\n",
      "Date:   Fri Feb 10 07:21:35 2023 -0600\r\n",
      "\r\n",
      "    Lec 8 notes\r\n",
      "\r\n",
      "\u001b[33mcommit a4183478a9af9f897fbca92bdcd661bf089ae111\u001b[m\r\n",
      "Author: Meenakshi Syamkumar <meenakshi.psgit@gmail.com>\r\n",
      "Date:   Wed Feb 8 09:28:39 2023 -0600\r\n",
      "\r\n",
      "    Executed version of completed notebook file\r\n",
      "\r\n",
      "\u001b[33mcommit 8b93b0529128ef9d7b02f26b3283bd02e1f3ea35\u001b[m\r\n",
      "Author: Meenakshi Syamkumar <meenakshi.psgit@gmail.com>\r\n",
      "Date:   Wed Feb 8 08:53:23 2023 -0600\r\n",
      "\r\n",
      "    Lecture 7 notes\r\n",
      "\r\n",
      "\u001b[33mcommit af29d9cd7f583ad696f0f1910658e9e24758b72f\u001b[m\r\n",
      "Author: Meenakshi Syamkumar <meenakshi.psgit@gmail.com>\r\n",
      "Date:   Wed Feb 1 13:20:15 2023 -0600\r\n",
      "\r\n",
      "    correction\r\n",
      "\r\n",
      "\u001b[33mcommit d4e513de108d73c03bb529ef6c8f41ddb28fc132\u001b[m\r\n",
      "Author: msyamkumar <meenakshi.psgit@gmail.com>\r\n",
      "Date:   Wed Feb 1 09:57:14 2023 -0600\r\n",
      "\r\n",
      "    Update README.md\r\n",
      "    \r\n",
      "    Removing extra ) from lecture list\r\n",
      "\r\n",
      "\u001b[33mcommit e631075ea43600068111985c1397c3b41bb64f8b\u001b[m\r\n",
      "Author: msyamkumar <meenakshi.psgit@gmail.com>\r\n",
      "Date:   Wed Feb 1 09:56:50 2023 -0600\r\n",
      "\r\n",
      "    Update README.md\r\n",
      "    \r\n",
      "    Updating lecture list.\r\n",
      "\r\n",
      "\u001b[33mcommit 5b9fb51308353009188f835ac426e4391d6b6e57\u001b[m\r\n",
      "Author: Meenakshi Syamkumar <meenakshi.psgit@gmail.com>\r\n",
      "Date:   Wed Feb 1 09:42:14 2023 -0600\r\n",
      "\r\n",
      "    perf1 lecture notes\r\n",
      "\r\n",
      "\u001b[33mcommit a097e575422eb0a42a93ec5b889329cad20ef54e\u001b[m\r\n",
      "Author: Meenakshi Syamkumar <meenakshi.psgit@gmail.com>\r\n",
      "Date:   Wed Feb 1 00:03:08 2023 -0600\r\n",
      "\r\n",
      "    perf1 lecture notes\r\n",
      "\r\n",
      "\u001b[33mcommit b7b0ae049d72b33d80e95cf80c94b42951dfca38\u001b[m\r\n",
      "Author: Meenakshi Syamkumar <meenakshi.psgit@gmail.com>\r\n",
      "Date:   Tue Jan 31 23:59:56 2023 -0600\r\n",
      "\r\n",
      "    perf1 lecture notebooks\r\n",
      "\r\n",
      "\u001b[33mcommit 8d7d64ce904444ed0d0e9279c2bd03dda3388063\u001b[m\r\n",
      "Author: Meenakshi Syamkumar <meenakshi.psgit@gmail.com>\r\n",
      "Date:   Tue Jan 31 18:26:58 2023 -0600\r\n",
      "\r\n",
      "    Past semester exams\r\n",
      "\r\n",
      "\u001b[33mcommit 16f44c6007b8b5ee224324ba4eec575718053c6f\u001b[m\r\n",
      "Author: msyamkumar <meenakshi.psgit@gmail.com>\r\n",
      "Date:   Mon Jan 30 10:29:17 2023 -0600\r\n",
      "\r\n",
      "    Update Commands.md\r\n",
      "    \r\n",
      "    Adding nano command.\r\n",
      "\r\n",
      "\u001b[33mcommit 3979fd5b594d74a06d954baf5147192c51ea82a1\u001b[m\r\n",
      "Author: msyamkumar <meenakshi.psgit@gmail.com>\r\n",
      "Date:   Mon Jan 30 10:28:24 2023 -0600\r\n",
      "\r\n",
      "    Update Commands.md\r\n",
      "    \r\n",
      "    Adding git init.\r\n",
      "\r\n",
      "\u001b[33mcommit 180d7d7eb1bab3f7f04d45c0e9b77f1744307e97\u001b[m\r\n",
      "Author: msyamkumar <meenakshi.psgit@gmail.com>\r\n",
      "Date:   Mon Jan 30 10:13:45 2023 -0600\r\n",
      "\r\n",
      "    Update README.md\r\n",
      "    \r\n",
      "    Adding list of lecture links to README.\r\n",
      "\r\n",
      "\u001b[33mcommit e54b18de4ac11674606914d180f3f0100046a6b2\u001b[m\r\n",
      "Author: Meenakshi Syamkumar <meenakshi.psgit@gmail.com>\r\n",
      "Date:   Mon Jan 30 10:10:54 2023 -0600\r\n",
      "\r\n",
      "    Adding git tag.\r\n",
      "\r\n",
      "\u001b[33mcommit bc2fa1cf486af607ff546a7868899f7c812ab7be\u001b[m\r\n",
      "Merge: 75a2cee 60e2efb\r\n",
      "Author: Meenakshi Syamkumar <meenakshi.psgit@gmail.com>\r\n",
      "Date:   Mon Jan 30 10:05:33 2023 -0600\r\n",
      "\r\n",
      "    Merge branch 'main' of github.com:msyamkumar/cs320-lecture-notes\r\n",
      "\r\n",
      "\u001b[33mcommit 75a2cee6ff4ea0413882f513f1c6a03a84cdc5ba\u001b[m\r\n",
      "Author: Meenakshi Syamkumar <meenakshi.psgit@gmail.com>\r\n",
      "Date:   Mon Jan 30 10:03:33 2023 -0600\r\n",
      "\r\n",
      "    More git commands\r\n",
      "\r\n",
      "\u001b[33mcommit 60e2efb2338cff660f72ee46d41ab99429e126ca\u001b[m\r\n",
      "Author: msyamkumar <meenakshi.psgit@gmail.com>\r\n",
      "Date:   Mon Jan 30 09:41:47 2023 -0600\r\n",
      "\r\n",
      "    Create README.md\r\n",
      "\r\n",
      "\u001b[33mcommit 6d4bb5bb3e138eca59bd76f182ae1ebca230b291\u001b[m\r\n",
      "Author: Meenakshi Syamkumar <meenakshi.psgit@gmail.com>\r\n",
      "Date:   Mon Jan 30 09:40:59 2023 -0600\r\n",
      "\r\n",
      "    Initial commit\r\n"
     ]
    }
   ],
   "source": [
    "!git log"
   ]
  },
  {
   "cell_type": "code",
   "execution_count": 28,
   "id": "ad6cd0a1",
   "metadata": {},
   "outputs": [
    {
     "name": "stdout",
     "output_type": "stream",
     "text": [
      "commit 5e40bf034e38a37fbc46184dbc4b894fb872e828\n",
      "Author: Meenakshi Syamkumar <meenakshi.psgit@gmail.com>\n",
      "Date:   Fri Mar 24 10:43:42 2023 -0500\n",
      "\n",
      "    Minor change to document about word match\n",
      "\n",
      "commit 9d668e00bb8e8f6875423092f433c97351fb43a6\n",
      "Author: Meenakshi Syamkumar <meenakshi.psgit@gmail.com>\n",
      "Date:   Fri Mar 24 08:57:30 2023 -0500\n",
      "\n",
      "    Lec 22 notebooks\n",
      "\n",
      "commit 0a530a7fe608967e029371e183d3a9e68d22d48c\n",
      "Author: Meenakshi Syamkumar <meenakshi.psgit@gmail.com>\n",
      "Date:   Tue Mar 21 16:13:50 2023 -0500\n",
      "\n"
     ]
    }
   ],
   "source": [
    "git_log_output = str(check_output([\"git\", \"log\"]), encoding=\"utf-8\")\n",
    "print(git_log_output[:500])"
   ]
  },
  {
   "cell_type": "markdown",
   "id": "f550942e",
   "metadata": {},
   "source": [
    "#### GOAL: find all the commit numbers"
   ]
  },
  {
   "cell_type": "code",
   "execution_count": 29,
   "id": "33489c0f",
   "metadata": {},
   "outputs": [
    {
     "data": {
      "text/plain": [
       "['5e40bf034e38a37fbc46184dbc4b894fb872e828',\n",
       " '9d668e00bb8e8f6875423092f433c97351fb43a6',\n",
       " '0a530a7fe608967e029371e183d3a9e68d22d48c',\n",
       " 'acadc06ac33ccce848344e36cb25838e366d2d07',\n",
       " 'e377705d83556cb74075914ce81c69c11128005b',\n",
       " 'd0a49dc67a467b34f1d64bee6c8e20a23e644363',\n",
       " 'b5f256305b4a633bf184711bf64d9da83ac2880d',\n",
       " '76b43a74907577a7d3e5d04483ea5de67c572483',\n",
       " 'ef2c32f2ed1f4edbf75004bc248f1456de5981a8',\n",
       " 'f20db40329c0717c1eae8bb9eb093775ba174964']"
      ]
     },
     "execution_count": 29,
     "metadata": {},
     "output_type": "execute_result"
    }
   ],
   "source": [
    "commits = re.findall(r\"[0-9a-f]{40}\", git_log_output)\n",
    "# recent 10 commit numbers\n",
    "commits[:10]"
   ]
  },
  {
   "cell_type": "markdown",
   "id": "a2d1c384",
   "metadata": {},
   "source": [
    "#### What days of the week does Meena push things into this repo?"
   ]
  },
  {
   "cell_type": "code",
   "execution_count": 30,
   "id": "d2243734",
   "metadata": {},
   "outputs": [
    {
     "name": "stdout",
     "output_type": "stream",
     "text": [
      "commit 5e40bf034e38a37fbc46184dbc4b894fb872e828\n",
      "Author: Meenakshi Syamkumar <meenakshi.psgit@gmail.com>\n",
      "Date:   Fri Mar 24 10:43:42 2023 -0500\n",
      "\n",
      "    Minor change to document about word match\n",
      "\n",
      "commit 9d668e00bb8e8f6875423092f433c97351fb43a6\n",
      "Author: Meenakshi Syamkumar <meenakshi.psgit@gmail.com>\n",
      "Date:   Fri Mar 24 08:57:30 2023 -0500\n",
      "\n",
      "    Lec 22 notebooks\n",
      "\n",
      "commit 0a530a7fe608967e029371e183d3a9e68d22d48c\n",
      "Author: Meenakshi Syamkumar <meenakshi.psgit@gmail.com>\n",
      "Date:   Tue Mar 21 16:13:50 2023 -0500\n",
      "\n"
     ]
    }
   ],
   "source": [
    "print(git_log_output[:500])"
   ]
  },
  {
   "cell_type": "code",
   "execution_count": 31,
   "id": "40198305",
   "metadata": {},
   "outputs": [
    {
     "data": {
      "text/plain": [
       "['Fri',\n",
       " 'Fri',\n",
       " 'Tue',\n",
       " 'Tue',\n",
       " 'Sun',\n",
       " 'Sun',\n",
       " 'Fri',\n",
       " 'Fri',\n",
       " 'Fri',\n",
       " 'Thu',\n",
       " 'Wed',\n",
       " 'Sun',\n",
       " 'Sun',\n",
       " 'Sun',\n",
       " 'Wed',\n",
       " 'Tue',\n",
       " 'Mon',\n",
       " 'Mon',\n",
       " 'Mon',\n",
       " 'Fri',\n",
       " 'Fri',\n",
       " 'Fri',\n",
       " 'Fri',\n",
       " 'Wed',\n",
       " 'Wed',\n",
       " 'Wed',\n",
       " 'Wed',\n",
       " 'Mon',\n",
       " 'Mon',\n",
       " 'Mon',\n",
       " 'Mon',\n",
       " 'Mon',\n",
       " 'Fri',\n",
       " 'Fri',\n",
       " 'Wed',\n",
       " 'Mon',\n",
       " 'Mon',\n",
       " 'Mon',\n",
       " 'Fri',\n",
       " 'Fri',\n",
       " 'Fri',\n",
       " 'Fri',\n",
       " 'Wed',\n",
       " 'Wed',\n",
       " 'Wed',\n",
       " 'Wed',\n",
       " 'Wed',\n",
       " 'Wed',\n",
       " 'Wed',\n",
       " 'Tue',\n",
       " 'Tue',\n",
       " 'Mon',\n",
       " 'Mon',\n",
       " 'Mon',\n",
       " 'Mon',\n",
       " 'Mon',\n",
       " 'Mon',\n",
       " 'Mon',\n",
       " 'Mon']"
      ]
     },
     "execution_count": 31,
     "metadata": {},
     "output_type": "execute_result"
    }
   ],
   "source": [
    "days = re.findall(r\"Date:\\s+(\\w+)\", git_log_output)\n",
    "days"
   ]
  },
  {
   "cell_type": "markdown",
   "id": "d04f0835",
   "metadata": {},
   "source": [
    "#### Count unique days"
   ]
  },
  {
   "cell_type": "code",
   "execution_count": 32,
   "id": "24c3f4a0",
   "metadata": {},
   "outputs": [
    {
     "data": {
      "text/plain": [
       "Mon    19\n",
       "Fri    15\n",
       "Wed    14\n",
       "Tue     5\n",
       "Sun     5\n",
       "Thu     1\n",
       "dtype: int64"
      ]
     },
     "execution_count": 32,
     "metadata": {},
     "output_type": "execute_result"
    }
   ],
   "source": [
    "day_counts = pd.Series(days).value_counts()\n",
    "day_counts"
   ]
  },
  {
   "cell_type": "markdown",
   "id": "7c2c6899",
   "metadata": {},
   "source": [
    "#### Sort by day of the week"
   ]
  },
  {
   "cell_type": "code",
   "execution_count": 33,
   "id": "cca2506c",
   "metadata": {},
   "outputs": [
    {
     "data": {
      "text/plain": [
       "Mon    19\n",
       "Tue     5\n",
       "Wed    14\n",
       "Thu     1\n",
       "Fri    15\n",
       "Sun     5\n",
       "dtype: int64"
      ]
     },
     "execution_count": 33,
     "metadata": {},
     "output_type": "execute_result"
    }
   ],
   "source": [
    "sorted_day_counts = day_counts.loc[[\"Mon\", \"Tue\", \"Wed\", \"Thu\", \"Fri\", \"Sun\"]]\n",
    "sorted_day_counts"
   ]
  },
  {
   "cell_type": "markdown",
   "id": "c7f30c6a",
   "metadata": {},
   "source": [
    "#### Create a bar plot"
   ]
  },
  {
   "cell_type": "code",
   "execution_count": 34,
   "id": "18eb90d6",
   "metadata": {},
   "outputs": [
    {
     "data": {
      "text/plain": [
       "Text(0.5, 0, 'Days of the week')"
      ]
     },
     "execution_count": 34,
     "metadata": {},
     "output_type": "execute_result"
    },
    {
     "data": {
      "image/png": "[encoded data removed]",
      "text/plain": [
       "<Figure size 640x480 with 1 Axes>"
      ]
     },
     "metadata": {},
     "output_type": "display_data"
    }
   ],
   "source": [
    "ax = sorted_day_counts.plot.bar()\n",
    "ax.set_ylabel(\"Commit counts\")\n",
    "ax.set_xlabel(\"Days of the week\")"
   ]
  },
  {
   "cell_type": "markdown",
   "id": "42758038",
   "metadata": {},
   "source": [
    "#### Find all commit autho names."
   ]
  },
  {
   "cell_type": "code",
   "execution_count": 35,
   "id": "a87693e9",
   "metadata": {},
   "outputs": [
    {
     "data": {
      "text/plain": [
       "'Meenakshi Syamkumar'"
      ]
     },
     "execution_count": 35,
     "metadata": {},
     "output_type": "execute_result"
    }
   ],
   "source": [
    "authors = re.findall(r\"Author:\\s+(.+?)\\s*<\", git_log_output)\n",
    "authors[0]"
   ]
  },
  {
   "cell_type": "markdown",
   "id": "cbc516d7",
   "metadata": {},
   "source": [
    "#### `git log` from projects repo"
   ]
  },
  {
   "cell_type": "code",
   "execution_count": 36,
   "id": "e2f85aa2",
   "metadata": {},
   "outputs": [
    {
     "name": "stdout",
     "output_type": "stream",
     "text": [
      "commit 3c41183455f750f09a9f4160ff76cef21eddba70\n",
      "Author: yiyins2 <sophia1998shen@gmail.com>\n",
      "Date:   Sun Mar 26 07:18:59 2023 +0000\n",
      "\n",
      "    lab10\n",
      "\n",
      "commit fdbad60d32e8c011b784e906fb74d3363ba68124\n",
      "Author: yiyins2 <sophia1998shen@gmail.com>\n",
      "Date:   Sun Mar 19 20:45:59 2023 +0000\n",
      "\n",
      "    rm 8\n",
      "\n",
      "commit 41c7c5fe77ee972e18b6f55eecb971429cf1ed1a\n",
      "Author: yiyins2 <sophia1998shen@gmail.com>\n",
      "Date:   Sun Mar 19 20:45:15 2023 +0000\n",
      "\n",
      "    8->9\n",
      "\n",
      "commit 4548a518bc024f4e2c8cf7f5a0dadc106b794654\n",
      "Author: yiyins2 <sophia1998shen@gmail.com>\n",
      "Date:   Sun Mar 19 20:42:15 2023 +0000\n",
      "\n",
      "    lab8\n",
      "\n",
      "commit a6544fa07d9eb4df75fcce6abf05fc49caa2bf5b\n",
      "Merge: 36998d4 7a629f1\n",
      "Author: yiyins2 <sophia1998shen@gmail.com>\n",
      "Date:   Fri Mar 10 20:54:00 2023 +0000\n",
      "\n",
      "    Merge branch 'main' of github.com:msyamkumar/cs320-s23-projects\n",
      "\n",
      "commit 36998d42eb936128f8a12ce5e521ce70ff777f98\n",
      "Author: yiyins2 <sophia1998shen@gmail.com>\n",
      "Date:   Fri Mar 10 20:53:55 2023 +0000\n",
      "\n",
      "    p4\n",
      "\n",
      "commit 7a629f186e1f17d5035420930684cbf77a9c73e2\n",
      "Author: msyamkumar <meena\n"
     ]
    }
   ],
   "source": [
    "git_log_output = str(check_output([\"git\", \"log\"], cwd=\"../../cs320-s23-projects\"), encoding=\"utf-8\")\n",
    "print(git_log_output[:1000])"
   ]
  },
  {
   "cell_type": "code",
   "execution_count": 37,
   "id": "59acc090",
   "metadata": {},
   "outputs": [
    {
     "data": {
      "text/plain": [
       "['    p4',\n",
       " '    Change link to P1 grading',\n",
       " '    Change link to P1 grading',\n",
       " '    Changing the link to point to the P1 grading guidelines instead of the P1 README.',\n",
       " '    p3 and lab6',\n",
       " '    p2 grading guidelines',\n",
       " '    p1 rubric',\n",
       " '    p2',\n",
       " '    p1 q14',\n",
       " '    p1 release']"
      ]
     },
     "execution_count": 37,
     "metadata": {},
     "output_type": "execute_result"
    }
   ],
   "source": [
    "re.findall(r\".*[pP][1-7].*\", git_log_output)"
   ]
  },
  {
   "cell_type": "markdown",
   "id": "29085f57",
   "metadata": {},
   "source": [
    "### Emails example"
   ]
  },
  {
   "cell_type": "code",
   "execution_count": 38,
   "id": "25b005af",
   "metadata": {},
   "outputs": [
    {
     "name": "stdout",
     "output_type": "stream",
     "text": [
      "\n",
      "Meena [Instructor] - ms (AT) cs.wisc.edu\n",
      "Yiyin [Head TA] - yshen82 (AT) wisc.edu\n",
      "Ivan [TA] - ivanjaenm (AT) cs.wisc.edu\n",
      "Mahitha [TA] - pillodi (AT) wisc.edu\n",
      "Jiaqi [Peer Mentor]: jxia53 (AT) wisc.edu\n",
      "Garrison [Peer Mentor]: gwaugh (AT) wisc.edu\n",
      "\n"
     ]
    }
   ],
   "source": [
    "s = \"\"\"\n",
    "Meena [Instructor] - ms (AT) cs.wisc.edu\n",
    "Yiyin [Head TA] - yshen82 (AT) wisc.edu\n",
    "Ivan [TA] - ivanjaenm (AT) cs.wisc.edu\n",
    "Mahitha [TA] - pillodi (AT) wisc.edu\n",
    "Jiaqi [Peer Mentor]: jxia53 (AT) wisc.edu\n",
    "Garrison [Peer Mentor]: gwaugh (AT) wisc.edu\n",
    "\"\"\"\n",
    "print(s)"
   ]
  },
  {
   "cell_type": "code",
   "execution_count": 39,
   "id": "ea45c263",
   "metadata": {},
   "outputs": [
    {
     "data": {
      "text/plain": [
       "[('ms (AT) cs.wisc.edu', 'ms', '(AT)', '(AT)', 'cs.wisc.edu', 'wisc.', 'edu'),\n",
       " ('yshen82 (AT) wisc.edu', 'yshen82', '(AT)', '(AT)', 'wisc.edu', '', 'edu'),\n",
       " ('ivanjaenm (AT) cs.wisc.edu',\n",
       "  'ivanjaenm',\n",
       "  '(AT)',\n",
       "  '(AT)',\n",
       "  'cs.wisc.edu',\n",
       "  'wisc.',\n",
       "  'edu'),\n",
       " ('pillodi (AT) wisc.edu', 'pillodi', '(AT)', '(AT)', 'wisc.edu', '', 'edu'),\n",
       " ('jxia53 (AT) wisc.edu', 'jxia53', '(AT)', '(AT)', 'wisc.edu', '', 'edu'),\n",
       " ('gwaugh (AT) wisc.edu', 'gwaugh', '(AT)', '(AT)', 'wisc.edu', '', 'edu')]"
      ]
     },
     "execution_count": 39,
     "metadata": {},
     "output_type": "execute_result"
    }
   ],
   "source": [
    "name = r\"\\w+\"\n",
    "at = r\"@|([\\(\\[]?[Aa][Tt][\\)\\]]?)\"\n",
    "domain = r\"\\w+\\.(\\w+\\.)?(edu|com|org|net|io|gov)\"\n",
    "\n",
    "full_regex = f\"(({name})\\s*({at})\\s*({domain}))\"\n",
    "\n",
    "re.findall(full_regex, s)"
   ]
  },
  {
   "cell_type": "code",
   "execution_count": 40,
   "id": "7d04d86f",
   "metadata": {},
   "outputs": [
    {
     "name": "stdout",
     "output_type": "stream",
     "text": [
      "REGEX: ((\\w+)\\s*(@|([\\(\\[]?[Aa][Tt][\\)\\]]?))\\s*(\\w+\\.(\\w+\\.)?(edu|com|org|net|io|gov)))\n",
      "ms@cs.wisc.edu\n",
      "yshen82@wisc.edu\n",
      "ivanjaenm@cs.wisc.edu\n",
      "pillodi@wisc.edu\n",
      "jxia53@wisc.edu\n",
      "gwaugh@wisc.edu\n"
     ]
    }
   ],
   "source": [
    "print(\"REGEX:\", full_regex)\n",
    "for match in re.findall(full_regex, s):\n",
    "    print(match[1] + \"@\" + match[4])"
   ]
  },
  {
   "cell_type": "markdown",
   "id": "5aa7f04e",
   "metadata": {},
   "source": [
    "### Self-practice\n",
    "\n",
    "Q1: Which regex will NOT match \"123\"\n",
    "1. r\"\\d\\d\\d\"\n",
    "2. r\"\\d{3}\"\n",
    "3. r\"\\D\\D\\D\"\n",
    "4. r\"...\"\n",
    "\n",
    "Q2: What will r\"^A\" match?\n",
    "1. \"A\"\n",
    "2. \"^A\"\n",
    "3. \"BA\"\n",
    "4. \"B\"\n",
    "5. \"BB\"\n",
    "\n",
    "Q3: Which one can match \"HH\"?\n",
    "1. r\"HA+H\"\n",
    "2. r\"HA+?H\"\n",
    "3. r\"H(A+)?H\"\n",
    "\n",
    "Q4: Which string(s) will match r\"^(ha)*$\"\n",
    "1. \"\"\n",
    "2. \"hahah\"\n",
    "3. \"that\"\n",
    "4. \"HAHA\"\n",
    "\n",
    "Q5: What is the type of the following?re.findall(r\"(\\d) (\\w+)\", some_str)[0]\n",
    "1. list\n",
    "2. tuple\n",
    "3. string\n",
    "\n",
    "Q6: What will it do?\n",
    "```python\n",
    "re.sub(r\"(\\d{3})-(\\d{3}-\\d{4})\",\n",
    "       r\"(\\g<1>) \\g<2>\",\n",
    "       \"608-123-4567\")\n",
    "```"
   ]
  },
  {
   "cell_type": "markdown",
   "id": "3ff199e4",
   "metadata": {},
   "source": [
    "I will post answers to self-practice questions as part of the next lecture notebook. Meanwhile, try to solve it using pen & paper. Then try to verify your answer using code."
   ]
  }
 ],
 "metadata": {
  "kernelspec": {
   "display_name": "Python 3 (ipykernel)",
   "language": "python",
   "name": "python3"
  },
  "language_info": {
   "codemirror_mode": {
    "name": "ipython",
    "version": 3
   },
   "file_extension": ".py",
   "mimetype": "text/x-python",
   "name": "python",
   "nbconvert_exporter": "python",
   "pygments_lexer": "ipython3",
   "version": "3.9.13"
  }
 },
 "nbformat": 4,
 "nbformat_minor": 5
}
