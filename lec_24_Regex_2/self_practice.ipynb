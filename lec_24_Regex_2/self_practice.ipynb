{
 "cells": [
  {
   "cell_type": "code",
   "execution_count": 1,
   "id": "17d7ad83-024e-4763-a36e-43cf74f36a8b",
   "metadata": {},
   "outputs": [],
   "source": [
    "import re"
   ]
  },
  {
   "cell_type": "markdown",
   "id": "29085f57",
   "metadata": {},
   "source": [
    "### Emails example guidance\n",
    "\n",
    "- `name` part matches the part before the `@` or `AT`\n",
    "- `at` part matches `@` or `(at)` or `(AT)` or `(aT)` or `(At)`, etc.,\n",
    "- `domain` part matches `cs.wisc.edu` or `wisc.edu` or `something.com` or `something1.something2.org`, etc.,\n",
    "- `full_regex` puts the entire regex together using the above three parts"
   ]
  },
  {
   "cell_type": "markdown",
   "id": "5aa7f04e",
   "metadata": {},
   "source": [
    "### Self-practice\n",
    "\n",
    "### Q1: Which regex will NOT match \"123\"\n",
    "1. r\"\\d\\d\\d\"\n",
    "2. r\"\\d{3}\"\n",
    "3. r\"\\D\\D\\D\"\n",
    "4. r\"...\"\n",
    "\n",
    "A: 3. `\\D\\D\\D`\n",
    "\n",
    "Explanation: `\\D` matches everything except digits"
   ]
  },
  {
   "cell_type": "code",
   "execution_count": 2,
   "id": "1c434f48-6995-40cb-9907-d8fd334b267e",
   "metadata": {},
   "outputs": [
    {
     "name": "stdout",
     "output_type": "stream",
     "text": [
      "['123']\n",
      "['123']\n",
      "[]\n",
      "['123']\n"
     ]
    }
   ],
   "source": [
    "print(re.findall(r\"\\d\\d\\d\", \"123\"))\n",
    "print(re.findall(r\"\\d{3}\", \"123\"))\n",
    "print(re.findall(r\"\\D\\D\\D\", \"123\"))\n",
    "print(re.findall(r\"...\", \"123\"))"
   ]
  },
  {
   "cell_type": "markdown",
   "id": "a495ecbf-56e6-4037-a6f2-e0adba9ca603",
   "metadata": {},
   "source": [
    "### Q2: What will r\"^A\" match?\n",
    "1. \"A\"\n",
    "2. \"^A\"\n",
    "3. \"BA\"\n",
    "4. \"B\"\n",
    "5. \"BB\"\n",
    "\n",
    "A: 1. `\"A\"`\n",
    "\n",
    "Explanation: `^` is anchor symbol indicating string should begin with `A`. So `^A` can only match option 1, which is the only option that begins with `A`. \n",
    "\n",
    "Option 2 has a literal `^` - to match that regex should escape the special meaning using backslash, that is regex should be `r\"\\^A\"`"
   ]
  },
  {
   "cell_type": "code",
   "execution_count": 3,
   "id": "bd4c3c85-3983-4447-959c-7cd12210acfe",
   "metadata": {},
   "outputs": [
    {
     "name": "stdout",
     "output_type": "stream",
     "text": [
      "['A']\n",
      "[]\n",
      "[]\n",
      "[]\n",
      "[]\n",
      "['^A']\n"
     ]
    }
   ],
   "source": [
    "print(re.findall(r\"^A\", \"A\"))\n",
    "print(re.findall(r\"^A\", \"^A\"))\n",
    "print(re.findall(r\"^A\", \"BA\"))\n",
    "print(re.findall(r\"^A\", \"B\"))\n",
    "print(re.findall(r\"^A\", \"BB\"))\n",
    "# To match option 2 you need to escape regular meaning of ^\n",
    "print(re.findall(r\"\\^A\", \"^A\"))"
   ]
  },
  {
   "cell_type": "markdown",
   "id": "836a0eaa-5bf7-4730-a923-6e0c098e09fa",
   "metadata": {},
   "source": [
    "### Q3: Which one can match \"HH\"?\n",
    "1. r\"HA+H\"\n",
    "2. r\"HA+?H\"\n",
    "3. r\"H(A+)?H\"\n",
    "\n",
    "A: 3. `r\"H(A+)?H\"`\n",
    "\n",
    "Explanation: \n",
    "\n",
    "Option 1 specifies `A+` which is one or more `A`'s in between the two `H`'s, which wouldn't match `HH`. This option will match strings like \"HAH\", \"HAAH\", \"HAAAH\", etc.,\n",
    "\n",
    "Option 2 specifies `A+?` which is non-greedy match for one or more `A`'s in between the two `H`'s, which wouldn't match `HH`.\n",
    "\n",
    "Option 3 is the correct way to specify that you want to optionally match one or more `A`'s, by specifying `(A+)?` ---> now the `?` acts as 0 or 1 operator, instead of greedy versus non-greedy."
   ]
  },
  {
   "cell_type": "code",
   "execution_count": 4,
   "id": "80db0ebc-f346-49b4-b17c-1e711bb37d33",
   "metadata": {},
   "outputs": [
    {
     "name": "stdout",
     "output_type": "stream",
     "text": [
      "[]\n",
      "[]\n",
      "['']\n",
      "[('HH', '')]\n"
     ]
    }
   ],
   "source": [
    "print(re.findall(r\"HA+H\", \"HH\"))\n",
    "print(re.findall(r\"HA+?H\", \"HH\"))\n",
    "print(re.findall(r\"H(A+)?H\", \"HH\"))\n",
    "# To see actual match with option 3, you must surround the whole regex \n",
    "# using a group capture, that is:\n",
    "print(re.findall(r\"(H(A+)?H)\", \"HH\"))"
   ]
  },
  {
   "cell_type": "code",
   "execution_count": 5,
   "id": "d9a9288f-7c89-440b-84d5-685f42212133",
   "metadata": {},
   "outputs": [
    {
     "name": "stdout",
     "output_type": "stream",
     "text": [
      "['HAH']\n",
      "['HAAH']\n",
      "['HAAAH']\n",
      "['HAH']\n"
     ]
    }
   ],
   "source": [
    "# Option 1: strings that can be matched\n",
    "print(re.findall(r\"HA+H\", \"HAH\"))\n",
    "print(re.findall(r\"HA+H\", \"HAAH\"))\n",
    "print(re.findall(r\"HA+H\", \"HAAAH\"))\n",
    "print(re.findall(r\"HA+H\", \"HAHAAH\"))\n",
    "# Option 2: same set of matches but non-greedy \n",
    "# (which doesn't make a difference for these examples)"
   ]
  },
  {
   "cell_type": "markdown",
   "id": "d1bd4782-e78e-4f84-a5b2-76aa5458c035",
   "metadata": {},
   "source": [
    "### Q4: Which string(s) will match r\"^(ha)*$\"\n",
    "1. \"\"\n",
    "2. \"hahah\"\n",
    "3. \"that\"\n",
    "4. \"HAHA\"\n",
    "\n",
    "A: 1. `\"\"`\n",
    "\n",
    "Explanation: The string is supposed to begin with `ha` and end with `ha` --- this is because of `^` and `$`. In between `(ha)*` can match 0 or more `ha`'s."
   ]
  },
  {
   "cell_type": "code",
   "execution_count": 6,
   "id": "c2d34df4-3aba-4ffa-8f91-8fdcc4470b0b",
   "metadata": {},
   "outputs": [
    {
     "name": "stdout",
     "output_type": "stream",
     "text": [
      "['']\n",
      "[]\n",
      "[]\n",
      "[]\n"
     ]
    }
   ],
   "source": [
    "print(re.findall(r\"^(ha)*$\", \"\"))\n",
    "print(re.findall(r\"^(ha)*$\", \"hahah\"))\n",
    "print(re.findall(r\"^(ha)*$\", \"that\"))\n",
    "print(re.findall(r\"^(ha)*$\", \"HAHA\"))"
   ]
  },
  {
   "cell_type": "code",
   "execution_count": 7,
   "id": "a8c366f4-94a6-4695-a45c-5933051a7c07",
   "metadata": {},
   "outputs": [
    {
     "name": "stdout",
     "output_type": "stream",
     "text": [
      "['ha']\n",
      "['ha']\n",
      "['ha']\n"
     ]
    }
   ],
   "source": [
    "# Strings that can have a match with `r\"^(ha)*$\"`\n",
    "print(re.findall(r\"^(ha)*$\", \"ha\"))\n",
    "print(re.findall(r\"^(ha)*$\", \"haha\"))\n",
    "print(re.findall(r\"^(ha)*$\", \"hahaha\"))\n",
    "# and so on"
   ]
  },
  {
   "cell_type": "markdown",
   "id": "d63a95fa-bd75-4e9b-9ac5-57ab3fa8f11d",
   "metadata": {},
   "source": [
    "### Q5: What is the type of the following?\n",
    "\n",
    "`re.findall(r\"(\\d) (\\w+)\", some_str)[0]`\n",
    "\n",
    "1. list\n",
    "2. tuple\n",
    "3. string\n",
    "\n",
    "A: 2. `tuple`\n",
    "\n",
    "Explanation: there are two groups indicated by two () inside the regex. So the return value will be a `list` of `tuples`. So inner data structure indexed using 0 will be `tuple`."
   ]
  },
  {
   "cell_type": "markdown",
   "id": "3ff199e4",
   "metadata": {},
   "source": [
    "### Q6: What will it do?\n",
    "```python\n",
    "re.sub(r\"(\\d{3})-(\\d{3}-\\d{4})\",\n",
    "       r\"(\\g<1>) \\g<2>\",\n",
    "       \"608-123-4567\")\n",
    "```\n",
    "\n",
    "A: converts 608-123-4567 phone number format to (608) 123-4567 format.\n",
    "\n",
    "Explanation: \n",
    "\n",
    "Regex parts: \n",
    "1. group capture of 3 \\d matches `(\\d{3})`\n",
    "2. hyphen match `-`\n",
    "3. group capture of 3 \\d matches, then a `-`, and then 4 \\d matches `(\\d{3}-\\d{4})`\n",
    "\n",
    "Replacement string part (which is also a raw string)\n",
    "1. group 1 within parenthesis `(\\g<1>)`\n",
    "2. space\n",
    "3. group 2 as such"
   ]
  },
  {
   "cell_type": "code",
   "execution_count": 8,
   "id": "06a51bcf-628d-45da-9e55-76fa43fc5b16",
   "metadata": {},
   "outputs": [
    {
     "data": {
      "text/plain": [
       "'(608) 123-4567'"
      ]
     },
     "execution_count": 8,
     "metadata": {},
     "output_type": "execute_result"
    }
   ],
   "source": [
    "re.sub(r\"(\\d{3})-(\\d{3}-\\d{4})\",\n",
    "       r\"(\\g<1>) \\g<2>\",\n",
    "       \"608-123-4567\")"
   ]
  },
  {
   "cell_type": "code",
   "execution_count": null,
   "id": "5735e93a-d938-488e-b17a-6ffc36b35153",
   "metadata": {},
   "outputs": [],
   "source": []
  }
 ],
 "metadata": {
  "kernelspec": {
   "display_name": "Python 3 (ipykernel)",
   "language": "python",
   "name": "python3"
  },
  "language_info": {
   "codemirror_mode": {
    "name": "ipython",
    "version": 3
   },
   "file_extension": ".py",
   "mimetype": "text/x-python",
   "name": "python",
   "nbconvert_exporter": "python",
   "pygments_lexer": "ipython3",
   "version": "3.10.6"
  }
 },
 "nbformat": 4,
 "nbformat_minor": 5
}
