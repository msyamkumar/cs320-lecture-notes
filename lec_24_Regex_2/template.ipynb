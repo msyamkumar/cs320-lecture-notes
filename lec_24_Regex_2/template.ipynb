{
 "cells": [
  {
   "attachments": {},
   "cell_type": "markdown",
   "id": "e60c1c48",
   "metadata": {},
   "source": [
    "# Regex 2"
   ]
  },
  {
   "cell_type": "code",
   "execution_count": null,
   "id": "0dba68b0",
   "metadata": {},
   "outputs": [],
   "source": [
    "#import statements\n",
    "import re\n",
    "from subprocess import check_output\n",
    "import pandas as pd"
   ]
  },
  {
   "cell_type": "code",
   "execution_count": null,
   "id": "b97c8008-8e39-4a9f-89a1-0d1ddbb1ac01",
   "metadata": {},
   "outputs": [],
   "source": [
    "# Example strings\n",
    "# from DS100 book...\n",
    "def reg(regex, text):\n",
    "    \"\"\"\n",
    "    Prints the string with the regex match highlighted.\n",
    "    \"\"\"\n",
    "    print(re.sub(f'({regex})', r'\\033[1;30;43m\\1\\033[m', text))\n",
    "s1 = \" \".join([\"A DAG is a directed graph without cycles.\",\n",
    "               \"A tree is a DAG where every node has one parent (except the root, which has none).\",\n",
    "               \"To learn more, visit www.example.com or call 1-608-123-4567. :) ¯\\_(ツ)_/¯\"])\n",
    "print(s1)\n",
    "\n",
    "s2 = \"\"\"1-608-123-4567\n",
    "a-bcd-efg-hijg (not a phone number)\n",
    "1-608-123-456 (not a phone number)\n",
    "608-123-4567\n",
    "123-4567\n",
    "1-123-4567 (not a phone number)\n",
    "\"\"\"\n",
    "print(s2)\n",
    "\n",
    "s3 = \"In CS 320, there are 10 quizzes, 7 projects, 39 lectures, and 1000 things to learn.  CS 320 is awesome!\"\n",
    "print(s3)\n",
    "\n",
    "s4 = \"\"\"In CS 320,  there are 14 quizzes,    7 projects,\n",
    "41 lectures, and 1000 things to learn.  CS 320 is awesome!\"\"\"\n",
    "print(s4)"
   ]
  },
  {
   "cell_type": "code",
   "execution_count": null,
   "id": "924069c5-82be-4423-b659-2beee8e226be",
   "metadata": {},
   "outputs": [],
   "source": [
    "print(s1)"
   ]
  },
  {
   "cell_type": "markdown",
   "id": "6a2eff34",
   "metadata": {},
   "source": [
    "### Regex is case sensitive\n",
    "\n",
    "### Character classes\n",
    "\n",
    "- Character classes can be mentioned within `[...]`\n",
    "- `^` means `NOT` of a character class\n",
    "- `-` enables us to mention range of characters, for example `[A-Z]`\n",
    "- `|` enables us to perform `OR`\n",
    "\n",
    "### Metacharacters\n",
    "\n",
    "- predefined character classes\n",
    "    - `\\d` => digits\n",
    "    - `\\s` => whitespace (space, tab, newline)\n",
    "    - `\\w` => \"word\" characters (digits, letters, underscores, etc) --- helpful for variable name matches and whole word matches (as it doesn't match whitespace --- `\\s`)\n",
    "    - `.` => wildcard: anything except newline\n",
    "- capitalized version of character classes mean `NOT`, for example `\\D` => everything except digits\n",
    "\n",
    "### REPETITION\n",
    "\n",
    "- `<character>{<num matches>}` - for example: `w{3}`\n",
    "- matches cannot overlap\n",
    "\n",
    "### Variable length repitition operators\n",
    "\n",
    "- `*` => 0 or more (greedy: match as many characters as possible)\n",
    "- `+` => 1 or more (greedy: match as many characters as possible)\n",
    "- `?` => 0 or 1\n",
    "- `*?` => 0 or more (non-greedy: match as few characters as possible)\n",
    "- `+?` => 1 or more (non-greedy: match as few characters as possible)\n",
    "\n",
    "#### Find everything inside of parentheses."
   ]
  },
  {
   "cell_type": "code",
   "execution_count": null,
   "id": "11f75d92-f215-47f4-8804-5e5727d3be55",
   "metadata": {},
   "outputs": [],
   "source": [
    "# this doesn't work\n",
    "# it captures everything because () have special meaning (coming up)\n",
    "reg(r\"\", s1)"
   ]
  },
  {
   "cell_type": "code",
   "execution_count": null,
   "id": "b488460e",
   "metadata": {},
   "outputs": [],
   "source": [
    "# How can we change this to not use special meaning of ()?\n",
    "# * is greedy: match as many characters as possible\n",
    "reg(r\"(.*)\", s1)"
   ]
  },
  {
   "cell_type": "code",
   "execution_count": null,
   "id": "42155b54-d27b-4418-81a1-c005c508d738",
   "metadata": {},
   "outputs": [],
   "source": [
    "# non-greedy: stop at the first possible spot instead of the last possible spot\n",
    "reg(r\"\\(.*\\)\", s1)"
   ]
  },
  {
   "cell_type": "markdown",
   "id": "0fd70cfd",
   "metadata": {},
   "source": [
    "### Anchor characters\n",
    "- `^` => start of string\n",
    "    - `^` is overloaded --- what was the other usage?\n",
    "- `$` => end of string\n",
    "\n",
    "#### Find everything in the first sentence."
   ]
  },
  {
   "cell_type": "code",
   "execution_count": null,
   "id": "40fed5db",
   "metadata": {},
   "outputs": [],
   "source": [
    "# doesn't work because remember regex finds all possible matches\n",
    "# so it matches every single sentence \n",
    "# (even though we are doing non-greedy match)\n",
    "reg(r\"\", s1)"
   ]
  },
  {
   "cell_type": "code",
   "execution_count": null,
   "id": "7e97abd8",
   "metadata": {},
   "outputs": [],
   "source": [
    "reg(r\".*?\\.\", s1)"
   ]
  },
  {
   "cell_type": "markdown",
   "id": "f66a4651",
   "metadata": {},
   "source": [
    "#### Find everything in the first two sentences."
   ]
  },
  {
   "cell_type": "code",
   "execution_count": null,
   "id": "cfa8353e-4402-4f64-b3f8-35e73b2d7a68",
   "metadata": {},
   "outputs": [],
   "source": [
    "reg(r\"\", s1)"
   ]
  },
  {
   "cell_type": "markdown",
   "id": "76570acd",
   "metadata": {},
   "source": [
    "#### Find last \"word\" in the sentence."
   ]
  },
  {
   "cell_type": "code",
   "execution_count": null,
   "id": "f35a6c81-47b5-48eb-8357-888fe832f85b",
   "metadata": {},
   "outputs": [],
   "source": [
    "reg(r\"\", s1)"
   ]
  },
  {
   "cell_type": "markdown",
   "id": "4b25fb66",
   "metadata": {},
   "source": [
    "### Case study: find all phone numbers."
   ]
  },
  {
   "cell_type": "code",
   "execution_count": null,
   "id": "8ecbeaf0",
   "metadata": {},
   "outputs": [],
   "source": [
    "print(s2)\n",
    "# The country code (1) in the front is optional\n",
    "# The area code (608) is also optional\n",
    "# Doesn't make sense to match country code without area code though!"
   ]
  },
  {
   "cell_type": "code",
   "execution_count": null,
   "id": "88a01725-790c-4f21-b334-e3d31bed24b5",
   "metadata": {},
   "outputs": [],
   "source": [
    "# Full US phone numbers\n",
    "reg(r\"\", s2)"
   ]
  },
  {
   "cell_type": "code",
   "execution_count": null,
   "id": "ea8ce0be-98f8-4f9c-bcc0-1d8a0bb183a8",
   "metadata": {
    "jupyter": {
     "outputs_hidden": true
    },
    "tags": []
   },
   "outputs": [],
   "source": [
    "# The country code (1) in the front is optional\n",
    "reg(r\"\", s2)"
   ]
  },
  {
   "cell_type": "code",
   "execution_count": null,
   "id": "5befb23a-848f-44d4-aaac-6b21ac0bbf43",
   "metadata": {},
   "outputs": [],
   "source": [
    "# The area code (608) is also optional\n",
    "# Doesn't make sense to have country code without area code though!\n",
    "reg(r\"\", s2)"
   ]
  },
  {
   "cell_type": "code",
   "execution_count": null,
   "id": "34164fd1-a422-45a0-8e11-54199ca77120",
   "metadata": {},
   "outputs": [],
   "source": [
    "# This is good enough for 320 quizzes/tests\n",
    "# But clearly, the last match is not correct\n",
    "reg(r\"\", s2)"
   ]
  },
  {
   "cell_type": "markdown",
   "id": "8a2ee4e2",
   "metadata": {},
   "source": [
    "Regex documentation link: https://docs.python.org/3/library/re.html."
   ]
  },
  {
   "cell_type": "code",
   "execution_count": null,
   "id": "694a585b-b5a7-4a6f-a0f1-60521f7dfc47",
   "metadata": {},
   "outputs": [],
   "source": [
    "# BONUS: negative lookbehind (I won't test this)\n",
    "reg(r\"(?<!\\d\\-)((\\d-)?\\d{3}-)?\\d{3}-\\d{4}\", s2)"
   ]
  },
  {
   "cell_type": "markdown",
   "id": "3973350b",
   "metadata": {},
   "source": [
    "There is also a negative lookahead. For example, how to avoid matching \"1-608-123-456\" in \"1-608-123-4569999\". You can explore this if you are interested."
   ]
  },
  {
   "cell_type": "code",
   "execution_count": null,
   "id": "4988d765",
   "metadata": {},
   "outputs": [],
   "source": [
    "reg(r\"(?<!\\d\\-)((\\d-)?\\d{3}-)?\\d{3}-\\d{4}\", \"608-123-4569999\")"
   ]
  },
  {
   "cell_type": "markdown",
   "id": "b02ae9e0",
   "metadata": {},
   "source": [
    "### Testing your regex\n",
    "- you could use `reg(...)` function\n",
    "- another useful resource: https://regex101.com/"
   ]
  },
  {
   "cell_type": "markdown",
   "id": "4a973271",
   "metadata": {},
   "source": [
    "### `re` module\n",
    "- `re.findall(<PATTERN>, <SEARCH STRING>)`: regular expression matches\n",
    "    - returns a list of strings \n",
    "- `re.sub(<PATTERN>, <REPLACEMENT>, <SEARCH STRING>)`: regular expression match + substitution\n",
    "    - returns a new string with the substitutions (remember strings are immutable)"
   ]
  },
  {
   "cell_type": "code",
   "execution_count": null,
   "id": "73ec525f",
   "metadata": {},
   "outputs": [],
   "source": [
    "msg = \"In CS 320,\\tthere are 40 lectures, 10 quizzes, 3 exams,\\t7 projects, and 1000 things to learn. CS 320 is awesome!\"\n",
    "print(msg)"
   ]
  },
  {
   "cell_type": "markdown",
   "id": "34998a5e",
   "metadata": {},
   "source": [
    "#### Find all digits."
   ]
  },
  {
   "cell_type": "code",
   "execution_count": null,
   "id": "7f42c25a",
   "metadata": {},
   "outputs": [],
   "source": []
  },
  {
   "cell_type": "markdown",
   "id": "70b2f488",
   "metadata": {},
   "source": [
    "### Groups\n",
    "- we can capture matches using `()` => this is the special meaning of `()`\n",
    "- returns a list of tuples, where length of the tuple will be number of groups\n",
    "\n",
    "#### Find all digits and the word that comes after that."
   ]
  },
  {
   "cell_type": "code",
   "execution_count": null,
   "id": "5309adee",
   "metadata": {},
   "outputs": [],
   "source": [
    "matches = re.findall(r\"\", msg)\n",
    "matches"
   ]
  },
  {
   "cell_type": "markdown",
   "id": "bc6a982c",
   "metadata": {},
   "source": [
    "#### Goal: make a dict (course component => count, like \"projects\" => 7)"
   ]
  },
  {
   "cell_type": "code",
   "execution_count": null,
   "id": "c7f1a028",
   "metadata": {},
   "outputs": [],
   "source": [
    "course_dict = {}\n",
    "for count, component in matches:\n",
    "    course_dict[component] = int(count)\n",
    "course_dict"
   ]
  },
  {
   "cell_type": "markdown",
   "id": "c4b6b505",
   "metadata": {},
   "source": [
    "### Unlike matches, groups can overlap\n",
    "\n",
    "#### Find and group all digits and the word that comes after that."
   ]
  },
  {
   "cell_type": "code",
   "execution_count": null,
   "id": "491c3460",
   "metadata": {},
   "outputs": [],
   "source": [
    "re.findall(r\"(\\d+) (\\w+)\", msg)"
   ]
  },
  {
   "cell_type": "markdown",
   "id": "d2227e69",
   "metadata": {},
   "source": [
    "#### Substitute all digits with \"###\"."
   ]
  },
  {
   "cell_type": "code",
   "execution_count": null,
   "id": "6d1fede1",
   "metadata": {},
   "outputs": [],
   "source": [
    "re.sub(r\"\", , msg)"
   ]
  },
  {
   "cell_type": "markdown",
   "id": "9d531122",
   "metadata": {},
   "source": [
    "#### Goal: normalize whitespace (everything will be a single space)"
   ]
  },
  {
   "cell_type": "code",
   "execution_count": null,
   "id": "4becbe70",
   "metadata": {},
   "outputs": [],
   "source": [
    "print(msg)"
   ]
  },
  {
   "cell_type": "code",
   "execution_count": null,
   "id": "72a6eb42",
   "metadata": {},
   "outputs": [],
   "source": [
    "re.sub(r\"\", , msg)"
   ]
  },
  {
   "cell_type": "markdown",
   "id": "6faf33fd",
   "metadata": {},
   "source": [
    "### How to use groups is substitution?\n",
    "- `\\g<N>` gives you the result of the N'th grouping.\n",
    "\n",
    "#### Substitute all course component counts with HTML bold tags."
   ]
  },
  {
   "cell_type": "code",
   "execution_count": null,
   "id": "8df577fd",
   "metadata": {},
   "outputs": [],
   "source": [
    "print(re.sub(r\"(\\d+)\", \"<b></b>\", msg))"
   ]
  },
  {
   "cell_type": "markdown",
   "id": "35a15a41",
   "metadata": {},
   "source": [
    "In CS <b>320</b>, there are <b>40</b> lectures, <b>10</b> quizzes, <b>3</b> exams, <b>7</b> projects, and <b>1000</b> things to learn. CS <b>320</b> is awesome!"
   ]
  },
  {
   "cell_type": "markdown",
   "id": "6b299526",
   "metadata": {},
   "source": [
    "### Git log example"
   ]
  },
  {
   "cell_type": "markdown",
   "id": "a9b7261c",
   "metadata": {},
   "source": [
    "#### Run `git log` as a shell command"
   ]
  },
  {
   "cell_type": "code",
   "execution_count": null,
   "id": "10e459b4",
   "metadata": {},
   "outputs": [],
   "source": [
    "!git log"
   ]
  },
  {
   "cell_type": "code",
   "execution_count": null,
   "id": "ef440fed",
   "metadata": {},
   "outputs": [],
   "source": [
    "git_log_output = str(check_output([\"git\", \"log\"]), encoding=\"utf-8\")\n",
    "print(git_log_output[:500])"
   ]
  },
  {
   "cell_type": "markdown",
   "id": "5c154b46",
   "metadata": {},
   "source": [
    "#### GOAL: find all the commit numbers"
   ]
  },
  {
   "cell_type": "code",
   "execution_count": null,
   "id": "5ea954bf",
   "metadata": {},
   "outputs": [],
   "source": [
    "commits = re.findall(r\"\", git_log_output)\n",
    "# recent 10 commit numbers\n",
    "commits[:10]"
   ]
  },
  {
   "cell_type": "markdown",
   "id": "bc485b5f",
   "metadata": {},
   "source": [
    "#### What days of the week does Meena push things into this repo?"
   ]
  },
  {
   "cell_type": "code",
   "execution_count": null,
   "id": "57353c44",
   "metadata": {},
   "outputs": [],
   "source": [
    "print(git_log_output[:500])"
   ]
  },
  {
   "cell_type": "code",
   "execution_count": null,
   "id": "d1ea6f59",
   "metadata": {},
   "outputs": [],
   "source": [
    "days = re.findall(r\"\", git_log_output)\n",
    "days"
   ]
  },
  {
   "cell_type": "markdown",
   "id": "2c7efb55",
   "metadata": {},
   "source": [
    "#### Count unique days"
   ]
  },
  {
   "cell_type": "code",
   "execution_count": null,
   "id": "3c2d7207",
   "metadata": {},
   "outputs": [],
   "source": [
    "day_counts = pd.Series(days).value_counts()\n",
    "day_counts"
   ]
  },
  {
   "cell_type": "markdown",
   "id": "7317ca35",
   "metadata": {},
   "source": [
    "#### Sort by day of the week"
   ]
  },
  {
   "cell_type": "code",
   "execution_count": null,
   "id": "d5c5c58c",
   "metadata": {},
   "outputs": [],
   "source": [
    "sorted_day_counts = day_counts.loc[[\"Mon\", \"Tue\", \"Wed\", \"Thu\", \"Fri\", \"Sun\"]]\n",
    "sorted_day_counts"
   ]
  },
  {
   "cell_type": "markdown",
   "id": "745afee5",
   "metadata": {},
   "source": [
    "#### Create a bar plot"
   ]
  },
  {
   "cell_type": "code",
   "execution_count": null,
   "id": "c7bb8f6f",
   "metadata": {},
   "outputs": [],
   "source": [
    "ax = sorted_day_counts.plot.bar()\n",
    "ax.set_ylabel(\"Commit counts\")\n",
    "ax.set_xlabel(\"Days of the week\")"
   ]
  },
  {
   "cell_type": "markdown",
   "id": "ecfc71e6",
   "metadata": {},
   "source": [
    "#### Find all commit autho names."
   ]
  },
  {
   "cell_type": "code",
   "execution_count": null,
   "id": "6153035a",
   "metadata": {},
   "outputs": [],
   "source": [
    "authors = re.findall(r\"\", git_log_output)\n",
    "authors[0]"
   ]
  },
  {
   "cell_type": "markdown",
   "id": "3fa201fb",
   "metadata": {},
   "source": [
    "#### `git log` from projects repo"
   ]
  },
  {
   "cell_type": "code",
   "execution_count": null,
   "id": "e200a8b0",
   "metadata": {},
   "outputs": [],
   "source": [
    "git_log_output = str(check_output([\"git\", \"log\"], cwd=\"../../cs320-s23-projects\"), encoding=\"utf-8\")\n",
    "print(git_log_output[:1000])"
   ]
  },
  {
   "cell_type": "code",
   "execution_count": null,
   "id": "053b2607",
   "metadata": {},
   "outputs": [],
   "source": [
    "re.findall(r\"\", git_log_output)"
   ]
  },
  {
   "cell_type": "markdown",
   "id": "3ce53c79",
   "metadata": {},
   "source": [
    "### Emails example"
   ]
  },
  {
   "cell_type": "code",
   "execution_count": null,
   "id": "1968c0ff",
   "metadata": {},
   "outputs": [],
   "source": [
    "s = \"\"\"\n",
    "Meena [Instructor] - ms (AT) cs.wisc.edu\n",
    "Yiyin [Head TA] - yshen82 (AT) wisc.edu\n",
    "Ivan [TA] - ivanjaenm (AT) cs.wisc.edu\n",
    "Mahitha [TA] - pillodi (AT) wisc.edu\n",
    "Jiaqi [Peer Mentor]: jxia53 (AT) wisc.edu\n",
    "Garrison [Peer Mentor]: gwaugh (AT) wisc.edu\n",
    "\"\"\"\n",
    "print(s)"
   ]
  },
  {
   "cell_type": "code",
   "execution_count": null,
   "id": "5fbfdf12",
   "metadata": {},
   "outputs": [],
   "source": [
    "name = r\"\\w+\"\n",
    "at = r\"@|([\\(\\[]?[Aa][Tt][\\)\\]]?)\"\n",
    "domain = r\"\\w+\\.(\\w+\\.)?(edu|com|org|net|io|gov)\"\n",
    "\n",
    "full_regex = f\"(({name})\\s*({at})\\s*({domain}))\"\n",
    "\n",
    "re.findall(full_regex, s)"
   ]
  },
  {
   "cell_type": "code",
   "execution_count": null,
   "id": "2257dbf1",
   "metadata": {},
   "outputs": [],
   "source": [
    "print(\"REGEX:\", full_regex)\n",
    "for match in re.findall(full_regex, s):\n",
    "    print(match[1] + \"@\" + match[4])"
   ]
  },
  {
   "attachments": {},
   "cell_type": "markdown",
   "id": "16c6c169",
   "metadata": {},
   "source": [
    "### Self-practice\n",
    "\n",
    "Q1: Which regex will NOT match \"123\"\n",
    "1. r\"\\d\\d\\d\"\n",
    "2. r\"\\d{3}\"\n",
    "3. r\"\\D\\D\\D\"\n",
    "4. r\"...\"\n",
    "\n",
    "Q2: What will r\"^A\" match?\n",
    "1. \"A\"\n",
    "2. \"^A\"\n",
    "3. \"BA\"\n",
    "4. \"B\"\n",
    "5. \"BB\"\n",
    "\n",
    "Q3: Which one can match \"HH\"?\n",
    "1. r\"HA+H\"\n",
    "2. r\"HA+?H\"\n",
    "3. r\"H(A+)?H\"\n",
    "\n",
    "Q4: Which string(s) will match r\"^(ha)*$\"\n",
    "1. \"\"\n",
    "2. \"hahah\"\n",
    "3. \"that\"\n",
    "4. \"HAHA\"\n",
    "\n",
    "Q5: What is the type of the following?re.findall(r\"(\\d) (\\w+)\", some_str)[0]\n",
    "1. list\n",
    "2. tuple\n",
    "3. string\n",
    "\n",
    "Q6: What will it do?\n",
    "```python\n",
    "re.sub(r\"(\\d{3})-(\\d{3}-\\d{4})\",\n",
    "       r\"(\\g<1>) \\g<2>\",\n",
    "       \"608-123-4567\")\n",
    "```"
   ]
  },
  {
   "cell_type": "markdown",
   "id": "f1184ba1",
   "metadata": {},
   "source": [
    "I will post answers to self-practice questions as part of the next lecture notebook. Meanwhile, try to solve it using pen & paper. Then try to verify your answer using code."
   ]
  }
 ],
 "metadata": {
  "kernelspec": {
   "display_name": "Python 3 (ipykernel)",
   "language": "python",
   "name": "python3"
  },
  "language_info": {
   "codemirror_mode": {
    "name": "ipython",
    "version": 3
   },
   "file_extension": ".py",
   "mimetype": "text/x-python",
   "name": "python",
   "nbconvert_exporter": "python",
   "pygments_lexer": "ipython3",
   "version": "3.9.13"
  }
 },
 "nbformat": 4,
 "nbformat_minor": 5
}
