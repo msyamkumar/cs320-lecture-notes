{
 "cells": [
  {
   "cell_type": "code",
   "execution_count": 84,
   "id": "27b13d95",
   "metadata": {},
   "outputs": [],
   "source": [
    "#known import statements\n",
    "import matplotlib.pyplot as plt"
   ]
  },
  {
   "cell_type": "markdown",
   "id": "14aacb40",
   "metadata": {},
   "source": [
    "# OOP: Special Methods\n",
    "\n",
    "\"Special methods\" is a technical term referring to methods that get called automatically. In Python, they usually begin and end with double underscores.\n",
    "- **Note:** you could define a regular method with `__<method>__`."
   ]
  },
  {
   "cell_type": "markdown",
   "id": "e6e0e834",
   "metadata": {},
   "source": [
    "### `__init__` special method (aka Constructor)\n",
    "\n",
    "- automatically invoked when creating an object instance\n",
    "- only one possible constructor in Python"
   ]
  },
  {
   "cell_type": "markdown",
   "id": "a8343230",
   "metadata": {},
   "source": [
    "## Earthquake example"
   ]
  },
  {
   "cell_type": "code",
   "execution_count": 1,
   "id": "b7e25660",
   "metadata": {},
   "outputs": [
    {
     "data": {
      "text/plain": [
       "'1.86 miles W of Beluga, Alaska'"
      ]
     },
     "execution_count": 1,
     "metadata": {},
     "output_type": "execute_result"
    }
   ],
   "source": [
    "# represent earthquakes using classes\n",
    "\n",
    "quake_dicts = [   \n",
    "    {   'loc': {'lat': 35.6791667, 'lon': -117.5221667},\n",
    "        'mag': 1.56,\n",
    "        'place': '14km SW of Searles Valley, CA',\n",
    "        'time': 1634775231730},\n",
    "    {   'loc': {'lat': 43.8144, 'lon': 84.2395},\n",
    "        'mag': 4.6,\n",
    "        'place': '90 km ENE of Xinyuan, China',\n",
    "        'time': 1634775144081},\n",
    "    {   'loc': {'lat': 60.1499, 'lon': -153.0747},\n",
    "        'mag': 1.7,\n",
    "        'place': '69 km E of Port Alsworth, Alaska',\n",
    "        'time': 1634775046520},\n",
    "    {   'loc': {'lat': 19.2353324890137, 'lon': -155.408340454102},\n",
    "        'mag': 1.99000001,\n",
    "        'place': '8 km ENE of P?hala, Hawaii',\n",
    "        'time': 1634774881920},\n",
    "    {   'loc': {'lat': 61.1456, 'lon': -151.1505},\n",
    "        'mag': 1.4,\n",
    "        'place': '3 km W of Beluga, Alaska',\n",
    "        'time': 1634774737242}]\n",
    "\n",
    "def place_miles(quake):\n",
    "    \"\"\"\n",
    "    converts \"place\" km to miles\n",
    "    \"\"\"\n",
    "    place = quake[\"place\"]\n",
    "    km_idx = place.find(\"km\")\n",
    "    \n",
    "    if km_idx < 0:\n",
    "        return place\n",
    "    \n",
    "    num = place[:km_idx].strip()\n",
    "    if not num.isdigit():\n",
    "        return place\n",
    "    \n",
    "    miles = round(float(num) * 0.621371, 2)\n",
    "    return f\"{miles} miles{place[km_idx+2:]}\"\n",
    "\n",
    "place_miles(quake_dicts[4])"
   ]
  },
  {
   "cell_type": "markdown",
   "id": "f60d18d8",
   "metadata": {},
   "source": [
    "### Two possible classes: `Earthquake` and `Location`."
   ]
  },
  {
   "cell_type": "code",
   "execution_count": 2,
   "id": "00949a72",
   "metadata": {},
   "outputs": [],
   "source": [
    "# TODO: create Location class\n",
    "class Location:\n",
    "    def __init__(self, lat, lon):\n",
    "        self.lat = lat\n",
    "        self.lon = lon\n",
    "        \n",
    "    def __str__(self):\n",
    "        return f\"Location at lat: {self.lat}, lon {self.lon}\"\n",
    "        \n",
    "    def __repr__(self):\n",
    "        return f\"Location({self.lat}, {self.lon})\"\n",
    "    \n",
    "    def __eq__(self, other):\n",
    "        return self.lat == other.lat and self.lon == other.lon\n",
    "        \n",
    "# create Location object instance\n",
    "loc1 = Location(36.473, -98.7745)\n",
    "loc2 = Location(61.3898, -150.0462)"
   ]
  },
  {
   "cell_type": "markdown",
   "id": "1227af24",
   "metadata": {},
   "source": [
    "#### We can use attribute operator (`.`) to access attributes and print it."
   ]
  },
  {
   "cell_type": "code",
   "execution_count": 3,
   "id": "1ce2c189",
   "metadata": {},
   "outputs": [
    {
     "name": "stdout",
     "output_type": "stream",
     "text": [
      "36.473\n"
     ]
    }
   ],
   "source": [
    "print(loc1.lat)"
   ]
  },
  {
   "cell_type": "markdown",
   "id": "4767d58d",
   "metadata": {},
   "source": [
    "#### What if we pass the object instance itself as argument to `print`?"
   ]
  },
  {
   "cell_type": "code",
   "execution_count": 4,
   "id": "a10e3a71",
   "metadata": {},
   "outputs": [
    {
     "name": "stdout",
     "output_type": "stream",
     "text": [
      "Location at lat: 36.473, lon -98.7745\n"
     ]
    }
   ],
   "source": [
    "print(loc1)"
   ]
  },
  {
   "cell_type": "markdown",
   "id": "8251d2f4",
   "metadata": {},
   "source": [
    "#### Or display the reference variable?"
   ]
  },
  {
   "cell_type": "code",
   "execution_count": 5,
   "id": "5d9af92a",
   "metadata": {},
   "outputs": [
    {
     "data": {
      "text/plain": [
       "Location(36.473, -98.7745)"
      ]
     },
     "execution_count": 5,
     "metadata": {},
     "output_type": "execute_result"
    }
   ],
   "source": [
    "loc1"
   ]
  },
  {
   "cell_type": "markdown",
   "id": "7ab6f8d9",
   "metadata": {},
   "source": [
    "### `__str__` and `__repr__` special methods\n",
    "\n",
    "- `__str__` is implicitly invoked when we invoke `print` (user friendly form)\n",
    "- `__rep__` (aka representation) is implicitly invoked when displaying the object instance (programmer friendly form)\n",
    "- Both methods must return a `str` value"
   ]
  },
  {
   "cell_type": "code",
   "execution_count": 6,
   "id": "c160125a",
   "metadata": {},
   "outputs": [
    {
     "name": "stdout",
     "output_type": "stream",
     "text": [
      "A\n",
      "B\n"
     ]
    }
   ],
   "source": [
    "s = \"A\\nB\"\n",
    "print(s) # invokes __str__"
   ]
  },
  {
   "cell_type": "code",
   "execution_count": 7,
   "id": "b2b7b9ff",
   "metadata": {},
   "outputs": [
    {
     "data": {
      "text/plain": [
       "'A\\nB'"
      ]
     },
     "execution_count": 7,
     "metadata": {},
     "output_type": "execute_result"
    }
   ],
   "source": [
    "s # invokes __repr__"
   ]
  },
  {
   "cell_type": "code",
   "execution_count": 8,
   "id": "47b578d8",
   "metadata": {},
   "outputs": [],
   "source": [
    "# TODO: go back and define __str__ and __repr__ methods for Loction class"
   ]
  },
  {
   "cell_type": "code",
   "execution_count": 9,
   "id": "6e6a8d98",
   "metadata": {},
   "outputs": [
    {
     "name": "stdout",
     "output_type": "stream",
     "text": [
      "Location at lat: 36.473, lon -98.7745\n"
     ]
    }
   ],
   "source": [
    "print(loc1)"
   ]
  },
  {
   "cell_type": "code",
   "execution_count": 10,
   "id": "78959678",
   "metadata": {},
   "outputs": [
    {
     "data": {
      "text/plain": [
       "Location(36.473, -98.7745)"
      ]
     },
     "execution_count": 10,
     "metadata": {},
     "output_type": "execute_result"
    }
   ],
   "source": [
    "loc1"
   ]
  },
  {
   "cell_type": "markdown",
   "id": "67f7d896",
   "metadata": {},
   "source": [
    "### `_repr_html` special method --- `jupyter` special method (not a special method for Python)\n",
    "\n",
    "- Observe that we have single `_`instead of `__`\n",
    "- Enables us to create a HTML display for the object instances\n",
    "- Invoked when using displaying reference variable inside `jupyter`\n",
    "- **IMPORTANT**: `_repr_html_` won't work in `.py` script file\n",
    "- Used by `pandas` to display `DataFrame` (uses HTML table format)"
   ]
  },
  {
   "cell_type": "code",
   "execution_count": 11,
   "id": "77cb1cdb",
   "metadata": {},
   "outputs": [],
   "source": [
    "# TODO: create Earthquake class\n",
    "\n",
    "class Earthquake:\n",
    "    def __init__(self, quake_details):\n",
    "        self.place = place_miles(quake_details)\n",
    "        self.time = quake_details[\"time\"]\n",
    "        self.mag = quake_details[\"mag\"]\n",
    "        self.loc = Location(quake_details[\"loc\"][\"lat\"], quake_details[\"loc\"][\"lon\"])\n",
    "        \n",
    "    def __repr__(self):\n",
    "        return f\"Magnitude {self.mag} earthquake at {self.place} ({self.loc})\"\n",
    "        \n",
    "    def _repr_html_(self):\n",
    "        # assumes largest mag is 6\n",
    "        size = 6 - int(round(self.mag)) \n",
    "        # size is a local variable, not an attribute\n",
    "        return f\"<h{size}>Magnitude {self.mag} earthquake at {self.place} ({self.loc})</h{size}>\"\n",
    "    \n",
    "    def __lt__(self, other):\n",
    "        return self.mag < other.mag\n",
    "        \n",
    "e1 = Earthquake(quake_dicts[0])\n",
    "e2 = Earthquake(quake_dicts[1])\n",
    "e3 = Earthquake(quake_dicts[4])"
   ]
  },
  {
   "cell_type": "code",
   "execution_count": 12,
   "id": "d8b56936",
   "metadata": {},
   "outputs": [
    {
     "data": {
      "text/html": [
       "<h4>Magnitude 1.56 earthquake at 8.7 miles SW of Searles Valley, CA (Location at lat: 35.6791667, lon -117.5221667)</h4>"
      ],
      "text/plain": [
       "Magnitude 1.56 earthquake at 8.7 miles SW of Searles Valley, CA (Location at lat: 35.6791667, lon -117.5221667)"
      ]
     },
     "execution_count": 12,
     "metadata": {},
     "output_type": "execute_result"
    }
   ],
   "source": [
    "e1"
   ]
  },
  {
   "cell_type": "code",
   "execution_count": 13,
   "id": "f60b7407",
   "metadata": {},
   "outputs": [
    {
     "data": {
      "text/html": [
       "<h1>Magnitude 4.6 earthquake at 55.92 miles ENE of Xinyuan, China (Location at lat: 43.8144, lon 84.2395)</h1>"
      ],
      "text/plain": [
       "Magnitude 4.6 earthquake at 55.92 miles ENE of Xinyuan, China (Location at lat: 43.8144, lon 84.2395)"
      ]
     },
     "execution_count": 13,
     "metadata": {},
     "output_type": "execute_result"
    }
   ],
   "source": [
    "e2"
   ]
  },
  {
   "cell_type": "code",
   "execution_count": 14,
   "id": "5e8c98eb",
   "metadata": {},
   "outputs": [
    {
     "data": {
      "text/html": [
       "<h5>Magnitude 1.4 earthquake at 1.86 miles W of Beluga, Alaska (Location at lat: 61.1456, lon -151.1505)</h5>"
      ],
      "text/plain": [
       "Magnitude 1.4 earthquake at 1.86 miles W of Beluga, Alaska (Location at lat: 61.1456, lon -151.1505)"
      ]
     },
     "execution_count": 14,
     "metadata": {},
     "output_type": "execute_result"
    }
   ],
   "source": [
    "e3"
   ]
  },
  {
   "cell_type": "markdown",
   "id": "2a96b834",
   "metadata": {},
   "source": [
    "#### If we have a list of references, `jupyter` defaults back to `__repr__`"
   ]
  },
  {
   "cell_type": "code",
   "execution_count": 15,
   "id": "91c3ca81",
   "metadata": {},
   "outputs": [
    {
     "data": {
      "text/plain": [
       "[Magnitude 1.56 earthquake at 8.7 miles SW of Searles Valley, CA (Location at lat: 35.6791667, lon -117.5221667),\n",
       " Magnitude 4.6 earthquake at 55.92 miles ENE of Xinyuan, China (Location at lat: 43.8144, lon 84.2395),\n",
       " Magnitude 1.4 earthquake at 1.86 miles W of Beluga, Alaska (Location at lat: 61.1456, lon -151.1505)]"
      ]
     },
     "execution_count": 15,
     "metadata": {},
     "output_type": "execute_result"
    }
   ],
   "source": [
    "# TODO: go back and define __repr__ special method for Earthquake class\n",
    "[e1, e2, e3]"
   ]
  },
  {
   "cell_type": "markdown",
   "id": "40e1fca0",
   "metadata": {},
   "source": [
    "### `__eq__` special method\n",
    "\n",
    "- Enables us to define how `==` should work when we compare two object instances of our custom class type\n",
    "- Automatically invoked when using `==` comparison operator\n",
    "- Takes two arguments (two object instances: `self` and other)\n",
    "- Must return a `bool` value"
   ]
  },
  {
   "cell_type": "code",
   "execution_count": 16,
   "id": "d6d0664d",
   "metadata": {},
   "outputs": [],
   "source": [
    "# TODO: go back and define __eq__ special method for Location class"
   ]
  },
  {
   "cell_type": "code",
   "execution_count": 17,
   "id": "54f3cf36",
   "metadata": {},
   "outputs": [
    {
     "data": {
      "text/plain": [
       "True"
      ]
     },
     "execution_count": 17,
     "metadata": {},
     "output_type": "execute_result"
    }
   ],
   "source": [
    "loc1 == loc1 # implicitly invokes loc1.__eq__(loc1)"
   ]
  },
  {
   "cell_type": "code",
   "execution_count": 18,
   "id": "46eb95a3",
   "metadata": {},
   "outputs": [
    {
     "data": {
      "text/plain": [
       "False"
      ]
     },
     "execution_count": 18,
     "metadata": {},
     "output_type": "execute_result"
    }
   ],
   "source": [
    "loc1 == loc2 # implicitly invokes loc1.__eq__(loc2)"
   ]
  },
  {
   "cell_type": "markdown",
   "id": "6a191f87",
   "metadata": {},
   "source": [
    "### `__lt__` special method\n",
    "\n",
    "- Enables us to define how `<` should work when we compare two object instances of our custom class type\n",
    "- Automatically invoked when using `<` comparison operator\n",
    "- Takes two arguments (two object instances: `self` and other)\n",
    "- Must return a `bool` value\n",
    "- Enables us to sort a list of object instances"
   ]
  },
  {
   "cell_type": "code",
   "execution_count": 19,
   "id": "cc27b25f",
   "metadata": {},
   "outputs": [],
   "source": [
    "# TODO: go back and define __eq__ special method for Earthquake class"
   ]
  },
  {
   "cell_type": "code",
   "execution_count": 20,
   "id": "2f94a661",
   "metadata": {},
   "outputs": [
    {
     "data": {
      "text/plain": [
       "True"
      ]
     },
     "execution_count": 20,
     "metadata": {},
     "output_type": "execute_result"
    }
   ],
   "source": [
    "e1 < e2 # implicitly invokes e1.__lt__(e2)"
   ]
  },
  {
   "cell_type": "code",
   "execution_count": 21,
   "id": "191ab8ab",
   "metadata": {},
   "outputs": [
    {
     "data": {
      "text/plain": [
       "False"
      ]
     },
     "execution_count": 21,
     "metadata": {},
     "output_type": "execute_result"
    }
   ],
   "source": [
    "e2 < e3 # implicitly invokes e2.__lt__(e3)"
   ]
  },
  {
   "cell_type": "markdown",
   "id": "a8ea29e4",
   "metadata": {},
   "source": [
    "### `sort` on a list of earthquakes"
   ]
  },
  {
   "cell_type": "markdown",
   "id": "17cd405b",
   "metadata": {},
   "source": [
    "#### Creating a list of `Earthquake` object instances using traditional `for` loop."
   ]
  },
  {
   "cell_type": "code",
   "execution_count": 22,
   "id": "70f93d1e",
   "metadata": {},
   "outputs": [
    {
     "data": {
      "text/plain": [
       "[Magnitude 1.56 earthquake at 8.7 miles SW of Searles Valley, CA (Location at lat: 35.6791667, lon -117.5221667),\n",
       " Magnitude 4.6 earthquake at 55.92 miles ENE of Xinyuan, China (Location at lat: 43.8144, lon 84.2395),\n",
       " Magnitude 1.7 earthquake at 42.87 miles E of Port Alsworth, Alaska (Location at lat: 60.1499, lon -153.0747),\n",
       " Magnitude 1.99000001 earthquake at 4.97 miles ENE of P?hala, Hawaii (Location at lat: 19.2353324890137, lon -155.408340454102),\n",
       " Magnitude 1.4 earthquake at 1.86 miles W of Beluga, Alaska (Location at lat: 61.1456, lon -151.1505)]"
      ]
     },
     "execution_count": 22,
     "metadata": {},
     "output_type": "execute_result"
    }
   ],
   "source": [
    "quakes = []\n",
    "\n",
    "for quake_dict in quake_dicts:\n",
    "    quakes.append(Earthquake(quake_dict))\n",
    "    \n",
    "quakes"
   ]
  },
  {
   "cell_type": "markdown",
   "id": "3620acbc",
   "metadata": {},
   "source": [
    "#### Creating a list of `Earthquake` object instances using comprehension"
   ]
  },
  {
   "cell_type": "code",
   "execution_count": 23,
   "id": "74222bf6",
   "metadata": {},
   "outputs": [
    {
     "data": {
      "text/plain": [
       "[Magnitude 1.56 earthquake at 8.7 miles SW of Searles Valley, CA (Location at lat: 35.6791667, lon -117.5221667),\n",
       " Magnitude 4.6 earthquake at 55.92 miles ENE of Xinyuan, China (Location at lat: 43.8144, lon 84.2395),\n",
       " Magnitude 1.7 earthquake at 42.87 miles E of Port Alsworth, Alaska (Location at lat: 60.1499, lon -153.0747),\n",
       " Magnitude 1.99000001 earthquake at 4.97 miles ENE of P?hala, Hawaii (Location at lat: 19.2353324890137, lon -155.408340454102),\n",
       " Magnitude 1.4 earthquake at 1.86 miles W of Beluga, Alaska (Location at lat: 61.1456, lon -151.1505)]"
      ]
     },
     "execution_count": 23,
     "metadata": {},
     "output_type": "execute_result"
    }
   ],
   "source": [
    "quakes = [Earthquake(quake_dict) for quake_dict in quake_dicts]\n",
    "quakes"
   ]
  },
  {
   "cell_type": "markdown",
   "id": "03cd5a4e",
   "metadata": {},
   "source": [
    "#### `sort` method on a list enables us to sort in-place (that is modifies the original list object instance ordering)\n",
    "\n",
    "- `sort` uses <, which uses `obj1 < obj2` which is the same as `obj1.__lt__(obj2)`."
   ]
  },
  {
   "cell_type": "code",
   "execution_count": 25,
   "id": "1d0b7771",
   "metadata": {},
   "outputs": [
    {
     "data": {
      "text/plain": [
       "[Magnitude 1.4 earthquake at 1.86 miles W of Beluga, Alaska (Location at lat: 61.1456, lon -151.1505),\n",
       " Magnitude 1.56 earthquake at 8.7 miles SW of Searles Valley, CA (Location at lat: 35.6791667, lon -117.5221667),\n",
       " Magnitude 1.7 earthquake at 42.87 miles E of Port Alsworth, Alaska (Location at lat: 60.1499, lon -153.0747),\n",
       " Magnitude 1.99000001 earthquake at 4.97 miles ENE of P?hala, Hawaii (Location at lat: 19.2353324890137, lon -155.408340454102),\n",
       " Magnitude 4.6 earthquake at 55.92 miles ENE of Xinyuan, China (Location at lat: 43.8144, lon 84.2395)]"
      ]
     },
     "execution_count": 25,
     "metadata": {},
     "output_type": "execute_result"
    }
   ],
   "source": [
    "quakes.sort()\n",
    "quakes"
   ]
  },
  {
   "cell_type": "markdown",
   "id": "5514be5b",
   "metadata": {},
   "source": [
    "Unlike `sort` method, `sorted` built-in function returns a new list (new object instance with sorted values)."
   ]
  },
  {
   "cell_type": "code",
   "execution_count": 30,
   "id": "1250f28f",
   "metadata": {},
   "outputs": [
    {
     "data": {
      "text/plain": [
       "[Magnitude 1.4 earthquake at 1.86 miles W of Beluga, Alaska (Location at lat: 61.1456, lon -151.1505),\n",
       " Magnitude 1.56 earthquake at 8.7 miles SW of Searles Valley, CA (Location at lat: 35.6791667, lon -117.5221667),\n",
       " Magnitude 1.7 earthquake at 42.87 miles E of Port Alsworth, Alaska (Location at lat: 60.1499, lon -153.0747),\n",
       " Magnitude 1.99000001 earthquake at 4.97 miles ENE of P?hala, Hawaii (Location at lat: 19.2353324890137, lon -155.408340454102),\n",
       " Magnitude 4.6 earthquake at 55.92 miles ENE of Xinyuan, China (Location at lat: 43.8144, lon 84.2395)]"
      ]
     },
     "execution_count": 30,
     "metadata": {},
     "output_type": "execute_result"
    }
   ],
   "source": [
    "# repeating list comprehension because we used `sort` on quakes list; so it is now sorted\n",
    "sorted_quakes = sorted([Earthquake(quake_dict) for quake_dict in quake_dicts]) \n",
    "sorted_quakes"
   ]
  },
  {
   "cell_type": "markdown",
   "id": "67380bdf",
   "metadata": {},
   "source": [
    "### List of all special methods for comparison\n",
    "\n",
    "```python\n",
    "object.__lt__(self, other)\n",
    "object.__le__(self, other)\n",
    "object.__eq__(self, other)\n",
    "object.__ne__(self, other)\n",
    "object.__gt__(self, other)\n",
    "object.__ge__(self, other)\n",
    "```"
   ]
  },
  {
   "cell_type": "code",
   "execution_count": 27,
   "id": "1c6ea2ee",
   "metadata": {},
   "outputs": [
    {
     "ename": "TypeError",
     "evalue": "'<=' not supported between instances of 'Earthquake' and 'Earthquake'",
     "output_type": "error",
     "traceback": [
      "\u001b[0;31m---------------------------------------------------------------------------\u001b[0m",
      "\u001b[0;31mTypeError\u001b[0m                                 Traceback (most recent call last)",
      "\u001b[0;32m/var/folders/cl/393mjdg57rv38cb5rqyxn6tc0000gn/T/ipykernel_54068/3981501122.py\u001b[0m in \u001b[0;36m<module>\u001b[0;34m\u001b[0m\n\u001b[0;32m----> 1\u001b[0;31m \u001b[0me1\u001b[0m \u001b[0;34m<=\u001b[0m \u001b[0me2\u001b[0m \u001b[0;31m# need to implement special method __le__\u001b[0m\u001b[0;34m\u001b[0m\u001b[0;34m\u001b[0m\u001b[0m\n\u001b[0m",
      "\u001b[0;31mTypeError\u001b[0m: '<=' not supported between instances of 'Earthquake' and 'Earthquake'"
     ]
    }
   ],
   "source": [
    "e1 <= e2 # need to implement special method __le__"
   ]
  },
  {
   "cell_type": "markdown",
   "id": "905452d7",
   "metadata": {},
   "source": [
    "### `range` built-in function review"
   ]
  },
  {
   "cell_type": "code",
   "execution_count": 31,
   "id": "06e58758",
   "metadata": {},
   "outputs": [
    {
     "name": "stdout",
     "output_type": "stream",
     "text": [
      "0\n",
      "1\n",
      "2\n",
      "3\n",
      "4\n",
      "5\n",
      "6\n",
      "7\n",
      "8\n",
      "9\n"
     ]
    }
   ],
   "source": [
    "for i in range(10):\n",
    "    print(i) # sequence of numbers from 0 to 9"
   ]
  },
  {
   "cell_type": "code",
   "execution_count": 32,
   "id": "f55ec427",
   "metadata": {},
   "outputs": [
    {
     "name": "stdout",
     "output_type": "stream",
     "text": [
      "2\n",
      "3\n",
      "4\n",
      "5\n",
      "6\n",
      "7\n",
      "8\n",
      "9\n"
     ]
    }
   ],
   "source": [
    "for i in range(2, 10):\n",
    "    print(i) # sequence of numbers from 2 to 9"
   ]
  },
  {
   "cell_type": "markdown",
   "id": "fda85903",
   "metadata": {},
   "source": [
    "We can store this sequence into a variable and use typical sequence operations (ex: indexing, slicing, etc.,)."
   ]
  },
  {
   "cell_type": "code",
   "execution_count": 33,
   "id": "5b2cd2f1",
   "metadata": {},
   "outputs": [],
   "source": [
    "r = range(2, 10)"
   ]
  },
  {
   "cell_type": "code",
   "execution_count": 35,
   "id": "cfce93e5",
   "metadata": {},
   "outputs": [
    {
     "name": "stdout",
     "output_type": "stream",
     "text": [
      "2\n",
      "3\n",
      "9\n"
     ]
    }
   ],
   "source": [
    "print(r[0])\n",
    "print(r[1])\n",
    "print(r[-1])"
   ]
  },
  {
   "cell_type": "code",
   "execution_count": 36,
   "id": "20350b4f",
   "metadata": {},
   "outputs": [
    {
     "data": {
      "text/plain": [
       "range(2, 4)"
      ]
     },
     "execution_count": 36,
     "metadata": {},
     "output_type": "execute_result"
    }
   ],
   "source": [
    "r[:2] # displays the corresponding range function call"
   ]
  },
  {
   "cell_type": "markdown",
   "id": "df240d52",
   "metadata": {},
   "source": [
    "### `__getitem__` special method\n",
    "- `obj[key]` => `obj.__getitem__(key)`\n",
    "- enables us to define how lookup / indexing (aka subscript) works\n",
    "- Must return an appropriate object instance"
   ]
  },
  {
   "cell_type": "markdown",
   "id": "4a2fac13",
   "metadata": {},
   "source": [
    "### `Range` class"
   ]
  },
  {
   "cell_type": "code",
   "execution_count": 55,
   "id": "39eab7ec",
   "metadata": {},
   "outputs": [],
   "source": [
    "class Range:\n",
    "    # our version\n",
    "    def __init__(self, v1, v2=None):\n",
    "        if v2 != None:\n",
    "            self.lower = v1\n",
    "            self.upper = v2\n",
    "        else:\n",
    "            self.lower = 0\n",
    "            self.upper = v1\n",
    "            \n",
    "    def __getitem__(self, index):\n",
    "        if index >= self.upper-self.lower:\n",
    "            raise IndexError(\"Index out of bounds!\")\n",
    "        if index < 0:\n",
    "            raise NotImplementedError(\"Negative indexing not supported yet.\")\n",
    "        return self.lower + index"
   ]
  },
  {
   "cell_type": "code",
   "execution_count": 56,
   "id": "e6d5efec",
   "metadata": {},
   "outputs": [
    {
     "name": "stdout",
     "output_type": "stream",
     "text": [
      "2\n"
     ]
    }
   ],
   "source": [
    "r = Range(2, 10)\n",
    "print(r[0]) # should be 2"
   ]
  },
  {
   "cell_type": "code",
   "execution_count": 57,
   "id": "8ae480b1",
   "metadata": {},
   "outputs": [],
   "source": [
    "# TODO: go back and define __getitem__ for Range"
   ]
  },
  {
   "cell_type": "code",
   "execution_count": 58,
   "id": "ce64c034",
   "metadata": {},
   "outputs": [
    {
     "name": "stdout",
     "output_type": "stream",
     "text": [
      "3\n"
     ]
    }
   ],
   "source": [
    "print(r[1]) # should be 3"
   ]
  },
  {
   "cell_type": "code",
   "execution_count": 59,
   "id": "72674c2e",
   "metadata": {},
   "outputs": [
    {
     "ename": "IndexError",
     "evalue": "index too big",
     "output_type": "error",
     "traceback": [
      "\u001b[0;31m---------------------------------------------------------------------------\u001b[0m",
      "\u001b[0;31mIndexError\u001b[0m                                Traceback (most recent call last)",
      "\u001b[0;32m/var/folders/cl/393mjdg57rv38cb5rqyxn6tc0000gn/T/ipykernel_54068/967479452.py\u001b[0m in \u001b[0;36m<module>\u001b[0;34m\u001b[0m\n\u001b[0;32m----> 1\u001b[0;31m \u001b[0mprint\u001b[0m\u001b[0;34m(\u001b[0m\u001b[0mr\u001b[0m\u001b[0;34m[\u001b[0m\u001b[0;36m20\u001b[0m\u001b[0;34m]\u001b[0m\u001b[0;34m)\u001b[0m\u001b[0;34m\u001b[0m\u001b[0;34m\u001b[0m\u001b[0m\n\u001b[0m",
      "\u001b[0;32m/var/folders/cl/393mjdg57rv38cb5rqyxn6tc0000gn/T/ipykernel_54068/3671043404.py\u001b[0m in \u001b[0;36m__getitem__\u001b[0;34m(self, index)\u001b[0m\n\u001b[1;32m     11\u001b[0m     \u001b[0;32mdef\u001b[0m \u001b[0m__getitem__\u001b[0m\u001b[0;34m(\u001b[0m\u001b[0mself\u001b[0m\u001b[0;34m,\u001b[0m \u001b[0mindex\u001b[0m\u001b[0;34m)\u001b[0m\u001b[0;34m:\u001b[0m\u001b[0;34m\u001b[0m\u001b[0;34m\u001b[0m\u001b[0m\n\u001b[1;32m     12\u001b[0m         \u001b[0;32mif\u001b[0m \u001b[0mindex\u001b[0m \u001b[0;34m>=\u001b[0m \u001b[0mself\u001b[0m\u001b[0;34m.\u001b[0m\u001b[0mupper\u001b[0m\u001b[0;34m-\u001b[0m\u001b[0mself\u001b[0m\u001b[0;34m.\u001b[0m\u001b[0mlower\u001b[0m\u001b[0;34m:\u001b[0m\u001b[0;34m\u001b[0m\u001b[0;34m\u001b[0m\u001b[0m\n\u001b[0;32m---> 13\u001b[0;31m             \u001b[0;32mraise\u001b[0m \u001b[0mIndexError\u001b[0m\u001b[0;34m(\u001b[0m\u001b[0;34m\"index too big\"\u001b[0m\u001b[0;34m)\u001b[0m\u001b[0;34m\u001b[0m\u001b[0;34m\u001b[0m\u001b[0m\n\u001b[0m\u001b[1;32m     14\u001b[0m         \u001b[0;32mif\u001b[0m \u001b[0mindex\u001b[0m \u001b[0;34m<\u001b[0m \u001b[0;36m0\u001b[0m\u001b[0;34m:\u001b[0m\u001b[0;34m\u001b[0m\u001b[0;34m\u001b[0m\u001b[0m\n\u001b[1;32m     15\u001b[0m             \u001b[0;32mraise\u001b[0m \u001b[0mNotImplementedError\u001b[0m\u001b[0;34m(\u001b[0m\u001b[0;34m\"negative indexing not supported yet\"\u001b[0m\u001b[0;34m)\u001b[0m\u001b[0;34m\u001b[0m\u001b[0;34m\u001b[0m\u001b[0m\n",
      "\u001b[0;31mIndexError\u001b[0m: index too big"
     ]
    }
   ],
   "source": [
    "print(r[20]) # this is bad"
   ]
  },
  {
   "cell_type": "code",
   "execution_count": 60,
   "id": "ffb6e67a",
   "metadata": {},
   "outputs": [],
   "source": [
    "# TODO: go back and handle out of range\n",
    "# Let's raise IndexError"
   ]
  },
  {
   "cell_type": "code",
   "execution_count": 61,
   "id": "906463b1",
   "metadata": {},
   "outputs": [
    {
     "ename": "IndexError",
     "evalue": "index too big",
     "output_type": "error",
     "traceback": [
      "\u001b[0;31m---------------------------------------------------------------------------\u001b[0m",
      "\u001b[0;31mIndexError\u001b[0m                                Traceback (most recent call last)",
      "\u001b[0;32m/var/folders/cl/393mjdg57rv38cb5rqyxn6tc0000gn/T/ipykernel_54068/967479452.py\u001b[0m in \u001b[0;36m<module>\u001b[0;34m\u001b[0m\n\u001b[0;32m----> 1\u001b[0;31m \u001b[0mprint\u001b[0m\u001b[0;34m(\u001b[0m\u001b[0mr\u001b[0m\u001b[0;34m[\u001b[0m\u001b[0;36m20\u001b[0m\u001b[0;34m]\u001b[0m\u001b[0;34m)\u001b[0m\u001b[0;34m\u001b[0m\u001b[0;34m\u001b[0m\u001b[0m\n\u001b[0m",
      "\u001b[0;32m/var/folders/cl/393mjdg57rv38cb5rqyxn6tc0000gn/T/ipykernel_54068/3671043404.py\u001b[0m in \u001b[0;36m__getitem__\u001b[0;34m(self, index)\u001b[0m\n\u001b[1;32m     11\u001b[0m     \u001b[0;32mdef\u001b[0m \u001b[0m__getitem__\u001b[0m\u001b[0;34m(\u001b[0m\u001b[0mself\u001b[0m\u001b[0;34m,\u001b[0m \u001b[0mindex\u001b[0m\u001b[0;34m)\u001b[0m\u001b[0;34m:\u001b[0m\u001b[0;34m\u001b[0m\u001b[0;34m\u001b[0m\u001b[0m\n\u001b[1;32m     12\u001b[0m         \u001b[0;32mif\u001b[0m \u001b[0mindex\u001b[0m \u001b[0;34m>=\u001b[0m \u001b[0mself\u001b[0m\u001b[0;34m.\u001b[0m\u001b[0mupper\u001b[0m\u001b[0;34m-\u001b[0m\u001b[0mself\u001b[0m\u001b[0;34m.\u001b[0m\u001b[0mlower\u001b[0m\u001b[0;34m:\u001b[0m\u001b[0;34m\u001b[0m\u001b[0;34m\u001b[0m\u001b[0m\n\u001b[0;32m---> 13\u001b[0;31m             \u001b[0;32mraise\u001b[0m \u001b[0mIndexError\u001b[0m\u001b[0;34m(\u001b[0m\u001b[0;34m\"index too big\"\u001b[0m\u001b[0;34m)\u001b[0m\u001b[0;34m\u001b[0m\u001b[0;34m\u001b[0m\u001b[0m\n\u001b[0m\u001b[1;32m     14\u001b[0m         \u001b[0;32mif\u001b[0m \u001b[0mindex\u001b[0m \u001b[0;34m<\u001b[0m \u001b[0;36m0\u001b[0m\u001b[0;34m:\u001b[0m\u001b[0;34m\u001b[0m\u001b[0;34m\u001b[0m\u001b[0m\n\u001b[1;32m     15\u001b[0m             \u001b[0;32mraise\u001b[0m \u001b[0mNotImplementedError\u001b[0m\u001b[0;34m(\u001b[0m\u001b[0;34m\"negative indexing not supported yet\"\u001b[0m\u001b[0;34m)\u001b[0m\u001b[0;34m\u001b[0m\u001b[0;34m\u001b[0m\u001b[0m\n",
      "\u001b[0;31mIndexError\u001b[0m: index too big"
     ]
    }
   ],
   "source": [
    "print(r[20]) "
   ]
  },
  {
   "cell_type": "code",
   "execution_count": 62,
   "id": "01db09f0",
   "metadata": {},
   "outputs": [
    {
     "ename": "NotImplementedError",
     "evalue": "negative indexing not supported yet",
     "output_type": "error",
     "traceback": [
      "\u001b[0;31m---------------------------------------------------------------------------\u001b[0m",
      "\u001b[0;31mNotImplementedError\u001b[0m                       Traceback (most recent call last)",
      "\u001b[0;32m/var/folders/cl/393mjdg57rv38cb5rqyxn6tc0000gn/T/ipykernel_54068/2055566804.py\u001b[0m in \u001b[0;36m<module>\u001b[0;34m\u001b[0m\n\u001b[0;32m----> 1\u001b[0;31m \u001b[0mprint\u001b[0m\u001b[0;34m(\u001b[0m\u001b[0mr\u001b[0m\u001b[0;34m[\u001b[0m\u001b[0;34m-\u001b[0m\u001b[0;36m1\u001b[0m\u001b[0;34m]\u001b[0m\u001b[0;34m)\u001b[0m \u001b[0;31m# this is bad\u001b[0m\u001b[0;34m\u001b[0m\u001b[0;34m\u001b[0m\u001b[0m\n\u001b[0m",
      "\u001b[0;32m/var/folders/cl/393mjdg57rv38cb5rqyxn6tc0000gn/T/ipykernel_54068/3671043404.py\u001b[0m in \u001b[0;36m__getitem__\u001b[0;34m(self, index)\u001b[0m\n\u001b[1;32m     13\u001b[0m             \u001b[0;32mraise\u001b[0m \u001b[0mIndexError\u001b[0m\u001b[0;34m(\u001b[0m\u001b[0;34m\"index too big\"\u001b[0m\u001b[0;34m)\u001b[0m\u001b[0;34m\u001b[0m\u001b[0;34m\u001b[0m\u001b[0m\n\u001b[1;32m     14\u001b[0m         \u001b[0;32mif\u001b[0m \u001b[0mindex\u001b[0m \u001b[0;34m<\u001b[0m \u001b[0;36m0\u001b[0m\u001b[0;34m:\u001b[0m\u001b[0;34m\u001b[0m\u001b[0;34m\u001b[0m\u001b[0m\n\u001b[0;32m---> 15\u001b[0;31m             \u001b[0;32mraise\u001b[0m \u001b[0mNotImplementedError\u001b[0m\u001b[0;34m(\u001b[0m\u001b[0;34m\"negative indexing not supported yet\"\u001b[0m\u001b[0;34m)\u001b[0m\u001b[0;34m\u001b[0m\u001b[0;34m\u001b[0m\u001b[0m\n\u001b[0m\u001b[1;32m     16\u001b[0m         \u001b[0;32mreturn\u001b[0m \u001b[0mself\u001b[0m\u001b[0;34m.\u001b[0m\u001b[0mlower\u001b[0m \u001b[0;34m+\u001b[0m \u001b[0mindex\u001b[0m\u001b[0;34m\u001b[0m\u001b[0;34m\u001b[0m\u001b[0m\n",
      "\u001b[0;31mNotImplementedError\u001b[0m: negative indexing not supported yet"
     ]
    }
   ],
   "source": [
    "print(r[-1]) # this is bad"
   ]
  },
  {
   "cell_type": "code",
   "execution_count": null,
   "id": "9d109e6e",
   "metadata": {},
   "outputs": [],
   "source": [
    "# TODO: go back and handle out of range\n",
    "# Let's raise NotImplementedError"
   ]
  },
  {
   "cell_type": "code",
   "execution_count": null,
   "id": "ee817620",
   "metadata": {},
   "outputs": [],
   "source": [
    "print(r[-1]) # this is bad"
   ]
  },
  {
   "cell_type": "code",
   "execution_count": 63,
   "id": "0e74e271",
   "metadata": {},
   "outputs": [
    {
     "name": "stdout",
     "output_type": "stream",
     "text": [
      "2\n",
      "3\n",
      "4\n",
      "5\n",
      "6\n",
      "7\n",
      "8\n",
      "9\n"
     ]
    }
   ],
   "source": [
    "for num in r: # looks at r[0], r[1], r[2], keeps going until it encounters IndexError\n",
    "    print(num)"
   ]
  },
  {
   "cell_type": "markdown",
   "id": "5ed859f7",
   "metadata": {},
   "source": [
    "### Context Managers\n",
    "- objects that you can use with the `with` statement"
   ]
  },
  {
   "cell_type": "markdown",
   "id": "29a847d7",
   "metadata": {},
   "source": [
    "Regular way of writing content into file."
   ]
  },
  {
   "cell_type": "code",
   "execution_count": 67,
   "id": "1449aeab",
   "metadata": {},
   "outputs": [],
   "source": [
    "f = open(\"file.txt\", \"w\")\n",
    "f.write(\"hello, \")\n",
    "f.write(\"world!\\n\")\n",
    "f.close()"
   ]
  },
  {
   "cell_type": "markdown",
   "id": "a4cbcddd",
   "metadata": {},
   "source": [
    "Regular way of reading content from a file."
   ]
  },
  {
   "cell_type": "code",
   "execution_count": 68,
   "id": "ba04eef6",
   "metadata": {},
   "outputs": [
    {
     "name": "stdout",
     "output_type": "stream",
     "text": [
      "hello, world!\n",
      "\n"
     ]
    }
   ],
   "source": [
    "f = open(\"file.txt\")\n",
    "print(f.read())\n",
    "f.close()"
   ]
  },
  {
   "cell_type": "markdown",
   "id": "b66254b7",
   "metadata": {},
   "source": [
    "What if we crashed in the middle of having a file open for writing? That is a problem. "
   ]
  },
  {
   "cell_type": "code",
   "execution_count": 72,
   "id": "704abeb3",
   "metadata": {},
   "outputs": [
    {
     "ename": "AssertionError",
     "evalue": "",
     "output_type": "error",
     "traceback": [
      "\u001b[0;31m---------------------------------------------------------------------------\u001b[0m",
      "\u001b[0;31mAssertionError\u001b[0m                            Traceback (most recent call last)",
      "\u001b[0;32m/var/folders/cl/393mjdg57rv38cb5rqyxn6tc0000gn/T/ipykernel_54068/536641575.py\u001b[0m in \u001b[0;36m<module>\u001b[0;34m\u001b[0m\n\u001b[1;32m      1\u001b[0m \u001b[0mf\u001b[0m \u001b[0;34m=\u001b[0m \u001b[0mopen\u001b[0m\u001b[0;34m(\u001b[0m\u001b[0;34m\"crash.txt\"\u001b[0m\u001b[0;34m,\u001b[0m \u001b[0;34m\"w\"\u001b[0m\u001b[0;34m)\u001b[0m\u001b[0;34m\u001b[0m\u001b[0;34m\u001b[0m\u001b[0m\n\u001b[1;32m      2\u001b[0m \u001b[0mf\u001b[0m\u001b[0;34m.\u001b[0m\u001b[0mwrite\u001b[0m\u001b[0;34m(\u001b[0m\u001b[0;34m\"hi\"\u001b[0m\u001b[0;34m)\u001b[0m\u001b[0;34m\u001b[0m\u001b[0;34m\u001b[0m\u001b[0m\n\u001b[0;32m----> 3\u001b[0;31m \u001b[0;32massert\u001b[0m \u001b[0;36m1\u001b[0m \u001b[0;34m==\u001b[0m \u001b[0;36m2\u001b[0m \u001b[0;31m# CRASH\u001b[0m\u001b[0;34m\u001b[0m\u001b[0;34m\u001b[0m\u001b[0m\n\u001b[0m\u001b[1;32m      4\u001b[0m \u001b[0mf\u001b[0m\u001b[0;34m.\u001b[0m\u001b[0mwrite\u001b[0m\u001b[0;34m(\u001b[0m\u001b[0;34m\"bye\"\u001b[0m\u001b[0;34m)\u001b[0m\u001b[0;34m\u001b[0m\u001b[0;34m\u001b[0m\u001b[0m\n\u001b[1;32m      5\u001b[0m \u001b[0mf\u001b[0m\u001b[0;34m.\u001b[0m\u001b[0mclose\u001b[0m\u001b[0;34m(\u001b[0m\u001b[0;34m)\u001b[0m\u001b[0;34m\u001b[0m\u001b[0;34m\u001b[0m\u001b[0m\n",
      "\u001b[0;31mAssertionError\u001b[0m: "
     ]
    }
   ],
   "source": [
    "f = open(\"crash.txt\", \"w\")\n",
    "f.write(\"hi\")\n",
    "assert 1 == 2 # CRASH\n",
    "f.write(\"bye\")\n",
    "f.close()"
   ]
  },
  {
   "cell_type": "markdown",
   "id": "f1129ee3",
   "metadata": {},
   "source": [
    "Writing files is a slow operation. Python `write` doesn't directly go on to disk. Instead the file object buffers the data in memory (RAM). Eventually all the data gets written to disk - when we `close` the file object."
   ]
  },
  {
   "cell_type": "markdown",
   "id": "e4c374f3",
   "metadata": {},
   "source": [
    "#### Using `with` for reading content from a file\n",
    "- automatically closes file handle even if there an error"
   ]
  },
  {
   "cell_type": "code",
   "execution_count": 74,
   "id": "5ea9f59b",
   "metadata": {},
   "outputs": [
    {
     "ename": "AssertionError",
     "evalue": "",
     "output_type": "error",
     "traceback": [
      "\u001b[0;31m---------------------------------------------------------------------------\u001b[0m",
      "\u001b[0;31mAssertionError\u001b[0m                            Traceback (most recent call last)",
      "\u001b[0;32m/var/folders/cl/393mjdg57rv38cb5rqyxn6tc0000gn/T/ipykernel_54068/483834923.py\u001b[0m in \u001b[0;36m<module>\u001b[0;34m\u001b[0m\n\u001b[1;32m      1\u001b[0m \u001b[0;32mwith\u001b[0m \u001b[0mopen\u001b[0m\u001b[0;34m(\u001b[0m\u001b[0;34m\"crash.txt\"\u001b[0m\u001b[0;34m,\u001b[0m \u001b[0;34m\"w\"\u001b[0m\u001b[0;34m)\u001b[0m \u001b[0;32mas\u001b[0m \u001b[0mf\u001b[0m\u001b[0;34m:\u001b[0m\u001b[0;34m\u001b[0m\u001b[0;34m\u001b[0m\u001b[0m\n\u001b[1;32m      2\u001b[0m     \u001b[0mf\u001b[0m\u001b[0;34m.\u001b[0m\u001b[0mwrite\u001b[0m\u001b[0;34m(\u001b[0m\u001b[0;34m\"hi\"\u001b[0m\u001b[0;34m)\u001b[0m\u001b[0;34m\u001b[0m\u001b[0;34m\u001b[0m\u001b[0m\n\u001b[0;32m----> 3\u001b[0;31m     \u001b[0;32massert\u001b[0m \u001b[0;36m1\u001b[0m \u001b[0;34m==\u001b[0m \u001b[0;36m2\u001b[0m \u001b[0;31m# CRASH\u001b[0m\u001b[0;34m\u001b[0m\u001b[0;34m\u001b[0m\u001b[0m\n\u001b[0m\u001b[1;32m      4\u001b[0m     \u001b[0mf\u001b[0m\u001b[0;34m.\u001b[0m\u001b[0mwrite\u001b[0m\u001b[0;34m(\u001b[0m\u001b[0;34m\"bye\"\u001b[0m\u001b[0;34m)\u001b[0m\u001b[0;34m\u001b[0m\u001b[0;34m\u001b[0m\u001b[0m\n",
      "\u001b[0;31mAssertionError\u001b[0m: "
     ]
    }
   ],
   "source": [
    "with open(\"crash.txt\", \"w\") as f:\n",
    "    f.write(\"hi\")\n",
    "    assert 1 == 2 # CRASH\n",
    "    f.write(\"bye\")"
   ]
  },
  {
   "cell_type": "markdown",
   "id": "310f2288",
   "metadata": {},
   "source": [
    "### `matplotlib` review\n",
    "\n",
    "- `subplots` function enable us to create an empty plot\n",
    "- `rcParams` is like a `dict`, which contains various aesthetic settings, including \"font.size\""
   ]
  },
  {
   "cell_type": "code",
   "execution_count": 79,
   "id": "2eeec88e",
   "metadata": {},
   "outputs": [
    {
     "data": {
      "text/plain": [
       "(<Figure size 100x100 with 1 Axes>, <AxesSubplot:>)"
      ]
     },
     "execution_count": 79,
     "metadata": {},
     "output_type": "execute_result"
    },
    {
     "data": {
      "image/png": "[encoded data removed]",
      "text/plain": [
       "<Figure size 100x100 with 1 Axes>"
      ]
     },
     "metadata": {},
     "output_type": "display_data"
    }
   ],
   "source": [
    "plt.subplots(figsize=(1,1))"
   ]
  },
  {
   "cell_type": "code",
   "execution_count": 81,
   "id": "194dfc80",
   "metadata": {},
   "outputs": [
    {
     "data": {
      "text/plain": [
       "10.0"
      ]
     },
     "execution_count": 81,
     "metadata": {},
     "output_type": "execute_result"
    }
   ],
   "source": [
    "plt.rcParams[\"font.size\"]"
   ]
  },
  {
   "cell_type": "markdown",
   "id": "d6037950",
   "metadata": {},
   "source": [
    "### Context Managers for custom classes: `__enter__` and `__exit__` special methods\n",
    "- special methods: `__enter__` and `__exit__`\n",
    "- `with` statement automatically invokes both `__enter__` and `__exit__` special methods"
   ]
  },
  {
   "cell_type": "markdown",
   "id": "7725e1cf",
   "metadata": {},
   "source": [
    "### `DoubleFont` class\n",
    "\n",
    "- let's define a class which will enable us double the font in plots when we use it\n",
    "- once we are done using it, we want the font size to go back to normal (using `with`)\n",
    "- Goal:\n",
    "```python\n",
    "plt.subplots(figsize=(1,1)) # regular font\n",
    "with DoubleFont():\n",
    "    plt.subplots(figsize=(1,1)) # large font\n",
    "plt.subplots(figsize=(1,1)) # regular font\n",
    "```"
   ]
  },
  {
   "cell_type": "code",
   "execution_count": 83,
   "id": "7ea2d0d2",
   "metadata": {},
   "outputs": [
    {
     "name": "stdout",
     "output_type": "stream",
     "text": [
      "ENTER\n",
      "EXIT\n"
     ]
    },
    {
     "data": {
      "text/plain": [
       "(<Figure size 100x100 with 1 Axes>, <AxesSubplot:>)"
      ]
     },
     "execution_count": 83,
     "metadata": {},
     "output_type": "execute_result"
    },
    {
     "data": {
      "image/png": "[encoded data removed]",
      "text/plain": [
       "<Figure size 100x100 with 1 Axes>"
      ]
     },
     "metadata": {},
     "output_type": "display_data"
    },
    {
     "data": {
      "image/png": "[encoded data removed]",
      "text/plain": [
       "<Figure size 100x100 with 1 Axes>"
      ]
     },
     "metadata": {},
     "output_type": "display_data"
    },
    {
     "data": {
      "image/png": "[encoded data removed]",
      "text/plain": [
       "<Figure size 100x100 with 1 Axes>"
      ]
     },
     "metadata": {},
     "output_type": "display_data"
    }
   ],
   "source": [
    "class DoubleFont:\n",
    "    def __enter__(self):\n",
    "        print(\"ENTER\")\n",
    "        self.old_size = plt.rcParams[\"font.size\"]\n",
    "        plt.rcParams[\"font.size\"] *= 2\n",
    "        \n",
    "    def __exit__(self, exc_type, exc_value, traceback):\n",
    "        print(\"EXIT\")\n",
    "        plt.rcParams[\"font.size\"] = self.old_size\n",
    "\n",
    "plt.subplots(figsize=(1,1)) # regular font\n",
    "with DoubleFont():\n",
    "    plt.subplots(figsize=(1,1)) # large font\n",
    "plt.subplots(figsize=(1,1)) # regular font"
   ]
  },
  {
   "attachments": {
    "object_class.png": {
     "image/png": "[encoded data removed]"
    }
   },
   "cell_type": "markdown",
   "id": "aeec07d9",
   "metadata": {},
   "source": [
    "### OOP Inheritance\n",
    "\n",
    "- ability to leverage existing classes and methods to create new classes that are similar\n",
    "- Hierarchy\n",
    "\n",
    "<div>\n",
    "<img src=\"attachment:object_class.png\" width=\"600\"/>\n",
    "</div>"
   ]
  },
  {
   "cell_type": "code",
   "execution_count": null,
   "id": "517d0318",
   "metadata": {},
   "outputs": [],
   "source": []
  },
  {
   "cell_type": "code",
   "execution_count": null,
   "id": "a59526f4",
   "metadata": {},
   "outputs": [],
   "source": [
    "class Animal:\n",
    "    def __init__(self, name):\n",
    "        self.name = name    \n",
    "\n",
    "    def __str__(self):\n",
    "        return f\"{type(self).__name__} {self.name}\"\n",
    "\n",
    "    def __repr__(self):\n",
    "        return f\"{type(self).__name__}('{self.name}')\"\n",
    "        \n",
    "class Rabbit(Animal):\n",
    "    def __str__(self):  # this method overrides the version we inherited\n",
    "        return \"I'm a rabbit (TEST!)\"\n",
    "\n",
    "class Dog(Animal):\n",
    "    def __init__(self, name, age): # sometimes want to override AND call the parent version\n",
    "        #Animal.__init__(self, name)\n",
    "        super().__init__(name)      # super() is like self, but a level up\n",
    "        self.age = age\n",
    "    \n",
    "    def speak(self):\n",
    "        print(\"bark\")\n",
    "\n",
    "fido = Dog(\"Fido\", 3)\n",
    "print(fido)\n",
    "\n",
    "ruby = Rabbit(\"Ruby\")\n",
    "print(ruby)"
   ]
  }
 ],
 "metadata": {
  "kernelspec": {
   "display_name": "Python 3 (ipykernel)",
   "language": "python",
   "name": "python3"
  },
  "language_info": {
   "codemirror_mode": {
    "name": "ipython",
    "version": 3
   },
   "file_extension": ".py",
   "mimetype": "text/x-python",
   "name": "python",
   "nbconvert_exporter": "python",
   "pygments_lexer": "ipython3",
   "version": "3.9.13"
  }
 },
 "nbformat": 4,
 "nbformat_minor": 5
}
