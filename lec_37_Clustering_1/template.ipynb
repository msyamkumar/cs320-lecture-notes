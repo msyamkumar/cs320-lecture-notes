{
 "cells": [
  {
   "cell_type": "code",
   "execution_count": 1,
   "id": "cbd48a28",
   "metadata": {},
   "outputs": [],
   "source": [
    "import numpy as np\n",
    "import pandas as pd\n",
    "import matplotlib.pyplot as plt\n",
    "\n",
    "from sklearn import datasets\n",
    "from sklearn.model_selection import train_test_split\n",
    "from sklearn.linear_model import LinearRegression, LogisticRegression\n",
    "from sklearn.pipeline import Pipeline\n",
    "from sklearn.preprocessing import PolynomialFeatures\n",
    "\n",
    "# new import statements\n",
    "from sklearn.preprocessing import StandardScaler\n",
    "from sklearn.metrics import accuracy_score, confusion_matrix\n",
    "from sklearn.metrics import recall_score, precision_score, balanced_accuracy_score\n",
    "from sklearn.cluster import KMeans"
   ]
  },
  {
   "cell_type": "markdown",
   "id": "f53db4d6",
   "metadata": {},
   "source": [
    "# Classification 2 - wrap up"
   ]
  },
  {
   "cell_type": "code",
   "execution_count": 2,
   "id": "cff661e3",
   "metadata": {},
   "outputs": [
    {
     "data": {
      "text/html": [
       "<div>\n",
       "<style scoped>\n",
       "    .dataframe tbody tr th:only-of-type {\n",
       "        vertical-align: middle;\n",
       "    }\n",
       "\n",
       "    .dataframe tbody tr th {\n",
       "        vertical-align: top;\n",
       "    }\n",
       "\n",
       "    .dataframe thead th {\n",
       "        text-align: right;\n",
       "    }\n",
       "</style>\n",
       "<table border=\"1\" class=\"dataframe\">\n",
       "  <thead>\n",
       "    <tr style=\"text-align: right;\">\n",
       "      <th></th>\n",
       "      <th>sepal length (cm)</th>\n",
       "      <th>sepal width (cm)</th>\n",
       "      <th>const</th>\n",
       "      <th>petal width (cm)</th>\n",
       "      <th>setosa</th>\n",
       "      <th>variety</th>\n",
       "    </tr>\n",
       "  </thead>\n",
       "  <tbody>\n",
       "    <tr>\n",
       "      <th>82</th>\n",
       "      <td>5.8</td>\n",
       "      <td>2.7</td>\n",
       "      <td>1</td>\n",
       "      <td>1.2</td>\n",
       "      <td>False</td>\n",
       "      <td>versicolor</td>\n",
       "    </tr>\n",
       "    <tr>\n",
       "      <th>134</th>\n",
       "      <td>6.1</td>\n",
       "      <td>2.6</td>\n",
       "      <td>1</td>\n",
       "      <td>1.4</td>\n",
       "      <td>False</td>\n",
       "      <td>virginica</td>\n",
       "    </tr>\n",
       "    <tr>\n",
       "      <th>114</th>\n",
       "      <td>5.8</td>\n",
       "      <td>2.8</td>\n",
       "      <td>1</td>\n",
       "      <td>2.4</td>\n",
       "      <td>False</td>\n",
       "      <td>virginica</td>\n",
       "    </tr>\n",
       "    <tr>\n",
       "      <th>42</th>\n",
       "      <td>4.4</td>\n",
       "      <td>3.2</td>\n",
       "      <td>1</td>\n",
       "      <td>0.2</td>\n",
       "      <td>True</td>\n",
       "      <td>setosa</td>\n",
       "    </tr>\n",
       "    <tr>\n",
       "      <th>109</th>\n",
       "      <td>7.2</td>\n",
       "      <td>3.6</td>\n",
       "      <td>1</td>\n",
       "      <td>2.5</td>\n",
       "      <td>False</td>\n",
       "      <td>virginica</td>\n",
       "    </tr>\n",
       "    <tr>\n",
       "      <th>57</th>\n",
       "      <td>4.9</td>\n",
       "      <td>2.4</td>\n",
       "      <td>1</td>\n",
       "      <td>1.0</td>\n",
       "      <td>False</td>\n",
       "      <td>versicolor</td>\n",
       "    </tr>\n",
       "    <tr>\n",
       "      <th>1</th>\n",
       "      <td>4.9</td>\n",
       "      <td>3.0</td>\n",
       "      <td>1</td>\n",
       "      <td>0.2</td>\n",
       "      <td>True</td>\n",
       "      <td>setosa</td>\n",
       "    </tr>\n",
       "    <tr>\n",
       "      <th>70</th>\n",
       "      <td>5.9</td>\n",
       "      <td>3.2</td>\n",
       "      <td>1</td>\n",
       "      <td>1.8</td>\n",
       "      <td>False</td>\n",
       "      <td>versicolor</td>\n",
       "    </tr>\n",
       "    <tr>\n",
       "      <th>25</th>\n",
       "      <td>5.0</td>\n",
       "      <td>3.0</td>\n",
       "      <td>1</td>\n",
       "      <td>0.2</td>\n",
       "      <td>True</td>\n",
       "      <td>setosa</td>\n",
       "    </tr>\n",
       "    <tr>\n",
       "      <th>84</th>\n",
       "      <td>5.4</td>\n",
       "      <td>3.0</td>\n",
       "      <td>1</td>\n",
       "      <td>1.5</td>\n",
       "      <td>False</td>\n",
       "      <td>versicolor</td>\n",
       "    </tr>\n",
       "  </tbody>\n",
       "</table>\n",
       "</div>"
      ],
      "text/plain": [
       "     sepal length (cm)  sepal width (cm)  const  petal width (cm)  setosa  \\\n",
       "82                 5.8               2.7      1               1.2   False   \n",
       "134                6.1               2.6      1               1.4   False   \n",
       "114                5.8               2.8      1               2.4   False   \n",
       "42                 4.4               3.2      1               0.2    True   \n",
       "109                7.2               3.6      1               2.5   False   \n",
       "57                 4.9               2.4      1               1.0   False   \n",
       "1                  4.9               3.0      1               0.2    True   \n",
       "70                 5.9               3.2      1               1.8   False   \n",
       "25                 5.0               3.0      1               0.2    True   \n",
       "84                 5.4               3.0      1               1.5   False   \n",
       "\n",
       "        variety  \n",
       "82   versicolor  \n",
       "134   virginica  \n",
       "114   virginica  \n",
       "42       setosa  \n",
       "109   virginica  \n",
       "57   versicolor  \n",
       "1        setosa  \n",
       "70   versicolor  \n",
       "25       setosa  \n",
       "84   versicolor  "
      ]
     },
     "execution_count": 2,
     "metadata": {},
     "output_type": "execute_result"
    }
   ],
   "source": [
    "data = datasets.load_iris()\n",
    "df = pd.DataFrame(data[\"data\"], \\\n",
    "                  columns=data[\"feature_names\"]).drop(columns=[\"petal length (cm)\"])\n",
    "df.insert(2, \"const\", 1)\n",
    "df[\"variety\"] = data[\"target_names\"][data[\"target\"]]\n",
    "df.insert(4, \"setosa\", df[\"variety\"] == \"setosa\")\n",
    "train, test = train_test_split(df, test_size=10, random_state=5)\n",
    "test"
   ]
  },
  {
   "cell_type": "markdown",
   "id": "2c26bfa5",
   "metadata": {},
   "source": [
    "### Review: models\n",
    "- Model 1: Predict petal width \n",
    "    - regression problem\n",
    "- Model 2 - part a: Predict whether flower is \"setosa\"\n",
    "    - classification problem, specifically binary classification: True / False\n",
    "- Model 2 - part b: Predict probablity of flower being \"setosa\"\n",
    "    - classification problem, probablity between 0 to 1"
   ]
  },
  {
   "cell_type": "code",
   "execution_count": 3,
   "id": "51e93540",
   "metadata": {},
   "outputs": [
    {
     "data": {
      "text/html": [
       "<div>\n",
       "<style scoped>\n",
       "    .dataframe tbody tr th:only-of-type {\n",
       "        vertical-align: middle;\n",
       "    }\n",
       "\n",
       "    .dataframe tbody tr th {\n",
       "        vertical-align: top;\n",
       "    }\n",
       "\n",
       "    .dataframe thead th {\n",
       "        text-align: right;\n",
       "    }\n",
       "</style>\n",
       "<table border=\"1\" class=\"dataframe\">\n",
       "  <thead>\n",
       "    <tr style=\"text-align: right;\">\n",
       "      <th></th>\n",
       "      <th>sepal length (cm)</th>\n",
       "      <th>sepal width (cm)</th>\n",
       "      <th>const</th>\n",
       "      <th>petal width (cm)</th>\n",
       "      <th>setosa</th>\n",
       "      <th>variety</th>\n",
       "      <th>setosa_predictions</th>\n",
       "    </tr>\n",
       "  </thead>\n",
       "  <tbody>\n",
       "    <tr>\n",
       "      <th>82</th>\n",
       "      <td>5.8</td>\n",
       "      <td>2.7</td>\n",
       "      <td>1</td>\n",
       "      <td>1.2</td>\n",
       "      <td>False</td>\n",
       "      <td>versicolor</td>\n",
       "      <td>False</td>\n",
       "    </tr>\n",
       "    <tr>\n",
       "      <th>134</th>\n",
       "      <td>6.1</td>\n",
       "      <td>2.6</td>\n",
       "      <td>1</td>\n",
       "      <td>1.4</td>\n",
       "      <td>False</td>\n",
       "      <td>virginica</td>\n",
       "      <td>False</td>\n",
       "    </tr>\n",
       "    <tr>\n",
       "      <th>114</th>\n",
       "      <td>5.8</td>\n",
       "      <td>2.8</td>\n",
       "      <td>1</td>\n",
       "      <td>2.4</td>\n",
       "      <td>False</td>\n",
       "      <td>virginica</td>\n",
       "      <td>False</td>\n",
       "    </tr>\n",
       "    <tr>\n",
       "      <th>42</th>\n",
       "      <td>4.4</td>\n",
       "      <td>3.2</td>\n",
       "      <td>1</td>\n",
       "      <td>0.2</td>\n",
       "      <td>True</td>\n",
       "      <td>setosa</td>\n",
       "      <td>True</td>\n",
       "    </tr>\n",
       "    <tr>\n",
       "      <th>109</th>\n",
       "      <td>7.2</td>\n",
       "      <td>3.6</td>\n",
       "      <td>1</td>\n",
       "      <td>2.5</td>\n",
       "      <td>False</td>\n",
       "      <td>virginica</td>\n",
       "      <td>False</td>\n",
       "    </tr>\n",
       "    <tr>\n",
       "      <th>57</th>\n",
       "      <td>4.9</td>\n",
       "      <td>2.4</td>\n",
       "      <td>1</td>\n",
       "      <td>1.0</td>\n",
       "      <td>False</td>\n",
       "      <td>versicolor</td>\n",
       "      <td>False</td>\n",
       "    </tr>\n",
       "    <tr>\n",
       "      <th>1</th>\n",
       "      <td>4.9</td>\n",
       "      <td>3.0</td>\n",
       "      <td>1</td>\n",
       "      <td>0.2</td>\n",
       "      <td>True</td>\n",
       "      <td>setosa</td>\n",
       "      <td>True</td>\n",
       "    </tr>\n",
       "    <tr>\n",
       "      <th>70</th>\n",
       "      <td>5.9</td>\n",
       "      <td>3.2</td>\n",
       "      <td>1</td>\n",
       "      <td>1.8</td>\n",
       "      <td>False</td>\n",
       "      <td>versicolor</td>\n",
       "      <td>False</td>\n",
       "    </tr>\n",
       "    <tr>\n",
       "      <th>25</th>\n",
       "      <td>5.0</td>\n",
       "      <td>3.0</td>\n",
       "      <td>1</td>\n",
       "      <td>0.2</td>\n",
       "      <td>True</td>\n",
       "      <td>setosa</td>\n",
       "      <td>True</td>\n",
       "    </tr>\n",
       "    <tr>\n",
       "      <th>84</th>\n",
       "      <td>5.4</td>\n",
       "      <td>3.0</td>\n",
       "      <td>1</td>\n",
       "      <td>1.5</td>\n",
       "      <td>False</td>\n",
       "      <td>versicolor</td>\n",
       "      <td>False</td>\n",
       "    </tr>\n",
       "  </tbody>\n",
       "</table>\n",
       "</div>"
      ],
      "text/plain": [
       "     sepal length (cm)  sepal width (cm)  const  petal width (cm)  setosa  \\\n",
       "82                 5.8               2.7      1               1.2   False   \n",
       "134                6.1               2.6      1               1.4   False   \n",
       "114                5.8               2.8      1               2.4   False   \n",
       "42                 4.4               3.2      1               0.2    True   \n",
       "109                7.2               3.6      1               2.5   False   \n",
       "57                 4.9               2.4      1               1.0   False   \n",
       "1                  4.9               3.0      1               0.2    True   \n",
       "70                 5.9               3.2      1               1.8   False   \n",
       "25                 5.0               3.0      1               0.2    True   \n",
       "84                 5.4               3.0      1               1.5   False   \n",
       "\n",
       "        variety  setosa_predictions  \n",
       "82   versicolor               False  \n",
       "134   virginica               False  \n",
       "114   virginica               False  \n",
       "42       setosa                True  \n",
       "109   virginica               False  \n",
       "57   versicolor               False  \n",
       "1        setosa                True  \n",
       "70   versicolor               False  \n",
       "25       setosa                True  \n",
       "84   versicolor               False  "
      ]
     },
     "execution_count": 3,
     "metadata": {},
     "output_type": "execute_result"
    }
   ],
   "source": [
    "xcols = [\"sepal length (cm)\", \"sepal width (cm)\", \"const\"]\n",
    "ycol = \"setosa\"\n",
    "\n",
    "# 1. initialize model\n",
    "cls_model = LogisticRegression(fit_intercept=False)\n",
    "# 2. fit using train data\n",
    "cls_model.fit(train[xcols], train[ycol])\n",
    "# 3. predict for test data and add predictions as a column\n",
    "test[\"setosa_predictions\"] = cls_model.predict(test[xcols])\n",
    "test"
   ]
  },
  {
   "cell_type": "markdown",
   "id": "05949884",
   "metadata": {},
   "source": [
    "### Model 3: Predict variety of flower\n",
    "\n",
    "- classification problem, specifically multi-class classification for `variety`"
   ]
  },
  {
   "cell_type": "code",
   "execution_count": 4,
   "id": "c5b193b9",
   "metadata": {},
   "outputs": [
    {
     "data": {
      "text/html": [
       "<div>\n",
       "<style scoped>\n",
       "    .dataframe tbody tr th:only-of-type {\n",
       "        vertical-align: middle;\n",
       "    }\n",
       "\n",
       "    .dataframe tbody tr th {\n",
       "        vertical-align: top;\n",
       "    }\n",
       "\n",
       "    .dataframe thead th {\n",
       "        text-align: right;\n",
       "    }\n",
       "</style>\n",
       "<table border=\"1\" class=\"dataframe\">\n",
       "  <thead>\n",
       "    <tr style=\"text-align: right;\">\n",
       "      <th></th>\n",
       "      <th>sepal length (cm)</th>\n",
       "      <th>sepal width (cm)</th>\n",
       "      <th>const</th>\n",
       "      <th>petal width (cm)</th>\n",
       "      <th>setosa</th>\n",
       "      <th>variety</th>\n",
       "      <th>setosa_predictions</th>\n",
       "      <th>variety_predictions</th>\n",
       "    </tr>\n",
       "  </thead>\n",
       "  <tbody>\n",
       "    <tr>\n",
       "      <th>82</th>\n",
       "      <td>5.8</td>\n",
       "      <td>2.7</td>\n",
       "      <td>1</td>\n",
       "      <td>1.2</td>\n",
       "      <td>False</td>\n",
       "      <td>versicolor</td>\n",
       "      <td>False</td>\n",
       "      <td>versicolor</td>\n",
       "    </tr>\n",
       "    <tr>\n",
       "      <th>134</th>\n",
       "      <td>6.1</td>\n",
       "      <td>2.6</td>\n",
       "      <td>1</td>\n",
       "      <td>1.4</td>\n",
       "      <td>False</td>\n",
       "      <td>virginica</td>\n",
       "      <td>False</td>\n",
       "      <td>virginica</td>\n",
       "    </tr>\n",
       "    <tr>\n",
       "      <th>114</th>\n",
       "      <td>5.8</td>\n",
       "      <td>2.8</td>\n",
       "      <td>1</td>\n",
       "      <td>2.4</td>\n",
       "      <td>False</td>\n",
       "      <td>virginica</td>\n",
       "      <td>False</td>\n",
       "      <td>versicolor</td>\n",
       "    </tr>\n",
       "    <tr>\n",
       "      <th>42</th>\n",
       "      <td>4.4</td>\n",
       "      <td>3.2</td>\n",
       "      <td>1</td>\n",
       "      <td>0.2</td>\n",
       "      <td>True</td>\n",
       "      <td>setosa</td>\n",
       "      <td>True</td>\n",
       "      <td>setosa</td>\n",
       "    </tr>\n",
       "    <tr>\n",
       "      <th>109</th>\n",
       "      <td>7.2</td>\n",
       "      <td>3.6</td>\n",
       "      <td>1</td>\n",
       "      <td>2.5</td>\n",
       "      <td>False</td>\n",
       "      <td>virginica</td>\n",
       "      <td>False</td>\n",
       "      <td>virginica</td>\n",
       "    </tr>\n",
       "    <tr>\n",
       "      <th>57</th>\n",
       "      <td>4.9</td>\n",
       "      <td>2.4</td>\n",
       "      <td>1</td>\n",
       "      <td>1.0</td>\n",
       "      <td>False</td>\n",
       "      <td>versicolor</td>\n",
       "      <td>False</td>\n",
       "      <td>versicolor</td>\n",
       "    </tr>\n",
       "    <tr>\n",
       "      <th>1</th>\n",
       "      <td>4.9</td>\n",
       "      <td>3.0</td>\n",
       "      <td>1</td>\n",
       "      <td>0.2</td>\n",
       "      <td>True</td>\n",
       "      <td>setosa</td>\n",
       "      <td>True</td>\n",
       "      <td>setosa</td>\n",
       "    </tr>\n",
       "    <tr>\n",
       "      <th>70</th>\n",
       "      <td>5.9</td>\n",
       "      <td>3.2</td>\n",
       "      <td>1</td>\n",
       "      <td>1.8</td>\n",
       "      <td>False</td>\n",
       "      <td>versicolor</td>\n",
       "      <td>False</td>\n",
       "      <td>versicolor</td>\n",
       "    </tr>\n",
       "    <tr>\n",
       "      <th>25</th>\n",
       "      <td>5.0</td>\n",
       "      <td>3.0</td>\n",
       "      <td>1</td>\n",
       "      <td>0.2</td>\n",
       "      <td>True</td>\n",
       "      <td>setosa</td>\n",
       "      <td>True</td>\n",
       "      <td>setosa</td>\n",
       "    </tr>\n",
       "    <tr>\n",
       "      <th>84</th>\n",
       "      <td>5.4</td>\n",
       "      <td>3.0</td>\n",
       "      <td>1</td>\n",
       "      <td>1.5</td>\n",
       "      <td>False</td>\n",
       "      <td>versicolor</td>\n",
       "      <td>False</td>\n",
       "      <td>versicolor</td>\n",
       "    </tr>\n",
       "  </tbody>\n",
       "</table>\n",
       "</div>"
      ],
      "text/plain": [
       "     sepal length (cm)  sepal width (cm)  const  petal width (cm)  setosa  \\\n",
       "82                 5.8               2.7      1               1.2   False   \n",
       "134                6.1               2.6      1               1.4   False   \n",
       "114                5.8               2.8      1               2.4   False   \n",
       "42                 4.4               3.2      1               0.2    True   \n",
       "109                7.2               3.6      1               2.5   False   \n",
       "57                 4.9               2.4      1               1.0   False   \n",
       "1                  4.9               3.0      1               0.2    True   \n",
       "70                 5.9               3.2      1               1.8   False   \n",
       "25                 5.0               3.0      1               0.2    True   \n",
       "84                 5.4               3.0      1               1.5   False   \n",
       "\n",
       "        variety  setosa_predictions variety_predictions  \n",
       "82   versicolor               False          versicolor  \n",
       "134   virginica               False           virginica  \n",
       "114   virginica               False          versicolor  \n",
       "42       setosa                True              setosa  \n",
       "109   virginica               False           virginica  \n",
       "57   versicolor               False          versicolor  \n",
       "1        setosa                True              setosa  \n",
       "70   versicolor               False          versicolor  \n",
       "25       setosa                True              setosa  \n",
       "84   versicolor               False          versicolor  "
      ]
     },
     "execution_count": 4,
     "metadata": {},
     "output_type": "execute_result"
    }
   ],
   "source": [
    "# PREDICT: which of the 3 varieties is a particular Iris?\n",
    "xcols = [\"sepal length (cm)\", \"sepal width (cm)\", \"const\"]\n",
    "ycol = \"variety\"\n",
    "\n",
    "# 1. initialize model\n",
    "mult_model = LogisticRegression(fit_intercept=False)\n",
    "# 2. fit using train data\n",
    "mult_model.fit(train[xcols], train[ycol])\n",
    "# 3. predict for test data and add predictions as a column\n",
    "test[\"variety_predictions\"] = mult_model.predict(test[xcols])\n",
    "test"
   ]
  },
  {
   "cell_type": "markdown",
   "id": "fe81ddb2",
   "metadata": {},
   "source": [
    "#### `predictions = F(sepl, sepw)`"
   ]
  },
  {
   "cell_type": "code",
   "execution_count": 5,
   "id": "8b73ed58",
   "metadata": {},
   "outputs": [
    {
     "data": {
      "text/plain": [
       "<AxesSubplot:xlabel='sepal length (cm)', ylabel='sepal width (cm)'>"
      ]
     },
     "execution_count": 5,
     "metadata": {},
     "output_type": "execute_result"
    },
    {
     "data": {
      "image/png": "[encoded data removed]",
      "text/plain": [
       "<Figure size 640x480 with 1 Axes>"
      ]
     },
     "metadata": {},
     "output_type": "display_data"
    }
   ],
   "source": [
    "# Creating range of values for sepl (X) and sepw (Y)\n",
    "sepl, sepw = np.meshgrid(np.arange(0, 10, 0.1), np.arange(0, 10, 0.1))\n",
    "\n",
    "predict_df = pd.DataFrame({\n",
    "    'sepal length (cm)': sepl.reshape(-1),\n",
    "    'sepal width (cm)': sepw.reshape(-1),\n",
    "    'const': 1\n",
    "})\n",
    "\n",
    "# Predicting setosa (True / False) labels using LogisticRegression model\n",
    "Z_predictions = cls_model.predict(predict_df)\n",
    "\n",
    "# Creating contourf plot\n",
    "plt.contourf(sepl, sepw, Z_predictions.reshape(sepl.shape))\n",
    "ax = plt.gca()   # get current axes subplot\n",
    "df[df[\"setosa\"]].plot.scatter(x=\"sepal length (cm)\", y=\"sepal width (cm)\", \\\n",
    "                              ax=ax, color=\"r\", label=\"Setosa\")\n",
    "df[~df[\"setosa\"]].plot.scatter(x=\"sepal length (cm)\", y=\"sepal width (cm)\", \\\n",
    "                               ax=ax, color=\"0.8\", label=\"Not Setosa\")"
   ]
  },
  {
   "cell_type": "markdown",
   "id": "e08f0d7a",
   "metadata": {},
   "source": [
    "#### Visualizing Multiple-classification Boundaries (self-study example)"
   ]
  },
  {
   "cell_type": "code",
   "execution_count": 6,
   "id": "b5007255",
   "metadata": {},
   "outputs": [
    {
     "data": {
      "text/plain": [
       "['setosa', 'versicolor', 'virginica']"
      ]
     },
     "execution_count": 6,
     "metadata": {},
     "output_type": "execute_result"
    }
   ],
   "source": [
    "classes_ = list(mult_model.classes_)\n",
    "classes_"
   ]
  },
  {
   "cell_type": "code",
   "execution_count": 7,
   "id": "4f51b24d",
   "metadata": {},
   "outputs": [
    {
     "data": {
      "text/plain": [
       "1"
      ]
     },
     "execution_count": 7,
     "metadata": {},
     "output_type": "execute_result"
    }
   ],
   "source": [
    "classes_.index(\"versicolor\")"
   ]
  },
  {
   "cell_type": "code",
   "execution_count": 8,
   "id": "f21476bc",
   "metadata": {},
   "outputs": [
    {
     "data": {
      "text/plain": [
       "array([1, 1, 1, ..., 0, 0, 0])"
      ]
     },
     "execution_count": 8,
     "metadata": {},
     "output_type": "execute_result"
    }
   ],
   "source": [
    "# we need numeric values for Z\n",
    "# hence .index usage instead of actual values of variety predictions\n",
    "predictions = np.array([classes_.index(name) for name in mult_model.predict(predict_df)])\n",
    "predictions"
   ]
  },
  {
   "cell_type": "code",
   "execution_count": 9,
   "id": "a2ea1f4a",
   "metadata": {},
   "outputs": [
    {
     "data": {
      "text/plain": [
       "<AxesSubplot:xlabel='sepal length (cm)', ylabel='sepal width (cm)'>"
      ]
     },
     "execution_count": 9,
     "metadata": {},
     "output_type": "execute_result"
    },
    {
     "data": {
      "image/png": "[encoded data removed]",
      "text/plain": [
       "<Figure size 640x480 with 1 Axes>"
      ]
     },
     "metadata": {},
     "output_type": "display_data"
    }
   ],
   "source": [
    "plt.contourf(sepl, sepw, predictions.reshape(sepl.shape))\n",
    "ax = plt.gca() # get current axes\n",
    "df[df[\"variety\"] == \"setosa\"].plot.scatter(x=\"sepal length (cm)\", y=\"sepal width (cm)\", \\\n",
    "                                           ax=ax, label=\"setosa\", color=\"0.8\")\n",
    "df[df[\"variety\"] == \"virginica\"].plot.scatter(x=\"sepal length (cm)\", y=\"sepal width (cm)\", \\\n",
    "                                              ax=ax, label=\"virginica\", color=\"r\")\n",
    "df[df[\"variety\"] == \"versicolor\"].plot.scatter(x=\"sepal length (cm)\", y=\"sepal width (cm)\", \\\n",
    "                                               ax=ax, label=\"versicolor\", color=\"k\")"
   ]
  },
  {
   "cell_type": "markdown",
   "id": "16e68d01",
   "metadata": {},
   "source": [
    "#### Can we do better by creating a `Pipeline` of `PolynomialFeatures` and `LogisticRegression` models?"
   ]
  },
  {
   "cell_type": "code",
   "execution_count": null,
   "id": "39329fe6",
   "metadata": {},
   "outputs": [],
   "source": [
    "xcols = [\"sepal length (cm)\", \"sepal width (cm)\", \"const\"]\n",
    "ycol = \"setosa\"\n",
    "\n",
    "# create a Pipeline\n",
    "\n",
    "model.fit(train[xcols], train[ycol])"
   ]
  },
  {
   "cell_type": "code",
   "execution_count": null,
   "id": "cfb361c6",
   "metadata": {},
   "outputs": [],
   "source": [
    "# Creating range of values for sepl (X) and sepw (Y)\n",
    "sepl, sepw = np.meshgrid(np.arange(0, 10, 0.1), np.arange(0, 10, 0.1))\n",
    "predict_df = pd.DataFrame({\n",
    "    'sepal length (cm)': sepl.reshape(-1),\n",
    "    'sepal width (cm)': sepw.reshape(-1),\n",
    "    'const': 1\n",
    "})\n",
    "\n",
    "# Predicting setosa (True / False) labels using LogisticRegression model\n",
    "Z_predictions = model.predict(predict_df)\n",
    "\n",
    "# Creating contourf plot\n",
    "plt.contourf(sepl, sepw, Z_predictions.reshape(sepl.shape))\n",
    "ax = plt.gca()\n",
    "df[df[\"setosa\"]].plot.scatter(x=\"sepal length (cm)\", y=\"sepal width (cm)\", \\\n",
    "                              ax=ax, color=\"r\", label=\"Setosa\")\n",
    "df[~df[\"setosa\"]].plot.scatter(x=\"sepal length (cm)\", y=\"sepal width (cm)\", \\\n",
    "                               ax=ax, \n",
    "                               color=\"0.8\", label=\"Not Setosa\")"
   ]
  },
  {
   "cell_type": "markdown",
   "id": "507796cd",
   "metadata": {},
   "source": [
    "#### Multi-classification model to predict `variety` using  `Pipeline` of `PolynomialFeatures` and `LogisticRegression` models"
   ]
  },
  {
   "cell_type": "code",
   "execution_count": null,
   "id": "0104c1a7",
   "metadata": {},
   "outputs": [],
   "source": [
    "xcols = [\"sepal length (cm)\", \"sepal width (cm)\", \"const\"]\n",
    "ycol = \"variety\"\n",
    "\n",
    "model = Pipeline([\n",
    "    (\"pf\", PolynomialFeatures(degree=5, include_bias=False)),\n",
    "    (\"lr\", LogisticRegression(fit_intercept=False)),\n",
    "])\n",
    "model.fit(train[xcols], train[ycol])"
   ]
  },
  {
   "cell_type": "markdown",
   "id": "86e6c1ef",
   "metadata": {},
   "source": [
    "#### LogisticRegression uses an \"iterative algorithm\"\n",
    "\n",
    "- chooses some random coefficients\n",
    "- LOOP (some fixed number of iterations/\"epochs\")\n",
    "    - tweaks the coefficients to get slightly better accuracy\n",
    "    - if accuarcy isn't improving much:\n",
    "        - exit the loop early"
   ]
  },
  {
   "cell_type": "markdown",
   "id": "634efdb9",
   "metadata": {},
   "source": [
    "#### Solution 1: increase number of iterations"
   ]
  },
  {
   "cell_type": "code",
   "execution_count": null,
   "id": "48326e01",
   "metadata": {},
   "outputs": [],
   "source": [
    "xcols = [\"sepal length (cm)\", \"sepal width (cm)\", \"const\"]\n",
    "ycol = \"variety\"\n",
    "\n",
    "model = Pipeline([\n",
    "    (\"pf\", PolynomialFeatures(degree=5, include_bias=False)),\n",
    "    (\"lr\", LogisticRegression(fit_intercept=False, max_iter=???)),\n",
    "])\n",
    "model.fit(train[xcols], train[ycol])"
   ]
  },
  {
   "cell_type": "code",
   "execution_count": null,
   "id": "c928e072",
   "metadata": {},
   "outputs": [],
   "source": [
    "# Predicting variety labels using LogisticRegression model\n",
    "predictions = np.array([classes_.index(name) for name in model.predict(predict_df)])\n",
    "print(predictions)\n",
    "\n",
    "# Creating contourf plot\n",
    "plt.contourf(sepl, sepw, predictions.reshape(sepl.shape))\n",
    "ax = plt.gca() # get current axes\n",
    "df[df[\"variety\"] == \"setosa\"].plot.scatter(x=\"sepal length (cm)\", y=\"sepal width (cm)\", \\\n",
    "                                           ax=ax, label=\"setosa\", color=\"0.8\")\n",
    "df[df[\"variety\"] == \"virginica\"].plot.scatter(x=\"sepal length (cm)\", y=\"sepal width (cm)\", \\\n",
    "                                              ax=ax, label=\"virginica\", color=\"r\")\n",
    "df[df[\"variety\"] == \"versicolor\"].plot.scatter(x=\"sepal length (cm)\", y=\"sepal width (cm)\", \\\n",
    "                                               ax=ax, label=\"versicolor\", color=\"k\")"
   ]
  },
  {
   "cell_type": "markdown",
   "id": "7d6d7857",
   "metadata": {},
   "source": [
    "#### Solution 2: Transform the data into something LogisticRegression can learn from more quickly\n",
    "\n",
    "- LogisticRegression likes data that is standardized:\n",
    "    1. \"small\" numbers\n",
    "    2. \"centered\" numbers (average of the column is 0)"
   ]
  },
  {
   "cell_type": "code",
   "execution_count": null,
   "id": "bca3ab66",
   "metadata": {},
   "outputs": [],
   "source": [
    "a = np.array([1, 2, 8, 9])\n",
    "a"
   ]
  },
  {
   "cell_type": "markdown",
   "id": "da44090f",
   "metadata": {},
   "source": [
    "How do we get \"centered\" numbers?"
   ]
  },
  {
   "cell_type": "code",
   "execution_count": null,
   "id": "820626cc",
   "metadata": {},
   "outputs": [],
   "source": [
    "a - a.mean()"
   ]
  },
  {
   "cell_type": "markdown",
   "id": "b6e319e8",
   "metadata": {},
   "source": [
    "How do we get \"small\" numbers?"
   ]
  },
  {
   "cell_type": "code",
   "execution_count": null,
   "id": "d42af4a8",
   "metadata": {},
   "outputs": [],
   "source": [
    "a / 10"
   ]
  },
  {
   "cell_type": "code",
   "execution_count": null,
   "id": "8e757c34",
   "metadata": {},
   "outputs": [],
   "source": [
    "a / a.std()"
   ]
  },
  {
   "cell_type": "code",
   "execution_count": null,
   "id": "5f58851b",
   "metadata": {},
   "outputs": [],
   "source": [
    "# LogisticRegression would like to learn from a column of data that looks like this\n",
    "(a - a.mean()) / a.std()"
   ]
  },
  {
   "cell_type": "markdown",
   "id": "5227aa05",
   "metadata": {},
   "source": [
    "### `StandardScaler`\n",
    "\n",
    "- requires import: `from sklearn.preprocessing import StandardScaler`"
   ]
  },
  {
   "cell_type": "code",
   "execution_count": null,
   "id": "ecc4a9bf",
   "metadata": {},
   "outputs": [],
   "source": [
    "StandardScaler().???"
   ]
  },
  {
   "cell_type": "markdown",
   "id": "5eeb7578",
   "metadata": {},
   "source": [
    "#### Recommendations: \n",
    "\n",
    "1. Always use StandardScaler with LogisticRegression\n",
    "2. PolynomialFeatures should be BEFORE StandardScaler (when using both)"
   ]
  },
  {
   "cell_type": "code",
   "execution_count": null,
   "id": "13ff43f3",
   "metadata": {},
   "outputs": [],
   "source": [
    "# solution 2: use StandardScaler\n",
    "xcols = [\"sepal length (cm)\", \"sepal width (cm)\", \"const\"]\n",
    "ycol = \"variety\"\n",
    "\n",
    "model = Pipeline([\n",
    "    (\"pf\", PolynomialFeatures(degree=5, include_bias=False)),\n",
    "    (\"lr\", LogisticRegression(fit_intercept=False, max_iter=100)),\n",
    "])\n",
    "model.fit(train[xcols], train[ycol])"
   ]
  },
  {
   "cell_type": "code",
   "execution_count": null,
   "id": "57239e27",
   "metadata": {},
   "outputs": [],
   "source": [
    "predictions = np.array([classes_.index(name) for name in model.predict(predict_df)])\n",
    "predictions"
   ]
  },
  {
   "cell_type": "code",
   "execution_count": null,
   "id": "5469390e",
   "metadata": {},
   "outputs": [],
   "source": [
    "plt.contourf(sepl, sepw, predictions.reshape(sepl.shape))\n",
    "ax = plt.gca() # get current axes\n",
    "df[df[\"variety\"] == \"setosa\"].plot.scatter(x=\"sepal length (cm)\", y=\"sepal width (cm)\", \\\n",
    "                                           ax=ax, label=\"setosa\", color=\"0.8\")\n",
    "df[df[\"variety\"] == \"virginica\"].plot.scatter(x=\"sepal length (cm)\", y=\"sepal width (cm)\", \\\n",
    "                                              ax=ax, label=\"virginica\", color=\"r\")\n",
    "df[df[\"variety\"] == \"versicolor\"].plot.scatter(x=\"sepal length (cm)\", y=\"sepal width (cm)\", \\\n",
    "                                               ax=ax, label=\"versicolor\", color=\"k\")"
   ]
  },
  {
   "cell_type": "markdown",
   "id": "650d5424",
   "metadata": {},
   "source": [
    "Why should we use `PolynomialFeatures` before `StandardScaler`?\n",
    "\n",
    "1. Data won't be centered if second step is `PolynomialFeatures`\n",
    "2. Also, when you square after standardization, small and large numbers have same value."
   ]
  },
  {
   "cell_type": "code",
   "execution_count": null,
   "id": "08cabe29",
   "metadata": {},
   "outputs": [],
   "source": [
    "a"
   ]
  },
  {
   "cell_type": "code",
   "execution_count": null,
   "id": "868eba1b",
   "metadata": {},
   "outputs": [],
   "source": [
    "scaled = (a - a.mean()) / a.std()   # like StandardScaler\n",
    "scaled"
   ]
  },
  {
   "cell_type": "code",
   "execution_count": null,
   "id": "ae69eeb9",
   "metadata": {},
   "outputs": [],
   "source": [
    "scaled ** 2   # like PolynomialFeatures"
   ]
  },
  {
   "cell_type": "markdown",
   "id": "0c60588a",
   "metadata": {},
   "source": [
    "As opposed to that, if we do `PolynomialFeatures` first and then `StandardScalar` next, we will get what we want."
   ]
  },
  {
   "cell_type": "code",
   "execution_count": null,
   "id": "b02f77e3",
   "metadata": {},
   "outputs": [],
   "source": [
    "a"
   ]
  },
  {
   "cell_type": "code",
   "execution_count": null,
   "id": "9d63b2ee",
   "metadata": {},
   "outputs": [],
   "source": [
    "squared_a = a ** 2 # like PolynomialFeatures\n",
    "squared_a"
   ]
  },
  {
   "cell_type": "code",
   "execution_count": null,
   "id": "9070d8f6",
   "metadata": {},
   "outputs": [],
   "source": [
    "(squared_a - squared_a.mean()) / squared_a.std()   # like StandardScaler"
   ]
  },
  {
   "cell_type": "markdown",
   "id": "c15d7f7d",
   "metadata": {},
   "source": [
    "### Scoring and Metrics\n",
    "\n",
    "- https://scikit-learn.org/0.15/modules/model_evaluation.html\n",
    "- import statements:\n",
    "```python\n",
    "from sklearn.metrics import accuracy_score, confusion_matrix\n",
    "from sklearn.metrics import recall_score, precision_score, balanced_accuracy_score\n",
    "```"
   ]
  },
  {
   "cell_type": "code",
   "execution_count": null,
   "id": "3a6f0ce7",
   "metadata": {},
   "outputs": [],
   "source": [
    "# pattern: positive => True, negative => False\n",
    "df = pd.DataFrame([\n",
    "    [15, True],\n",
    "    [-2, False],\n",
    "    [99, True],\n",
    "    [-10, False],\n",
    "    [8, True],\n",
    "    [5, True],\n",
    "    [-1000, False],\n",
    "    [-1, False],\n",
    "], columns=[\"x\", \"y\"])\n",
    "train, test = df.iloc[:4], df.iloc[4:]"
   ]
  },
  {
   "cell_type": "code",
   "execution_count": null,
   "id": "42265b51",
   "metadata": {},
   "outputs": [],
   "source": [
    "train"
   ]
  },
  {
   "cell_type": "code",
   "execution_count": null,
   "id": "ca34b8e0",
   "metadata": {},
   "outputs": [],
   "source": [
    "test"
   ]
  },
  {
   "cell_type": "code",
   "execution_count": null,
   "id": "bf727efd",
   "metadata": {},
   "outputs": [],
   "source": [
    "model = LogisticRegression()\n",
    "model.fit(train[[\"x\"]], train[\"y\"])\n",
    "model.predict(test[[\"x\"]])"
   ]
  },
  {
   "cell_type": "code",
   "execution_count": null,
   "id": "2122cd03",
   "metadata": {},
   "outputs": [],
   "source": [
    "# by default, this uses accuracy_score\n",
    "model.score(test[[\"x\"]], test[\"y\"])   "
   ]
  },
  {
   "cell_type": "markdown",
   "id": "fc2fb8a4",
   "metadata": {},
   "source": [
    "#### `accuracy_score(y_true, y_pred)`\n",
    "\n",
    "- same result as invoking `score` method\n",
    "- documentation: https://scikit-learn.org/stable/modules/generated/sklearn.metrics.accuracy_score.html"
   ]
  },
  {
   "cell_type": "code",
   "execution_count": null,
   "id": "82739834",
   "metadata": {},
   "outputs": [],
   "source": [
    "# simple example\n",
    "accuracy_score([\"A\", \"B\"], [\"A\", \"C\"])"
   ]
  },
  {
   "cell_type": "code",
   "execution_count": null,
   "id": "013b2f1b",
   "metadata": {},
   "outputs": [],
   "source": [
    "accuracy_score(test[\"y\"], model.predict(test[[\"x\"]]))"
   ]
  },
  {
   "cell_type": "markdown",
   "id": "05c17f31",
   "metadata": {},
   "source": [
    "What are the range of values of `accuracy_score` for a classification model?\n",
    "- `0 to 1` because it is a fraction of predicted labels / actual labels => remember you can either get it correct or wrong.\n",
    "- Recall as opposed to classification, for regression range for R^2 score is `-infinity to 1` => that is because the model can introduce non-existent variance within the data while trying to fit it!"
   ]
  },
  {
   "cell_type": "markdown",
   "id": "1bdc164a",
   "metadata": {},
   "source": [
    "#### Confusion Matrices"
   ]
  },
  {
   "attachments": {
    "Confusion_matrix.png": {
     "image/png": "[encoded data removed]"
    }
   },
   "cell_type": "markdown",
   "id": "3efa94b0",
   "metadata": {},
   "source": [
    "#### `confusion_matrix(y_true, y_pred)`\n",
    "\n",
    "- computes confusion matrix for classification:\n",
    "    - row dimension represents actual value\n",
    "    - column dimension represents predicted value\n",
    "- documentation: https://scikit-learn.org/stable/modules/generated/sklearn.metrics.confusion_matrix.html\n",
    "\n",
    "<div>\n",
    "<img src=\"attachment:Confusion_matrix.png\" width=\"500\"/>\n",
    "</div>"
   ]
  },
  {
   "cell_type": "code",
   "execution_count": null,
   "id": "12f0a1ff",
   "metadata": {},
   "outputs": [],
   "source": [
    "actual =    [\"dog\", \"dog\", \"dog\", \"dog\", \"cat\", \"cat\", \"cat\", \"mouse\", \"mouse\"]\n",
    "predicted = [\"dog\", \"dog\", \"dog\", \"cat\", \"cat\", \"dog\", \"cat\", \"mouse\", \"mouse\"]\n",
    "\n",
    "# notice that we have a \"horse\" label even though the data doesn't have any info about horse\n",
    "labels = [\"dog\", \"cat\", \"mouse\", \"horse\"]\n",
    "\n",
    "# ROW: an actual category\n",
    "# COL: a prediction\n",
    "cm = confusion_matrix(actual, predicted, labels=labels)\n",
    "cm"
   ]
  },
  {
   "cell_type": "code",
   "execution_count": null,
   "id": "ace44e40",
   "metadata": {},
   "outputs": [],
   "source": [
    "pd.DataFrame(cm, index=labels, columns=labels)"
   ]
  },
  {
   "cell_type": "code",
   "execution_count": null,
   "id": "fd18224c",
   "metadata": {},
   "outputs": [],
   "source": [
    "actual =    [\"dog\", \"dog\", \"dog\", \"dog\", \"cat\", \"cat\", \"cat\", \"cat\", \"mouse\", \"mouse\"] * 199\n",
    "predicted = [\"dog\", \"dog\", \"dog\", \"dog\", \"cat\", \"dog\", \"cat\", \"dog\", \"mouse\", \"mouse\"] * 199\n",
    "actual += [\"horse\"] * 10\n",
    "predicted += [\"dog\"] * 9 + [\"horse\"]\n",
    "\n",
    "labels = [\"dog\", \"cat\", \"mouse\", \"horse\"]\n",
    "cm = confusion_matrix(actual, predicted, labels=labels)\n",
    "cm = pd.DataFrame(cm, index=labels, columns=labels)\n",
    "cm"
   ]
  },
  {
   "cell_type": "markdown",
   "id": "130bf250",
   "metadata": {},
   "source": [
    "### Recall and balanced accuracy score\n",
    "\n",
    "- import statement:\n",
    "```python\n",
    "from sklearn.metrics import recall_score, precision_score, balanced_accuracy_score\n",
    "```"
   ]
  },
  {
   "cell_type": "markdown",
   "id": "f0c252c1",
   "metadata": {},
   "source": [
    "#### Recall: row-wise ratio\n",
    "\n",
    "- What proportion of actual positives was identified correctly?"
   ]
  },
  {
   "cell_type": "code",
   "execution_count": null,
   "id": "e38ffb0c",
   "metadata": {},
   "outputs": [],
   "source": [
    "# what is the recall for cat?\n",
    "cm.at[\"cat\", \"cat\"] / cm.loc[\"cat\", :].sum()"
   ]
  },
  {
   "cell_type": "code",
   "execution_count": null,
   "id": "43f28bd1",
   "metadata": {},
   "outputs": [],
   "source": [
    "# There are multiple recall scores as we have multiple labels\n",
    "# So, we need to pass argument to parameter \"average\"\n",
    "recall_score(actual, predicted)"
   ]
  },
  {
   "cell_type": "code",
   "execution_count": null,
   "id": "aa506f87",
   "metadata": {},
   "outputs": [],
   "source": [
    "recall_score(actual, predicted, average=None)"
   ]
  },
  {
   "cell_type": "code",
   "execution_count": null,
   "id": "e1f02e5e",
   "metadata": {},
   "outputs": [],
   "source": [
    "# How can we identify which score is for which label?\n",
    "print(labels)\n",
    "# We can pass a list of labels argument to parameter \"labels\"\n",
    "recall_score(actual, predicted, average=None, labels=labels)"
   ]
  },
  {
   "cell_type": "code",
   "execution_count": null,
   "id": "b46d9a69",
   "metadata": {},
   "outputs": [],
   "source": [
    "cm"
   ]
  },
  {
   "cell_type": "markdown",
   "id": "8eb130fe",
   "metadata": {},
   "source": [
    "How does average recall score compare against accuracy score?"
   ]
  },
  {
   "cell_type": "code",
   "execution_count": null,
   "id": "194a1a6c",
   "metadata": {},
   "outputs": [],
   "source": [
    "accuracy_score(actual, predicted)"
   ]
  },
  {
   "cell_type": "code",
   "execution_count": null,
   "id": "5c385235",
   "metadata": {},
   "outputs": [],
   "source": [
    "# will this be bigger or smaller than accuracy?\n",
    "recall_score(actual, predicted, average=None, labels=labels).mean()"
   ]
  },
  {
   "cell_type": "markdown",
   "id": "a28fe0e5",
   "metadata": {},
   "source": [
    "We are saying \"horse\" is equally important as other animals by taking an average of recall. So average recall score is lower than overall accuracy."
   ]
  },
  {
   "cell_type": "markdown",
   "id": "10f12c97",
   "metadata": {},
   "source": [
    "#### Average recall score is \"Balanced accuracy score\""
   ]
  },
  {
   "cell_type": "code",
   "execution_count": null,
   "id": "44115493",
   "metadata": {},
   "outputs": [],
   "source": [
    "# average of recall scores is called balanced accuracy score\n",
    "balanced_accuracy_score(actual, predicted)"
   ]
  },
  {
   "cell_type": "markdown",
   "id": "d8293131",
   "metadata": {},
   "source": [
    "Why does \"Balanced accuracy score\" matter?\n",
    "\n",
    "- Imagine you are building a new covid test. We know majority of the times covid test is supposed to be negative.\n",
    "- So, you might get a high accuracy even if your covid test is missing actual positives.\n",
    "- If you just look at accuracy, that might be misleading. So, you must also look at \"Balanced accuracy score\"."
   ]
  },
  {
   "cell_type": "markdown",
   "id": "f66f02bb",
   "metadata": {},
   "source": [
    "### Precision: column-wise ratio\n",
    "\n",
    "- What proportion of positive identifications was actually correct?"
   ]
  },
  {
   "cell_type": "code",
   "execution_count": null,
   "id": "b51a3ee0",
   "metadata": {},
   "outputs": [],
   "source": [
    "cm"
   ]
  },
  {
   "cell_type": "code",
   "execution_count": null,
   "id": "f0c91250",
   "metadata": {},
   "outputs": [],
   "source": [
    "print(labels)\n",
    "precision_score(actual, predicted, average=None, labels=labels)"
   ]
  },
  {
   "attachments": {
    "Simple_confusion_matrix.png": {
     "image/png": "[encoded data removed]"
    }
   },
   "cell_type": "markdown",
   "id": "6e3f84f6",
   "metadata": {},
   "source": [
    "### Binary Classification Metrics\n",
    "\n",
    "Unless otherwise specified, \"precision\" and \"recall\" refer to those metrics for the positive class when we're doing binary classification.\n",
    "\n",
    "<div>\n",
    "<img src=\"attachment:Simple_confusion_matrix.png\" width=\"500\"/>\n",
    "</div>"
   ]
  },
  {
   "cell_type": "code",
   "execution_count": null,
   "id": "14a7fe31",
   "metadata": {},
   "outputs": [],
   "source": [
    "actual = [False, True, True, True, True, False, False, True, True, True, True, True, True]\n",
    "predicted = [False, True, True, True, True, True, True, False, False, False, True, True, True]\n",
    "confusion_matrix(actual, predicted)"
   ]
  },
  {
   "cell_type": "code",
   "execution_count": null,
   "id": "b77db11d",
   "metadata": {},
   "outputs": [],
   "source": [
    "recall_score(actual, predicted, average=None, labels=[True, False])"
   ]
  },
  {
   "cell_type": "code",
   "execution_count": null,
   "id": "4573ae34",
   "metadata": {},
   "outputs": [],
   "source": [
    "# for binary classification, we have False recall and True recall\n",
    "# \"recall\" is shorthand for \"True recall\"\n",
    "recall_score(actual, predicted)"
   ]
  },
  {
   "cell_type": "code",
   "execution_count": null,
   "id": "29a77f9d",
   "metadata": {},
   "outputs": [],
   "source": [
    "precision_score(actual, predicted, average=None, labels=[True, False])"
   ]
  },
  {
   "cell_type": "code",
   "execution_count": null,
   "id": "d40eb4be",
   "metadata": {},
   "outputs": [],
   "source": [
    "# for binary classification, we have False precision and True precision\n",
    "# \"precision\" is shorthand for \"True precision\"\n",
    "precision_score(actual, predicted)"
   ]
  },
  {
   "cell_type": "markdown",
   "id": "e72ea2f4",
   "metadata": {},
   "source": [
    "# Unsupervised Learning: Clustering\n",
    "\n",
    "- In classification (supervised), we try to find boundaries/rules to separate points according to pre-determined labels.\n",
    "- In clustering, the algorithm chooses the labels.  Goal is to choose labels so that similar rows get labeled the same.\n",
    "\n",
    "Today: K-Means Clustering\n",
    "\n",
    "- import statement:\n",
    "```python\n",
    "from sklearn.cluster import KMeans\n",
    "```"
   ]
  },
  {
   "cell_type": "code",
   "execution_count": null,
   "id": "0b83aaf3",
   "metadata": {},
   "outputs": [],
   "source": [
    "# Generate random data\n",
    "\n",
    "x, y = datasets.make_blobs(n_samples=100, centers=3, cluster_std=1.2, random_state=3)\n",
    "df = pd.DataFrame(x, columns=[\"x0\", \"x1\"])\n",
    "df.head()"
   ]
  },
  {
   "cell_type": "code",
   "execution_count": null,
   "id": "fbced908",
   "metadata": {},
   "outputs": [],
   "source": [
    "def km_scatter(df, **kwargs):\n",
    "    \"\"\"\n",
    "    Produces scatter plot visualizations with x0 on x-axis and y0 on y-axis.\n",
    "    It can also plot the centroids for clusters.\n",
    "    Parameters:\n",
    "        x0 => x-axis\n",
    "        x1 => y-axis\n",
    "        cluster => marker type\n",
    "    \"\"\"\n",
    "    ax = kwargs.pop(\"ax\", None)\n",
    "    if not \"label\" in df.columns:\n",
    "        return df.plot.scatter(x=\"x0\", y=\"x1\", marker=\"$?$\", ax=ax, **kwargs)\n",
    "\n",
    "    for marker in set(df[\"label\"]):\n",
    "        sub_df = df[df[\"label\"] == marker]\n",
    "        ax = sub_df.plot.scatter(x=\"x0\", y=\"x1\", marker=marker, ax=ax, **kwargs)\n",
    "    return ax\n",
    "\n",
    "ax = km_scatter(df, s=100, c=\"0.7\")"
   ]
  },
  {
   "cell_type": "markdown",
   "id": "47686eee",
   "metadata": {},
   "source": [
    "### Hard Problem\n",
    "\n",
    "Finding the best answer.\n",
    "\n",
    "### Easier Problem\n",
    "\n",
    "Taking a random answer and make it a little better. Then repeat!"
   ]
  },
  {
   "cell_type": "code",
   "execution_count": null,
   "id": "6f8bde9e",
   "metadata": {},
   "outputs": [],
   "source": [
    "clusters = np.random.uniform(-5, 5, size=(3, 2))\n",
    "clusters = pd.DataFrame(clusters, columns=[\"x0\", \"x1\"])\n",
    "clusters[\"label\"] = [\"o\", \"+\", \"x\"]\n",
    "\n",
    "ax = km_scatter(df, s=100, c=\"0.7\")\n",
    "km_scatter(clusters, s=200, c=\"red\", ax=ax)"
   ]
  },
  {
   "cell_type": "code",
   "execution_count": null,
   "id": "cfa1f1aa",
   "metadata": {},
   "outputs": [],
   "source": [
    "clusters"
   ]
  },
  {
   "cell_type": "code",
   "execution_count": null,
   "id": "f210c534",
   "metadata": {},
   "outputs": [],
   "source": [
    "df.head()"
   ]
  },
  {
   "cell_type": "code",
   "execution_count": null,
   "id": "a28466ce",
   "metadata": {},
   "outputs": [],
   "source": [
    "class KM:\n",
    "    def __init__(self, df, clusters):\n",
    "        # We make copies because we are going to keep changing the dataframe to \n",
    "        # identify better clusters\n",
    "        self.df = df.copy()\n",
    "        self.clusters = clusters.copy()\n",
    "        self.labels = clusters[\"label\"].values\n",
    "        \n",
    "    def plot(self):\n",
    "        ax = km_scatter(self.df, color=\"0.7\", s=100)\n",
    "        km_scatter(self.clusters, ax=ax, color=\"red\", s=200)\n",
    "        \n",
    "    def assign_points(self):\n",
    "        \"\"\"\n",
    "        compute Euclidean distance between each point and each centroids\n",
    "        \"\"\"\n",
    "        for center in self.clusters.itertuples():\n",
    "            x0_diff = df[\"x0\"] - center.x0\n",
    "            x1_diff = df[\"x1\"] - center.x1\n",
    "            distances = (x0_diff ** 2 + x1_diff ** 2) ** 0.5\n",
    "            # add distance to each centroid as a column within the dataframe\n",
    "            self.df[center.label] = distances\n",
    "        # get the label of the nearest centroid\n",
    "        self.df[\"label\"] = self.labels[self.df[self.labels].values.argmin(axis=1)]\n",
    "    \n",
    "    def update_centers(self):\n",
    "        \"\"\"\n",
    "        update centroids by taking mean of the points that are nearest to that\n",
    "        particular centroid\n",
    "        \"\"\"\n",
    "        for center in self.clusters.itertuples():\n",
    "            subset_df = self.df[self.df[\"label\"] == center.label]\n",
    "            if len(subset_df) > 0:\n",
    "                x0 = subset_df[\"x0\"].mean()\n",
    "                x1 = subset_df[\"x1\"].mean()\n",
    "                self.clusters.at[center.Index, \"x0\"] = x0\n",
    "                self.clusters.at[center.Index, \"x1\"] = x1\n",
    "\n",
    "km = KM(df, clusters)\n",
    "km.plot()\n",
    "\n",
    "#for i in range(10):\n",
    "km.assign_points()\n",
    "km.update_centers()\n",
    "    \n",
    "km.plot()"
   ]
  },
  {
   "cell_type": "markdown",
   "id": "938a6cc5",
   "metadata": {},
   "source": [
    "### `sklearn KMeans`\n",
    "\n",
    "1. fit: find good centroids\n",
    "2. transform: give me the distances from each point to each centroid\n",
    "3. predict: give me the chosen group labels"
   ]
  }
 ],
 "metadata": {
  "kernelspec": {
   "display_name": "Python 3 (ipykernel)",
   "language": "python",
   "name": "python3"
  },
  "language_info": {
   "codemirror_mode": {
    "name": "ipython",
    "version": 3
   },
   "file_extension": ".py",
   "mimetype": "text/x-python",
   "name": "python",
   "nbconvert_exporter": "python",
   "pygments_lexer": "ipython3",
   "version": "3.9.13"
  }
 },
 "nbformat": 4,
 "nbformat_minor": 5
}
